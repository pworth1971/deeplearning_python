{
  "cells": [
    {
      "cell_type": "markdown",
      "metadata": {
        "id": "KT9ZKo3q-2-F"
      },
      "source": [
        "# CAP 6619 - Deep Learning\n",
        "## Project 5\n",
        "## Sequential data (timeseries + text)"
      ]
    },
    {
      "cell_type": "markdown",
      "source": [
        "## Introduction: Worksheet Structure and Design\n",
        "\n",
        "This Worksheet is separated into five parts:\n",
        "\n",
        "Part 1: the first has to do with the analysis and ML capabilities around time series data, \n",
        "\n",
        "Part 2: Has to do with a specific NLP problem, the sentimental analysis (really binary classification) of the IMDB (movie) review data using a variety of ML and Neural Network techniques.  Part 2A and 2B use LSTM (Long Short Term Networks) layers and then Part 2C explores two different Transfer Learning techniques, the first (Part 2C.1) uses GloVe embeddings and then (Part 2C.2) uses Transfer Learning with BERT, or Bidirectional Encoder Representation from Transformers.\n",
        "\n",
        "Part 3: Is an example of using Transformers to solve a typical NLP problem around langugae translation\n",
        "\n",
        "Appendix A: More on BERT architectures, both in terms of description as well as another example is provided not related to the IMDB data set (uses CoLA data set)\n",
        "\n",
        "Appendix B: Overview of Text Summarization, techniques and samples.\n",
        "\n",
        "The TODOs for the assignment are in Parts 1 and 2, while the rest of the worksheet essentially captures the study and analysis into deeper NLP problems, architectures and techniques.\n",
        "\n",
        "NB: Sources are sprinkled throghout but are primarily section dependent. All code is referenced and the worksheet is run end to end before submission and finalization. Some of the sections take a long time to run given the comlexity and resource requirements of the underlying (NLP) code.\n",
        "\n"
      ],
      "metadata": {
        "id": "XUdOnavTkqfv"
      }
    },
    {
      "cell_type": "markdown",
      "metadata": {
        "id": "IJ2pbEi8HjiP"
      },
      "source": [
        "## Part 1: Temperature forecasting using RNNs\n",
        "\n",
        "Following closely along Chapter 10 of [our textbook](https://learning.oreilly.com/library/view/deep-learning-with/9781617296864),  Part 1 uses a temperature-forecasting task as a example of using DL to process and make predictions on sequential data.\n",
        "\n",
        "Dataset: recorded at [the weather station at the Max Planck Institute for Biogeochemistry in Jena, Germany](https://www.bgc-jena.mpg.de/wetter/), it consists of 14 different quantities (such as temperature, pressure, humidity, wind direction, and so on)  recorded every 10 minutes over several years. The original data goes back to 2003, but the subset of the data we’ll download is limited to 2009–2016."
      ]
    },
    {
      "cell_type": "markdown",
      "metadata": {
        "id": "vPc4CuJc--cX"
      },
      "source": [
        "Useful sources and references for Part 1:\n",
        "\n",
        "https://colab.research.google.com/github/fchollet/deep-learning-with-python-notebooks/blob/master/chapter10_dl-for-timeseries.ipynb \n"
      ]
    },
    {
      "cell_type": "markdown",
      "source": [
        "### What is Recurrent neural network(RNN)?\n",
        "\n",
        "(Kosandal 2019)\n",
        "\n",
        "*RNN is a deep learning model that is used for Time-series prediction, speech recognition, etc. Unlike traditional neural networks, recurrent networks use their memory(also called states) to predict sequence outputs. In simple words, RNN is used when we want to predict a future outcome based on the previous sequential inputs. For example, we can use RNN to predict the next word in a sentence by providing previous words.*\n",
        "\n"
      ],
      "metadata": {
        "id": "D0jXMQsjz437"
      }
    },
    {
      "cell_type": "markdown",
      "metadata": {
        "id": "Gt7GMeCa_AvJ"
      },
      "source": [
        "### Acquiring and inspecting the data"
      ]
    },
    {
      "cell_type": "code",
      "execution_count": 1,
      "metadata": {
        "colab": {
          "base_uri": "https://localhost:8080/"
        },
        "id": "Z_lwQzNMIba3",
        "outputId": "354d8ade-35c0-4c03-ca95-66b34fba0b03"
      },
      "outputs": [
        {
          "output_type": "stream",
          "name": "stdout",
          "text": [
            "--2022-07-22 14:34:07--  https://s3.amazonaws.com/keras-datasets/jena_climate_2009_2016.csv.zip\n",
            "Resolving s3.amazonaws.com (s3.amazonaws.com)... 52.216.130.37\n",
            "Connecting to s3.amazonaws.com (s3.amazonaws.com)|52.216.130.37|:443... connected.\n",
            "HTTP request sent, awaiting response... 200 OK\n",
            "Length: 13565642 (13M) [application/zip]\n",
            "Saving to: ‘jena_climate_2009_2016.csv.zip’\n",
            "\n",
            "jena_climate_2009_2 100%[===================>]  12.94M  13.5MB/s    in 1.0s    \n",
            "\n",
            "2022-07-22 14:34:09 (13.5 MB/s) - ‘jena_climate_2009_2016.csv.zip’ saved [13565642/13565642]\n",
            "\n",
            "Archive:  jena_climate_2009_2016.csv.zip\n",
            "  inflating: jena_climate_2009_2016.csv  \n",
            "  inflating: __MACOSX/._jena_climate_2009_2016.csv  \n"
          ]
        }
      ],
      "source": [
        "!wget https://s3.amazonaws.com/keras-datasets/jena_climate_2009_2016.csv.zip\n",
        "!unzip jena_climate_2009_2016.csv.zip"
      ]
    },
    {
      "cell_type": "markdown",
      "metadata": {
        "id": "3qW4ZeZlIiUm"
      },
      "source": [
        "**Inspecting the data**"
      ]
    },
    {
      "cell_type": "code",
      "execution_count": 2,
      "metadata": {
        "colab": {
          "base_uri": "https://localhost:8080/"
        },
        "id": "2XEY7e4fIzEo",
        "outputId": "84b76a2b-7bd4-467d-f7f0-b3661b8489d0"
      },
      "outputs": [
        {
          "output_type": "stream",
          "name": "stdout",
          "text": [
            "['\"Date Time\"', '\"p (mbar)\"', '\"T (degC)\"', '\"Tpot (K)\"', '\"Tdew (degC)\"', '\"rh (%)\"', '\"VPmax (mbar)\"', '\"VPact (mbar)\"', '\"VPdef (mbar)\"', '\"sh (g/kg)\"', '\"H2OC (mmol/mol)\"', '\"rho (g/m**3)\"', '\"wv (m/s)\"', '\"max. wv (m/s)\"', '\"wd (deg)\"']\n",
            "420451\n"
          ]
        }
      ],
      "source": [
        "import os\n",
        "fname = os.path.join(\"jena_climate_2009_2016.csv\")\n",
        "\n",
        "with open(fname) as f:\n",
        "    data = f.read()\n",
        "\n",
        "lines = data.split(\"\\n\")\n",
        "header = lines[0].split(\",\")\n",
        "lines = lines[1:]\n",
        "print(header)\n",
        "print(len(lines))"
      ]
    },
    {
      "cell_type": "markdown",
      "metadata": {
        "id": "hSKeHVhUI4HY"
      },
      "source": [
        "**Parsing the data**"
      ]
    },
    {
      "cell_type": "code",
      "execution_count": 3,
      "metadata": {
        "id": "UzgjFI8yI3Lp"
      },
      "outputs": [],
      "source": [
        "import numpy as np\n",
        "temperature = np.zeros((len(lines),))\n",
        "raw_data = np.zeros((len(lines), len(header) - 1))\n",
        "for i, line in enumerate(lines):\n",
        "    values = [float(x) for x in line.split(\",\")[1:]]\n",
        "    temperature[i] = values[1]\n",
        "    raw_data[i, :] = values[:]"
      ]
    },
    {
      "cell_type": "markdown",
      "metadata": {
        "id": "O5Vaiqy_IUpo"
      },
      "source": [
        "**Plotting the temperature timeseries**\n",
        "\n",
        "*Over 8 years, yearly fluctuations can be seen clearly*"
      ]
    },
    {
      "cell_type": "code",
      "execution_count": 4,
      "metadata": {
        "colab": {
          "base_uri": "https://localhost:8080/",
          "height": 285
        },
        "id": "yM0qx_iyIUpp",
        "outputId": "7f03cb51-0caa-46e5-9744-1a3febc7f17e"
      },
      "outputs": [
        {
          "output_type": "execute_result",
          "data": {
            "text/plain": [
              "[<matplotlib.lines.Line2D at 0x7f6c7bab2b50>]"
            ]
          },
          "metadata": {},
          "execution_count": 4
        },
        {
          "output_type": "display_data",
          "data": {
            "text/plain": [
              "<Figure size 432x288 with 1 Axes>"
            ],
            "image/png": "[encoded data removed]"
          },
          "metadata": {
            "needs_background": "light"
          }
        }
      ],
      "source": [
        "from matplotlib import pyplot as plt\n",
        "plt.plot(range(len(temperature)), temperature)"
      ]
    },
    {
      "cell_type": "markdown",
      "metadata": {
        "id": "HHLdVMlgIUpp"
      },
      "source": [
        "**Plotting the first 10 days of the temperature timeseries**\n",
        "\n",
        "*because data is recorded every 10 min, we get 144 data points per day (24x6)*"
      ]
    },
    {
      "cell_type": "code",
      "execution_count": 5,
      "metadata": {
        "colab": {
          "base_uri": "https://localhost:8080/",
          "height": 282
        },
        "id": "6OOjyhM3IUpp",
        "outputId": "d147452c-c08a-4ad1-edb8-df09b8d8f57f"
      },
      "outputs": [
        {
          "output_type": "execute_result",
          "data": {
            "text/plain": [
              "[<matplotlib.lines.Line2D at 0x7f6c7b59ab90>]"
            ]
          },
          "metadata": {},
          "execution_count": 5
        },
        {
          "output_type": "display_data",
          "data": {
            "text/plain": [
              "<Figure size 432x288 with 1 Axes>"
            ],
            "image/png": "[encoded data removed]"
          },
          "metadata": {
            "needs_background": "light"
          }
        }
      ],
      "source": [
        "plt.plot(range(1440), temperature[:1440])"
      ]
    },
    {
      "cell_type": "markdown",
      "source": [
        "Can see daily fluctuations, also that clearly the data is from a cold month"
      ],
      "metadata": {
        "id": "p6tVwy9vV1WD"
      }
    },
    {
      "cell_type": "markdown",
      "metadata": {
        "id": "aywlbPQmIUpq"
      },
      "source": [
        "**Computing the number of samples we'll use for each data split**"
      ]
    },
    {
      "cell_type": "code",
      "execution_count": 6,
      "metadata": {
        "id": "-0bshpxgIUpr"
      },
      "outputs": [],
      "source": [
        "num_train_samples = int(0.5 * len(raw_data))\n",
        "num_val_samples = int(0.25 * len(raw_data))\n",
        "num_test_samples = len(raw_data) - num_train_samples - num_val_samples"
      ]
    },
    {
      "cell_type": "code",
      "execution_count": 7,
      "metadata": {
        "colab": {
          "base_uri": "https://localhost:8080/"
        },
        "id": "4CgYyFt4RyoP",
        "outputId": "d438994f-4366-48d5-fa18-f86c04db7396"
      },
      "outputs": [
        {
          "output_type": "stream",
          "name": "stdout",
          "text": [
            "num_train_samples: 210225\n",
            "num_val_samples: 105112\n",
            "num_test_samples: 105114\n"
          ]
        }
      ],
      "source": [
        "print(\"num_train_samples:\", num_train_samples)\n",
        "print(\"num_val_samples:\", num_val_samples)\n",
        "print(\"num_test_samples:\", num_test_samples)"
      ]
    },
    {
      "cell_type": "markdown",
      "metadata": {
        "id": "9TfuVCN1IUpt"
      },
      "source": [
        "### Preparing the data"
      ]
    },
    {
      "cell_type": "markdown",
      "metadata": {
        "id": "Dxl-1ciCIUpt"
      },
      "source": [
        "**Normalizing the data**"
      ]
    },
    {
      "cell_type": "code",
      "execution_count": 8,
      "metadata": {
        "id": "bKpqgtYNIUpt"
      },
      "outputs": [],
      "source": [
        "mean = raw_data[:num_train_samples].mean(axis=0)\n",
        "raw_data -= mean\n",
        "std = raw_data[:num_train_samples].std(axis=0)\n",
        "raw_data /= std"
      ]
    },
    {
      "cell_type": "code",
      "execution_count": 9,
      "metadata": {
        "colab": {
          "base_uri": "https://localhost:8080/"
        },
        "id": "zQjrig3HIUpu",
        "outputId": "a567d5be-1cd7-4510-e5a0-fe115c686737"
      },
      "outputs": [
        {
          "output_type": "stream",
          "name": "stdout",
          "text": [
            "[0, 1, 2] 3\n",
            "[1, 2, 3] 4\n",
            "[2, 3, 4] 5\n",
            "[3, 4, 5] 6\n",
            "[4, 5, 6] 7\n"
          ]
        }
      ],
      "source": [
        "#\n",
        "# sample timeseries data from array\n",
        "#\n",
        "import numpy as np\n",
        "from tensorflow import keras\n",
        "\n",
        "int_sequence = np.arange(10)\n",
        "\n",
        "dummy_dataset = keras.utils.timeseries_dataset_from_array(\n",
        "    data=int_sequence[:-3],\n",
        "    targets=int_sequence[3:],\n",
        "    sequence_length=3,\n",
        "    batch_size=2,\n",
        ")\n",
        "\n",
        "for inputs, targets in dummy_dataset:\n",
        "    for i in range(inputs.shape[0]):\n",
        "        print([int(x) for x in inputs[i]], int(targets[i]))"
      ]
    },
    {
      "cell_type": "markdown",
      "metadata": {
        "id": "7W8QRc78IUpu"
      },
      "source": [
        "**Instantiating datasets for training, validation, and testing**"
      ]
    },
    {
      "cell_type": "code",
      "execution_count": 10,
      "metadata": {
        "id": "-azjOrpyIUpu"
      },
      "outputs": [],
      "source": [
        "sampling_rate = 6\n",
        "sequence_length = 120\n",
        "delay = sampling_rate * (sequence_length + 24 - 1)\n",
        "batch_size = 256\n",
        "\n",
        "train_dataset = keras.utils.timeseries_dataset_from_array(\n",
        "    raw_data[:-delay],\n",
        "    targets=temperature[delay:],\n",
        "    sampling_rate=sampling_rate,\n",
        "    sequence_length=sequence_length,\n",
        "    shuffle=True,\n",
        "    batch_size=batch_size,\n",
        "    start_index=0,\n",
        "    end_index=num_train_samples)\n",
        "\n",
        "val_dataset = keras.utils.timeseries_dataset_from_array(\n",
        "    raw_data[:-delay],\n",
        "    targets=temperature[delay:],\n",
        "    sampling_rate=sampling_rate,\n",
        "    sequence_length=sequence_length,\n",
        "    shuffle=True,\n",
        "    batch_size=batch_size,\n",
        "    start_index=num_train_samples,\n",
        "    end_index=num_train_samples + num_val_samples)\n",
        "\n",
        "test_dataset = keras.utils.timeseries_dataset_from_array(\n",
        "    raw_data[:-delay],\n",
        "    targets=temperature[delay:],\n",
        "    sampling_rate=sampling_rate,\n",
        "    sequence_length=sequence_length,\n",
        "    shuffle=True,\n",
        "    batch_size=batch_size,\n",
        "    start_index=num_train_samples + num_val_samples)"
      ]
    },
    {
      "cell_type": "markdown",
      "metadata": {
        "id": "VqB48hFtIUpv"
      },
      "source": [
        "**Inspecting the output of one of our datasets**"
      ]
    },
    {
      "cell_type": "code",
      "execution_count": 11,
      "metadata": {
        "colab": {
          "base_uri": "https://localhost:8080/"
        },
        "id": "RkPtPfVdIUpw",
        "outputId": "251ba81b-2ba3-4cde-fea1-d5e0f4c17920"
      },
      "outputs": [
        {
          "output_type": "stream",
          "name": "stdout",
          "text": [
            "samples shape: (256, 120, 14)\n",
            "targets shape: (256,)\n"
          ]
        }
      ],
      "source": [
        "for samples, targets in train_dataset:\n",
        "    print(\"samples shape:\", samples.shape)\n",
        "    print(\"targets shape:\", targets.shape)\n",
        "    break"
      ]
    },
    {
      "cell_type": "code",
      "execution_count": 12,
      "metadata": {
        "colab": {
          "base_uri": "https://localhost:8080/"
        },
        "id": "4gwSKS3cUsDc",
        "outputId": "5285a69d-a251-41a9-ac9b-bcd937ac87e3"
      },
      "outputs": [
        {
          "output_type": "stream",
          "name": "stdout",
          "text": [
            "samples shape: (256, 120, 14)\n",
            "targets shape: (256,)\n"
          ]
        }
      ],
      "source": [
        "for samples, targets in val_dataset:\n",
        "    print(\"samples shape:\", samples.shape)\n",
        "    print(\"targets shape:\", targets.shape)\n",
        "    break"
      ]
    },
    {
      "cell_type": "code",
      "execution_count": 13,
      "metadata": {
        "colab": {
          "base_uri": "https://localhost:8080/"
        },
        "id": "yFnOwyCNU1PW",
        "outputId": "0c1828ee-1d2c-4de3-8ba6-04a797111561"
      },
      "outputs": [
        {
          "output_type": "stream",
          "name": "stdout",
          "text": [
            "samples shape: (256, 120, 14)\n",
            "targets shape: (256,)\n"
          ]
        }
      ],
      "source": [
        "for samples, targets in test_dataset:\n",
        "    print(\"samples shape:\", samples.shape)\n",
        "    print(\"targets shape:\", targets.shape)\n",
        "    break"
      ]
    },
    {
      "cell_type": "markdown",
      "metadata": {
        "id": "ko85MBf3_PLo"
      },
      "source": [
        "### Building a baseline \"model\"\n",
        "\n",
        "In this case we will try to predict the temperature by simply assuming that the temperature 24 hours from now will be equal to the temperature right now. \n",
        "\n",
        "We shall use the mean absolute error (MAE) as a metric of performance and consider this (rather silly) \"model\" as our baseline. \n"
      ]
    },
    {
      "cell_type": "markdown",
      "metadata": {
        "id": "R5bvOX9ZIUpw"
      },
      "source": [
        "**Computing the common-sense baseline MAE**"
      ]
    },
    {
      "cell_type": "code",
      "execution_count": 14,
      "metadata": {
        "id": "3J4emypcIUpx"
      },
      "outputs": [],
      "source": [
        "def evaluate_naive_method(dataset):\n",
        "    total_abs_err = 0.\n",
        "    samples_seen = 0\n",
        "    for samples, targets in dataset:\n",
        "        preds = samples[:, -1, 1] * std[1] + mean[1]\n",
        "        total_abs_err += np.sum(np.abs(preds - targets))\n",
        "        samples_seen += samples.shape[0]\n",
        "    return total_abs_err / samples_seen"
      ]
    },
    {
      "cell_type": "code",
      "execution_count": 15,
      "metadata": {
        "colab": {
          "base_uri": "https://localhost:8080/"
        },
        "id": "lbJTthx2SGWw",
        "outputId": "24f3ba8d-68ea-4d1b-8755-01b45c435be6"
      },
      "outputs": [
        {
          "output_type": "stream",
          "name": "stdout",
          "text": [
            "Validation MAE: 2.44\n",
            "Test MAE: 2.62\n"
          ]
        }
      ],
      "source": [
        "print(f\"Validation MAE: {evaluate_naive_method(val_dataset):.2f}\")\n",
        "print(f\"Test MAE: {evaluate_naive_method(test_dataset):.2f}\")"
      ]
    },
    {
      "cell_type": "markdown",
      "metadata": {
        "id": "oG1aHr4Y_Xej"
      },
      "source": [
        "### Single layer LSTM\n",
        "\n",
        "This is essentially the \"simple LSTM-based model\" from Listing 10.12 in the textbook."
      ]
    },
    {
      "cell_type": "code",
      "execution_count": 16,
      "metadata": {
        "id": "UCNOgENsIUpx"
      },
      "outputs": [],
      "source": [
        "from tensorflow import keras\n",
        "from tensorflow.keras import layers\n",
        "\n",
        "inputs = keras.Input(shape=(sequence_length, raw_data.shape[-1]))\n",
        "x = layers.LSTM(16)(inputs)\n",
        "outputs = layers.Dense(1)(x)\n",
        "model = keras.Model(inputs, outputs)\n",
        "\n",
        "callbacks = [\n",
        "    keras.callbacks.ModelCheckpoint(\"jena_lstm.keras\",\n",
        "                                    save_best_only=True)\n",
        "]\n",
        "\n",
        "model.compile(optimizer=\"rmsprop\", loss=\"mse\", metrics=[\"mae\"])"
      ]
    },
    {
      "cell_type": "code",
      "execution_count": 17,
      "metadata": {
        "colab": {
          "base_uri": "https://localhost:8080/"
        },
        "id": "ildQ1Hg6WD0K",
        "outputId": "050cb31d-40ee-4fbd-c724-75b248c4593a"
      },
      "outputs": [
        {
          "output_type": "stream",
          "name": "stdout",
          "text": [
            "Epoch 1/10\n",
            "819/819 [==============================] - 35s 34ms/step - loss: 38.2405 - mae: 4.5021 - val_loss: 12.5286 - val_mae: 2.6777\n",
            "Epoch 2/10\n",
            "819/819 [==============================] - 27s 33ms/step - loss: 10.8826 - mae: 2.5648 - val_loss: 9.5618 - val_mae: 2.4024\n",
            "Epoch 3/10\n",
            "819/819 [==============================] - 27s 33ms/step - loss: 9.7767 - mae: 2.4359 - val_loss: 9.3428 - val_mae: 2.3806\n",
            "Epoch 4/10\n",
            "819/819 [==============================] - 27s 33ms/step - loss: 9.3035 - mae: 2.3717 - val_loss: 9.3471 - val_mae: 2.3804\n",
            "Epoch 5/10\n",
            "819/819 [==============================] - 27s 33ms/step - loss: 9.0092 - mae: 2.3318 - val_loss: 9.6672 - val_mae: 2.4247\n",
            "Epoch 6/10\n",
            "819/819 [==============================] - 28s 34ms/step - loss: 8.8169 - mae: 2.3035 - val_loss: 9.8103 - val_mae: 2.4453\n",
            "Epoch 7/10\n",
            "819/819 [==============================] - 27s 33ms/step - loss: 8.6629 - mae: 2.2842 - val_loss: 9.9450 - val_mae: 2.4669\n",
            "Epoch 8/10\n",
            "819/819 [==============================] - 27s 33ms/step - loss: 8.5367 - mae: 2.2666 - val_loss: 10.2211 - val_mae: 2.4966\n",
            "Epoch 9/10\n",
            "819/819 [==============================] - 27s 33ms/step - loss: 8.4047 - mae: 2.2458 - val_loss: 10.1426 - val_mae: 2.4769\n",
            "Epoch 10/10\n",
            "819/819 [==============================] - 28s 34ms/step - loss: 8.3127 - mae: 2.2297 - val_loss: 10.0567 - val_mae: 2.4702\n"
          ]
        }
      ],
      "source": [
        "history = model.fit(train_dataset,\n",
        "                    epochs=10,\n",
        "                    validation_data=val_dataset,\n",
        "                    callbacks=callbacks)"
      ]
    },
    {
      "cell_type": "code",
      "execution_count": 18,
      "metadata": {
        "colab": {
          "base_uri": "https://localhost:8080/"
        },
        "id": "-tNMG8G1WHMC",
        "outputId": "14c5bda0-ad9e-40a6-c5ab-8cc4b2c62ba5"
      },
      "outputs": [
        {
          "output_type": "stream",
          "name": "stdout",
          "text": [
            "405/405 [==============================] - 9s 20ms/step - loss: 11.1486 - mae: 2.6369\n",
            "Test MAE: 2.64\n"
          ]
        }
      ],
      "source": [
        "model = keras.models.load_model(\"jena_lstm.keras\")\n",
        "\n",
        "print(f\"Test MAE: {model.evaluate(test_dataset)[1]:.2f}\")"
      ]
    },
    {
      "cell_type": "code",
      "execution_count": null,
      "metadata": {
        "colab": {
          "base_uri": "https://localhost:8080/",
          "height": 281
        },
        "id": "F29usgYBN_ZZ",
        "outputId": "fd184b10-5f8f-4a6e-87b6-16003ba977f5"
      },
      "outputs": [
        {
          "data": {
            "image/png": "[encoded data removed]",
            "text/plain": [
              "<Figure size 432x288 with 1 Axes>"
            ]
          },
          "metadata": {},
          "output_type": "display_data"
        }
      ],
      "source": [
        "import matplotlib.pyplot as plt\n",
        "loss = history.history[\"mae\"]\n",
        "val_loss = history.history[\"val_mae\"]\n",
        "epochs = range(1, len(loss) + 1)\n",
        "plt.figure()\n",
        "plt.plot(epochs, loss, \"bo\", label=\"Training MAE\")\n",
        "plt.plot(epochs, val_loss, \"b\", label=\"Validation MAE\")\n",
        "plt.title(\"Training and validation MAE\")\n",
        "plt.legend()\n",
        "plt.show()"
      ]
    },
    {
      "cell_type": "markdown",
      "metadata": {
        "id": "stgojgb5LXjq"
      },
      "source": [
        "###TODO 1a: Double Layer GRU Model w/Dropout\n",
        "\n",
        "Following along the Chapter... *Training and evaluating a dropout-regularized, stacked GRU model*"
      ]
    },
    {
      "cell_type": "code",
      "execution_count": 19,
      "metadata": {
        "colab": {
          "base_uri": "https://localhost:8080/"
        },
        "id": "qTBek7zOReWF",
        "outputId": "4dc341b5-9e68-4b05-e5db-19f3c961b7f5"
      },
      "outputs": [
        {
          "output_type": "stream",
          "name": "stderr",
          "text": [
            "WARNING:tensorflow:Layer gru will not use cuDNN kernels since it doesn't meet the criteria. It will use a generic GPU kernel as fallback when running on GPU.\n",
            "WARNING:tensorflow:Layer gru_1 will not use cuDNN kernels since it doesn't meet the criteria. It will use a generic GPU kernel as fallback when running on GPU.\n"
          ]
        }
      ],
      "source": [
        "inputs = keras.Input(shape=(sequence_length, raw_data.shape[-1]))\n",
        "\n",
        "x = layers.GRU(32, recurrent_dropout=0.5, return_sequences=True)(inputs)\n",
        "x = layers.GRU(32, recurrent_dropout=0.5)(x)\n",
        "x = layers.Dropout(0.5)(x)\n",
        "\n",
        "outputs = layers.Dense(1)(x)\n",
        "\n",
        "model = keras.Model(inputs, outputs)\n",
        "\n",
        "callbacks = [\n",
        "    keras.callbacks.ModelCheckpoint(\"jena_stacked_gru_dropout.keras\",\n",
        "                                    save_best_only=True)\n",
        "]\n",
        "\n",
        "model.compile(optimizer=\"rmsprop\", loss=\"mse\", metrics=[\"mae\"])"
      ]
    },
    {
      "cell_type": "code",
      "execution_count": 20,
      "metadata": {
        "colab": {
          "base_uri": "https://localhost:8080/"
        },
        "id": "Ff2sRIVmWW0G",
        "outputId": "98ad7ea2-76e9-4bed-87ef-f6b0f8ba7c08"
      },
      "outputs": [
        {
          "output_type": "stream",
          "name": "stdout",
          "text": [
            "Epoch 1/10\n",
            "819/819 [==============================] - 501s 608ms/step - loss: 25.1027 - mae: 3.7026 - val_loss: 9.6772 - val_mae: 2.4188\n",
            "Epoch 2/10\n",
            "819/819 [==============================] - 497s 607ms/step - loss: 14.0321 - mae: 2.9042 - val_loss: 8.7594 - val_mae: 2.2933\n",
            "Epoch 3/10\n",
            "819/819 [==============================] - 496s 606ms/step - loss: 13.2013 - mae: 2.8142 - val_loss: 8.4263 - val_mae: 2.2473\n",
            "Epoch 4/10\n",
            "819/819 [==============================] - 495s 605ms/step - loss: 12.6908 - mae: 2.7626 - val_loss: 8.8065 - val_mae: 2.3115\n",
            "Epoch 5/10\n",
            "819/819 [==============================] - 496s 605ms/step - loss: 12.1960 - mae: 2.7090 - val_loss: 8.6240 - val_mae: 2.2750\n",
            "Epoch 6/10\n",
            "819/819 [==============================] - 495s 605ms/step - loss: 11.7611 - mae: 2.6626 - val_loss: 9.1504 - val_mae: 2.3575\n",
            "Epoch 7/10\n",
            "819/819 [==============================] - 495s 604ms/step - loss: 11.4121 - mae: 2.6206 - val_loss: 9.0048 - val_mae: 2.3389\n",
            "Epoch 8/10\n",
            "819/819 [==============================] - 495s 604ms/step - loss: 11.0925 - mae: 2.5847 - val_loss: 8.8224 - val_mae: 2.3116\n",
            "Epoch 9/10\n",
            "819/819 [==============================] - 496s 605ms/step - loss: 10.7911 - mae: 2.5509 - val_loss: 8.8327 - val_mae: 2.3077\n",
            "Epoch 10/10\n",
            "819/819 [==============================] - 494s 603ms/step - loss: 10.5621 - mae: 2.5243 - val_loss: 9.1392 - val_mae: 2.3425\n"
          ]
        }
      ],
      "source": [
        "history = model.fit(train_dataset,\n",
        "                    epochs=10,\n",
        "                    validation_data=val_dataset,\n",
        "                    callbacks=callbacks)"
      ]
    },
    {
      "cell_type": "code",
      "execution_count": null,
      "metadata": {
        "colab": {
          "base_uri": "https://localhost:8080/"
        },
        "id": "26SJzCrjWYeT",
        "outputId": "437cad7e-35b5-429b-b7cd-52c2c0df4cff"
      },
      "outputs": [
        {
          "name": "stdout",
          "output_type": "stream",
          "text": [
            "WARNING:tensorflow:Layer gru will not use cuDNN kernels since it doesn't meet the criteria. It will use a generic GPU kernel as fallback when running on GPU.\n",
            "WARNING:tensorflow:Layer gru_1 will not use cuDNN kernels since it doesn't meet the criteria. It will use a generic GPU kernel as fallback when running on GPU.\n",
            "405/405 [==============================] - 36s 86ms/step - loss: 9.6008 - mae: 2.4200\n",
            "Test MAE: 2.42\n"
          ]
        }
      ],
      "source": [
        "model = keras.models.load_model(\"jena_stacked_gru_dropout.keras\")\n",
        "\n",
        "print(f\"Test MAE: {model.evaluate(test_dataset)[1]:.2f}\")"
      ]
    },
    {
      "cell_type": "code",
      "execution_count": 21,
      "metadata": {
        "colab": {
          "base_uri": "https://localhost:8080/",
          "height": 281
        },
        "id": "saW1tgJTeog2",
        "outputId": "b596b34e-aa7c-445a-b7e7-100ed7d5a9aa"
      },
      "outputs": [
        {
          "output_type": "display_data",
          "data": {
            "text/plain": [
              "<Figure size 432x288 with 1 Axes>"
            ],
            "image/png": "[encoded data removed]"
          },
          "metadata": {
            "needs_background": "light"
          }
        }
      ],
      "source": [
        "import matplotlib.pyplot as plt\n",
        "\n",
        "loss = history.history[\"mae\"]\n",
        "val_loss = history.history[\"val_mae\"]\n",
        "epochs = range(1, len(loss) + 1)\n",
        "\n",
        "plt.figure()\n",
        "plt.plot(epochs, loss, \"bo\", label=\"Training MAE\")\n",
        "plt.plot(epochs, val_loss, \"b\", label=\"Validation MAE\")\n",
        "plt.title(\"Training and validation MAE\")\n",
        "plt.legend()\n",
        "plt.show()"
      ]
    },
    {
      "cell_type": "markdown",
      "source": [
        "### Another Example (Kosandal 2019)\n",
        "\n",
        "Example from *Weather forecasting with Recurrent Neural Networks in Python* by \n",
        "Rohan Kosandal Dec 2019 available here: https://medium.com/analytics-vidhya/weather-forecasting-with-recurrent-neural-networks-1eaa057d70c3"
      ],
      "metadata": {
        "id": "VpmqbNSwywzx"
      }
    },
    {
      "cell_type": "markdown",
      "source": [
        "#### Load and Transform Data"
      ],
      "metadata": {
        "id": "im_cV6b10mwA"
      }
    },
    {
      "cell_type": "code",
      "execution_count": 22,
      "metadata": {
        "colab": {
          "base_uri": "https://localhost:8080/"
        },
        "outputId": "2d9df3f2-d4b6-4f84-953d-3348ebd15b1f",
        "id": "CyQzhYd47SJR"
      },
      "outputs": [
        {
          "output_type": "stream",
          "name": "stdout",
          "text": [
            "Mounted at /content/drive\n"
          ]
        }
      ],
      "source": [
        "from google.colab import drive\n",
        "\n",
        "drive.mount('/content/drive')"
      ]
    },
    {
      "cell_type": "code",
      "execution_count": 23,
      "metadata": {
        "id": "PAWNfSq67SJR"
      },
      "outputs": [],
      "source": [
        "import glob\n",
        "import os\n",
        "\n",
        "os.chdir(\"/content/drive/MyDrive/google_colab/deep_learning/Assignment 5/time series (weather)\")"
      ]
    },
    {
      "cell_type": "code",
      "source": [
        "import numpy as np\n",
        "import matplotlib.pyplot as plt\n",
        "import pandas as pd\n",
        "\n",
        "#import dataset from data.csv file\n",
        "dataset = pd.read_csv('./training.csv', header=0, sep='\\t')"
      ],
      "metadata": {
        "id": "KJ52QA7s0omH"
      },
      "execution_count": 24,
      "outputs": []
    },
    {
      "cell_type": "code",
      "source": [
        "dataset.head"
      ],
      "metadata": {
        "colab": {
          "base_uri": "https://localhost:8080/"
        },
        "id": "p3ZHsUmzDr8S",
        "outputId": "fc986737-1f2e-4de6-f3b5-0c73cfad6ee0"
      },
      "execution_count": 25,
      "outputs": [
        {
          "output_type": "execute_result",
          "data": {
            "text/plain": [
              "<bound method NDFrame.head of        Date time  Temperature\n",
              "0     01/01/2011         68.9\n",
              "1     01/02/2011         66.4\n",
              "2     01/03/2011         68.7\n",
              "3     01/04/2011         71.4\n",
              "4     01/05/2011         69.3\n",
              "...          ...          ...\n",
              "3098  06/26/2019         75.7\n",
              "3099  06/27/2019         75.0\n",
              "3100  06/28/2019         72.7\n",
              "3101  06/29/2019         71.0\n",
              "3102  06/30/2019         70.8\n",
              "\n",
              "[3103 rows x 2 columns]>"
            ]
          },
          "metadata": {},
          "execution_count": 25
        }
      ]
    },
    {
      "cell_type": "code",
      "source": [
        "dataset = dataset.dropna(subset=[\"Temperature\"])\n",
        "dataset=dataset.reset_index(drop=True)\n",
        "\n",
        "dataset.head"
      ],
      "metadata": {
        "colab": {
          "base_uri": "https://localhost:8080/"
        },
        "id": "1fPAvY2vKQ_m",
        "outputId": "1d493557-3a31-410a-9791-323c5bb422c4"
      },
      "execution_count": 26,
      "outputs": [
        {
          "output_type": "execute_result",
          "data": {
            "text/plain": [
              "<bound method NDFrame.head of        Date time  Temperature\n",
              "0     01/01/2011         68.9\n",
              "1     01/02/2011         66.4\n",
              "2     01/03/2011         68.7\n",
              "3     01/04/2011         71.4\n",
              "4     01/05/2011         69.3\n",
              "...          ...          ...\n",
              "3066  06/26/2019         75.7\n",
              "3067  06/27/2019         75.0\n",
              "3068  06/28/2019         72.7\n",
              "3069  06/29/2019         71.0\n",
              "3070  06/30/2019         70.8\n",
              "\n",
              "[3071 rows x 2 columns]>"
            ]
          },
          "metadata": {},
          "execution_count": 26
        }
      ]
    },
    {
      "cell_type": "code",
      "source": [
        "training_set = dataset.iloc[:,1:2].values"
      ],
      "metadata": {
        "id": "c516kGhkK8JN"
      },
      "execution_count": 27,
      "outputs": []
    },
    {
      "cell_type": "markdown",
      "source": [
        "Next, we will have to apply feature scaling to normalize temperature in the range 0 to 1."
      ],
      "metadata": {
        "id": "8y8DT-DUOleP"
      }
    },
    {
      "cell_type": "code",
      "source": [
        "#Feature Scaling \n",
        "from sklearn.preprocessing import MinMaxScaler\n",
        "\n",
        "sc = MinMaxScaler(feature_range=(0,1))\n",
        "\n",
        "training_set_scaled = sc.fit_transform(training_set)"
      ],
      "metadata": {
        "id": "whoDcLrdKiIg"
      },
      "execution_count": 28,
      "outputs": []
    },
    {
      "cell_type": "markdown",
      "source": [
        "We will create a training set such that for every 30 days we will provide the next 4 days temperature as output. In other words, input for our RNN would be 30 days temperature data and the output would be 4 days forecast of temperature."
      ],
      "metadata": {
        "id": "dQrbyehsOq8P"
      }
    },
    {
      "cell_type": "code",
      "source": [
        "x_train = []\n",
        "y_train = []\n",
        "n_future = 4 # next 4 days temperature forecast\n",
        "n_past = 30 # Past 30 days \n",
        "for i in range(0,len(training_set_scaled)-n_past-n_future+1):\n",
        "    x_train.append(training_set_scaled[i : i + n_past , 0])     \n",
        "    y_train.append(training_set_scaled[i + n_past : i + n_past + n_future , 0 ])\n",
        "x_train , y_train = np.array(x_train), np.array(y_train)\n",
        "x_train = np.reshape(x_train, (x_train.shape[0] , x_train.shape[1], 1) )"
      ],
      "metadata": {
        "id": "Ujylxr62OteF"
      },
      "execution_count": 29,
      "outputs": []
    },
    {
      "cell_type": "code",
      "source": [
        "x_train.shape, y_train.shape"
      ],
      "metadata": {
        "colab": {
          "base_uri": "https://localhost:8080/"
        },
        "id": "QZ4yzW_CRWaP",
        "outputId": "5fe3cbc3-ea52-4f0e-80ba-7be54676cd83"
      },
      "execution_count": 30,
      "outputs": [
        {
          "output_type": "execute_result",
          "data": {
            "text/plain": [
              "((3038, 30, 1), (3038, 4))"
            ]
          },
          "metadata": {},
          "execution_count": 30
        }
      ]
    },
    {
      "cell_type": "markdown",
      "source": [
        "x_train contains 30 previous temperature inputs before that day and y_train contains 4 days temperature outputs after that day. Since x_train and y_train are lists we will have to convert them to numpy array to fit training set to our model."
      ],
      "metadata": {
        "id": "ZmcuLwmqPAB6"
      }
    },
    {
      "cell_type": "markdown",
      "source": [
        "Now we are ready with our training data so let’s proceed to build an RNN model for forecasting weather.\n",
        "\n",
        "First, we will import keras sequential model from keras.models and keras layers ie. LSTM, Dense and dropout. "
      ],
      "metadata": {
        "id": "E4IB8VclO1lZ"
      }
    },
    {
      "cell_type": "markdown",
      "source": [
        "#### Build and Train the Model"
      ],
      "metadata": {
        "id": "-VLp7VM5SLIQ"
      }
    },
    {
      "cell_type": "code",
      "source": [
        "from keras.models import Sequential\n",
        "from keras.layers import LSTM, Dense, Dropout\n",
        "from tensorflow.keras.layers import Bidirectional\n",
        "\n",
        "# Fitting RNN to training set using Keras Callbacks. Read Keras callbacks docs for more info.\n",
        "\n",
        "regressor = Sequential()\n",
        "regressor.add(Bidirectional(LSTM(units=30, return_sequences=True, input_shape = (x_train.shape[1],1) ) ))\n",
        "regressor.add(Dropout(0.2))\n",
        "regressor.add(LSTM(units= 30 , return_sequences=True))\n",
        "regressor.add(Dropout(0.2))\n",
        "regressor.add(LSTM(units= 30 , return_sequences=True))\n",
        "regressor.add(Dropout(0.2))\n",
        "regressor.add(LSTM(units= 30))\n",
        "regressor.add(Dropout(0.2))\n",
        "regressor.add(Dense(units = n_future,activation='linear'))"
      ],
      "metadata": {
        "id": "HTHq-IIkO6RH"
      },
      "execution_count": 31,
      "outputs": []
    },
    {
      "cell_type": "code",
      "source": [
        "regressor.compile(optimizer='adam', loss='mean_squared_error',metrics=['acc'])"
      ],
      "metadata": {
        "id": "AcPnroB8PRyu"
      },
      "execution_count": 32,
      "outputs": []
    },
    {
      "cell_type": "code",
      "source": [
        "#regressor.fit(x_train, y_train, epochs=500,batch_size=32 )\n",
        "\n",
        "regressor.fit(x_train, y_train, epochs=50,batch_size=64 )\n"
      ],
      "metadata": {
        "colab": {
          "base_uri": "https://localhost:8080/"
        },
        "id": "P22h032-PiPZ",
        "outputId": "e1883d29-a2f8-42f0-8b4e-ee5091eba2be"
      },
      "execution_count": 33,
      "outputs": [
        {
          "output_type": "stream",
          "name": "stdout",
          "text": [
            "Epoch 1/50\n",
            "48/48 [==============================] - 8s 12ms/step - loss: 0.0525 - acc: 0.2525\n",
            "Epoch 2/50\n",
            "48/48 [==============================] - 1s 12ms/step - loss: 0.0183 - acc: 0.2515\n",
            "Epoch 3/50\n",
            "48/48 [==============================] - 1s 12ms/step - loss: 0.0159 - acc: 0.2465\n",
            "Epoch 4/50\n",
            "48/48 [==============================] - 1s 12ms/step - loss: 0.0146 - acc: 0.2597\n",
            "Epoch 5/50\n",
            "48/48 [==============================] - 1s 12ms/step - loss: 0.0132 - acc: 0.2535\n",
            "Epoch 6/50\n",
            "48/48 [==============================] - 1s 12ms/step - loss: 0.0127 - acc: 0.2617\n",
            "Epoch 7/50\n",
            "48/48 [==============================] - 1s 12ms/step - loss: 0.0118 - acc: 0.2656\n",
            "Epoch 8/50\n",
            "48/48 [==============================] - 1s 12ms/step - loss: 0.0116 - acc: 0.2538\n",
            "Epoch 9/50\n",
            "48/48 [==============================] - 1s 12ms/step - loss: 0.0114 - acc: 0.2456\n",
            "Epoch 10/50\n",
            "48/48 [==============================] - 1s 12ms/step - loss: 0.0106 - acc: 0.2564\n",
            "Epoch 11/50\n",
            "48/48 [==============================] - 1s 12ms/step - loss: 0.0102 - acc: 0.2498\n",
            "Epoch 12/50\n",
            "48/48 [==============================] - 1s 12ms/step - loss: 0.0097 - acc: 0.2505\n",
            "Epoch 13/50\n",
            "48/48 [==============================] - 1s 12ms/step - loss: 0.0096 - acc: 0.2544\n",
            "Epoch 14/50\n",
            "48/48 [==============================] - 1s 12ms/step - loss: 0.0097 - acc: 0.2623\n",
            "Epoch 15/50\n",
            "48/48 [==============================] - 1s 12ms/step - loss: 0.0093 - acc: 0.2512\n",
            "Epoch 16/50\n",
            "48/48 [==============================] - 1s 12ms/step - loss: 0.0093 - acc: 0.2459\n",
            "Epoch 17/50\n",
            "48/48 [==============================] - 1s 12ms/step - loss: 0.0088 - acc: 0.2742\n",
            "Epoch 18/50\n",
            "48/48 [==============================] - 1s 12ms/step - loss: 0.0086 - acc: 0.2446\n",
            "Epoch 19/50\n",
            "48/48 [==============================] - 1s 12ms/step - loss: 0.0086 - acc: 0.2656\n",
            "Epoch 20/50\n",
            "48/48 [==============================] - 1s 12ms/step - loss: 0.0084 - acc: 0.2567\n",
            "Epoch 21/50\n",
            "48/48 [==============================] - 1s 12ms/step - loss: 0.0082 - acc: 0.2597\n",
            "Epoch 22/50\n",
            "48/48 [==============================] - 1s 12ms/step - loss: 0.0082 - acc: 0.2623\n",
            "Epoch 23/50\n",
            "48/48 [==============================] - 1s 12ms/step - loss: 0.0080 - acc: 0.2571\n",
            "Epoch 24/50\n",
            "48/48 [==============================] - 1s 12ms/step - loss: 0.0082 - acc: 0.2630\n",
            "Epoch 25/50\n",
            "48/48 [==============================] - 1s 12ms/step - loss: 0.0077 - acc: 0.2600\n",
            "Epoch 26/50\n",
            "48/48 [==============================] - 1s 12ms/step - loss: 0.0076 - acc: 0.2696\n",
            "Epoch 27/50\n",
            "48/48 [==============================] - 1s 12ms/step - loss: 0.0076 - acc: 0.2653\n",
            "Epoch 28/50\n",
            "48/48 [==============================] - 1s 12ms/step - loss: 0.0077 - acc: 0.2594\n",
            "Epoch 29/50\n",
            "48/48 [==============================] - 1s 12ms/step - loss: 0.0078 - acc: 0.2607\n",
            "Epoch 30/50\n",
            "48/48 [==============================] - 1s 12ms/step - loss: 0.0075 - acc: 0.2574\n",
            "Epoch 31/50\n",
            "48/48 [==============================] - 1s 12ms/step - loss: 0.0075 - acc: 0.2604\n",
            "Epoch 32/50\n",
            "48/48 [==============================] - 1s 12ms/step - loss: 0.0073 - acc: 0.2755\n",
            "Epoch 33/50\n",
            "48/48 [==============================] - 1s 12ms/step - loss: 0.0076 - acc: 0.2781\n",
            "Epoch 34/50\n",
            "48/48 [==============================] - 1s 12ms/step - loss: 0.0074 - acc: 0.2617\n",
            "Epoch 35/50\n",
            "48/48 [==============================] - 1s 12ms/step - loss: 0.0074 - acc: 0.2574\n",
            "Epoch 36/50\n",
            "48/48 [==============================] - 1s 12ms/step - loss: 0.0073 - acc: 0.2656\n",
            "Epoch 37/50\n",
            "48/48 [==============================] - 1s 12ms/step - loss: 0.0073 - acc: 0.2706\n",
            "Epoch 38/50\n",
            "48/48 [==============================] - 1s 12ms/step - loss: 0.0072 - acc: 0.2781\n",
            "Epoch 39/50\n",
            "48/48 [==============================] - 1s 12ms/step - loss: 0.0072 - acc: 0.2630\n",
            "Epoch 40/50\n",
            "48/48 [==============================] - 1s 12ms/step - loss: 0.0070 - acc: 0.2887\n",
            "Epoch 41/50\n",
            "48/48 [==============================] - 1s 12ms/step - loss: 0.0071 - acc: 0.2702\n",
            "Epoch 42/50\n",
            "48/48 [==============================] - 1s 12ms/step - loss: 0.0069 - acc: 0.2686\n",
            "Epoch 43/50\n",
            "48/48 [==============================] - 1s 12ms/step - loss: 0.0069 - acc: 0.2683\n",
            "Epoch 44/50\n",
            "48/48 [==============================] - 1s 12ms/step - loss: 0.0070 - acc: 0.2795\n",
            "Epoch 45/50\n",
            "48/48 [==============================] - 1s 12ms/step - loss: 0.0069 - acc: 0.2742\n",
            "Epoch 46/50\n",
            "48/48 [==============================] - 1s 12ms/step - loss: 0.0070 - acc: 0.2775\n",
            "Epoch 47/50\n",
            "48/48 [==============================] - 1s 12ms/step - loss: 0.0070 - acc: 0.2768\n",
            "Epoch 48/50\n",
            "48/48 [==============================] - 1s 12ms/step - loss: 0.0068 - acc: 0.2660\n",
            "Epoch 49/50\n",
            "48/48 [==============================] - 1s 12ms/step - loss: 0.0068 - acc: 0.2752\n",
            "Epoch 50/50\n",
            "48/48 [==============================] - 1s 12ms/step - loss: 0.0069 - acc: 0.2755\n"
          ]
        },
        {
          "output_type": "execute_result",
          "data": {
            "text/plain": [
              "<keras.callbacks.History at 0x7f6b84fd8710>"
            ]
          },
          "metadata": {},
          "execution_count": 33
        }
      ]
    },
    {
      "cell_type": "markdown",
      "source": [
        "#### Evaluate the Model"
      ],
      "metadata": {
        "id": "hg6tEcyDSTNz"
      }
    },
    {
      "cell_type": "code",
      "source": [
        "# read test dataset\n",
        "testdataset = pd.read_csv('./testing.csv')"
      ],
      "metadata": {
        "id": "-JoV9nQYSYIV"
      },
      "execution_count": 34,
      "outputs": []
    },
    {
      "cell_type": "code",
      "source": [
        "#get only the temperature column\n",
        "testdataset = testdataset.iloc[:30,1:2].values"
      ],
      "metadata": {
        "id": "oip9cxHkSklW"
      },
      "execution_count": 35,
      "outputs": []
    },
    {
      "cell_type": "code",
      "source": [
        "real_temperature = pd.read_csv('./testing.csv')\n",
        "real_temperature = real_temperature.iloc[30:,1:2].values\n",
        "\n",
        "testing = sc.transform(testdataset)\n",
        "testing = np.array(testing)\n",
        "testing = np.reshape(testing,(testing.shape[1],testing.shape[0],1))"
      ],
      "metadata": {
        "id": "rgomcjIJS0Wk"
      },
      "execution_count": 36,
      "outputs": []
    },
    {
      "cell_type": "code",
      "source": [
        "predicted_temperature = regressor.predict(testing)\n",
        "predicted_temperature = sc.inverse_transform(predicted_temperature)\n",
        "predicted_temperature = np.reshape(predicted_temperature,(predicted_temperature.shape[1],predicted_temperature.shape[0]))"
      ],
      "metadata": {
        "id": "BfNJb8BtTO9m"
      },
      "execution_count": 37,
      "outputs": []
    },
    {
      "cell_type": "code",
      "source": [
        "real_temperature"
      ],
      "metadata": {
        "colab": {
          "base_uri": "https://localhost:8080/"
        },
        "id": "m_aKzTzSTXRp",
        "outputId": "35eee7ef-72b7-41d2-94f8-78adff8a27ba"
      },
      "execution_count": 38,
      "outputs": [
        {
          "output_type": "execute_result",
          "data": {
            "text/plain": [
              "array([[81.],\n",
              "       [81.]])"
            ]
          },
          "metadata": {},
          "execution_count": 38
        }
      ]
    },
    {
      "cell_type": "code",
      "source": [
        "predicted_temperature"
      ],
      "metadata": {
        "colab": {
          "base_uri": "https://localhost:8080/"
        },
        "id": "Ei23nXBjTdox",
        "outputId": "6546850a-942a-4984-c4d9-9b8bcfc17e9d"
      },
      "execution_count": 39,
      "outputs": [
        {
          "output_type": "execute_result",
          "data": {
            "text/plain": [
              "array([[78.685555],\n",
              "       [78.459175],\n",
              "       [78.2711  ],\n",
              "       [77.983665]], dtype=float32)"
            ]
          },
          "metadata": {},
          "execution_count": 39
        }
      ]
    },
    {
      "cell_type": "markdown",
      "metadata": {
        "id": "NCOWYkha7sdJ"
      },
      "source": [
        "### Summary table\n",
        "\n",
        "| Method | Test MAE | Remarks |\n",
        "| --- | --- | --- |\n",
        "| Baseline | 2.62 | Silly model: \"tomorrow will be like today\" |\n",
        "| 1a) Real first model (LSTM) | 2.64 | Same result, no signs of overfitting after 10 epochs |\n",
        "| 1b) Double Layer GRU Model w/Dropout | 2.42 | better result, although takes time to train (GPU not available given params). Appears to still be learning after 10 epochs though |\n"
      ]
    },
    {
      "cell_type": "markdown",
      "metadata": {
        "id": "HPPt3a7jNNnM"
      },
      "source": [
        "##Part 2: Sentiment analysis of IMDB Dataset\n",
        "\n",
        "In Part 2 we will revisit the IMDB movie review classification task from an earlier assignment, this time using more sophisticated approaches and architectures.\n",
        "\n",
        "Please refer to Chapter 11 of [our textbook](https://learning.oreilly.com/library/view/deep-learning-with/9781617296864) for background information on NLP and approaches for text representation in deep learning architectures.\n",
        "\n",
        "The code (and much of the text) below is essentially from https://www.tensorflow.org/text/tutorials/text_classification_rnn  \n"
      ]
    },
    {
      "cell_type": "markdown",
      "metadata": {
        "id": "5dCbHdZZNNnN"
      },
      "source": [
        "Useful sources and references for Part 2:\n",
        "\n",
        "- https://colab.research.google.com/github/fchollet/deep-learning-with-python-notebooks/blob/master/chapter11_part01_introduction.ipynb\n",
        "- https://colab.research.google.com/github/fchollet/deep-learning-with-python-notebooks/blob/master/chapter11_part02_sequence-models.ipynb \n"
      ]
    },
    {
      "cell_type": "markdown",
      "metadata": {
        "id": "MalQVoa_vyo5"
      },
      "source": [
        "###A word on Long short-term memory (LSTM) Networks\n",
        "\n",
        "from https://en.wikipedia.org/wiki/Long_short-term_memory\n",
        "\n",
        "Long short-term memory (LSTM)[1] is an artificial neural network used in the fields of artificial intelligence and deep learning. Unlike standard feedforward neural networks, LSTM has feedback connections. Such a recurrent neural network can process not only single data points (such as images), but also entire sequences of data (such as speech or video). For example, LSTM is applicable to tasks such as unsegmented, connected handwriting recognition,[2] speech recognition,[3][4] machine translation,[5][6] robot control,[7][8] video games,[9][10] and healthcare.[11] LSTM has become the most cited neural network of the 20th century.[12]\n",
        "\n",
        "A common LSTM unit is composed of a cell, an input gate, an output gate[13] and a forget gate.[14] The cell remembers values over arbitrary time intervals and the three gates regulate the flow of information into and out of the cell.\n",
        "\n",
        "LSTM networks are well-suited to classifying, processing and making predictions based on time series data, since there can be lags of unknown duration between important events in a time series. LSTMs were developed to deal with the vanishing gradient problem[15] that can be encountered when training traditional RNNs. Relative insensitivity to gap length is an advantage of LSTM over RNNs, hidden Markov models and other sequence learning methods in numerous applications.[citation needed]"
      ]
    },
    {
      "cell_type": "markdown",
      "metadata": {
        "id": "HZcgyJ3qwJcN"
      },
      "source": [
        "###2A: Single LSTM Layer"
      ]
    },
    {
      "cell_type": "markdown",
      "metadata": {
        "id": "_2VQo4bajwUU"
      },
      "source": [
        "##### Imports + auxiliary function"
      ]
    },
    {
      "cell_type": "code",
      "execution_count": 40,
      "metadata": {
        "id": "z682XYsrjkY9"
      },
      "outputs": [],
      "source": [
        "import numpy as np\n",
        "\n",
        "import tensorflow_datasets as tfds\n",
        "import tensorflow as tf\n",
        "\n",
        "tfds.disable_progress_bar()"
      ]
    },
    {
      "cell_type": "markdown",
      "metadata": {
        "id": "1rXHa-w9JZhb"
      },
      "source": [
        "Import `matplotlib` and create a helper function to plot graphs:"
      ]
    },
    {
      "cell_type": "code",
      "execution_count": 41,
      "metadata": {
        "id": "Mp1Z7P9pYRSK"
      },
      "outputs": [],
      "source": [
        "import matplotlib.pyplot as plt\n",
        "\n",
        "\n",
        "def plot_graphs(history, metric):\n",
        "  plt.plot(history.history[metric])\n",
        "  plt.plot(history.history['val_'+metric], '')\n",
        "  plt.xlabel(\"Epochs\")\n",
        "  plt.ylabel(metric)\n",
        "  plt.legend([metric, 'val_'+metric])"
      ]
    },
    {
      "cell_type": "markdown",
      "metadata": {
        "id": "pRmMubr0jrE2"
      },
      "source": [
        "##### Setup input pipeline\n",
        "\n",
        "\n",
        "The IMDB large movie review dataset is a *binary classification* dataset—all the reviews have either a *positive* or *negative* sentiment.\n",
        "\n",
        "Download the dataset using [TFDS](https://www.tensorflow.org/datasets). See the [loading text tutorial](https://www.tensorflow.org/tutorials/load_data/text) for details on how to load this sort of data manually.\n"
      ]
    },
    {
      "cell_type": "code",
      "execution_count": 42,
      "metadata": {
        "colab": {
          "base_uri": "https://localhost:8080/"
        },
        "id": "SHRwRoP2nVHX",
        "outputId": "df2d943a-0aaf-4d5b-ea4c-6a5246da2e7d"
      },
      "outputs": [
        {
          "output_type": "stream",
          "name": "stdout",
          "text": [
            "\u001b[1mDownloading and preparing dataset imdb_reviews/plain_text/1.0.0 (download: 80.23 MiB, generated: Unknown size, total: 80.23 MiB) to /root/tensorflow_datasets/imdb_reviews/plain_text/1.0.0...\u001b[0m\n",
            "Shuffling and writing examples to /root/tensorflow_datasets/imdb_reviews/plain_text/1.0.0.incomplete9JP0EO/imdb_reviews-train.tfrecord\n",
            "Shuffling and writing examples to /root/tensorflow_datasets/imdb_reviews/plain_text/1.0.0.incomplete9JP0EO/imdb_reviews-test.tfrecord\n",
            "Shuffling and writing examples to /root/tensorflow_datasets/imdb_reviews/plain_text/1.0.0.incomplete9JP0EO/imdb_reviews-unsupervised.tfrecord\n"
          ]
        },
        {
          "output_type": "stream",
          "name": "stderr",
          "text": [
            "WARNING:absl:Dataset is using deprecated text encoder API which will be removed soon. Please use the plain_text version of the dataset and migrate to `tensorflow_text`.\n"
          ]
        },
        {
          "output_type": "stream",
          "name": "stdout",
          "text": [
            "\u001b[1mDataset imdb_reviews downloaded and prepared to /root/tensorflow_datasets/imdb_reviews/plain_text/1.0.0. Subsequent calls will reuse this data.\u001b[0m\n"
          ]
        },
        {
          "output_type": "execute_result",
          "data": {
            "text/plain": [
              "(TensorSpec(shape=(), dtype=tf.string, name=None),\n",
              " TensorSpec(shape=(), dtype=tf.int64, name=None))"
            ]
          },
          "metadata": {},
          "execution_count": 42
        }
      ],
      "source": [
        "dataset, info = tfds.load('imdb_reviews', with_info=True,\n",
        "                          as_supervised=True)\n",
        "train_dataset, test_dataset = dataset['train'], dataset['test']\n",
        "\n",
        "train_dataset.element_spec"
      ]
    },
    {
      "cell_type": "markdown",
      "metadata": {
        "id": "nWA4c2ir7g6p"
      },
      "source": [
        "Initially this returns a dataset of (text, label pairs):"
      ]
    },
    {
      "cell_type": "code",
      "execution_count": 43,
      "metadata": {
        "colab": {
          "base_uri": "https://localhost:8080/"
        },
        "id": "vd4_BGKyurao",
        "outputId": "f22250fe-e5bd-4b93-b6f0-999df2df6fdb"
      },
      "outputs": [
        {
          "output_type": "stream",
          "name": "stdout",
          "text": [
            "text:  b\"This was an absolutely terrible movie. Don't be lured in by Christopher Walken or Michael Ironside. Both are great actors, but this must simply be their worst role in history. Even their great acting could not redeem this movie's ridiculous storyline. This movie is an early nineties US propaganda piece. The most pathetic scenes were those when the Columbian rebels were making their cases for revolutions. Maria Conchita Alonso appeared phony, and her pseudo-love affair with Walken was nothing but a pathetic emotional plug in a movie that was devoid of any real meaning. I am disappointed that there are movies like this, ruining actor's like Christopher Walken's good name. I could barely sit through it.\"\n",
            "label:  0\n"
          ]
        }
      ],
      "source": [
        "for example, label in train_dataset.take(1):\n",
        "  print('text: ', example.numpy())\n",
        "  print('label: ', label.numpy())"
      ]
    },
    {
      "cell_type": "markdown",
      "metadata": {
        "id": "z2qVJzcEluH_"
      },
      "source": [
        "Next shuffle the data for training and create batches of these `(text, label)` pairs:"
      ]
    },
    {
      "cell_type": "code",
      "execution_count": 44,
      "metadata": {
        "id": "dDsCaZCDYZgm"
      },
      "outputs": [],
      "source": [
        "BUFFER_SIZE = 10000\n",
        "BATCH_SIZE = 64"
      ]
    },
    {
      "cell_type": "code",
      "execution_count": 45,
      "metadata": {
        "id": "VznrltNOnUc5"
      },
      "outputs": [],
      "source": [
        "train_dataset = train_dataset.shuffle(BUFFER_SIZE).batch(BATCH_SIZE).prefetch(tf.data.AUTOTUNE)\n",
        "test_dataset = test_dataset.batch(BATCH_SIZE).prefetch(tf.data.AUTOTUNE)"
      ]
    },
    {
      "cell_type": "code",
      "execution_count": 46,
      "metadata": {
        "colab": {
          "base_uri": "https://localhost:8080/"
        },
        "id": "jqkvdcFv41wC",
        "outputId": "20610ed9-e29d-476c-80d8-6fc2b04462e1"
      },
      "outputs": [
        {
          "output_type": "stream",
          "name": "stdout",
          "text": [
            "texts:  [b'This is one of the best crime-drama movies during the late 1990s. It was filled with a great cast, a powerful storyline, and many of the players involved gave great performances. Pacino was great; he should have been nominated for something. John Cusack was good too, as long as the viewer doesn\\'t mind his Louuu-siana accent. He may come off as annoying if you can\\'t stand this dialect. The way that Pacino\\'s character interacted with Cusack\\'s character was believable, dramatic, and slightly comical at times. Danny Aiello was superb as always. David Paymer was great in a supporting role. Bridget Fonda was good but not memorable. There were times when this picture mentioned so many characters, probably too many. It may take a second viewing to remember, \"which Zapatti was which?\" After so many cross-references, one has to stop and think just to recap. The ending didn\\'t have a lot of sting. It was built up for so long and then was a bit of a letdown. This was one of the few problems with the film. Since the movie wasn\\'t billed as a \"huge, blockbuster\" big screen hit, it made some forget that this movie even existed. Pacino and Aiello were great but the film\\'s lack of \"splash\" in the theaters may have accounted for no nominations. It was semi-successful in the home market, and viewers are still learning that this title is out there. Made in 1996, it still stands up today and will remain popular for many years to come.<br /><br />So, make yourself some lemon pudding (you\\'ll see) and see this movie!'\n",
            " b'Minimal script, minimal character development, minimal steady camera. Maximum stretched scenes, maximum headache inducing jerky zooms, maximum characters walking around in the woods doing nothing. Up until the time flashes on the screen of 12:01pm, you can fast forward and miss nothing, since there are three hunters who we know nothing about doing nothing. To be fair, the movie does have some string music that was interesting, so perhaps a music video would have been the way to go with this. Unfortunately that was not to be, and what should have been a twenty minute short is stretched beyond belief. Forget about \"Trigger Man\", I know I am trying to. - MERK'\n",
            " b\"It helps if you understand Czech and can see this in the original language and understand the Czechs obsession with 'The Professionals', but if not, 'Jedna ruka netlaska' is yet another great Czech film. It is funny, dark and extremely enjoyable. The highest compliment I can pay it is that you never know quite what is going to happen next and even keep that feeling well into the second and third viewing.<br /><br />For a small country the Czech Republic has produced an amazing amount of world class film and literature, from Hrabal, Hasek and Kundera to the films of Menzel, Sverak and numerous others. Czech humour by its very nature is dark and often uncompromising, but often with a naive and warm sentiment behind it. This film is just that, it is unkind and deals with the less lovable sides of human beings, but underneath it all there is a beautiful story full of promise, good intent and optimism.<br /><br />I highly recommend this and most other projects Trojan and Machacek are involved in. Enjoy it, it's a film made for just that reason - anyway, it's as close as the Czechs will ever come to writing a truly happy ending...\"]\n",
            "\n",
            "labels:  [1 0 1]\n"
          ]
        }
      ],
      "source": [
        "for example, label in train_dataset.take(1):\n",
        "  print('texts: ', example.numpy()[:3])\n",
        "  print()\n",
        "  print('labels: ', label.numpy()[:3])"
      ]
    },
    {
      "cell_type": "markdown",
      "metadata": {
        "id": "s5eWCo88voPY"
      },
      "source": [
        "##### Create the text encoder"
      ]
    },
    {
      "cell_type": "markdown",
      "metadata": {
        "id": "TFevcItw15P_"
      },
      "source": [
        "The raw text loaded by `tfds` needs to be processed before it can be used in a model. The simplest way to process text for training is using the `TextVectorization` layer. This layer has many capabilities, but this tutorial sticks to the default behavior.\n",
        "\n",
        "Create the layer, and pass the dataset's text to the layer's `.adapt` method:"
      ]
    },
    {
      "cell_type": "code",
      "execution_count": 47,
      "metadata": {
        "id": "uC25Lu1Yvuqy"
      },
      "outputs": [],
      "source": [
        "VOCAB_SIZE = 1000\n",
        "encoder = tf.keras.layers.TextVectorization(\n",
        "    max_tokens=VOCAB_SIZE)\n",
        "encoder.adapt(train_dataset.map(lambda text, label: text))"
      ]
    },
    {
      "cell_type": "markdown",
      "metadata": {
        "id": "IuQzVBbe3Ldu"
      },
      "source": [
        "The `.adapt` method sets the layer's vocabulary. Here are the first 20 tokens. After the padding and unknown tokens they're sorted by frequency: "
      ]
    },
    {
      "cell_type": "code",
      "execution_count": 48,
      "metadata": {
        "colab": {
          "base_uri": "https://localhost:8080/"
        },
        "id": "tBoyjjWg0Ac9",
        "outputId": "cd9fd8c0-0305-4d71-cbbe-c90483610479"
      },
      "outputs": [
        {
          "output_type": "execute_result",
          "data": {
            "text/plain": [
              "array(['', '[UNK]', 'the', 'and', 'a', 'of', 'to', 'is', 'in', 'it', 'i',\n",
              "       'this', 'that', 'br', 'was', 'as', 'for', 'with', 'movie', 'but'],\n",
              "      dtype='<U14')"
            ]
          },
          "metadata": {},
          "execution_count": 48
        }
      ],
      "source": [
        "vocab = np.array(encoder.get_vocabulary())\n",
        "vocab[:20]"
      ]
    },
    {
      "cell_type": "markdown",
      "metadata": {
        "id": "mjId5pua3jHQ"
      },
      "source": [
        "Once the vocabulary is set, the layer can encode text into indices. The tensors of indices are 0-padded to the longest sequence in the batch (unless you set a fixed `output_sequence_length`):"
      ]
    },
    {
      "cell_type": "code",
      "execution_count": 49,
      "metadata": {
        "colab": {
          "base_uri": "https://localhost:8080/"
        },
        "id": "RGc7C9WiwRWs",
        "outputId": "6bc763e2-166d-44ba-cf7b-20736b33b40f"
      },
      "outputs": [
        {
          "output_type": "execute_result",
          "data": {
            "text/plain": [
              "array([[ 11,   7,  29, ...,   0,   0,   0],\n",
              "       [  1, 225,   1, ...,   0,   0,   0],\n",
              "       [  9,   1,  45, ...,   0,   0,   0]])"
            ]
          },
          "metadata": {},
          "execution_count": 49
        }
      ],
      "source": [
        "encoded_example = encoder(example)[:3].numpy()\n",
        "encoded_example"
      ]
    },
    {
      "cell_type": "markdown",
      "metadata": {
        "id": "F5cjz0bS39IN"
      },
      "source": [
        "With the default settings, the process is not completely reversible. There are three main reasons for that:\n",
        "\n",
        "1. The default value for `preprocessing.TextVectorization`'s `standardize` argument is `\"lower_and_strip_punctuation\"`.\n",
        "2. The limited vocabulary size and lack of character-based fallback results in some unknown tokens."
      ]
    },
    {
      "cell_type": "code",
      "execution_count": 50,
      "metadata": {
        "colab": {
          "base_uri": "https://localhost:8080/"
        },
        "id": "N_tD0QY5wXaK",
        "outputId": "91fb4c4a-423c-4913-d26e-ba71b06b4641"
      },
      "outputs": [
        {
          "output_type": "stream",
          "name": "stdout",
          "text": [
            "Original:  b'This is one of the best crime-drama movies during the late 1990s. It was filled with a great cast, a powerful storyline, and many of the players involved gave great performances. Pacino was great; he should have been nominated for something. John Cusack was good too, as long as the viewer doesn\\'t mind his Louuu-siana accent. He may come off as annoying if you can\\'t stand this dialect. The way that Pacino\\'s character interacted with Cusack\\'s character was believable, dramatic, and slightly comical at times. Danny Aiello was superb as always. David Paymer was great in a supporting role. Bridget Fonda was good but not memorable. There were times when this picture mentioned so many characters, probably too many. It may take a second viewing to remember, \"which Zapatti was which?\" After so many cross-references, one has to stop and think just to recap. The ending didn\\'t have a lot of sting. It was built up for so long and then was a bit of a letdown. This was one of the few problems with the film. Since the movie wasn\\'t billed as a \"huge, blockbuster\" big screen hit, it made some forget that this movie even existed. Pacino and Aiello were great but the film\\'s lack of \"splash\" in the theaters may have accounted for no nominations. It was semi-successful in the home market, and viewers are still learning that this title is out there. Made in 1996, it still stands up today and will remain popular for many years to come.<br /><br />So, make yourself some lemon pudding (you\\'ll see) and see this movie!'\n",
            "Round-trip:  this is one of the best [UNK] movies during the late [UNK] it was [UNK] with a great cast a powerful storyline and many of the [UNK] involved gave great performances [UNK] was great he should have been [UNK] for something john [UNK] was good too as long as the viewer doesnt mind his [UNK] [UNK] he may come off as annoying if you cant stand this [UNK] the way that [UNK] character [UNK] with [UNK] character was believable dramatic and [UNK] [UNK] at times [UNK] [UNK] was superb as always david [UNK] was great in a supporting role [UNK] [UNK] was good but not memorable there were times when this picture [UNK] so many characters probably too many it may take a second viewing to remember which [UNK] was which after so many [UNK] one has to stop and think just to [UNK] the ending didnt have a lot of [UNK] it was [UNK] up for so long and then was a bit of a [UNK] this was one of the few problems with the film since the movie wasnt [UNK] as a huge [UNK] big screen hit it made some forget that this movie even [UNK] [UNK] and [UNK] were great but the films lack of [UNK] in the [UNK] may have [UNK] for no [UNK] it was [UNK] in the home [UNK] and viewers are still [UNK] that this title is out there made in [UNK] it still [UNK] up today and will [UNK] [UNK] for many years to [UNK] br so make yourself some [UNK] [UNK] youll see and see this movie                                                                                                                                                                                                                                                                                                                                                                                                                                                                                                                                                                                                                                                                                                                                        \n",
            "\n",
            "Original:  b'Minimal script, minimal character development, minimal steady camera. Maximum stretched scenes, maximum headache inducing jerky zooms, maximum characters walking around in the woods doing nothing. Up until the time flashes on the screen of 12:01pm, you can fast forward and miss nothing, since there are three hunters who we know nothing about doing nothing. To be fair, the movie does have some string music that was interesting, so perhaps a music video would have been the way to go with this. Unfortunately that was not to be, and what should have been a twenty minute short is stretched beyond belief. Forget about \"Trigger Man\", I know I am trying to. - MERK'\n",
            "Round-trip:  [UNK] script [UNK] character development [UNK] [UNK] camera [UNK] [UNK] scenes [UNK] [UNK] [UNK] [UNK] [UNK] [UNK] characters [UNK] around in the [UNK] doing nothing up until the time [UNK] on the screen of [UNK] you can fast forward and miss nothing since there are three [UNK] who we know nothing about doing nothing to be [UNK] the movie does have some [UNK] music that was interesting so perhaps a music video would have been the way to go with this unfortunately that was not to be and what should have been a [UNK] minute short is [UNK] beyond [UNK] forget about [UNK] man i know i am trying to [UNK]                                                                                                                                                                                                                                                                                                                                                                                                                                                                                                                                                                                                                                                                                                                                                                                                                                                                                                   \n",
            "\n",
            "Original:  b\"It helps if you understand Czech and can see this in the original language and understand the Czechs obsession with 'The Professionals', but if not, 'Jedna ruka netlaska' is yet another great Czech film. It is funny, dark and extremely enjoyable. The highest compliment I can pay it is that you never know quite what is going to happen next and even keep that feeling well into the second and third viewing.<br /><br />For a small country the Czech Republic has produced an amazing amount of world class film and literature, from Hrabal, Hasek and Kundera to the films of Menzel, Sverak and numerous others. Czech humour by its very nature is dark and often uncompromising, but often with a naive and warm sentiment behind it. This film is just that, it is unkind and deals with the less lovable sides of human beings, but underneath it all there is a beautiful story full of promise, good intent and optimism.<br /><br />I highly recommend this and most other projects Trojan and Machacek are involved in. Enjoy it, it's a film made for just that reason - anyway, it's as close as the Czechs will ever come to writing a truly happy ending...\"\n",
            "Round-trip:  it [UNK] if you understand [UNK] and can see this in the original [UNK] and understand the [UNK] [UNK] with the [UNK] but if not [UNK] [UNK] [UNK] is yet another great [UNK] film it is funny dark and extremely enjoyable the [UNK] [UNK] i can pay it is that you never know quite what is going to happen next and even keep that feeling well into the second and third [UNK] br for a small country the [UNK] [UNK] has [UNK] an amazing [UNK] of world class film and [UNK] from [UNK] [UNK] and [UNK] to the films of [UNK] [UNK] and [UNK] others [UNK] [UNK] by its very nature is dark and often [UNK] but often with a [UNK] and [UNK] [UNK] behind it this film is just that it is [UNK] and [UNK] with the less [UNK] [UNK] of human [UNK] but [UNK] it all there is a beautiful story full of [UNK] good [UNK] and [UNK] br i highly recommend this and most other [UNK] [UNK] and [UNK] are involved in enjoy it its a film made for just that reason anyway its as close as the [UNK] will ever come to writing a truly happy ending                                                                                                                                                                                                                                                                                                                                                                                                                                                                                                                                                                                                                                                                                                                                                                                                         \n",
            "\n"
          ]
        }
      ],
      "source": [
        "for n in range(3):\n",
        "  print(\"Original: \", example[n].numpy())\n",
        "  print(\"Round-trip: \", \" \".join(vocab[encoded_example[n]]))\n",
        "  print()"
      ]
    },
    {
      "cell_type": "markdown",
      "metadata": {
        "id": "bjUqGVBxGw-t"
      },
      "source": [
        "##### Create the model\n",
        "\n",
        "Please refer to https://www.tensorflow.org/text/tutorials/text_classification_rnn for detailed explanation + diagram."
      ]
    },
    {
      "cell_type": "code",
      "execution_count": 51,
      "metadata": {
        "id": "LwfoBkmRYcP3"
      },
      "outputs": [],
      "source": [
        "model = tf.keras.Sequential([\n",
        "    encoder,\n",
        "    tf.keras.layers.Embedding(\n",
        "        input_dim=len(encoder.get_vocabulary()),\n",
        "        output_dim=64,\n",
        "        # Use masking to handle the variable sequence lengths\n",
        "        mask_zero=True),\n",
        "    tf.keras.layers.Bidirectional(tf.keras.layers.LSTM(64)),\n",
        "    tf.keras.layers.Dense(64, activation='relu'),\n",
        "    tf.keras.layers.Dense(1)\n",
        "])"
      ]
    },
    {
      "cell_type": "markdown",
      "metadata": {
        "id": "QIGmIGkkouUb"
      },
      "source": [
        "Please note that Keras sequential model is used here since all the layers in the model only have single input and produce single output. In case you want to use stateful RNN layer, you might want to build your model with Keras functional API or model subclassing so that you can retrieve and reuse the RNN layer states. Please check [Keras RNN guide](https://www.tensorflow.org/guide/keras/rnn#rnn_state_reuse) for more details."
      ]
    },
    {
      "cell_type": "markdown",
      "metadata": {
        "id": "kF-PsCk1LwjY"
      },
      "source": [
        "The embedding layer [uses masking](https://www.tensorflow.org/guide/keras/masking_and_padding) to handle the varying sequence-lengths. All the layers after the `Embedding` support masking:"
      ]
    },
    {
      "cell_type": "code",
      "execution_count": 52,
      "metadata": {
        "colab": {
          "base_uri": "https://localhost:8080/"
        },
        "id": "87a8-CwfKebw",
        "outputId": "adaa2663-27e2-4818-abe6-2bc6ab7a42e0"
      },
      "outputs": [
        {
          "output_type": "stream",
          "name": "stdout",
          "text": [
            "[False, True, True, True, True]\n"
          ]
        }
      ],
      "source": [
        "print([layer.supports_masking for layer in model.layers])"
      ]
    },
    {
      "cell_type": "markdown",
      "metadata": {
        "id": "ZlS0iaUIWLpI"
      },
      "source": [
        "To confirm that this works as expected, evaluate a sentence twice. First, alone so there's no padding to mask:"
      ]
    },
    {
      "cell_type": "code",
      "execution_count": 53,
      "metadata": {
        "colab": {
          "base_uri": "https://localhost:8080/"
        },
        "id": "O41gw3KfWHus",
        "outputId": "ba7116e6-d33b-46bb-dc57-81683dfb6361"
      },
      "outputs": [
        {
          "output_type": "stream",
          "name": "stdout",
          "text": [
            "[0.00086083]\n"
          ]
        }
      ],
      "source": [
        "# predict on a sample text without padding.\n",
        "\n",
        "sample_text = ('The movie was cool. The animation and the graphics '\n",
        "               'were out of this world. I would recommend this movie.')\n",
        "predictions = model.predict(np.array([sample_text]))\n",
        "print(predictions[0])"
      ]
    },
    {
      "cell_type": "markdown",
      "metadata": {
        "id": "K0VQmGnEWcuz"
      },
      "source": [
        "Now, evaluate it again in a batch with a longer sentence. The result should be identical:"
      ]
    },
    {
      "cell_type": "code",
      "execution_count": 54,
      "metadata": {
        "colab": {
          "base_uri": "https://localhost:8080/"
        },
        "id": "UIgpuTeFNDzq",
        "outputId": "e0aad8e1-419e-4256-a19c-8dcd2c7ceb43"
      },
      "outputs": [
        {
          "output_type": "stream",
          "name": "stdout",
          "text": [
            "[0.00086083]\n"
          ]
        }
      ],
      "source": [
        "# predict on a sample text with padding\n",
        "\n",
        "padding = \"the \" * 2000\n",
        "predictions = model.predict(np.array([sample_text, padding]))\n",
        "print(predictions[0])"
      ]
    },
    {
      "cell_type": "markdown",
      "metadata": {
        "id": "sRI776ZcH3Tf"
      },
      "source": [
        "Compile the Keras model to configure the training process:"
      ]
    },
    {
      "cell_type": "code",
      "execution_count": 55,
      "metadata": {
        "id": "kj2xei41YZjC"
      },
      "outputs": [],
      "source": [
        "model.compile(loss=tf.keras.losses.BinaryCrossentropy(from_logits=True),\n",
        "              optimizer=tf.keras.optimizers.Adam(1e-4),\n",
        "              metrics=['accuracy'])"
      ]
    },
    {
      "cell_type": "markdown",
      "metadata": {
        "id": "zIwH3nto596k"
      },
      "source": [
        "##### Train the model"
      ]
    },
    {
      "cell_type": "code",
      "execution_count": 56,
      "metadata": {
        "colab": {
          "base_uri": "https://localhost:8080/"
        },
        "id": "hw86wWS4YgR2",
        "outputId": "20733313-96eb-44bd-8350-ce81003f71fc"
      },
      "outputs": [
        {
          "output_type": "stream",
          "name": "stdout",
          "text": [
            "Epoch 1/10\n",
            "391/391 [==============================] - 38s 79ms/step - loss: 0.6408 - accuracy: 0.5748 - val_loss: 0.5283 - val_accuracy: 0.7203\n",
            "Epoch 2/10\n",
            "391/391 [==============================] - 29s 74ms/step - loss: 0.4776 - accuracy: 0.7738 - val_loss: 0.4198 - val_accuracy: 0.8052\n",
            "Epoch 3/10\n",
            "391/391 [==============================] - 29s 75ms/step - loss: 0.3780 - accuracy: 0.8303 - val_loss: 0.3727 - val_accuracy: 0.8484\n",
            "Epoch 4/10\n",
            "391/391 [==============================] - 29s 74ms/step - loss: 0.3441 - accuracy: 0.8491 - val_loss: 0.3480 - val_accuracy: 0.8568\n",
            "Epoch 5/10\n",
            "391/391 [==============================] - 29s 74ms/step - loss: 0.3278 - accuracy: 0.8569 - val_loss: 0.3456 - val_accuracy: 0.8646\n",
            "Epoch 6/10\n",
            "391/391 [==============================] - 30s 75ms/step - loss: 0.3165 - accuracy: 0.8644 - val_loss: 0.3256 - val_accuracy: 0.8531\n",
            "Epoch 7/10\n",
            "391/391 [==============================] - 29s 74ms/step - loss: 0.3097 - accuracy: 0.8676 - val_loss: 0.3244 - val_accuracy: 0.8531\n",
            "Epoch 8/10\n",
            "391/391 [==============================] - 29s 74ms/step - loss: 0.3059 - accuracy: 0.8690 - val_loss: 0.3220 - val_accuracy: 0.8573\n",
            "Epoch 9/10\n",
            "391/391 [==============================] - 29s 74ms/step - loss: 0.3030 - accuracy: 0.8701 - val_loss: 0.3217 - val_accuracy: 0.8578\n",
            "Epoch 10/10\n",
            "391/391 [==============================] - 29s 74ms/step - loss: 0.2994 - accuracy: 0.8719 - val_loss: 0.3272 - val_accuracy: 0.8536\n"
          ]
        }
      ],
      "source": [
        "history = model.fit(train_dataset, epochs=10,\n",
        "                    validation_data=test_dataset,\n",
        "                    validation_steps=30)"
      ]
    },
    {
      "cell_type": "markdown",
      "metadata": {
        "id": "qa1cYLxUxAJ6"
      },
      "source": [
        "#####Evaluate the Model"
      ]
    },
    {
      "cell_type": "code",
      "execution_count": 57,
      "metadata": {
        "colab": {
          "base_uri": "https://localhost:8080/"
        },
        "id": "BaNbXi43YgUT",
        "outputId": "a3732648-cf9f-4bb1-eaad-6f8e2a23f647"
      },
      "outputs": [
        {
          "output_type": "stream",
          "name": "stdout",
          "text": [
            "391/391 [==============================] - 16s 41ms/step - loss: 0.3211 - accuracy: 0.8532\n",
            "Test Loss: 0.3210562765598297\n",
            "Test Accuracy: 0.85316002368927\n"
          ]
        }
      ],
      "source": [
        "test_loss, test_acc = model.evaluate(test_dataset)\n",
        "\n",
        "print('Test Loss:', test_loss)\n",
        "print('Test Accuracy:', test_acc)"
      ]
    },
    {
      "cell_type": "code",
      "execution_count": 58,
      "metadata": {
        "colab": {
          "base_uri": "https://localhost:8080/",
          "height": 518
        },
        "id": "OZmwt_mzaQJk",
        "outputId": "7c5e676c-78e3-44de-f541-69d0e9c6be89"
      },
      "outputs": [
        {
          "output_type": "execute_result",
          "data": {
            "text/plain": [
              "(0.0, 0.65782510638237)"
            ]
          },
          "metadata": {},
          "execution_count": 58
        },
        {
          "output_type": "display_data",
          "data": {
            "text/plain": [
              "<Figure size 1152x576 with 2 Axes>"
            ],
            "image/png": "[encoded data removed]"
          },
          "metadata": {
            "needs_background": "light"
          }
        }
      ],
      "source": [
        "plt.figure(figsize=(16, 8))\n",
        "plt.subplot(1, 2, 1)\n",
        "plot_graphs(history, 'accuracy')\n",
        "plt.ylim(None, 1)\n",
        "plt.subplot(1, 2, 2)\n",
        "plot_graphs(history, 'loss')\n",
        "plt.ylim(0, None)"
      ]
    },
    {
      "cell_type": "markdown",
      "metadata": {
        "id": "DwSE_386uhxD"
      },
      "source": [
        "Run a prediction on a new sentence:\n",
        "\n",
        "If the prediction is >= 0.0, it is positive else it is negative."
      ]
    },
    {
      "cell_type": "code",
      "execution_count": 59,
      "metadata": {
        "id": "ZXgfQSgRW6zU"
      },
      "outputs": [],
      "source": [
        "sample_text = ('The movie was cool. The animation and the graphics '\n",
        "               'were out of this world. I would recommend this movie.')\n",
        "predictions = model.predict(np.array([sample_text]))"
      ]
    },
    {
      "cell_type": "code",
      "execution_count": 60,
      "metadata": {
        "colab": {
          "base_uri": "https://localhost:8080/"
        },
        "id": "wotzeX2tcN2a",
        "outputId": "32b2902e-777a-4805-de51-5eb01783a79d"
      },
      "outputs": [
        {
          "output_type": "execute_result",
          "data": {
            "text/plain": [
              "array([[0.806023]], dtype=float32)"
            ]
          },
          "metadata": {},
          "execution_count": 60
        }
      ],
      "source": [
        "predictions"
      ]
    },
    {
      "cell_type": "markdown",
      "metadata": {
        "id": "7g1evcaRpTKm"
      },
      "source": [
        "###2B: Stacking two LSTM layers\n",
        "\n",
        "Please refer to https://www.tensorflow.org/text/tutorials/text_classification_rnn for additional explanation + diagram."
      ]
    },
    {
      "cell_type": "markdown",
      "metadata": {
        "id": "wbSClCrG1z8l"
      },
      "source": [
        "The interesting thing about using an `RNN` with `return_sequences=True` is that the output still has 3-axes, like the input, so it can be passed to another RNN layer, like this:"
      ]
    },
    {
      "cell_type": "markdown",
      "metadata": {
        "id": "rRVDgOWowoWa"
      },
      "source": [
        "####Create the model"
      ]
    },
    {
      "cell_type": "code",
      "execution_count": 61,
      "metadata": {
        "id": "jo1jjO3vn0jo"
      },
      "outputs": [],
      "source": [
        "model = tf.keras.Sequential([\n",
        "    encoder,\n",
        "    tf.keras.layers.Embedding(len(encoder.get_vocabulary()), 64, mask_zero=True),\n",
        "    tf.keras.layers.Bidirectional(tf.keras.layers.LSTM(64,  return_sequences=True)),\n",
        "    tf.keras.layers.Bidirectional(tf.keras.layers.LSTM(32)),\n",
        "    tf.keras.layers.Dense(64, activation='relu'),\n",
        "    tf.keras.layers.Dropout(0.5),\n",
        "    tf.keras.layers.Dense(1)\n",
        "])"
      ]
    },
    {
      "cell_type": "code",
      "execution_count": 62,
      "metadata": {
        "id": "hEPV5jVGp-is"
      },
      "outputs": [],
      "source": [
        "model.compile(loss=tf.keras.losses.BinaryCrossentropy(from_logits=True),\n",
        "              optimizer=tf.keras.optimizers.Adam(1e-4),\n",
        "              metrics=['accuracy'])"
      ]
    },
    {
      "cell_type": "markdown",
      "metadata": {
        "id": "lB80NxDawsAN"
      },
      "source": [
        "####Train the model"
      ]
    },
    {
      "cell_type": "code",
      "execution_count": 63,
      "metadata": {
        "colab": {
          "base_uri": "https://localhost:8080/"
        },
        "id": "LeSE-YjdqAeN",
        "outputId": "93a90602-d0c0-4147-8b3a-152996ed70bb"
      },
      "outputs": [
        {
          "output_type": "stream",
          "name": "stdout",
          "text": [
            "Epoch 1/10\n",
            "391/391 [==============================] - 67s 138ms/step - loss: 0.6258 - accuracy: 0.5814 - val_loss: 0.4343 - val_accuracy: 0.8062\n",
            "Epoch 2/10\n",
            "391/391 [==============================] - 50s 126ms/step - loss: 0.3766 - accuracy: 0.8349 - val_loss: 0.3550 - val_accuracy: 0.8339\n",
            "Epoch 3/10\n",
            "391/391 [==============================] - 50s 128ms/step - loss: 0.3335 - accuracy: 0.8570 - val_loss: 0.3345 - val_accuracy: 0.8469\n",
            "Epoch 4/10\n",
            "391/391 [==============================] - 50s 128ms/step - loss: 0.3175 - accuracy: 0.8647 - val_loss: 0.3306 - val_accuracy: 0.8396\n",
            "Epoch 5/10\n",
            "391/391 [==============================] - 50s 126ms/step - loss: 0.3109 - accuracy: 0.8664 - val_loss: 0.3282 - val_accuracy: 0.8578\n",
            "Epoch 6/10\n",
            "391/391 [==============================] - 51s 128ms/step - loss: 0.3050 - accuracy: 0.8712 - val_loss: 0.3225 - val_accuracy: 0.8589\n",
            "Epoch 7/10\n",
            "391/391 [==============================] - 50s 128ms/step - loss: 0.3028 - accuracy: 0.8724 - val_loss: 0.3319 - val_accuracy: 0.8573\n",
            "Epoch 8/10\n",
            "391/391 [==============================] - 51s 128ms/step - loss: 0.3006 - accuracy: 0.8712 - val_loss: 0.3183 - val_accuracy: 0.8625\n",
            "Epoch 9/10\n",
            "391/391 [==============================] - 51s 129ms/step - loss: 0.2974 - accuracy: 0.8736 - val_loss: 0.3213 - val_accuracy: 0.8542\n",
            "Epoch 10/10\n",
            "391/391 [==============================] - 50s 127ms/step - loss: 0.2960 - accuracy: 0.8742 - val_loss: 0.3173 - val_accuracy: 0.8609\n"
          ]
        }
      ],
      "source": [
        "history = model.fit(train_dataset, epochs=10,\n",
        "                    validation_data=test_dataset,\n",
        "                    validation_steps=30)"
      ]
    },
    {
      "cell_type": "markdown",
      "metadata": {
        "id": "nt1bSetKxK0n"
      },
      "source": [
        "####Evaluate the model"
      ]
    },
    {
      "cell_type": "code",
      "execution_count": 64,
      "metadata": {
        "colab": {
          "base_uri": "https://localhost:8080/"
        },
        "id": "_LdwilM1qPM3",
        "outputId": "73ca7fcb-5f31-4090-fafd-566c872c8480"
      },
      "outputs": [
        {
          "output_type": "stream",
          "name": "stdout",
          "text": [
            "391/391 [==============================] - 26s 67ms/step - loss: 0.3126 - accuracy: 0.8599\n",
            "Test Loss: 0.3126488924026489\n",
            "Test Accuracy: 0.8598799705505371\n"
          ]
        }
      ],
      "source": [
        "test_loss, test_acc = model.evaluate(test_dataset)\n",
        "\n",
        "print('Test Loss:', test_loss)\n",
        "print('Test Accuracy:', test_acc)"
      ]
    },
    {
      "cell_type": "code",
      "execution_count": 65,
      "metadata": {
        "id": "ykUKnAoqbycW"
      },
      "outputs": [],
      "source": [
        "# predict on a sample text without padding.\n",
        "\n",
        "sample_text = ('The movie was not good. The animation and the graphics '\n",
        "               'were terrible. I would not recommend this movie.')\n",
        "predictions = model.predict(np.array([sample_text]))"
      ]
    },
    {
      "cell_type": "code",
      "execution_count": 66,
      "metadata": {
        "colab": {
          "base_uri": "https://localhost:8080/"
        },
        "id": "NRWo8B6Jf4Ma",
        "outputId": "094627ef-d042-4af6-bb42-fe556145a220"
      },
      "outputs": [
        {
          "output_type": "execute_result",
          "data": {
            "text/plain": [
              "array([[-1.9118811]], dtype=float32)"
            ]
          },
          "metadata": {},
          "execution_count": 66
        }
      ],
      "source": [
        "predictions"
      ]
    },
    {
      "cell_type": "code",
      "execution_count": 67,
      "metadata": {
        "colab": {
          "base_uri": "https://localhost:8080/",
          "height": 388
        },
        "id": "_YYub0EDtwCu",
        "outputId": "c621729b-a37f-4ce2-e39b-dc6011e58ec9"
      },
      "outputs": [
        {
          "output_type": "display_data",
          "data": {
            "text/plain": [
              "<Figure size 1152x432 with 2 Axes>"
            ],
            "image/png": "[encoded data removed]"
          },
          "metadata": {
            "needs_background": "light"
          }
        }
      ],
      "source": [
        "plt.figure(figsize=(16, 6))\n",
        "plt.subplot(1, 2, 1)\n",
        "plot_graphs(history, 'accuracy')\n",
        "plt.subplot(1, 2, 2)\n",
        "plot_graphs(history, 'loss')"
      ]
    },
    {
      "cell_type": "markdown",
      "metadata": {
        "id": "4aDpt2MmX3fO"
      },
      "source": [
        "###2C: TODO 2 - IMDB Sentimental Analysis w/Transfer Learning\n",
        "\n",
        "This section/code is taken from Chapter 4, entitled \"Transfer Learning with BERT\" *Advanced Natural Language Processing with TensorFlow 2* by Ashish Bansal , Packt Publishing Ltd 2021. \n",
        "\n",
        "NB: Unfortunately the GitHub code would not run (he compiled his on a MacOS Ubuntu system with a NVIDIA chip with local Python install which may have something to do with it) so we hand craft the code directly from the text.\n",
        "\n",
        "Sources and additional text and description of models soyrced as noted in the notebook"
      ]
    },
    {
      "cell_type": "markdown",
      "metadata": {
        "id": "miJySNo3iJUN"
      },
      "source": [
        "####2C.1 Transfer Learning with GloVe embeddings\n",
        "\n",
        "Code and walkthrough text (comments) from Bansal 2021 *Advanced NLP with Tensorflow 2*, Chapter 4 \"Transfer Learning with BERT\""
      ]
    },
    {
      "cell_type": "markdown",
      "metadata": {
        "id": "G9Od4uE-wG-g"
      },
      "source": [
        "##### Data Load and Transform"
      ]
    },
    {
      "cell_type": "code",
      "execution_count": 68,
      "metadata": {
        "id": "a7mE9XYOwLh9"
      },
      "outputs": [],
      "source": [
        "#\n",
        "# load train and test data sets from IMDB data set\n",
        "#\n",
        "import tensorflow as tf\n",
        "import tensorflow_datasets as tfds\n",
        "\n",
        "import numpy as np\n",
        "import pandas as pd\n",
        "\n",
        "imdb_train, ds_info = tfds.load(name=\"imdb_reviews\",\n",
        "                                split=\"train\",\n",
        "                                with_info=True, as_supervised=True)\n",
        "\n",
        "imdb_test = tfds.load(name=\"imdb_reviews\", split=\"test\", \n",
        "                       as_supervised=True)"
      ]
    },
    {
      "cell_type": "code",
      "execution_count": 69,
      "metadata": {
        "id": "7sKwtsaKw0gp"
      },
      "outputs": [],
      "source": [
        "#\n",
        "# TRANSFORM\n",
        "#\n",
        "# tokenize and encode data set\n",
        "# this code tokenizes the review text and constriucts a \n",
        "# vocabulary, the vocab is used to construct the tokenizer\n",
        "#\n",
        "\n",
        "# tokenizer = tfds.features.text.Tokenizer()      #deprecated\n",
        "tokenizer = tfds.deprecated.text.Tokenizer()\n",
        "\n",
        "vocabulary_set = set()\n",
        "MAX_TOKENS = 0\n",
        "\n",
        "for example, label in imdb_train:\n",
        "  some_tokens = tokenizer.tokenize(example.numpy())\n",
        "  if (MAX_TOKENS < len(some_tokens)):\n",
        "    MAX_TOKENS = len(some_tokens)\n",
        "  vocabulary_set.update(some_tokens)"
      ]
    },
    {
      "cell_type": "code",
      "execution_count": 70,
      "metadata": {
        "colab": {
          "base_uri": "https://localhost:8080/"
        },
        "id": "XXedPKsWyeOq",
        "outputId": "d1207e1f-7ec5-4517-f2c8-43c93af16e72"
      },
      "outputs": [
        {
          "output_type": "stream",
          "name": "stdout",
          "text": [
            "93931 2525\n"
          ]
        }
      ],
      "source": [
        "#\n",
        "# deprecated again\n",
        "#\n",
        "\"\"\"\n",
        "imdb_encoder = tfds.features.text.TokenTextEncoder(vocabulary_set, \n",
        "                                                   lowercase=True, \n",
        "                                                   tokenizer=tokenizer)\n",
        "\"\"\"\n",
        "\n",
        "imdb_encoder = tfds.deprecated.text.TokenTextEncoder(vocabulary_set, \n",
        "                                                   lowercase=True,          # convert to lowercase before encoding\n",
        "                                                   tokenizer=tokenizer)\n",
        "\n",
        "\n",
        "vocab_size = imdb_encoder.vocab_size\n",
        "\n",
        "print(vocab_size, MAX_TOKENS)"
      ]
    },
    {
      "cell_type": "code",
      "execution_count": 71,
      "metadata": {
        "id": "O3f8_2SmzOnB"
      },
      "outputs": [],
      "source": [
        "# \n",
        "# now that tokenizer is ready, data needs to be \n",
        "# tokenized, and sequences padded to max length\n",
        "#\n",
        "\n",
        "\n",
        "#\n",
        "# transformation functions to be used with dataset\n",
        "#\n",
        "from tensorflow.keras.preprocessing import sequence\n",
        "\n",
        "\n",
        "def encode_pad_transform(sample):\n",
        "  encoded = imdb_encoder.encode(sample.numpy())\n",
        "  pad = sequence.pad_sequences([encoded], padding='post',\n",
        "                               maxlen=150)\n",
        "  return np.array(pad[0], dtype=np.int64)\n",
        "\n",
        "\n",
        "def encode_tf_fn(sample, label):\n",
        "  encoded = tf.py_function(encode_pad_transform,\n",
        "                           inp=[sample],\n",
        "                           Tout=(tf.int64))\n",
        "  encoded.set_shape([None])\n",
        "  label.set_shape([])\n",
        "  return encoded, label"
      ]
    },
    {
      "cell_type": "code",
      "execution_count": 72,
      "metadata": {
        "id": "aRo7PYst0ZwN"
      },
      "outputs": [],
      "source": [
        "#\n",
        "# encode the data using custom functions defined above\n",
        "#\n",
        "encoded_train = imdb_train.map(encode_tf_fn, \n",
        "                               num_parallel_calls=tf.data.experimental.AUTOTUNE)\n",
        "\n",
        "encoded_test = imdb_test.map(encode_tf_fn, \n",
        "                               num_parallel_calls=tf.data.experimental.AUTOTUNE)"
      ]
    },
    {
      "cell_type": "code",
      "execution_count": 73,
      "metadata": {
        "colab": {
          "base_uri": "https://localhost:8080/"
        },
        "id": "hZfiZe4NQj3m",
        "outputId": "69159d5d-2818-4469-f347-189f42902d77"
      },
      "outputs": [
        {
          "output_type": "execute_result",
          "data": {
            "text/plain": [
              "<ParallelMapDataset element_spec=(TensorSpec(shape=(None,), dtype=tf.int64, name=None), TensorSpec(shape=(), dtype=tf.int64, name=None))>"
            ]
          },
          "metadata": {},
          "execution_count": 73
        }
      ],
      "source": [
        "encoded_train"
      ]
    },
    {
      "cell_type": "code",
      "execution_count": 74,
      "metadata": {
        "colab": {
          "base_uri": "https://localhost:8080/"
        },
        "id": "A3Ez2TaXQvKC",
        "outputId": "ba6ad5f2-0500-4e95-d40c-305f42fd84f7"
      },
      "outputs": [
        {
          "output_type": "execute_result",
          "data": {
            "text/plain": [
              "<ParallelMapDataset element_spec=(TensorSpec(shape=(None,), dtype=tf.int64, name=None), TensorSpec(shape=(), dtype=tf.int64, name=None))>"
            ]
          },
          "metadata": {},
          "execution_count": 74
        }
      ],
      "source": [
        "encoded_test"
      ]
    },
    {
      "cell_type": "markdown",
      "metadata": {
        "id": "omIvsPm_1gxR"
      },
      "source": [
        "At this point, all the training and test data is ready for training: ie load and transform process is finished\n"
      ]
    },
    {
      "cell_type": "markdown",
      "metadata": {
        "id": "9YD_0LbG1uDB"
      },
      "source": [
        "##### Loading (pre-trained) GloVe embeddings\n",
        "\n",
        "load pre-trained GloVe embeddings and use these as the weights of the embedding layer"
      ]
    },
    {
      "cell_type": "code",
      "execution_count": 75,
      "metadata": {
        "colab": {
          "base_uri": "https://localhost:8080/"
        },
        "id": "PeNEbrEm2EHh",
        "outputId": "bc32b9ff-455f-45ce-a4c5-cf49b53bf759"
      },
      "outputs": [
        {
          "output_type": "stream",
          "name": "stdout",
          "text": [
            "--2022-07-22 17:04:09--  http://nlp.stanford.edu/data/glove.6B.zip\n",
            "Resolving nlp.stanford.edu (nlp.stanford.edu)... 171.64.67.140\n",
            "Connecting to nlp.stanford.edu (nlp.stanford.edu)|171.64.67.140|:80... connected.\n",
            "HTTP request sent, awaiting response... 302 Found\n",
            "Location: https://nlp.stanford.edu/data/glove.6B.zip [following]\n",
            "--2022-07-22 17:04:10--  https://nlp.stanford.edu/data/glove.6B.zip\n",
            "Connecting to nlp.stanford.edu (nlp.stanford.edu)|171.64.67.140|:443... connected.\n",
            "HTTP request sent, awaiting response... 301 Moved Permanently\n",
            "Location: https://downloads.cs.stanford.edu/nlp/data/glove.6B.zip [following]\n",
            "--2022-07-22 17:04:10--  https://downloads.cs.stanford.edu/nlp/data/glove.6B.zip\n",
            "Resolving downloads.cs.stanford.edu (downloads.cs.stanford.edu)... 171.64.64.22\n",
            "Connecting to downloads.cs.stanford.edu (downloads.cs.stanford.edu)|171.64.64.22|:443... connected.\n",
            "HTTP request sent, awaiting response... 200 OK\n",
            "Length: 862182613 (822M) [application/zip]\n",
            "Saving to: ‘glove.6B.zip’\n",
            "\n",
            "glove.6B.zip        100%[===================>] 822.24M  5.01MB/s    in 2m 39s  \n",
            "\n",
            "2022-07-22 17:06:50 (5.18 MB/s) - ‘glove.6B.zip’ saved [862182613/862182613]\n",
            "\n",
            "Archive:  glove.6B.zip\n",
            "  inflating: glove.6B.50d.txt        \n",
            "  inflating: glove.6B.100d.txt       \n",
            "  inflating: glove.6B.200d.txt       \n",
            "  inflating: glove.6B.300d.txt       \n"
          ]
        }
      ],
      "source": [
        "# download and unzip embeddings\n",
        "!wget http://nlp.stanford.edu/data/glove.6B.zip\n",
        "!unzip glove.6B.zip"
      ]
    },
    {
      "cell_type": "markdown",
      "metadata": {
        "id": "w3YCFCmG2XuV"
      },
      "source": [
        "Over 800MB download, four different files downloaded (and unzipped). Each file has a vocabulary of 400,000 words, main diff is the dimensions of the embeddings generated.\n",
        "\n",
        "Format is straightforward, each line of text has multiple values separated by spaces. First item of each row is the word, rest of the items are the vaklues of the vector for each dimension. So for a 50 dimension embedding there will be 51 values on a line, one for the word and another for each of the 50 dimensions.\n",
        "\n",
        "These vectors need to be loaded into memory"
      ]
    },
    {
      "cell_type": "code",
      "execution_count": 76,
      "metadata": {
        "id": "8KLP8JmG3Dcr"
      },
      "outputs": [],
      "source": [
        "dict_w2v = {}\n",
        "\n",
        "with open('glove.6B.50d.txt', 'r') as file:\n",
        "  for line in file:\n",
        "    tokens = line.split()\n",
        "    word = tokens[0]\n",
        "    vector = np.array(tokens[1:], dtype=np.float32)\n",
        "\n",
        "    if vector.shape[0] == 50:\n",
        "      dict_w2v[word] = vector\n",
        "    else:\n",
        "      print(\"There was an issue with \" + word)"
      ]
    },
    {
      "cell_type": "code",
      "execution_count": 77,
      "metadata": {
        "colab": {
          "base_uri": "https://localhost:8080/"
        },
        "id": "T8LdkzCE3uzZ",
        "outputId": "3e920f1d-3296-4cee-e37d-ccb3cf83b326"
      },
      "outputs": [
        {
          "output_type": "stream",
          "name": "stdout",
          "text": [
            "Dictionary Size:  400000\n"
          ]
        }
      ],
      "source": [
        "# check the vocab size\n",
        "print(\"Dictionary Size: \", len(dict_w2v))"
      ]
    },
    {
      "cell_type": "markdown",
      "metadata": {
        "id": "KP4QJnB636Xo"
      },
      "source": [
        "Once these vectors are loded, an embedding matrix needs to be created.\n",
        "\n",
        "So far, we have a data set, its vocabulary, and a dictionary of GloVe words and their corresponding vectors, however there is no correlation between these two vocabularies. \n",
        "\n",
        "The way to connect them is through the creation of an embedding matrix."
      ]
    },
    {
      "cell_type": "code",
      "execution_count": 78,
      "metadata": {
        "id": "qocACTQx4dcC"
      },
      "outputs": [],
      "source": [
        "embedding_dim = 50\n",
        "embedding_matrix = np.zeros((imdb_encoder.vocab_size, embedding_dim))"
      ]
    },
    {
      "cell_type": "markdown",
      "metadata": {
        "id": "CYR1DlM14vTO"
      },
      "source": [
        "When a pre-trained word list is used, finding a vector for each word in the training/test data set is not guaranteed.\n",
        "\n",
        "After embedding matrix of zeros is initialized, it needs to be populated."
      ]
    },
    {
      "cell_type": "markdown",
      "metadata": {
        "id": "DyCjQGzyyUda"
      },
      "source": [
        "#####Populate embedded matrix"
      ]
    },
    {
      "cell_type": "code",
      "execution_count": 79,
      "metadata": {
        "id": "CKnE9BzK5Mnm"
      },
      "outputs": [],
      "source": [
        "#\n",
        "# populate the embedding matrix:\n",
        "#\n",
        "# For each word in the vocabulary of reviews, the corresponding vector is \n",
        "# retrieved from the GloVe dictionary. The ID of the word is retrieved \n",
        "# using the encoder, and then the embedding matrix enrty corresponding \n",
        "# to that entry is set to the retrived vector\n",
        "#\n",
        "\n",
        "unk_cnt = 0\n",
        "unk_set = set()\n",
        "\n",
        "for word in imdb_encoder.tokens:\n",
        "  embedding_vector = dict_w2v.get(word)\n",
        "\n",
        "  if embedding_vector is not None:\n",
        "    tkn_id = imdb_encoder.encode(word)[0]\n",
        "    embedding_matrix[tkn_id] = embedding_vector\n",
        "  else:\n",
        "    unk_cnt += 1\n",
        "    unk_set.add(word)"
      ]
    },
    {
      "cell_type": "code",
      "execution_count": 80,
      "metadata": {
        "colab": {
          "base_uri": "https://localhost:8080/"
        },
        "id": "B35vp5c_6G6i",
        "outputId": "e888201a-ea7e-4a0e-bd26-acc2d464448d"
      },
      "outputs": [
        {
          "output_type": "stream",
          "name": "stdout",
          "text": [
            "Total unknown word count:  14553\n"
          ]
        }
      ],
      "source": [
        "# \n",
        "# print how many vocab words that arent found\n",
        "#\n",
        "print(\"Total unknown word count: \", unk_cnt)"
      ]
    },
    {
      "cell_type": "markdown",
      "metadata": {
        "id": "yGvYOwRX6rTS"
      },
      "source": [
        "#####2C.1a Double LSTM with frozen pre-trained weights (feature extraction model a)\n",
        "\n",
        "This model freezes the pre-trained weights. NB that there are a large number of tokens (> 14,000) that have zero embedded vectors, ie the vocabulary is not defined (no match in the GloVe word list)"
      ]
    },
    {
      "cell_type": "markdown",
      "metadata": {
        "id": "2tWiZGX119aR"
      },
      "source": [
        "###### Set Global Variables"
      ]
    },
    {
      "cell_type": "code",
      "execution_count": 81,
      "metadata": {
        "id": "LXLgw37XF7rI"
      },
      "outputs": [],
      "source": [
        "#\n",
        "# set basic params\n",
        "#\n",
        "vocab_size = imdb_encoder.vocab_size    # len in chars\n",
        "\n",
        "rnn_units = 64\n",
        "\n",
        "BATCH_SIZE = 100"
      ]
    },
    {
      "cell_type": "markdown",
      "metadata": {
        "id": "oe8sJWNM2FlX"
      },
      "source": [
        "######Build Model (Model Function)"
      ]
    },
    {
      "cell_type": "code",
      "execution_count": 82,
      "metadata": {
        "id": "VYMn_j2oGO3c"
      },
      "outputs": [],
      "source": [
        "from tensorflow.keras.layers import Embedding, LSTM, Bidirectional, Dense\n",
        "\n",
        "#\n",
        "# this function allows for building of model with same \n",
        "# architecture but diff hyperparams]\n",
        "#\n",
        "# NB model has an Embedding layer, two Bidirectional layers \n",
        "# and then the final Dense layer with the activation function\n",
        "#\n",
        "def build_model_bilstm(vocab_size, embedding_dim, \n",
        "                       rnn_units, batch_size, train_emb=False):\n",
        "  \n",
        "  model = tf.keras.Sequential([\n",
        "                               Embedding(vocab_size, embedding_dim, mask_zero=True, \n",
        "                                         weights=[embedding_matrix], trainable=train_emb),\n",
        "                               Bidirectional(LSTM(rnn_units, return_sequences=True, dropout=0.5)),\n",
        "                               Bidirectional(LSTM(rnn_units, dropout=0.25)),\n",
        "                               Dense(1, activation='sigmoid')\n",
        "                               ])\n",
        "  \n",
        "  return model"
      ]
    },
    {
      "cell_type": "code",
      "execution_count": 83,
      "metadata": {
        "id": "cMSBQ04iHrNr"
      },
      "outputs": [],
      "source": [
        "# \n",
        "# build the feature extraction model and plug in embedding matrix\n",
        "#\n",
        "model_fe = build_model_bilstm(\n",
        "    vocab_size = vocab_size,\n",
        "    embedding_dim=embedding_dim,\n",
        "    rnn_units=rnn_units,\n",
        "    batch_size=BATCH_SIZE)"
      ]
    },
    {
      "cell_type": "code",
      "execution_count": 84,
      "metadata": {
        "colab": {
          "base_uri": "https://localhost:8080/"
        },
        "id": "4X2waEMcJOkH",
        "outputId": "6e79f55b-4d2f-4b98-a67d-1db77605a2ae"
      },
      "outputs": [
        {
          "output_type": "stream",
          "name": "stdout",
          "text": [
            "Model: \"sequential_3\"\n",
            "_________________________________________________________________\n",
            " Layer (type)                Output Shape              Param #   \n",
            "=================================================================\n",
            " embedding_2 (Embedding)     (None, None, 50)          4696550   \n",
            "                                                                 \n",
            " bidirectional_4 (Bidirectio  (None, None, 128)        58880     \n",
            " nal)                                                            \n",
            "                                                                 \n",
            " bidirectional_5 (Bidirectio  (None, 128)              98816     \n",
            " nal)                                                            \n",
            "                                                                 \n",
            " dense_7 (Dense)             (None, 1)                 129       \n",
            "                                                                 \n",
            "=================================================================\n",
            "Total params: 4,854,375\n",
            "Trainable params: 157,825\n",
            "Non-trainable params: 4,696,550\n",
            "_________________________________________________________________\n"
          ]
        }
      ],
      "source": [
        "model_fe.summary()"
      ]
    },
    {
      "cell_type": "code",
      "execution_count": 85,
      "metadata": {
        "id": "_2pHOMEtJY-g"
      },
      "outputs": [],
      "source": [
        "model_fe.compile(\n",
        "    loss='binary_crossentropy',                   # loss function for binary classification\n",
        "    optimizer='adam',                             # decent optimizer choice for most cases\n",
        "    metrics=['accuracy', 'Precision', 'Recall'\n",
        "    ])"
      ]
    },
    {
      "cell_type": "markdown",
      "metadata": {
        "id": "KXDHGJNw2PmZ"
      },
      "source": [
        "######Train Model"
      ]
    },
    {
      "cell_type": "code",
      "execution_count": 86,
      "metadata": {
        "colab": {
          "base_uri": "https://localhost:8080/"
        },
        "id": "-rUu45yQKC7_",
        "outputId": "14c5c6a1-e682-4f08-bc0f-31eddd99fac6"
      },
      "outputs": [
        {
          "output_type": "stream",
          "name": "stdout",
          "text": [
            "Epoch 1/10\n",
            "250/250 [==============================] - 38s 94ms/step - loss: 0.5991 - accuracy: 0.6745 - precision: 0.6807 - recall: 0.6573\n",
            "Epoch 2/10\n",
            "250/250 [==============================] - 27s 108ms/step - loss: 0.5227 - accuracy: 0.7403 - precision: 0.7440 - recall: 0.7326\n",
            "Epoch 3/10\n",
            "250/250 [==============================] - 27s 109ms/step - loss: 0.4930 - accuracy: 0.7644 - precision: 0.7702 - recall: 0.7536\n",
            "Epoch 4/10\n",
            "250/250 [==============================] - 28s 110ms/step - loss: 0.4689 - accuracy: 0.7767 - precision: 0.7787 - recall: 0.7730\n",
            "Epoch 5/10\n",
            "250/250 [==============================] - 28s 110ms/step - loss: 0.4571 - accuracy: 0.7857 - precision: 0.7879 - recall: 0.7818\n",
            "Epoch 6/10\n",
            "250/250 [==============================] - 28s 110ms/step - loss: 0.4416 - accuracy: 0.7948 - precision: 0.7926 - recall: 0.7984\n",
            "Epoch 7/10\n",
            "250/250 [==============================] - 27s 109ms/step - loss: 0.4246 - accuracy: 0.8028 - precision: 0.8031 - recall: 0.8022\n",
            "Epoch 8/10\n",
            "250/250 [==============================] - 28s 110ms/step - loss: 0.4111 - accuracy: 0.8117 - precision: 0.8116 - recall: 0.8118\n",
            "Epoch 9/10\n",
            "250/250 [==============================] - 27s 109ms/step - loss: 0.4064 - accuracy: 0.8151 - precision: 0.8184 - recall: 0.8099\n",
            "Epoch 10/10\n",
            "250/250 [==============================] - 27s 110ms/step - loss: 0.3964 - accuracy: 0.8202 - precision: 0.8206 - recall: 0.8197\n"
          ]
        },
        {
          "output_type": "execute_result",
          "data": {
            "text/plain": [
              "<keras.callbacks.History at 0x7f6b1091ff50>"
            ]
          },
          "metadata": {},
          "execution_count": 86
        }
      ],
      "source": [
        "#\n",
        "# prefetch for performance\n",
        "#\n",
        "encoded_train_batched = encoded_train.batch(BATCH_SIZE).prefetch(100)\n",
        "\n",
        "model_fe.fit(encoded_train_batched, epochs=10)\n",
        "\n",
        "# model_fe.fit(encoded_train.batch(BATCH_SIZE), epochs=10)"
      ]
    },
    {
      "cell_type": "markdown",
      "metadata": {
        "id": "YD_LCwpD2VAV"
      },
      "source": [
        "######Evaluate Model"
      ]
    },
    {
      "cell_type": "code",
      "execution_count": 111,
      "metadata": {
        "colab": {
          "base_uri": "https://localhost:8080/"
        },
        "id": "BJvfeEPmKpe9",
        "outputId": "97fd679f-1f79-42b9-8229-0bf746ac32a1"
      },
      "outputs": [
        {
          "output_type": "stream",
          "name": "stdout",
          "text": [
            "250/250 [==============================] - 30s 120ms/step - loss: 0.3861 - accuracy: 0.8368 - precision: 0.8084 - recall: 0.8830\n"
          ]
        },
        {
          "output_type": "execute_result",
          "data": {
            "text/plain": [
              "[0.3860918879508972,\n",
              " 0.8368399739265442,\n",
              " 0.8083937764167786,\n",
              " 0.8829600214958191]"
            ]
          },
          "metadata": {},
          "execution_count": 111
        }
      ],
      "source": [
        "#\n",
        "# evaluate model on test data\n",
        "#\n",
        "model_fe.evaluate(encoded_test.batch(BATCH_SIZE))"
      ]
    },
    {
      "cell_type": "markdown",
      "metadata": {
        "id": "1V0yQO8MsjN2"
      },
      "source": [
        "#####2C.1b Double LSTM with trainable pre-trained weights (feature extraction model b)\n",
        "\n",
        "Fine tuning of the embeddings matrix"
      ]
    },
    {
      "cell_type": "markdown",
      "metadata": {
        "id": "MuGqoub4zMSq"
      },
      "source": [
        "######Build the model"
      ]
    },
    {
      "cell_type": "code",
      "execution_count": 88,
      "metadata": {
        "id": "6c_m1sgGsvNe"
      },
      "outputs": [],
      "source": [
        "model_ft = build_model_bilstm(\n",
        "    vocab_size=vocab_size,\n",
        "    embedding_dim=embedding_dim,\n",
        "    rnn_units=rnn_units,\n",
        "    batch_size=BATCH_SIZE,\n",
        "    train_emb=True\n",
        ")"
      ]
    },
    {
      "cell_type": "code",
      "execution_count": 89,
      "metadata": {
        "colab": {
          "base_uri": "https://localhost:8080/"
        },
        "id": "jgGh0a2-taNa",
        "outputId": "87863802-aee6-435d-9e98-577f442ffd59"
      },
      "outputs": [
        {
          "output_type": "stream",
          "name": "stdout",
          "text": [
            "Model: \"sequential_4\"\n",
            "_________________________________________________________________\n",
            " Layer (type)                Output Shape              Param #   \n",
            "=================================================================\n",
            " embedding_3 (Embedding)     (None, None, 50)          4696550   \n",
            "                                                                 \n",
            " bidirectional_6 (Bidirectio  (None, None, 128)        58880     \n",
            " nal)                                                            \n",
            "                                                                 \n",
            " bidirectional_7 (Bidirectio  (None, 128)              98816     \n",
            " nal)                                                            \n",
            "                                                                 \n",
            " dense_8 (Dense)             (None, 1)                 129       \n",
            "                                                                 \n",
            "=================================================================\n",
            "Total params: 4,854,375\n",
            "Trainable params: 4,854,375\n",
            "Non-trainable params: 0\n",
            "_________________________________________________________________\n"
          ]
        }
      ],
      "source": [
        "model_ft.summary()"
      ]
    },
    {
      "cell_type": "code",
      "execution_count": 90,
      "metadata": {
        "id": "huQNEhTXtfth"
      },
      "outputs": [],
      "source": [
        "model_ft.compile(loss='binary_crossentropy',\n",
        "                 optimizer='adam',\n",
        "                 metrics=['accuracy', 'Precision', 'Recall'])"
      ]
    },
    {
      "cell_type": "markdown",
      "metadata": {
        "id": "HtsCy1MHzPHv"
      },
      "source": [
        "######Train the model"
      ]
    },
    {
      "cell_type": "code",
      "execution_count": 91,
      "metadata": {
        "colab": {
          "base_uri": "https://localhost:8080/"
        },
        "id": "E3Ruq_3Ctvtn",
        "outputId": "4cf15257-70ac-4b5a-cade-5d61337578b6"
      },
      "outputs": [
        {
          "output_type": "stream",
          "name": "stdout",
          "text": [
            "Epoch 1/10\n",
            "250/250 [==============================] - 38s 96ms/step - loss: 0.5660 - accuracy: 0.7042 - precision: 0.7046 - recall: 0.7033\n",
            "Epoch 2/10\n",
            "250/250 [==============================] - 27s 108ms/step - loss: 0.4123 - accuracy: 0.8121 - precision: 0.8141 - recall: 0.8090\n",
            "Epoch 3/10\n",
            "250/250 [==============================] - 27s 107ms/step - loss: 0.3346 - accuracy: 0.8577 - precision: 0.8596 - recall: 0.8550\n",
            "Epoch 4/10\n",
            "250/250 [==============================] - 28s 110ms/step - loss: 0.2832 - accuracy: 0.8808 - precision: 0.8825 - recall: 0.8786\n",
            "Epoch 5/10\n",
            "250/250 [==============================] - 27s 107ms/step - loss: 0.2382 - accuracy: 0.9043 - precision: 0.9049 - recall: 0.9036\n",
            "Epoch 6/10\n",
            "250/250 [==============================] - 27s 107ms/step - loss: 0.2081 - accuracy: 0.9194 - precision: 0.9221 - recall: 0.9162\n",
            "Epoch 7/10\n",
            "250/250 [==============================] - 27s 107ms/step - loss: 0.1852 - accuracy: 0.9281 - precision: 0.9290 - recall: 0.9270\n",
            "Epoch 8/10\n",
            "250/250 [==============================] - 28s 113ms/step - loss: 0.1505 - accuracy: 0.9422 - precision: 0.9429 - recall: 0.9414\n",
            "Epoch 9/10\n",
            "250/250 [==============================] - 27s 106ms/step - loss: 0.1233 - accuracy: 0.9549 - precision: 0.9552 - recall: 0.9546\n",
            "Epoch 10/10\n",
            "250/250 [==============================] - 27s 107ms/step - loss: 0.1091 - accuracy: 0.9609 - precision: 0.9604 - recall: 0.9614\n"
          ]
        },
        {
          "output_type": "execute_result",
          "data": {
            "text/plain": [
              "<keras.callbacks.History at 0x7f6b0fd10b50>"
            ]
          },
          "metadata": {},
          "execution_count": 91
        }
      ],
      "source": [
        "model_ft.fit(encoded_train_batched, epochs=10)"
      ]
    },
    {
      "cell_type": "markdown",
      "metadata": {
        "id": "MHnkpvCMzBVe"
      },
      "source": [
        "######Evaluate the model"
      ]
    },
    {
      "cell_type": "code",
      "execution_count": 92,
      "metadata": {
        "colab": {
          "base_uri": "https://localhost:8080/"
        },
        "id": "Zegjhj4wzDJd",
        "outputId": "da3c1173-fc2e-4de6-80ed-ddb48b2a50cb"
      },
      "outputs": [
        {
          "output_type": "stream",
          "name": "stdout",
          "text": [
            "250/250 [==============================] - 28s 93ms/step - loss: 0.5526 - accuracy: 0.8616 - precision: 0.8290 - recall: 0.9112\n"
          ]
        },
        {
          "output_type": "execute_result",
          "data": {
            "text/plain": [
              "[0.5526447892189026,\n",
              " 0.8616399765014648,\n",
              " 0.8290268778800964,\n",
              " 0.9111999869346619]"
            ]
          },
          "metadata": {},
          "execution_count": 92
        }
      ],
      "source": [
        "model_ft.evaluate(encoded_test.batch(BATCH_SIZE))"
      ]
    },
    {
      "cell_type": "markdown",
      "metadata": {
        "id": "EL8a0agX-OHe"
      },
      "source": [
        "####2C.2 Transfer Learning with BERT\n",
        "\n",
        "Code and walkthrough text (comments) from Bansal 2021 *Advanced NLP with Tensorflow 2*, Chapter 4 \"Transfer Learning with BERT\""
      ]
    },
    {
      "cell_type": "markdown",
      "metadata": {
        "id": "vihf0ESo_2Cx"
      },
      "source": [
        "#####Initialize Transformer"
      ]
    },
    {
      "cell_type": "code",
      "execution_count": 93,
      "metadata": {
        "colab": {
          "base_uri": "https://localhost:8080/"
        },
        "id": "YWnEhabO_79q",
        "outputId": "1815dc76-12d3-427b-f89a-9fe472bbda1a"
      },
      "outputs": [
        {
          "output_type": "stream",
          "name": "stdout",
          "text": [
            "Looking in indexes: https://pypi.org/simple, https://us-python.pkg.dev/colab-wheels/public/simple/\n",
            "Collecting transformers==3.0.2\n",
            "  Downloading transformers-3.0.2-py3-none-any.whl (769 kB)\n",
            "\u001b[K     |████████████████████████████████| 769 kB 15.7 MB/s \n",
            "\u001b[?25hCollecting sentencepiece!=0.1.92\n",
            "  Downloading sentencepiece-0.1.96-cp37-cp37m-manylinux_2_17_x86_64.manylinux2014_x86_64.whl (1.2 MB)\n",
            "\u001b[K     |████████████████████████████████| 1.2 MB 76.1 MB/s \n",
            "\u001b[?25hRequirement already satisfied: tqdm>=4.27 in /usr/local/lib/python3.7/dist-packages (from transformers==3.0.2) (4.64.0)\n",
            "Requirement already satisfied: packaging in /usr/local/lib/python3.7/dist-packages (from transformers==3.0.2) (21.3)\n",
            "Collecting tokenizers==0.8.1.rc1\n",
            "  Downloading tokenizers-0.8.1rc1-cp37-cp37m-manylinux1_x86_64.whl (3.0 MB)\n",
            "\u001b[K     |████████████████████████████████| 3.0 MB 64.8 MB/s \n",
            "\u001b[?25hRequirement already satisfied: requests in /usr/local/lib/python3.7/dist-packages (from transformers==3.0.2) (2.23.0)\n",
            "Collecting sacremoses\n",
            "  Downloading sacremoses-0.0.53.tar.gz (880 kB)\n",
            "\u001b[K     |████████████████████████████████| 880 kB 87.5 MB/s \n",
            "\u001b[?25hRequirement already satisfied: regex!=2019.12.17 in /usr/local/lib/python3.7/dist-packages (from transformers==3.0.2) (2022.6.2)\n",
            "Requirement already satisfied: filelock in /usr/local/lib/python3.7/dist-packages (from transformers==3.0.2) (3.7.1)\n",
            "Requirement already satisfied: numpy in /usr/local/lib/python3.7/dist-packages (from transformers==3.0.2) (1.21.6)\n",
            "Requirement already satisfied: pyparsing!=3.0.5,>=2.0.2 in /usr/local/lib/python3.7/dist-packages (from packaging->transformers==3.0.2) (3.0.9)\n",
            "Requirement already satisfied: idna<3,>=2.5 in /usr/local/lib/python3.7/dist-packages (from requests->transformers==3.0.2) (2.10)\n",
            "Requirement already satisfied: chardet<4,>=3.0.2 in /usr/local/lib/python3.7/dist-packages (from requests->transformers==3.0.2) (3.0.4)\n",
            "Requirement already satisfied: certifi>=2017.4.17 in /usr/local/lib/python3.7/dist-packages (from requests->transformers==3.0.2) (2022.6.15)\n",
            "Requirement already satisfied: urllib3!=1.25.0,!=1.25.1,<1.26,>=1.21.1 in /usr/local/lib/python3.7/dist-packages (from requests->transformers==3.0.2) (1.24.3)\n",
            "Requirement already satisfied: six in /usr/local/lib/python3.7/dist-packages (from sacremoses->transformers==3.0.2) (1.15.0)\n",
            "Requirement already satisfied: click in /usr/local/lib/python3.7/dist-packages (from sacremoses->transformers==3.0.2) (7.1.2)\n",
            "Requirement already satisfied: joblib in /usr/local/lib/python3.7/dist-packages (from sacremoses->transformers==3.0.2) (1.1.0)\n",
            "Building wheels for collected packages: sacremoses\n",
            "  Building wheel for sacremoses (setup.py) ... \u001b[?25l\u001b[?25hdone\n",
            "  Created wheel for sacremoses: filename=sacremoses-0.0.53-py3-none-any.whl size=895260 sha256=3e2480c5bc06d1e47cd456b3ac4c1d41db27bc36d579e1d0e64c045e2be0efd0\n",
            "  Stored in directory: /root/.cache/pip/wheels/87/39/dd/a83eeef36d0bf98e7a4d1933a4ad2d660295a40613079bafc9\n",
            "Successfully built sacremoses\n",
            "Installing collected packages: tokenizers, sentencepiece, sacremoses, transformers\n",
            "Successfully installed sacremoses-0.0.53 sentencepiece-0.1.96 tokenizers-0.8.1rc1 transformers-3.0.2\n"
          ]
        }
      ],
      "source": [
        "# install Hugging Face libraries\n",
        "\n",
        "!pip install transformers==3.0.2"
      ]
    },
    {
      "cell_type": "code",
      "execution_count": 94,
      "metadata": {
        "colab": {
          "base_uri": "https://localhost:8080/",
          "height": 49,
          "referenced_widgets": [
            "35a52afc5d5643a58608875cde21b7d7",
            "1ece099d55414f0a8d93fc3e18fc27d1",
            "9d556badd14e4d3e8e5f0b9f1a5ae14d",
            "1773e59501254cfa947039088116aec8",
            "66fd6a985159453991b2d8c42cca1d7e",
            "73bff429899a4b6aa7d7c3021430953d",
            "33f1ba4f80de4708b664258420dae712",
            "23055958373645fea0d219d41c8f3e1c",
            "dd169f8e68ef4826b973871725d849cf",
            "385db6c7014343dba70ae54dd570192e",
            "7d4da9e612b642c3bb473ec003a15d1f"
          ]
        },
        "id": "dOlnnvgtAKLS",
        "outputId": "ffd75f9c-5033-45e1-e465-dd5a7386a022"
      },
      "outputs": [
        {
          "output_type": "display_data",
          "data": {
            "text/plain": [
              "Downloading:   0%|          | 0.00/213k [00:00<?, ?B/s]"
            ],
            "application/vnd.jupyter.widget-view+json": {
              "version_major": 2,
              "version_minor": 0,
              "model_id": "35a52afc5d5643a58608875cde21b7d7"
            }
          },
          "metadata": {}
        }
      ],
      "source": [
        "#import the BERT tokenizer\n",
        "from transformers import BertTokenizer\n",
        "\n",
        "bert_name = 'bert-base-cased'\n",
        "\n",
        "tokenizer = BertTokenizer.from_pretrained(bert_name,\n",
        "                                          add_special_tokens=True,\n",
        "                                          do_lower_case=False,\n",
        "                                          max_length=150,\n",
        "                                          pad_to_max_length=True\n",
        "                                          )"
      ]
    },
    {
      "cell_type": "markdown",
      "metadata": {
        "id": "J8nIKQ2mBlRW"
      },
      "source": [
        "#####Some Tokenizer Examples"
      ]
    },
    {
      "cell_type": "code",
      "execution_count": 95,
      "metadata": {
        "colab": {
          "base_uri": "https://localhost:8080/"
        },
        "id": "KQy2c6GrBBzy",
        "outputId": "d899454d-8955-43c8-e18c-4a23ed56c527"
      },
      "outputs": [
        {
          "output_type": "stream",
          "name": "stderr",
          "text": [
            "WARNING:transformers.tokenization_utils_base:Truncation was not explicitely activated but `max_length` is provided a specific value, please use `truncation=True` to explicitely truncate examples to max length. Defaulting to 'longest_first' truncation strategy. If you encode pairs of sequences (GLUE-style) with the tokenizer you can select this strategy more precisely by providing a specific strategy to `truncation`.\n"
          ]
        },
        {
          "output_type": "execute_result",
          "data": {
            "text/plain": [
              "{'input_ids': [101, 1790, 112, 189, 1129, 19615, 1181, 102, 0], 'token_type_ids': [0, 0, 0, 0, 0, 0, 0, 0, 0], 'attention_mask': [1, 1, 1, 1, 1, 1, 1, 1, 0]}"
            ]
          },
          "metadata": {},
          "execution_count": 95
        }
      ],
      "source": [
        "tokenizer.encode_plus(\" Don't be lured\", \n",
        "                      add_special_tokens=True,\n",
        "                      max_length=9,\n",
        "                      pad_to_max_length=True,\n",
        "                      return_attention_mask=True,\n",
        "                      return_token_type_ids=True)"
      ]
    },
    {
      "cell_type": "code",
      "execution_count": 96,
      "metadata": {
        "colab": {
          "base_uri": "https://localhost:8080/"
        },
        "id": "WutD-i89BiPz",
        "outputId": "0e81b329-ee0f-48e8-d080-1e2f9c9aa1a8"
      },
      "outputs": [
        {
          "output_type": "stream",
          "name": "stderr",
          "text": [
            "WARNING:transformers.tokenization_utils_base:Truncation was not explicitely activated but `max_length` is provided a specific value, please use `truncation=True` to explicitely truncate examples to max length. Defaulting to 'longest_first' truncation strategy. If you encode pairs of sequences (GLUE-style) with the tokenizer you can select this strategy more precisely by providing a specific strategy to `truncation`.\n"
          ]
        },
        {
          "output_type": "execute_result",
          "data": {
            "text/plain": [
              "{'input_ids': [101, 1790, 112, 189, 1129, 102, 19615, 1181, 102, 0], 'token_type_ids': [0, 0, 0, 0, 0, 0, 1, 1, 1, 0], 'attention_mask': [1, 1, 1, 1, 1, 1, 1, 1, 1, 0]}"
            ]
          },
          "metadata": {},
          "execution_count": 96
        }
      ],
      "source": [
        "tokenizer.encode_plus(\" Don't be\", \" lured\", \n",
        "                      add_special_tokens=True,\n",
        "                      max_length=10,\n",
        "                      pad_to_max_length=True,\n",
        "                      return_attention_mask=True,\n",
        "                      return_token_type_ids=True)"
      ]
    },
    {
      "cell_type": "markdown",
      "metadata": {
        "id": "XVhaUXCxa4Kn"
      },
      "source": [
        "#####Load and Encode IMDB Data"
      ]
    },
    {
      "cell_type": "code",
      "source": [
        "#\n",
        "# load train and test data sets from IMDB data set\n",
        "#\n",
        "import tensorflow as tf\n",
        "import tensorflow_datasets as tfds\n",
        "\n",
        "import numpy as np\n",
        "import pandas as pd\n",
        "\n",
        "imdb_train, ds_info = tfds.load(name=\"imdb_reviews\",\n",
        "                                split=\"train\",\n",
        "                                with_info=True, as_supervised=True)\n",
        "\n",
        "imdb_test = tfds.load(name=\"imdb_reviews\", split=\"test\", \n",
        "                       as_supervised=True)"
      ],
      "metadata": {
        "colab": {
          "base_uri": "https://localhost:8080/"
        },
        "id": "8AGx1XzBi2gt",
        "outputId": "741c917e-1864-4033-ed74-a42ff9eb6150"
      },
      "execution_count": 97,
      "outputs": [
        {
          "output_type": "stream",
          "name": "stderr",
          "text": [
            "INFO:absl:No config specified, defaulting to first: imdb_reviews/plain_text\n",
            "INFO:absl:Load dataset info from /root/tensorflow_datasets/imdb_reviews/plain_text/1.0.0\n",
            "INFO:absl:Reusing dataset imdb_reviews (/root/tensorflow_datasets/imdb_reviews/plain_text/1.0.0)\n",
            "INFO:absl:Constructing tf.data.Dataset for split train, from /root/tensorflow_datasets/imdb_reviews/plain_text/1.0.0\n",
            "INFO:absl:No config specified, defaulting to first: imdb_reviews/plain_text\n",
            "INFO:absl:Load dataset info from /root/tensorflow_datasets/imdb_reviews/plain_text/1.0.0\n",
            "INFO:absl:Reusing dataset imdb_reviews (/root/tensorflow_datasets/imdb_reviews/plain_text/1.0.0)\n",
            "INFO:absl:Constructing tf.data.Dataset for split test, from /root/tensorflow_datasets/imdb_reviews/plain_text/1.0.0\n"
          ]
        }
      ]
    },
    {
      "cell_type": "code",
      "execution_count": 98,
      "metadata": {
        "id": "9Y1GaN31B66z"
      },
      "outputs": [],
      "source": [
        "#\n",
        "# function for encoding all IMDB inputs\n",
        "#\n",
        "def bert_encoder(review):\n",
        "  txt = review.numpy().decode('utf-8')\n",
        "\n",
        "  encoded = tokenizer.encode_plus(txt, add_special_tokens=True,\n",
        "                      max_length=150,\n",
        "                      pad_to_max_length=True,\n",
        "                      return_attention_mask=True,\n",
        "                      return_token_type_ids=True)\n",
        "  \n",
        "  return encoded['input_ids'], encoded['token_type_ids'], \\\n",
        "    encoded['attention_mask']"
      ]
    },
    {
      "cell_type": "code",
      "execution_count": null,
      "metadata": {
        "id": "aBJd0qp-ELK-"
      },
      "outputs": [],
      "source": [
        "#\n",
        "# apply BERT encoder to all IMDB review data\n",
        "#\n",
        "\n",
        "bert_train = [bert_encoder(r) for r, l in imdb_train]\n",
        "bert_lbl = [l for r, l in imdb_train]\n",
        "bert_train = np.array(bert_train)\n",
        "bert_lbl = tf.keras.utils.to_categorical(bert_lbl, num_classes=2)"
      ]
    },
    {
      "cell_type": "code",
      "execution_count": 100,
      "metadata": {
        "id": "whhWRvTQFYeP",
        "colab": {
          "base_uri": "https://localhost:8080/"
        },
        "outputId": "951b3411-fed6-4f5f-dfab-043a99f6ff57"
      },
      "outputs": [
        {
          "metadata": {
            "tags": null
          },
          "name": "stdout",
          "output_type": "stream",
          "text": [
            "(20000, 3, 150) (20000, 2)\n"
          ]
        }
      ],
      "source": [
        "#\n",
        "# split training data into training and validation splits\n",
        "#\n",
        "from sklearn.model_selection import train_test_split\n",
        "\n",
        "x_train, x_val, y_train, y_val = train_test_split(bert_train,\n",
        "                                                  bert_lbl, \n",
        "                                                  test_size=0.2,\n",
        "                                                  random_state=42)\n",
        "\n",
        "print(x_train.shape, y_train.shape)"
      ]
    },
    {
      "cell_type": "code",
      "execution_count": 101,
      "metadata": {
        "id": "TDUcwi7aID_o"
      },
      "outputs": [],
      "source": [
        "#\n",
        "# three input dictionaaries need to be created in tf.DataSet for use in training\n",
        "#\n",
        "tr_reviews, tr_segments, tr_masks = np.split(x_train, 3, axis=1)\n",
        "val_reviews, val_segments, val_masks = np.split(x_val, 3, axis=1)\n",
        "\n",
        "tr_reviews = tr_reviews.squeeze()\n",
        "tr_segments = tr_segments.squeeze()\n",
        "tr_masks = tr_masks.squeeze()\n",
        "\n",
        "val_reviews = val_reviews.squeeze()\n",
        "val_segments = val_segments.squeeze()\n",
        "val_masks = val_masks.squeeze()"
      ]
    },
    {
      "cell_type": "code",
      "execution_count": 102,
      "metadata": {
        "id": "X8WqCdppIv58"
      },
      "outputs": [],
      "source": [
        "#\n",
        "# convert into Datasets\n",
        "#\n",
        "def example_to_features(input_ids,attention_masks,token_type_ids,y):\n",
        "  return{\"input_ids\": input_ids,\n",
        "         \"attention_mask\": attention_masks,\n",
        "         \"token_type_ids\": token_type_ids},y\n",
        "\n",
        "train_ds = tf.data.Dataset.from_tensor_slices((tr_reviews,\n",
        "                                          tr_masks, tr_segments, y_train)).\\\n",
        "                                          map(example_to_features).shuffle(100).batch(16)\n",
        "\n",
        "valid_ds = tf.data.Dataset.from_tensor_slices((val_reviews, \n",
        "                                          val_masks, val_segments, y_val)).\\\n",
        "                                          map(example_to_features).shuffle(100).batch(16)"
      ]
    },
    {
      "cell_type": "code",
      "source": [
        "train_ds"
      ],
      "metadata": {
        "colab": {
          "base_uri": "https://localhost:8080/"
        },
        "id": "XLjkM25Rh7h0",
        "outputId": "7c868c72-3ff2-4d21-a2e4-8edec1776c8e"
      },
      "execution_count": 103,
      "outputs": [
        {
          "data": {
            "text/plain": [
              "<BatchDataset element_spec=({'input_ids': TensorSpec(shape=(None, 150), dtype=tf.int64, name=None), 'attention_mask': TensorSpec(shape=(None, 150), dtype=tf.int64, name=None), 'token_type_ids': TensorSpec(shape=(None, 150), dtype=tf.int64, name=None)}, TensorSpec(shape=(None, 2), dtype=tf.float32, name=None))>"
            ]
          },
          "execution_count": 103,
          "metadata": {},
          "output_type": "execute_result"
        }
      ]
    },
    {
      "cell_type": "code",
      "source": [
        "valid_ds"
      ],
      "metadata": {
        "colab": {
          "base_uri": "https://localhost:8080/"
        },
        "id": "dFIX-MKziCLY",
        "outputId": "02e6c17c-cbee-4003-89c7-281391ac317d"
      },
      "execution_count": 104,
      "outputs": [
        {
          "data": {
            "text/plain": [
              "<BatchDataset element_spec=({'input_ids': TensorSpec(shape=(None, 150), dtype=tf.int64, name=None), 'attention_mask': TensorSpec(shape=(None, 150), dtype=tf.int64, name=None), 'token_type_ids': TensorSpec(shape=(None, 150), dtype=tf.int64, name=None)}, TensorSpec(shape=(None, 2), dtype=tf.float32, name=None))>"
            ]
          },
          "execution_count": 104,
          "metadata": {},
          "output_type": "execute_result"
        }
      ]
    },
    {
      "cell_type": "markdown",
      "metadata": {
        "id": "njmMOEJ-YYK3"
      },
      "source": [
        "#####Build the Model"
      ]
    },
    {
      "cell_type": "code",
      "execution_count": 105,
      "metadata": {
        "colab": {
          "base_uri": "https://localhost:8080/",
          "height": 159,
          "referenced_widgets": [
            "deb7fdead8424355ad8e7a4edac69f2c",
            "0215d392963f4f538e76263df3267b0e"
          ]
        },
        "id": "fIRchX-zJ9ym",
        "outputId": "7d888d27-9787-4ab9-9450-e5dcddeaf24c"
      },
      "outputs": [
        {
          "data": {
            "application/vnd.jupyter.widget-view+json": {
              "model_id": "deb7fdead8424355ad8e7a4edac69f2c",
              "version_major": 2,
              "version_minor": 0
            },
            "text/plain": [
              "Downloading:   0%|          | 0.00/433 [00:00<?, ?B/s]"
            ]
          },
          "metadata": {},
          "output_type": "display_data"
        },
        {
          "data": {
            "application/vnd.jupyter.widget-view+json": {
              "model_id": "0215d392963f4f538e76263df3267b0e",
              "version_major": 2,
              "version_minor": 0
            },
            "text/plain": [
              "Downloading:   0%|          | 0.00/527M [00:00<?, ?B/s]"
            ]
          },
          "metadata": {},
          "output_type": "display_data"
        },
        {
          "output_type": "stream",
          "name": "stderr",
          "text": [
            "WARNING:transformers.modeling_tf_utils:Some weights of the model checkpoint at bert-base-cased were not used when initializing TFBertForSequenceClassification: ['nsp___cls', 'mlm___cls']\n",
            "- This IS expected if you are initializing TFBertForSequenceClassification from the checkpoint of a model trained on another task or with another architecture (e.g. initializing a BertForSequenceClassification model from a BertForPretraining model).\n",
            "- This IS NOT expected if you are initializing TFBertForSequenceClassification from the checkpoint of a model that you expect to be exactly identical (initializing a BertForSequenceClassification model from a BertForSequenceClassification model).\n",
            "WARNING:transformers.modeling_tf_utils:Some weights of TFBertForSequenceClassification were not initialized from the model checkpoint at bert-base-cased and are newly initialized: ['classifier', 'dropout_43']\n",
            "You should probably TRAIN this model on a down-stream task to be able to use it for predictions and inference.\n"
          ]
        }
      ],
      "source": [
        "from transformers import TFBertForSequenceClassification\n",
        "\n",
        "bert_model = TFBertForSequenceClassification.from_pretrained(bert_name)"
      ]
    },
    {
      "cell_type": "code",
      "execution_count": 106,
      "metadata": {
        "id": "bXurMvqTO1ay"
      },
      "outputs": [],
      "source": [
        "optimizer = tf.keras.optimizers.Adam(learning_rate=2e-5)\n",
        "loss = tf.keras.losses.BinaryCrossentropy(from_logits=True)\n",
        "\n",
        "bert_model.compile(optimizer=optimizer, loss=loss, metrics=['accuracy'])"
      ]
    },
    {
      "cell_type": "code",
      "execution_count": 107,
      "metadata": {
        "colab": {
          "base_uri": "https://localhost:8080/"
        },
        "id": "_w0_kH3YPP7c",
        "outputId": "6c80830c-a6dc-4751-f457-b482d719c02b"
      },
      "outputs": [
        {
          "output_type": "stream",
          "name": "stdout",
          "text": [
            "Model: \"tf_bert_for_sequence_classification\"\n",
            "_________________________________________________________________\n",
            " Layer (type)                Output Shape              Param #   \n",
            "=================================================================\n",
            " bert (TFBertMainLayer)      multiple                  108310272 \n",
            "                                                                 \n",
            " dropout_43 (Dropout)        multiple                  0         \n",
            "                                                                 \n",
            " classifier (Dense)          multiple                  1538      \n",
            "                                                                 \n",
            "=================================================================\n",
            "Total params: 108,311,810\n",
            "Trainable params: 108,311,810\n",
            "Non-trainable params: 0\n",
            "_________________________________________________________________\n"
          ]
        }
      ],
      "source": [
        "bert_model.summary()"
      ]
    },
    {
      "cell_type": "markdown",
      "metadata": {
        "id": "L1mkHodNPWQn"
      },
      "source": [
        "#####Train the model"
      ]
    },
    {
      "cell_type": "code",
      "execution_count": 108,
      "metadata": {
        "colab": {
          "base_uri": "https://localhost:8080/"
        },
        "id": "go5H5P9VPeJ-",
        "outputId": "ea1fb822-4b5b-4535-bcca-380c2a7021a7"
      },
      "outputs": [
        {
          "output_type": "stream",
          "name": "stdout",
          "text": [
            "...fine-tuning BERT on IMDB data set...\n",
            "Epoch 1/3\n",
            "1250/1250 [==============================] - 696s 542ms/step - loss: 0.3485 - accuracy: 0.8481 - val_loss: 0.2682 - val_accuracy: 0.8834\n",
            "Epoch 2/3\n",
            "1250/1250 [==============================] - 681s 545ms/step - loss: 0.1927 - accuracy: 0.9281 - val_loss: 0.3557 - val_accuracy: 0.8746\n",
            "Epoch 3/3\n",
            "1250/1250 [==============================] - 681s 545ms/step - loss: 0.1005 - accuracy: 0.9664 - val_loss: 0.3895 - val_accuracy: 0.8906\n"
          ]
        }
      ],
      "source": [
        "print(\"...fine-tuning BERT on IMDB data set...\")\n",
        "\n",
        "bert_history = bert_model.fit(train_ds, epochs=3,\n",
        "                              validation_data=valid_ds)"
      ]
    },
    {
      "cell_type": "markdown",
      "metadata": {
        "id": "fxZifNG66dIS"
      },
      "source": [
        "#####Evaluate the model"
      ]
    },
    {
      "cell_type": "code",
      "execution_count": null,
      "metadata": {
        "id": "VQaPw7AOP6tW"
      },
      "outputs": [],
      "source": [
        "#\n",
        "# prep test data as we did for training data\n",
        "#\n",
        "bert_test = [bert_encoder(r) for r,l in imdb_test]\n",
        "bert_tst_lbl = [l for r, l in imdb_test]\n",
        "\n",
        "bert_test2 = np.array(bert_test)\n",
        "bert_tst_lbl2 = tf.keras.utils.to_categorical (bert_tst_lbl,\n",
        "                                               num_classes=2)\n",
        "\n",
        "ts_reviews, ts_segments, ts_masks = np.split(bert_test2, 3, axis=1)\n",
        "ts_reviews = ts_reviews.squeeze()\n",
        "ts_segments = ts_segments.squeeze()\n",
        "ts_masks = ts_masks.squeeze()\n",
        "\n",
        "test_ds = tf.data.Dataset.from_tensor_slices((ts_reviews,\n",
        "                                              ts_masks, ts_segments, bert_tst_lbl2)).\\\n",
        "                                              map(example_to_features).shuffle(100).batch(16)"
      ]
    },
    {
      "cell_type": "code",
      "execution_count": 110,
      "metadata": {
        "id": "dGobg21tQ223",
        "colab": {
          "base_uri": "https://localhost:8080/"
        },
        "outputId": "3dddd462-25b8-4367-dfa2-1f4873578bcc"
      },
      "outputs": [
        {
          "metadata": {
            "tags": null
          },
          "name": "stdout",
          "output_type": "stream",
          "text": [
            "1563/1563 [==============================] - 268s 172ms/step - loss: 0.4272 - accuracy: 0.8789\n"
          ]
        },
        {
          "data": {
            "text/plain": [
              "[0.4272250533103943, 0.8788800239562988]"
            ]
          },
          "execution_count": 110,
          "metadata": {},
          "output_type": "execute_result"
        }
      ],
      "source": [
        "bert_model.evaluate(test_ds)"
      ]
    },
    {
      "cell_type": "markdown",
      "metadata": {
        "id": "szyTEAOEX3fO"
      },
      "source": [
        "###Part 2 Summary Table\n",
        "\n",
        "| Method | Test Accuracy | Remarks |\n",
        "| --- | --- | --- |\n",
        "| (2A) Single LSTM w/embedding | 0.853 | Baseline |\n",
        "| (2B) Double layer LSTM w/embedding | 0.859 | almost the same result as single LSTM |\n",
        "| (2C.1a) Transfer learning: Double LSTM GloVe embeddings (frozen pre-trained) | 0.836 | worse than straight LSTM models |\n",
        "| (2C.1b) Transfer learing: Double LSTM GloVe embeddings (unfrozen pre-trained) | 0.861 | better now that we can train the GloVe embeddings, better than baseline slightly |\n",
        "| (2C.2) Transfer learning with BERT | 0.878 | encoding takes a while but good performance |\n"
      ]
    },
    {
      "cell_type": "markdown",
      "metadata": {
        "id": "fC1B01BCE7OJ"
      },
      "source": [
        "## Part 3: NLP using Transformers \n",
        "\n",
        "In Part 3 we will look at the Transformer architecture and how it can be used in a specific NLP task, machine translation (from English to Spanish).\n",
        "\n",
        "Please refer to Chapter 11 of [our textbook](https://learning.oreilly.com/library/view/deep-learning-with/9781617296864) for additional information.\n"
      ]
    },
    {
      "cell_type": "markdown",
      "metadata": {
        "id": "ITYmXB88E7Oa"
      },
      "source": [
        "Useful sources and references for Part 3:\n",
        "\n",
        "- https://colab.research.google.com/github/fchollet/deep-learning-with-python-notebooks/blob/master/chapter11_part03_transformer.ipynb\n",
        "- https://colab.research.google.com/github/fchollet/deep-learning-with-python-notebooks/blob/master/chapter11_part04_sequence-to-sequence-learning.ipynb \n"
      ]
    },
    {
      "cell_type": "markdown",
      "metadata": {
        "id": "6IwBooqWFQGb"
      },
      "source": [
        "### Setup"
      ]
    },
    {
      "cell_type": "code",
      "execution_count": 112,
      "metadata": {
        "colab": {
          "base_uri": "https://localhost:8080/"
        },
        "id": "-uEVqAmHFQGb",
        "outputId": "c14937d8-969d-4964-bffd-52bd3f5e50a4"
      },
      "outputs": [
        {
          "output_type": "stream",
          "name": "stdout",
          "text": [
            "--2022-07-22 18:41:12--  http://storage.googleapis.com/download.tensorflow.org/data/spa-eng.zip\n",
            "Resolving storage.googleapis.com (storage.googleapis.com)... 172.217.218.128, 142.251.31.128, 142.250.145.128, ...\n",
            "Connecting to storage.googleapis.com (storage.googleapis.com)|172.217.218.128|:80... connected.\n",
            "HTTP request sent, awaiting response... 200 OK\n",
            "Length: 2638744 (2.5M) [application/zip]\n",
            "Saving to: ‘spa-eng.zip’\n",
            "\n",
            "\rspa-eng.zip           0%[                    ]       0  --.-KB/s               \rspa-eng.zip         100%[===================>]   2.52M  --.-KB/s    in 0.03s   \n",
            "\n",
            "2022-07-22 18:41:12 (90.1 MB/s) - ‘spa-eng.zip’ saved [2638744/2638744]\n",
            "\n"
          ]
        }
      ],
      "source": [
        "!wget http://storage.googleapis.com/download.tensorflow.org/data/spa-eng.zip\n",
        "!unzip -q spa-eng.zip"
      ]
    },
    {
      "cell_type": "code",
      "execution_count": 113,
      "metadata": {
        "id": "eOLIZ9ZtFQGc"
      },
      "outputs": [],
      "source": [
        "text_file = \"spa-eng/spa.txt\"\n",
        "with open(text_file) as f:\n",
        "    lines = f.read().split(\"\\n\")[:-1]\n",
        "text_pairs = []\n",
        "for line in lines:\n",
        "    english, spanish = line.split(\"\\t\")\n",
        "    spanish = \"[start] \" + spanish + \" [end]\"\n",
        "    text_pairs.append((english, spanish))"
      ]
    },
    {
      "cell_type": "code",
      "execution_count": 114,
      "metadata": {
        "colab": {
          "base_uri": "https://localhost:8080/"
        },
        "id": "LvcrsLQhFQGc",
        "outputId": "05ba1627-0882-4ac7-8696-246d7fd41402"
      },
      "outputs": [
        {
          "output_type": "stream",
          "name": "stdout",
          "text": [
            "(\"I've married the wrong person.\", '[start] Me he casado con la persona equivocada. [end]')\n"
          ]
        }
      ],
      "source": [
        "import random\n",
        "print(random.choice(text_pairs))"
      ]
    },
    {
      "cell_type": "code",
      "execution_count": 115,
      "metadata": {
        "id": "sgx4dI1OFQGc"
      },
      "outputs": [],
      "source": [
        "import random\n",
        "random.shuffle(text_pairs)\n",
        "num_val_samples = int(0.15 * len(text_pairs))\n",
        "num_train_samples = len(text_pairs) - 2 * num_val_samples\n",
        "train_pairs = text_pairs[:num_train_samples]\n",
        "val_pairs = text_pairs[num_train_samples:num_train_samples + num_val_samples]\n",
        "test_pairs = text_pairs[num_train_samples + num_val_samples:]"
      ]
    },
    {
      "cell_type": "markdown",
      "metadata": {
        "id": "p3a4eNBeFQGd"
      },
      "source": [
        "**Vectorizing the English and Spanish text pairs**"
      ]
    },
    {
      "cell_type": "code",
      "execution_count": 116,
      "metadata": {
        "id": "5eQ6EdPZFQGd"
      },
      "outputs": [],
      "source": [
        "import tensorflow as tf\n",
        "import string\n",
        "import re\n",
        "\n",
        "from tensorflow import keras\n",
        "from tensorflow.keras import layers\n",
        "\n",
        "strip_chars = string.punctuation + \"¿\"\n",
        "strip_chars = strip_chars.replace(\"[\", \"\")\n",
        "strip_chars = strip_chars.replace(\"]\", \"\")\n",
        "\n",
        "def custom_standardization(input_string):\n",
        "    lowercase = tf.strings.lower(input_string)\n",
        "    return tf.strings.regex_replace(\n",
        "        lowercase, f\"[{re.escape(strip_chars)}]\", \"\")\n",
        "\n",
        "vocab_size = 15000\n",
        "sequence_length = 20\n",
        "\n",
        "source_vectorization = layers.TextVectorization(\n",
        "    max_tokens=vocab_size,\n",
        "    output_mode=\"int\",\n",
        "    output_sequence_length=sequence_length,\n",
        ")\n",
        "target_vectorization = layers.TextVectorization(\n",
        "    max_tokens=vocab_size,\n",
        "    output_mode=\"int\",\n",
        "    output_sequence_length=sequence_length + 1,\n",
        "    standardize=custom_standardization,\n",
        ")\n",
        "train_english_texts = [pair[0] for pair in train_pairs]\n",
        "train_spanish_texts = [pair[1] for pair in train_pairs]\n",
        "source_vectorization.adapt(train_english_texts)\n",
        "target_vectorization.adapt(train_spanish_texts)"
      ]
    },
    {
      "cell_type": "markdown",
      "metadata": {
        "id": "I8FSpt8VFQGe"
      },
      "source": [
        "**Preparing datasets for the translation task**"
      ]
    },
    {
      "cell_type": "code",
      "execution_count": 117,
      "metadata": {
        "id": "LUs8N_zjFQGe"
      },
      "outputs": [],
      "source": [
        "batch_size = 64\n",
        "\n",
        "def format_dataset(eng, spa):\n",
        "    eng = source_vectorization(eng)\n",
        "    spa = target_vectorization(spa)\n",
        "    return ({\n",
        "        \"english\": eng,\n",
        "        \"spanish\": spa[:, :-1],\n",
        "    }, spa[:, 1:])\n",
        "\n",
        "def make_dataset(pairs):\n",
        "    eng_texts, spa_texts = zip(*pairs)\n",
        "    eng_texts = list(eng_texts)\n",
        "    spa_texts = list(spa_texts)\n",
        "    dataset = tf.data.Dataset.from_tensor_slices((eng_texts, spa_texts))\n",
        "    dataset = dataset.batch(batch_size)\n",
        "    dataset = dataset.map(format_dataset, num_parallel_calls=4)\n",
        "    return dataset.shuffle(2048).prefetch(16).cache()\n",
        "\n",
        "train_ds = make_dataset(train_pairs)\n",
        "val_ds = make_dataset(val_pairs)"
      ]
    },
    {
      "cell_type": "code",
      "execution_count": 118,
      "metadata": {
        "colab": {
          "base_uri": "https://localhost:8080/"
        },
        "id": "caWA_b2BFQGe",
        "outputId": "90fe82d7-23df-48e0-cf4f-b8b157b6f52e"
      },
      "outputs": [
        {
          "output_type": "stream",
          "name": "stdout",
          "text": [
            "inputs['english'].shape: (64, 20)\n",
            "inputs['spanish'].shape: (64, 20)\n",
            "targets.shape: (64, 20)\n"
          ]
        }
      ],
      "source": [
        "for inputs, targets in train_ds.take(1):\n",
        "    print(f\"inputs['english'].shape: {inputs['english'].shape}\")\n",
        "    print(f\"inputs['spanish'].shape: {inputs['spanish'].shape}\")\n",
        "    print(f\"targets.shape: {targets.shape}\")"
      ]
    },
    {
      "cell_type": "markdown",
      "metadata": {
        "id": "BL1QeLMLEznr"
      },
      "source": [
        "### The Transformer encoder"
      ]
    },
    {
      "cell_type": "code",
      "execution_count": 119,
      "metadata": {
        "id": "CTQRyZTKEznt"
      },
      "outputs": [],
      "source": [
        "import tensorflow as tf\n",
        "from tensorflow import keras\n",
        "from tensorflow.keras import layers\n",
        "\n",
        "class TransformerEncoder(layers.Layer):\n",
        "    def __init__(self, embed_dim, dense_dim, num_heads, **kwargs):\n",
        "        super().__init__(**kwargs)\n",
        "        self.embed_dim = embed_dim\n",
        "        self.dense_dim = dense_dim\n",
        "        self.num_heads = num_heads\n",
        "        self.attention = layers.MultiHeadAttention(\n",
        "            num_heads=num_heads, key_dim=embed_dim)\n",
        "        self.dense_proj = keras.Sequential(\n",
        "            [layers.Dense(dense_dim, activation=\"relu\"),\n",
        "             layers.Dense(embed_dim),]\n",
        "        )\n",
        "        self.layernorm_1 = layers.LayerNormalization()\n",
        "        self.layernorm_2 = layers.LayerNormalization()\n",
        "\n",
        "    def call(self, inputs, mask=None):\n",
        "        if mask is not None:\n",
        "            mask = mask[:, tf.newaxis, :]\n",
        "        attention_output = self.attention(\n",
        "            inputs, inputs, attention_mask=mask)\n",
        "        proj_input = self.layernorm_1(inputs + attention_output)\n",
        "        proj_output = self.dense_proj(proj_input)\n",
        "        return self.layernorm_2(proj_input + proj_output)\n",
        "\n",
        "    def get_config(self):\n",
        "        config = super().get_config()\n",
        "        config.update({\n",
        "            \"embed_dim\": self.embed_dim,\n",
        "            \"num_heads\": self.num_heads,\n",
        "            \"dense_dim\": self.dense_dim,\n",
        "        })\n",
        "        return config"
      ]
    },
    {
      "cell_type": "markdown",
      "metadata": {
        "id": "xIPjMfSSFQGg"
      },
      "source": [
        "### The Transformer decoder"
      ]
    },
    {
      "cell_type": "code",
      "execution_count": 120,
      "metadata": {
        "id": "UvZV_l5QFQGg"
      },
      "outputs": [],
      "source": [
        "class TransformerDecoder(layers.Layer):\n",
        "    def __init__(self, embed_dim, dense_dim, num_heads, **kwargs):\n",
        "        super().__init__(**kwargs)\n",
        "        self.embed_dim = embed_dim\n",
        "        self.dense_dim = dense_dim\n",
        "        self.num_heads = num_heads\n",
        "        self.attention_1 = layers.MultiHeadAttention(\n",
        "            num_heads=num_heads, key_dim=embed_dim)\n",
        "        self.attention_2 = layers.MultiHeadAttention(\n",
        "            num_heads=num_heads, key_dim=embed_dim)\n",
        "        self.dense_proj = keras.Sequential(\n",
        "            [layers.Dense(dense_dim, activation=\"relu\"),\n",
        "             layers.Dense(embed_dim),]\n",
        "        )\n",
        "        self.layernorm_1 = layers.LayerNormalization()\n",
        "        self.layernorm_2 = layers.LayerNormalization()\n",
        "        self.layernorm_3 = layers.LayerNormalization()\n",
        "        self.supports_masking = True\n",
        "\n",
        "    def get_config(self):\n",
        "        config = super().get_config()\n",
        "        config.update({\n",
        "            \"embed_dim\": self.embed_dim,\n",
        "            \"num_heads\": self.num_heads,\n",
        "            \"dense_dim\": self.dense_dim,\n",
        "        })\n",
        "        return config\n",
        "\n",
        "    def get_causal_attention_mask(self, inputs):\n",
        "        input_shape = tf.shape(inputs)\n",
        "        batch_size, sequence_length = input_shape[0], input_shape[1]\n",
        "        i = tf.range(sequence_length)[:, tf.newaxis]\n",
        "        j = tf.range(sequence_length)\n",
        "        mask = tf.cast(i >= j, dtype=\"int32\")\n",
        "        mask = tf.reshape(mask, (1, input_shape[1], input_shape[1]))\n",
        "        mult = tf.concat(\n",
        "            [tf.expand_dims(batch_size, -1),\n",
        "             tf.constant([1, 1], dtype=tf.int32)], axis=0)\n",
        "        return tf.tile(mask, mult)\n",
        "\n",
        "    def call(self, inputs, encoder_outputs, mask=None):\n",
        "        causal_mask = self.get_causal_attention_mask(inputs)\n",
        "        if mask is not None:\n",
        "            padding_mask = tf.cast(\n",
        "                mask[:, tf.newaxis, :], dtype=\"int32\")\n",
        "            padding_mask = tf.minimum(padding_mask, causal_mask)\n",
        "        attention_output_1 = self.attention_1(\n",
        "            query=inputs,\n",
        "            value=inputs,\n",
        "            key=inputs,\n",
        "            attention_mask=causal_mask)\n",
        "        attention_output_1 = self.layernorm_1(inputs + attention_output_1)\n",
        "        attention_output_2 = self.attention_2(\n",
        "            query=attention_output_1,\n",
        "            value=encoder_outputs,\n",
        "            key=encoder_outputs,\n",
        "            attention_mask=padding_mask,\n",
        "        )\n",
        "        attention_output_2 = self.layernorm_2(\n",
        "            attention_output_1 + attention_output_2)\n",
        "        proj_output = self.dense_proj(attention_output_2)\n",
        "        return self.layernorm_3(attention_output_2 + proj_output)"
      ]
    },
    {
      "cell_type": "markdown",
      "metadata": {
        "id": "YnebEA1XFQGg"
      },
      "source": [
        "### Putting it all together: A Transformer for machine translation"
      ]
    },
    {
      "cell_type": "markdown",
      "metadata": {
        "id": "PkPhTo11FQGg"
      },
      "source": [
        "**PositionalEmbedding layer**"
      ]
    },
    {
      "cell_type": "code",
      "execution_count": 121,
      "metadata": {
        "id": "farM4iYXFQGg"
      },
      "outputs": [],
      "source": [
        "class PositionalEmbedding(layers.Layer):\n",
        "    def __init__(self, sequence_length, input_dim, output_dim, **kwargs):\n",
        "        super().__init__(**kwargs)\n",
        "        self.token_embeddings = layers.Embedding(\n",
        "            input_dim=input_dim, output_dim=output_dim)\n",
        "        self.position_embeddings = layers.Embedding(\n",
        "            input_dim=sequence_length, output_dim=output_dim)\n",
        "        self.sequence_length = sequence_length\n",
        "        self.input_dim = input_dim\n",
        "        self.output_dim = output_dim\n",
        "\n",
        "    def call(self, inputs):\n",
        "        length = tf.shape(inputs)[-1]\n",
        "        positions = tf.range(start=0, limit=length, delta=1)\n",
        "        embedded_tokens = self.token_embeddings(inputs)\n",
        "        embedded_positions = self.position_embeddings(positions)\n",
        "        return embedded_tokens + embedded_positions\n",
        "\n",
        "    def compute_mask(self, inputs, mask=None):\n",
        "        return tf.math.not_equal(inputs, 0)\n",
        "\n",
        "    def get_config(self):\n",
        "        config = super(PositionalEmbedding, self).get_config()\n",
        "        config.update({\n",
        "            \"output_dim\": self.output_dim,\n",
        "            \"sequence_length\": self.sequence_length,\n",
        "            \"input_dim\": self.input_dim,\n",
        "        })\n",
        "        return config"
      ]
    },
    {
      "cell_type": "markdown",
      "metadata": {
        "id": "yvRcD-XAFQGh"
      },
      "source": [
        "**End-to-end Transformer**"
      ]
    },
    {
      "cell_type": "code",
      "execution_count": 122,
      "metadata": {
        "id": "JaZQjjcYFQGh"
      },
      "outputs": [],
      "source": [
        "embed_dim = 256\n",
        "dense_dim = 2048\n",
        "num_heads = 8\n",
        "\n",
        "encoder_inputs = keras.Input(shape=(None,), dtype=\"int64\", name=\"english\")\n",
        "x = PositionalEmbedding(sequence_length, vocab_size, embed_dim)(encoder_inputs)\n",
        "encoder_outputs = TransformerEncoder(embed_dim, dense_dim, num_heads)(x)\n",
        "\n",
        "decoder_inputs = keras.Input(shape=(None,), dtype=\"int64\", name=\"spanish\")\n",
        "x = PositionalEmbedding(sequence_length, vocab_size, embed_dim)(decoder_inputs)\n",
        "x = TransformerDecoder(embed_dim, dense_dim, num_heads)(x, encoder_outputs)\n",
        "x = layers.Dropout(0.5)(x)\n",
        "decoder_outputs = layers.Dense(vocab_size, activation=\"softmax\")(x)\n",
        "transformer = keras.Model([encoder_inputs, decoder_inputs], decoder_outputs)"
      ]
    },
    {
      "cell_type": "markdown",
      "metadata": {
        "id": "trkoQ4TVFQGh"
      },
      "source": [
        "**Training the sequence-to-sequence Transformer**"
      ]
    },
    {
      "cell_type": "code",
      "execution_count": 123,
      "metadata": {
        "colab": {
          "base_uri": "https://localhost:8080/"
        },
        "id": "m564inrUFQGh",
        "outputId": "2d64445b-ef20-4741-fefd-2da39bd9b8b6"
      },
      "outputs": [
        {
          "output_type": "stream",
          "name": "stdout",
          "text": [
            "Epoch 1/10\n",
            "1302/1302 [==============================] - 91s 67ms/step - loss: 1.6768 - accuracy: 0.4176 - val_loss: 1.3287 - val_accuracy: 0.5077\n",
            "Epoch 2/10\n",
            "1302/1302 [==============================] - 88s 68ms/step - loss: 1.3410 - accuracy: 0.5320 - val_loss: 1.1722 - val_accuracy: 0.5651\n",
            "Epoch 3/10\n",
            "1302/1302 [==============================] - 88s 68ms/step - loss: 1.1892 - accuracy: 0.5808 - val_loss: 1.0925 - val_accuracy: 0.6006\n",
            "Epoch 4/10\n",
            "1302/1302 [==============================] - 88s 68ms/step - loss: 1.1011 - accuracy: 0.6127 - val_loss: 1.0534 - val_accuracy: 0.6195\n",
            "Epoch 5/10\n",
            "1302/1302 [==============================] - 88s 68ms/step - loss: 1.0517 - accuracy: 0.6352 - val_loss: 1.0293 - val_accuracy: 0.6305\n",
            "Epoch 6/10\n",
            "1302/1302 [==============================] - 89s 68ms/step - loss: 1.0208 - accuracy: 0.6511 - val_loss: 1.0168 - val_accuracy: 0.6387\n",
            "Epoch 7/10\n",
            "1302/1302 [==============================] - 88s 68ms/step - loss: 0.9975 - accuracy: 0.6640 - val_loss: 1.0123 - val_accuracy: 0.6441\n",
            "Epoch 8/10\n",
            "1302/1302 [==============================] - 88s 68ms/step - loss: 0.9773 - accuracy: 0.6754 - val_loss: 1.0109 - val_accuracy: 0.6433\n",
            "Epoch 9/10\n",
            "1302/1302 [==============================] - 89s 68ms/step - loss: 0.9598 - accuracy: 0.6850 - val_loss: 1.0036 - val_accuracy: 0.6496\n",
            "Epoch 10/10\n",
            "1302/1302 [==============================] - 89s 68ms/step - loss: 0.9441 - accuracy: 0.6928 - val_loss: 0.9988 - val_accuracy: 0.6526\n"
          ]
        },
        {
          "output_type": "execute_result",
          "data": {
            "text/plain": [
              "<keras.callbacks.History at 0x7f6af1173b50>"
            ]
          },
          "metadata": {},
          "execution_count": 123
        }
      ],
      "source": [
        "transformer.compile(\n",
        "    optimizer=\"rmsprop\",\n",
        "    loss=\"sparse_categorical_crossentropy\",\n",
        "    metrics=[\"accuracy\"])\n",
        "transformer.fit(train_ds, epochs=10, validation_data=val_ds)"
      ]
    },
    {
      "cell_type": "markdown",
      "metadata": {
        "id": "UNa1godRFQGh"
      },
      "source": [
        "**Translating new sentences with our Transformer model**"
      ]
    },
    {
      "cell_type": "code",
      "execution_count": 124,
      "metadata": {
        "colab": {
          "base_uri": "https://localhost:8080/"
        },
        "id": "9gAvOuwtFQGh",
        "outputId": "6eaad43b-3d34-4df5-a0a4-747d9e052f67"
      },
      "outputs": [
        {
          "output_type": "stream",
          "name": "stdout",
          "text": [
            "-\n",
            "I use Firefox.\n",
            "[start] yo como [UNK] [end]\n",
            "-\n",
            "You shouldn't trust your memory so much.\n",
            "[start] no deberías pasar lo que es tan de mi salud [end]\n",
            "-\n",
            "Tom took the microphone away from Mary.\n",
            "[start] tom se tomó la [UNK] de mary [end]\n",
            "-\n",
            "He's definitely not coming.\n",
            "[start] Él no viene a la vez [end]\n",
            "-\n",
            "Would you mind showing Tom around the city?\n",
            "[start] te importa que me [UNK] la ciudad [end]\n",
            "-\n",
            "Why did you kiss me?\n",
            "[start] por qué me lo [UNK] [end]\n",
            "-\n",
            "I have dandruff.\n",
            "[start] tengo que [UNK] [end]\n",
            "-\n",
            "Do you want a drink?\n",
            "[start] quieres un poco [end]\n",
            "-\n",
            "He didn't acknowledge defeat.\n",
            "[start] Él no se [UNK] [end]\n",
            "-\n",
            "The operation had to be kept secret.\n",
            "[start] la la [UNK] tenía que tener que [UNK] [end]\n",
            "-\n",
            "Are both of you ready to go?\n",
            "[start] los dos están listo para ir [end]\n",
            "-\n",
            "Everything was ready for the trip.\n",
            "[start] todo estaba listo para el viaje [end]\n",
            "-\n",
            "He's my best friend. It's as if he were my brother.\n",
            "[start] es mi mejor amigo que él fuera el amigo de que yo fuera mi hermano [end]\n",
            "-\n",
            "She's also a beauty.\n",
            "[start] también es una se una se a la de una se a la se a la de una de de\n",
            "-\n",
            "Tom is coming next Monday.\n",
            "[start] tom está allí el lunes [end]\n",
            "-\n",
            "Tom wants to tell Mary the truth.\n",
            "[start] tom quiere decir la verdad a mary [end]\n",
            "-\n",
            "I need to buy one.\n",
            "[start] necesito comprar [end]\n",
            "-\n",
            "He was trapped in a dead-end job.\n",
            "[start] Él estaba [UNK] en un trabajo [UNK] [end]\n",
            "-\n",
            "This is a very mild coffee.\n",
            "[start] esta es un café muy difícil [end]\n",
            "-\n",
            "Why do you love me?\n",
            "[start] por qué me quieres [end]\n"
          ]
        }
      ],
      "source": [
        "import numpy as np\n",
        "spa_vocab = target_vectorization.get_vocabulary()\n",
        "spa_index_lookup = dict(zip(range(len(spa_vocab)), spa_vocab))\n",
        "max_decoded_sentence_length = 20\n",
        "\n",
        "def decode_sequence(input_sentence):\n",
        "    tokenized_input_sentence = source_vectorization([input_sentence])\n",
        "    decoded_sentence = \"[start]\"\n",
        "    for i in range(max_decoded_sentence_length):\n",
        "        tokenized_target_sentence = target_vectorization(\n",
        "            [decoded_sentence])[:, :-1]\n",
        "        predictions = transformer(\n",
        "            [tokenized_input_sentence, tokenized_target_sentence])\n",
        "        sampled_token_index = np.argmax(predictions[0, i, :])\n",
        "        sampled_token = spa_index_lookup[sampled_token_index]\n",
        "        decoded_sentence += \" \" + sampled_token\n",
        "        if sampled_token == \"[end]\":\n",
        "            break\n",
        "    return decoded_sentence\n",
        "\n",
        "test_eng_texts = [pair[0] for pair in test_pairs]\n",
        "for _ in range(20):\n",
        "    input_sentence = random.choice(test_eng_texts)\n",
        "    print(\"-\")\n",
        "    print(input_sentence)\n",
        "    print(decode_sequence(input_sentence))"
      ]
    },
    {
      "cell_type": "markdown",
      "source": [
        "## Appendix A: More on BERT"
      ],
      "metadata": {
        "id": "qNCQGezAZzkF"
      }
    },
    {
      "cell_type": "markdown",
      "metadata": {
        "id": "5-I7PDSB-hwz"
      },
      "source": [
        "#### BERT Overview\n",
        "\n",
        "\n",
        "**BERT** stands for **B**idirectional **E**ncoder **R**epresentations from **T**ransformers. Let us understand this in detail each word .\n",
        "\n",
        "* **Bidirectional** - to understand the text you’re looking you’ll have to look back (at the previous words) and forward (at the next words)\n",
        "* **Transformers** - [The Attention Is All You Need](https://arxiv.org/pdf/1706.03762.pdf) paper presented the Transformer model. The Transformer reads entire sequences of tokens at once. In a sense, the model is non-directional, while LSTMs read sequentially (left-to-right or right-to-left). The attention mechanism allows for learning contextual relations between words (e.g. his in a sentence refers to Jim).\n",
        "* **(Pre-trained) contextualized word embeddings** - [The ELMO paper](https://arxiv.org/pdf/1802.05365v2.pdf) introduced a way to encode words based on their meaning/context. Nails has multiple meanings - fingernails and metal nails.\n",
        "\n",
        "BERT was trained by masking 15% of the tokens with the goal to guess them. An additional objective was to predict the next sentence.\n",
        "\n",
        "\n",
        "\n",
        "---\n",
        "\n",
        "\n",
        "From Wikipedia contributors. \"BERT (language model).\" Wikipedia, The Free Encyclopedia. Wikipedia, The Free Encyclopedia, 25 Jun. 2022. Web. 17 Jul. 2022.\n",
        "\n",
        "\n",
        "*BERT*\n",
        "\n",
        "Bidirectional Encoder Representations from Transformers (BERT) is a transformer-based machine learning technique for natural language processing (NLP) pre-training developed by Google. BERT was created and published in 2018 by Jacob Devlin and his colleagues from Google.[1][2] In 2019, Google announced that it had begun leveraging BERT in its search engine, and by late 2020 it was using BERT in almost every English-language query. A 2020 literature survey concluded that \"in a little over a year, BERT has become a ubiquitous baseline in NLP experiments\", counting over 150 research publications analyzing and improving the model.[3]\n",
        "\n",
        "The original English-language BERT has two models:[1] (1) the BERTBASE: 12 encoders with 12 bidirectional self-attention heads, and (2) the BERTLARGE: 24 encoders with 16 bidirectional self-attention heads. Both models are pre-trained from unlabeled data extracted from the BooksCorpus[4] with 800M words and English Wikipedia with 2,500M words.\n",
        "\n",
        "\n",
        "*Architecture*\n",
        "\n",
        "BERT is at its core a transformer language model with a variable number of encoder layers and self-attention heads. The architecture is \"almost identical\" to the original transformer implementation in Vaswani et al. (2017).[5]\n",
        "\n",
        "BERT was pretrained on two tasks: language modelling (15% of tokens were masked and BERT was trained to predict them from context) and next sentence prediction (BERT was trained to predict if a chosen next sentence was probable or not given the first sentence). As a result of the training process, BERT learns contextual embeddings for words. After pretraining, which is computationally expensive, BERT can be finetuned with less resources on smaller datasets to optimize its performance on specific tasks.[1][6]\n",
        "\n",
        "\n",
        "\n",
        "---\n",
        "\n",
        "\n",
        "https://www.marketingaiinstitute.com/blog/bert-google#:~:text=BERT%20uses%20AI%20in%20the,%2Dby%2Done%20in%20order.\n",
        "\n",
        "\n",
        "BERT uses AI in the form of natural language processing (NLP), natural language understanding (NLU), and sentiment analysis to process every word in a search query in relation to all the other words in a sentence.\n",
        "\n",
        "In the past, Google used to process words one-by-one in order. The difference in results between the old and new approach can be dramatic. \n",
        "\n",
        "Google offers the example of a search like \"2019 brazil traveler to usa need a visa.\" In the past, Google would have interpreted this search as a US traveler looking for a visa to Brazil. That's because Google didn't account for prepositions and context inherent in human language. In this example, Google would not have taken the word \"to\" into account. That changes the meaning of the search.\n",
        "\n",
        "Compare that to BERT's approach. BERT takes the whole sentence into account, including prepositions. In this example, BERT now understands the searcher is a Brazilian looking for a US visa—not the other way around. \n",
        "\n",
        "---"
      ]
    },
    {
      "cell_type": "markdown",
      "metadata": {
        "id": "oYFrepZnDKJB"
      },
      "source": [
        "####BERT Architecture \n",
        "\n",
        "\n",
        "The original BERT model was developed and trained by Google using TensorFlow. BERT is released in two sizes **BERTBASE** and **BERTLARGE**. \n",
        "\n",
        "The BASE model is used to measure the performance of the architecture comparable to another architecture and the LARGE model produces state-of-the-art results that were reported in the research paper.\n",
        "\n",
        "One of the main reasons for the good performance of BERT on different NLP tasks was the use of **Semi-Supervised Learning**. This means the model is trained for a specific task that enables it to understand the patterns of the language. After training the model (BERT) has language processing capabilities that can be used to empower other models that we build and train using supervised learning.\n",
        "\n",
        "**BERT** is basically an Encoder stack of transformer architecture. A transformer architecture is an encoder-decoder network that uses self-attention on the encoder side and attention on the decoder side. \n",
        "\n",
        "**BERTBASE** has 12 layers in the Encoder stack while **BERTLARGE** has 24 layers in the Encoder stack. These are more than the Transformer architecture described in the original paper (6 encoder layers). \n",
        "\n",
        "**BERT** architectures (BASE and LARGE) also have larger feedforward-networks (768 and 1024 hidden units respectively), and more attention heads (12 and 16 respectively) than the Transformer architecture suggested in the original paper. It contains 512 hidden units and 8 attention heads. \n",
        "\n",
        "**BERTBASE** contains 110M parameters while BERTLARGE has 340M parameters.\n",
        "\n",
        "So in summary\n",
        "* **BERT-Base**: 12 layer Encoder / Decoder, d = 768, 110M parameters\n",
        "* **BERT-Large**: 24 layer Encoder / Decoder, d = 1024, 340M parameters\n",
        "\n",
        "where d is the dimensionality of the final hidden vector output by BERT. Both of these have a Cased and an Uncased version (the Uncased version converts all words to lowercase).\n",
        "\n",
        "![](https://media.geeksforgeeks.org/wp-content/uploads/20200407004114/bert-base-and-large.jpg)\n",
        "\n",
        "This model takes CLS token as input first, then it is followed by a sequence of words as input. Here CLS is a classification token. It then passes the input to the above layers. Each layer applies self-attention, passes the result through a feedforward network after then it hands off to the next encoder.\n",
        "\n",
        "The model outputs a vector of hidden size (768 for BERT BASE). If we want to output a classifier from this model we can take the output corresponding to CLS token.\n",
        "![](https://media.geeksforgeeks.org/wp-content/uploads/20200407005130/BERT-embedding-output.jpg)"
      ]
    },
    {
      "cell_type": "markdown",
      "metadata": {
        "id": "hLMOQV1HDKJC"
      },
      "source": [
        "####Core Idea of BERT\n",
        "\n",
        "What is language modeling really about? Which problem are language models trying to solve? Basically, their task is to “fill in the blank” based on context. For example, given\n",
        "\n",
        "“The woman went to the store and bought a _____ of shoes.”\n",
        "\n",
        "a language model might complete this sentence by saying that the word “cart” would fill the blank 20% of the time and the word “pair” 80% of the time.\n",
        "\n",
        "In the pre-BERT world, a language model would have looked at this text sequence during training from either left-to-right or combined left-to-right and right-to-left. This one-directional approach works well for generating sentences — we can predict the next word, append that to the sequence, then predict the next to next word until we have a complete sentence.\n",
        "\n",
        "Now enters BERT, a language model which is bidirectionally trained (this is also its key technical innovation). This means we can now have a deeper sense of language context and flow compared to the single-direction language models.\n",
        "\n",
        "Instead of predicting the next word in a sequence, BERT makes use of a novel technique called **Masked LM** (MLM): it randomly masks words in the sentence and then it tries to predict them. Masking means that the model looks in both directions and it uses the full context of the sentence, both left and right surroundings, in order to predict the masked word. Unlike the previous language models, it takes both the previous and next tokens into account at the same time. The existing combined left-to-right and right-to-left LSTM based models were missing this “same-time part”. (It might be more accurate to say that BERT is non-directional though.)\n",
        "\n",
        "But why is this non-directional approach so powerful? \n",
        "\n",
        "Pre-trained language representations can either be context-free or context-based. Context-based representations can then be unidirectional or bidirectional. Context-free models like word2vec generate a single word embedding representation (a vector of numbers) for each word in the vocabulary.\n",
        "\n",
        "For example, the word “bank” would have the same context-free representation in “bank account” and “bank of the river.” On the other hand, context-based models generate a representation of each word that is based on the other words in the sentence. For example, in the sentence “I accessed the bank account,” a unidirectional contextual model would represent “bank” based on “I accessed the” but not “account.” However, BERT represents “bank” using both its previous and next context — “I accessed the … account” — starting from the very bottom of a deep neural network, making it deeply bidirectional.\n",
        "![](https://i0.wp.com/mlexplained.com/wp-content/uploads/2019/01/Screen-Shot-2019-01-03-at-11.22.11-AM.png?fit=750%2C192)\n",
        "\n",
        "It’s evident from the above image: BERT is bi-directional, GPT is unidirectional (information flows only from left-to-right), and ELMO is shallowly bidirectional.\n",
        "\n",
        "BERT is based on the Transformer model architecture, instead of LSTMs. We will very soon see the model details of BERT, but in general:\n",
        "\n",
        "A Transformer works by performing a small, constant number of steps. In each step, it applies an attention mechanism to understand relationships between all words in a sentence, regardless of their respective position. For example, given the sentence,  “I arrived at the bank after crossing the river”, to determine that the word “bank” refers to the shore of a river and not a financial institution, the Transformer can learn to immediately pay attention to the word “river” and make this decision in just one step."
      ]
    },
    {
      "cell_type": "markdown",
      "metadata": {
        "id": "yhF-kCwbDKJC"
      },
      "source": [
        "####How does BERT work?\n",
        "\n",
        "BERT relies on a Transformer (the attention mechanism that learns contextual relationships between words in a text). A basic Transformer consists of an encoder to read the text input and a decoder to produce a prediction for the task. Since BERT’s goal is to generate a language representation model, it only needs the encoder part. The input to the encoder for BERT is a sequence of tokens, which are first converted into vectors and then processed in the neural network. But before processing can start, BERT needs the input to be massaged and decorated with some extra metadata:\n",
        "\n",
        "* **Token embeddings**: A  token is added to the input word tokens at the beginning of the first sentence and a  token is inserted at the end of each sentence.\n",
        "* **Segment embeddings**: A marker indicating Sentence A or Sentence B is added to each token. This allows the encoder to distinguish between sentences.\n",
        "* **Positional embeddings**: A positional embedding is added to each token to indicate its position in the sentence.\n",
        "![](https://towardsml.files.wordpress.com/2019/09/input.png?w=810)\n",
        "The input representation for BERT: The input embeddings are the sum of the token embeddings, the segmentation embeddings and the position embeddings.\n",
        " \n",
        "\n",
        "Essentially, the Transformer stacks a layer that maps sequences to sequences, so the output is also a sequence of vectors with a 1:1 correspondence between input and output tokens at the same index. And as we learnt earlier, BERT does not try to predict the next word in the sentence. \n",
        "\n",
        "BERT is pre-trained on two NLP tasks:\n",
        "\n",
        "**1. Masked Language Modeling (MLM)**\n",
        "\n",
        "BERT is designed as a deeply bidirectional model. The network effectively captures information from both the right and left context of a token from the first layer itself and all the way through to the last layer.\n",
        "\n",
        "Traditionally, we had language models either trained to predict the next word in a sentence (right-to-left context used in GPT) or language models that were trained on a left-to-right context. This made our models susceptible to errors due to loss in information.\n",
        "\n",
        "Let us take an example to understand it better\n",
        "\n",
        "Let’s say we have a sentence – “I love to read data science blogs on Kaggle”. We want to train a bi-directional language model. Instead of trying to predict the next word in the sequence, we can build a model to predict a missing word from within the sequence itself.\n",
        "\n",
        "Let’s replace “Kaggle” with “[MASK]”. This is a token to denote that the token is missing. We’ll then train the model in such a way that it should be able to predict “Kaggle” as the missing token: “I love to read data science blogs on [MASK].”\n",
        "\n",
        "This is the crux of a Masked Language Model. The authors of BERT also include some caveats to further improve this technique:\n",
        "\n",
        "To prevent the model from focusing too much on a particular position or tokens that are masked, the researchers randomly masked 15% of the words.\n",
        "\n",
        "The masked words were not always replaced by the masked tokens [MASK] because the [MASK] token would never appear during fine-tuning.\n",
        "\n",
        "So, the researchers used the below technique:\n",
        "\n",
        "* 80% of the time the words were replaced with the masked token [MASK]\n",
        "* 10% of the time the words were replaced with random words\n",
        "* 10% of the time the words were left unchanged\n",
        "\n",
        "\n",
        "**2. Next Sentence Prediction (NSP)**\n",
        "\n",
        "**Masked Language Models (MLMs)** learn to understand the relationship between words. Additionally, BERT is also trained on the task of Next Sentence Prediction for tasks that require an understanding of the relationship between sentences.\n",
        "\n",
        "In order to understand relationship between two sentences, BERT training process also uses next sentence prediction. A pre-trained model with this kind of understanding is relevant for tasks like question answering. During training the model gets as input pairs of sentences and it learns to predict if the second sentence is the next sentence in the original text as well.\n",
        "\n",
        "As we have seen earlier, BERT separates sentences with a special [SEP] token. During training the model is fed with two input sentences at a time such that:\n",
        "\n",
        "* 50% of the time the second sentence comes after the first one.\n",
        "* 50% of the time it is a a random sentence from the full corpus.\n",
        "\n",
        "BERT is then required to predict whether the second sentence is random or not, with the assumption that the random sentence will be disconnected from the first sentence:\n",
        "![](https://towardsml.files.wordpress.com/2019/09/nsp-1.png)\n",
        "\n",
        "To predict if the second sentence is connected to the first one or not, basically the complete input sequence goes through the Transformer based model, the output of the [CLS] token is transformed into a 2×1 shaped vector using a simple classification layer, and the IsNext-Label is assigned using softmax.\n",
        "\n",
        "The model is trained with both Masked LM and Next Sentence Prediction together. This is to minimize the combined loss function of the two strategies — “together is better”."
      ]
    },
    {
      "cell_type": "markdown",
      "source": [
        "### Another BERT Example (CoLA data set)\n",
        "\n",
        "This sourced Sanagapati 2020: *Knowledge Graph & NLP Tutorial-(BERT,spaCy,NLTK)* by Pavan Sanagapati 2020 \n",
        "\n",
        "Available here: https://www.kaggle.com/code/pavansanagapati/knowledge-graph-nlp-tutorial-bert-spacy-nltk/notebook) \n",
        "\n",
        "With code available at https://www.kaggle.com/code/pavansanagapati/knowledge-graph-nlp-tutorial-bert-spacy-nltk/notebook."
      ],
      "metadata": {
        "id": "DEMYBSU1XzJH"
      }
    },
    {
      "cell_type": "markdown",
      "metadata": {
        "id": "wYLsqKQTDKJC"
      },
      "source": [
        "####Setup and Data Load\n",
        "\n",
        "Let us install the pytorch interface for BERT by Hugging Face. (This library contains interfaces for other pretrained language models like OpenAI's GPT and GPT-2.) I have selected the pytorch interface because it strikes a nice balance between the high-level APIs and tensorflow code ."
      ]
    },
    {
      "cell_type": "code",
      "execution_count": 1,
      "metadata": {
        "colab": {
          "base_uri": "https://localhost:8080/"
        },
        "id": "AJtWQq5SDKJC",
        "outputId": "7b0c1b86-111a-4bae-8120-4426313e5aa1"
      },
      "outputs": [
        {
          "output_type": "stream",
          "name": "stdout",
          "text": [
            "Looking in indexes: https://pypi.org/simple, https://us-python.pkg.dev/colab-wheels/public/simple/\n",
            "Requirement already satisfied: pytorch-pretrained-bert in /usr/local/lib/python3.7/dist-packages (0.6.2)\n",
            "Requirement already satisfied: pytorch-nlp in /usr/local/lib/python3.7/dist-packages (0.5.0)\n",
            "Requirement already satisfied: numpy in /usr/local/lib/python3.7/dist-packages (from pytorch-pretrained-bert) (1.21.6)\n",
            "Requirement already satisfied: tqdm in /usr/local/lib/python3.7/dist-packages (from pytorch-pretrained-bert) (4.64.0)\n",
            "Requirement already satisfied: torch>=0.4.1 in /usr/local/lib/python3.7/dist-packages (from pytorch-pretrained-bert) (1.12.0+cu113)\n",
            "Requirement already satisfied: requests in /usr/local/lib/python3.7/dist-packages (from pytorch-pretrained-bert) (2.23.0)\n",
            "Requirement already satisfied: regex in /usr/local/lib/python3.7/dist-packages (from pytorch-pretrained-bert) (2022.6.2)\n",
            "Requirement already satisfied: boto3 in /usr/local/lib/python3.7/dist-packages (from pytorch-pretrained-bert) (1.24.35)\n",
            "Requirement already satisfied: typing-extensions in /usr/local/lib/python3.7/dist-packages (from torch>=0.4.1->pytorch-pretrained-bert) (4.1.1)\n",
            "Requirement already satisfied: s3transfer<0.7.0,>=0.6.0 in /usr/local/lib/python3.7/dist-packages (from boto3->pytorch-pretrained-bert) (0.6.0)\n",
            "Requirement already satisfied: botocore<1.28.0,>=1.27.35 in /usr/local/lib/python3.7/dist-packages (from boto3->pytorch-pretrained-bert) (1.27.35)\n",
            "Requirement already satisfied: jmespath<2.0.0,>=0.7.1 in /usr/local/lib/python3.7/dist-packages (from boto3->pytorch-pretrained-bert) (1.0.1)\n",
            "Requirement already satisfied: urllib3<1.27,>=1.25.4 in /usr/local/lib/python3.7/dist-packages (from botocore<1.28.0,>=1.27.35->boto3->pytorch-pretrained-bert) (1.25.11)\n",
            "Requirement already satisfied: python-dateutil<3.0.0,>=2.1 in /usr/local/lib/python3.7/dist-packages (from botocore<1.28.0,>=1.27.35->boto3->pytorch-pretrained-bert) (2.8.2)\n",
            "Requirement already satisfied: six>=1.5 in /usr/local/lib/python3.7/dist-packages (from python-dateutil<3.0.0,>=2.1->botocore<1.28.0,>=1.27.35->boto3->pytorch-pretrained-bert) (1.15.0)\n",
            "Requirement already satisfied: certifi>=2017.4.17 in /usr/local/lib/python3.7/dist-packages (from requests->pytorch-pretrained-bert) (2022.6.15)\n",
            "Requirement already satisfied: chardet<4,>=3.0.2 in /usr/local/lib/python3.7/dist-packages (from requests->pytorch-pretrained-bert) (3.0.4)\n",
            "Requirement already satisfied: idna<3,>=2.5 in /usr/local/lib/python3.7/dist-packages (from requests->pytorch-pretrained-bert) (2.10)\n"
          ]
        }
      ],
      "source": [
        "# note this requires a runtime restart after packafge install\n",
        "!pip install pytorch-pretrained-bert pytorch-nlp"
      ]
    },
    {
      "cell_type": "code",
      "execution_count": 2,
      "metadata": {
        "id": "3MygSd41DKJC"
      },
      "outputs": [],
      "source": [
        "# Import Libraries\n",
        "\n",
        "import tensorflow as tf\n",
        "import torch\n",
        "from torch.utils.data import TensorDataset, DataLoader, RandomSampler, SequentialSampler\n",
        "from keras.preprocessing.sequence import pad_sequences\n",
        "from sklearn.model_selection import train_test_split\n",
        "from pytorch_pretrained_bert import BertTokenizer, BertConfig\n",
        "from pytorch_pretrained_bert import BertAdam, BertForSequenceClassification\n",
        "from tqdm import tqdm, trange\n",
        "import pandas as pd\n",
        "import io\n",
        "import numpy as np\n",
        "import matplotlib.pyplot as plt\n",
        "%matplotlib inline"
      ]
    },
    {
      "cell_type": "markdown",
      "metadata": {
        "id": "UL8JCHCIDKJC"
      },
      "source": [
        "We use *The Corpus of Linguistic Acceptability (CoLA) dataset* for single sentence classification. Downloaded and installed on Google Drive for development here.\n",
        "\n",
        "It's a set of sentences labeled as grammatically correct or incorrect. The data is as follows:\n",
        "\n",
        "Column 1: the code representing the source of the sentence.\n",
        "\n",
        "Column 2: the acceptability judgment label (0=unacceptable, 1=acceptable).\n",
        "\n",
        "Column 3: the acceptability judgment as originally notated by the author.\n",
        "\n",
        "Column 4: the sentence."
      ]
    },
    {
      "cell_type": "code",
      "execution_count": 3,
      "metadata": {
        "colab": {
          "base_uri": "https://localhost:8080/"
        },
        "id": "8hL-CU5q1L4F",
        "outputId": "6a86e8c3-588f-4a85-a2f4-ce7472e5717c"
      },
      "outputs": [
        {
          "output_type": "stream",
          "name": "stdout",
          "text": [
            "Drive already mounted at /content/drive; to attempt to forcibly remount, call drive.mount(\"/content/drive\", force_remount=True).\n"
          ]
        }
      ],
      "source": [
        "from google.colab import drive\n",
        "\n",
        "drive.mount('/content/drive')"
      ]
    },
    {
      "cell_type": "code",
      "execution_count": 4,
      "metadata": {
        "id": "yXLIj4jU1L4G"
      },
      "outputs": [],
      "source": [
        "import glob\n",
        "import os\n",
        "\n",
        "os.chdir(\"/content/drive/MyDrive/google_colab/deep_learning/Assignment 5/cola_public\")"
      ]
    },
    {
      "cell_type": "code",
      "execution_count": 5,
      "metadata": {
        "id": "iQwtftHld59t"
      },
      "outputs": [],
      "source": [
        "df = pd.read_csv(\"./raw/in_domain_train.tsv\", delimiter='\\t', header=None, names=['sentence_source', 'label', 'label_notes', 'sentence'])"
      ]
    },
    {
      "cell_type": "code",
      "execution_count": 7,
      "metadata": {
        "colab": {
          "base_uri": "https://localhost:8080/"
        },
        "id": "ylR6GZL1esNo",
        "outputId": "bb51be08-c425-4393-ba04-7c1b077a217e"
      },
      "outputs": [
        {
          "output_type": "execute_result",
          "data": {
            "text/plain": [
              "(8551, 4)"
            ]
          },
          "metadata": {},
          "execution_count": 7
        }
      ],
      "source": [
        "df.shape"
      ]
    },
    {
      "cell_type": "code",
      "execution_count": 8,
      "metadata": {
        "colab": {
          "base_uri": "https://localhost:8080/",
          "height": 363
        },
        "id": "0VGrTibLDKJC",
        "outputId": "c19e3ec2-2812-44ea-8dc8-3040094a79ab"
      },
      "outputs": [
        {
          "output_type": "execute_result",
          "data": {
            "text/plain": [
              "     sentence_source  label label_notes  \\\n",
              "3346            l-93      1         NaN   \n",
              "7050          sgww85      1         NaN   \n",
              "8361            ad03      0           *   \n",
              "8173            ad03      0           *   \n",
              "1989            r-67      1         NaN   \n",
              "3955            ks08      1         NaN   \n",
              "2307            l-93      1         NaN   \n",
              "8154            ad03      1         NaN   \n",
              "5288            b_82      0           *   \n",
              "4712            ks08      1         NaN   \n",
              "\n",
              "                                               sentence  \n",
              "3346                  I presented a solution yesterday.  \n",
              "7050                    She goes and buys some whiskey.  \n",
              "8361  Benjamin said he would give the cloak to Lee a...  \n",
              "8173                                 Keep myself clean!  \n",
              "1989                   That the sun was out is obvious.  \n",
              "3955  Historians believe FDR to be our most effectiv...  \n",
              "2307                Linda taped the label to the cover.  \n",
              "8154                  People were playing on the beach.  \n",
              "5288                     The book to whom did you give.  \n",
              "4712           He will keep up with their expectations.  "
            ],
            "text/html": [
              "\n",
              "  <div id=\"df-8a692289-0611-4b49-b3ab-69ae794173bd\">\n",
              "    <div class=\"colab-df-container\">\n",
              "      <div>\n",
              "<style scoped>\n",
              "    .dataframe tbody tr th:only-of-type {\n",
              "        vertical-align: middle;\n",
              "    }\n",
              "\n",
              "    .dataframe tbody tr th {\n",
              "        vertical-align: top;\n",
              "    }\n",
              "\n",
              "    .dataframe thead th {\n",
              "        text-align: right;\n",
              "    }\n",
              "</style>\n",
              "<table border=\"1\" class=\"dataframe\">\n",
              "  <thead>\n",
              "    <tr style=\"text-align: right;\">\n",
              "      <th></th>\n",
              "      <th>sentence_source</th>\n",
              "      <th>label</th>\n",
              "      <th>label_notes</th>\n",
              "      <th>sentence</th>\n",
              "    </tr>\n",
              "  </thead>\n",
              "  <tbody>\n",
              "    <tr>\n",
              "      <th>3346</th>\n",
              "      <td>l-93</td>\n",
              "      <td>1</td>\n",
              "      <td>NaN</td>\n",
              "      <td>I presented a solution yesterday.</td>\n",
              "    </tr>\n",
              "    <tr>\n",
              "      <th>7050</th>\n",
              "      <td>sgww85</td>\n",
              "      <td>1</td>\n",
              "      <td>NaN</td>\n",
              "      <td>She goes and buys some whiskey.</td>\n",
              "    </tr>\n",
              "    <tr>\n",
              "      <th>8361</th>\n",
              "      <td>ad03</td>\n",
              "      <td>0</td>\n",
              "      <td>*</td>\n",
              "      <td>Benjamin said he would give the cloak to Lee a...</td>\n",
              "    </tr>\n",
              "    <tr>\n",
              "      <th>8173</th>\n",
              "      <td>ad03</td>\n",
              "      <td>0</td>\n",
              "      <td>*</td>\n",
              "      <td>Keep myself clean!</td>\n",
              "    </tr>\n",
              "    <tr>\n",
              "      <th>1989</th>\n",
              "      <td>r-67</td>\n",
              "      <td>1</td>\n",
              "      <td>NaN</td>\n",
              "      <td>That the sun was out is obvious.</td>\n",
              "    </tr>\n",
              "    <tr>\n",
              "      <th>3955</th>\n",
              "      <td>ks08</td>\n",
              "      <td>1</td>\n",
              "      <td>NaN</td>\n",
              "      <td>Historians believe FDR to be our most effectiv...</td>\n",
              "    </tr>\n",
              "    <tr>\n",
              "      <th>2307</th>\n",
              "      <td>l-93</td>\n",
              "      <td>1</td>\n",
              "      <td>NaN</td>\n",
              "      <td>Linda taped the label to the cover.</td>\n",
              "    </tr>\n",
              "    <tr>\n",
              "      <th>8154</th>\n",
              "      <td>ad03</td>\n",
              "      <td>1</td>\n",
              "      <td>NaN</td>\n",
              "      <td>People were playing on the beach.</td>\n",
              "    </tr>\n",
              "    <tr>\n",
              "      <th>5288</th>\n",
              "      <td>b_82</td>\n",
              "      <td>0</td>\n",
              "      <td>*</td>\n",
              "      <td>The book to whom did you give.</td>\n",
              "    </tr>\n",
              "    <tr>\n",
              "      <th>4712</th>\n",
              "      <td>ks08</td>\n",
              "      <td>1</td>\n",
              "      <td>NaN</td>\n",
              "      <td>He will keep up with their expectations.</td>\n",
              "    </tr>\n",
              "  </tbody>\n",
              "</table>\n",
              "</div>\n",
              "      <button class=\"colab-df-convert\" onclick=\"convertToInteractive('df-8a692289-0611-4b49-b3ab-69ae794173bd')\"\n",
              "              title=\"Convert this dataframe to an interactive table.\"\n",
              "              style=\"display:none;\">\n",
              "        \n",
              "  <svg xmlns=\"http://www.w3.org/2000/svg\" height=\"24px\"viewBox=\"0 0 24 24\"\n",
              "       width=\"24px\">\n",
              "    <path d=\"M0 0h24v24H0V0z\" fill=\"none\"/>\n",
              "    <path d=\"M18.56 5.44l.94 2.06.94-2.06 2.06-.94-2.06-.94-.94-2.06-.94 2.06-2.06.94zm-11 1L8.5 8.5l.94-2.06 2.06-.94-2.06-.94L8.5 2.5l-.94 2.06-2.06.94zm10 10l.94 2.06.94-2.06 2.06-.94-2.06-.94-.94-2.06-.94 2.06-2.06.94z\"/><path d=\"M17.41 7.96l-1.37-1.37c-.4-.4-.92-.59-1.43-.59-.52 0-1.04.2-1.43.59L10.3 9.45l-7.72 7.72c-.78.78-.78 2.05 0 2.83L4 21.41c.39.39.9.59 1.41.59.51 0 1.02-.2 1.41-.59l7.78-7.78 2.81-2.81c.8-.78.8-2.07 0-2.86zM5.41 20L4 18.59l7.72-7.72 1.47 1.35L5.41 20z\"/>\n",
              "  </svg>\n",
              "      </button>\n",
              "      \n",
              "  <style>\n",
              "    .colab-df-container {\n",
              "      display:flex;\n",
              "      flex-wrap:wrap;\n",
              "      gap: 12px;\n",
              "    }\n",
              "\n",
              "    .colab-df-convert {\n",
              "      background-color: #E8F0FE;\n",
              "      border: none;\n",
              "      border-radius: 50%;\n",
              "      cursor: pointer;\n",
              "      display: none;\n",
              "      fill: #1967D2;\n",
              "      height: 32px;\n",
              "      padding: 0 0 0 0;\n",
              "      width: 32px;\n",
              "    }\n",
              "\n",
              "    .colab-df-convert:hover {\n",
              "      background-color: #E2EBFA;\n",
              "      box-shadow: 0px 1px 2px rgba(60, 64, 67, 0.3), 0px 1px 3px 1px rgba(60, 64, 67, 0.15);\n",
              "      fill: #174EA6;\n",
              "    }\n",
              "\n",
              "    [theme=dark] .colab-df-convert {\n",
              "      background-color: #3B4455;\n",
              "      fill: #D2E3FC;\n",
              "    }\n",
              "\n",
              "    [theme=dark] .colab-df-convert:hover {\n",
              "      background-color: #434B5C;\n",
              "      box-shadow: 0px 1px 3px 1px rgba(0, 0, 0, 0.15);\n",
              "      filter: drop-shadow(0px 1px 2px rgba(0, 0, 0, 0.3));\n",
              "      fill: #FFFFFF;\n",
              "    }\n",
              "  </style>\n",
              "\n",
              "      <script>\n",
              "        const buttonEl =\n",
              "          document.querySelector('#df-8a692289-0611-4b49-b3ab-69ae794173bd button.colab-df-convert');\n",
              "        buttonEl.style.display =\n",
              "          google.colab.kernel.accessAllowed ? 'block' : 'none';\n",
              "\n",
              "        async function convertToInteractive(key) {\n",
              "          const element = document.querySelector('#df-8a692289-0611-4b49-b3ab-69ae794173bd');\n",
              "          const dataTable =\n",
              "            await google.colab.kernel.invokeFunction('convertToInteractive',\n",
              "                                                     [key], {});\n",
              "          if (!dataTable) return;\n",
              "\n",
              "          const docLinkHtml = 'Like what you see? Visit the ' +\n",
              "            '<a target=\"_blank\" href=https://colab.research.google.com/notebooks/data_table.ipynb>data table notebook</a>'\n",
              "            + ' to learn more about interactive tables.';\n",
              "          element.innerHTML = '';\n",
              "          dataTable['output_type'] = 'display_data';\n",
              "          await google.colab.output.renderOutput(dataTable, element);\n",
              "          const docLink = document.createElement('div');\n",
              "          docLink.innerHTML = docLinkHtml;\n",
              "          element.appendChild(docLink);\n",
              "        }\n",
              "      </script>\n",
              "    </div>\n",
              "  </div>\n",
              "  "
            ]
          },
          "metadata": {},
          "execution_count": 8
        }
      ],
      "source": [
        "df.sample(10)"
      ]
    },
    {
      "cell_type": "markdown",
      "source": [
        "####Parse and Transform Data"
      ],
      "metadata": {
        "id": "0VI7A426YgTe"
      }
    },
    {
      "cell_type": "code",
      "execution_count": 9,
      "metadata": {
        "id": "qK7zud1MDKJC"
      },
      "outputs": [],
      "source": [
        "# Create sentence and label lists\n",
        "sentences = df.sentence.values\n",
        "\n",
        "# We need to add special tokens at the beginning and end of each sentence for BERT to work properly\n",
        "sentences = [\"[CLS] \" + sentence + \" [SEP]\" for sentence in sentences]\n",
        "labels = df.label.values"
      ]
    },
    {
      "cell_type": "markdown",
      "metadata": {
        "id": "HHuzstk6DKJD"
      },
      "source": [
        "Next, import the BERT tokenizer, used to convert our text into tokens that correspond to BERT's vocabulary."
      ]
    },
    {
      "cell_type": "code",
      "execution_count": 10,
      "metadata": {
        "colab": {
          "base_uri": "https://localhost:8080/"
        },
        "id": "WTNJeHwhDKJD",
        "outputId": "6c96aaad-83da-407b-c21f-677a2f47eef1"
      },
      "outputs": [
        {
          "output_type": "stream",
          "name": "stderr",
          "text": [
            "100%|██████████| 231508/231508 [00:00<00:00, 906820.22B/s]\n"
          ]
        },
        {
          "output_type": "stream",
          "name": "stdout",
          "text": [
            "Tokenize the first sentence:\n",
            "['[CLS]', 'our', 'friends', 'won', \"'\", 't', 'buy', 'this', 'analysis', ',', 'let', 'alone', 'the', 'next', 'one', 'we', 'propose', '.', '[SEP]']\n"
          ]
        }
      ],
      "source": [
        "tokenizer = BertTokenizer.from_pretrained('bert-base-uncased', do_lower_case=True)\n",
        "\n",
        "tokenized_texts = [tokenizer.tokenize(sent) for sent in sentences]\n",
        "print (\"Tokenize the first sentence:\")\n",
        "print (tokenized_texts[0])"
      ]
    },
    {
      "cell_type": "markdown",
      "metadata": {
        "id": "xvMeJUCGDKJD"
      },
      "source": [
        "BERT requires specifically formatted inputs. For each tokenized input sentence, we need to create:\n",
        "\n",
        "* **input ids**: a sequence of integers identifying each input token to its index number in the BERT tokenizer vocabulary\n",
        "* **segment mask**: (optional) a sequence of 1s and 0s used to identify whether the input is one sentence or two sentences long. For one sentence inputs, this is simply a sequence of 0s. For two sentence inputs, there is a 0 for each token of the first sentence, followed by a 1 for each token of the second sentence\n",
        "* **attention mask**: (optional) a sequence of 1s and 0s, with 1s for all input tokens and 0s for all padding tokens (we'll detail this in the next paragraph)\n",
        "* **labels**: a single value of 1 or 0. In our task 1 means \"grammatical\" and 0 means \"ungrammatical\"\n",
        "\n",
        "Although we can have variable length input sentences, BERT does requires our input arrays to be the same size. I addressed this by first choosing a maximum sentence length, and then padding and truncating our inputs until every input sequence is of the same length.\n",
        "\n",
        "* To \"pad\" our inputs in this context means that if a sentence is shorter than the maximum sentence length, we simply add 0s to the end of the sequence until it is the maximum sentence length.\n",
        "\n",
        "* If a sentence is longer than the maximum sentence length, then we simply truncate the end of the sequence, discarding anything that does not fit into our maximum sentence length.\n",
        "\n",
        "I padded and truncated the sequences so that they all become of length MAX_LEN (\"post\" indicates that we want to pad and truncate at the end of the sequence, as opposed to the beginning) .\n",
        "\n",
        "pad_sequences is a utility function that we're borrowing from Keras. It simply handles the truncating and padding of Python lists."
      ]
    },
    {
      "cell_type": "code",
      "execution_count": 11,
      "metadata": {
        "id": "0Yh4mKKkDKJD"
      },
      "outputs": [],
      "source": [
        "# Set the maximum sequence length. The longest sequence in our training set is 47, but we'll leave room on the end anyway. \n",
        "# In the original paper, the authors used a length of 512.\n",
        "MAX_LEN = 128"
      ]
    },
    {
      "cell_type": "code",
      "execution_count": 12,
      "metadata": {
        "id": "dwtNKZ_jDKJD"
      },
      "outputs": [],
      "source": [
        "# Use the BERT tokenizer to convert the tokens to their index numbers in the BERT vocabulary\n",
        "input_ids = [tokenizer.convert_tokens_to_ids(x) for x in tokenized_texts]"
      ]
    },
    {
      "cell_type": "code",
      "execution_count": 13,
      "metadata": {
        "id": "8DElO6NADKJD"
      },
      "outputs": [],
      "source": [
        "# Pad our input tokens\n",
        "input_ids = pad_sequences(input_ids, maxlen=MAX_LEN, dtype=\"long\", truncating=\"post\", padding=\"post\")"
      ]
    },
    {
      "cell_type": "code",
      "execution_count": 14,
      "metadata": {
        "id": "-KffdvyFDKJD"
      },
      "outputs": [],
      "source": [
        "# Create attention masks\n",
        "attention_masks = []\n",
        "\n",
        "# Create a mask of 1s for each token followed by 0s for padding\n",
        "for seq in input_ids:\n",
        "  seq_mask = [float(i>0) for i in seq]\n",
        "  attention_masks.append(seq_mask)"
      ]
    },
    {
      "cell_type": "code",
      "execution_count": 15,
      "metadata": {
        "id": "GI2RYKxZDKJD"
      },
      "outputs": [],
      "source": [
        "# Use train_test_split to split our data into train and validation sets for training\n",
        "\n",
        "train_inputs, validation_inputs, train_labels, validation_labels = train_test_split(input_ids, labels, \n",
        "                                                            random_state=2018, test_size=0.1)\n",
        "train_masks, validation_masks, _, _ = train_test_split(attention_masks, input_ids,\n",
        "                                             random_state=2018, test_size=0.1)"
      ]
    },
    {
      "cell_type": "code",
      "execution_count": 16,
      "metadata": {
        "id": "ltAsEUZDDKJD"
      },
      "outputs": [],
      "source": [
        "# Convert all of our data into torch tensors, the required datatype for our model\n",
        "\n",
        "train_inputs = torch.tensor(train_inputs)\n",
        "validation_inputs = torch.tensor(validation_inputs)\n",
        "\n",
        "train_labels = torch.tensor(train_labels)\n",
        "validation_labels = torch.tensor(validation_labels)\n",
        "\n",
        "train_masks = torch.tensor(train_masks)\n",
        "validation_masks = torch.tensor(validation_masks)"
      ]
    },
    {
      "cell_type": "code",
      "execution_count": 17,
      "metadata": {
        "id": "1wQGmOGnDKJD"
      },
      "outputs": [],
      "source": [
        "# Select a batch size for training. For fine-tuning BERT on a specific task, the authors recommend a batch size of 16 or 32\n",
        "batch_size = 32\n",
        "\n",
        "# Create an iterator of our data with torch DataLoader. This helps save on memory during training because, unlike a for loop, \n",
        "# with an iterator the entire dataset does not need to be loaded into memory\n",
        "\n",
        "train_data = TensorDataset(train_inputs, train_masks, train_labels)\n",
        "train_sampler = RandomSampler(train_data)\n",
        "train_dataloader = DataLoader(train_data, sampler=train_sampler, batch_size=batch_size)\n",
        "\n",
        "validation_data = TensorDataset(validation_inputs, validation_masks, validation_labels)\n",
        "validation_sampler = SequentialSampler(validation_data)\n",
        "validation_dataloader = DataLoader(validation_data, sampler=validation_sampler, batch_size=batch_size)"
      ]
    },
    {
      "cell_type": "markdown",
      "metadata": {
        "id": "HnWRWgvQDKJD"
      },
      "source": [
        "####Train Model (2 hrs + to build)\n",
        "\n",
        "Now that our input data is properly formatted, it's time to fine tune the BERT model.\n",
        "\n",
        "For this task, we first want to modify the pre-trained BERT model to give outputs for classification, and then we want to continue training the model on our dataset until that the entire model, end-to-end, is well-suited for our task. Thankfully, the huggingface pytorch implementation includes a set of interfaces designed for a variety of NLP tasks. Though these interfaces are all built on top of a trained BERT model, each has different top layers and output types designed to accomodate their specific NLP task.\n",
        "\n",
        "We'll load **BertForSequenceClassification**. This is the normal BERT model with an added single linear layer on top for classification that we will use as a sentence classifier. As we feed input data, the entire pre-trained BERT model and the additional untrained classification layer is trained on our specific task.\n",
        "\n",
        "**Structure of Fine-Tuning Model**\n",
        "\n",
        "As we've showed beforehand, the first token of every sequence is the special classification token ([CLS]). Unlike the hidden state vector corresponding to a normal word token, the hidden state corresponding to this special token is designated by the authors of BERT as an aggregate representation of the whole sentence used for classification tasks. As such, when we feed in an input sentence to our model during training, the output is the length 768 hidden state vector corresponding to this token. The additional layer that we've added on top consists of untrained linear neurons of size [hidden_state, number_of_labels], so [768,2], meaning that the output of BERT plus our classification layer is a vector of two numbers representing the \"score\" for \"grammatical/non-grammatical\" that are then fed into cross-entropy loss.\n",
        "\n",
        "**The Fine-Tuning Process**\n",
        "\n",
        "Because the pre-trained BERT layers already encode a lot of information about the language, training the classifier is relatively inexpensive. Rather than training every layer in a large model from scratch, it's as if we have already trained the bottom layers 95% of where they need to be, and only really need to train the top layer, with a bit of tweaking going on in the lower levels to accomodate our task.\n",
        "\n",
        "Sometimes practicioners will opt to \"freeze\" certain layers when fine-tuning, or to apply different learning rates, apply diminishing learning rates, etc. all in an effort to preserve the good quality weights in the network and speed up training (often considerably). In fact, recent research on BERT specifically has demonstrated that freezing the majority of the weights results in only minimal accuracy declines, but there are exceptions and broader rules of transfer learning that should also be considered. For example, if your task and fine-tuning dataset is very different from the dataset used to train the transfer learning model, freezing the weights may not be a good idea. We'll cover the broader scope of transfer learning in NLP in a future post.\n",
        "\n",
        "OK, let's load BERT! There are a few different pre-trained BERT models available. \"bert-base-uncased\" means the version that has only lowercase letters (\"uncased\") and is the smaller version of the two (\"base\" vs \"large\")."
      ]
    },
    {
      "cell_type": "code",
      "execution_count": 18,
      "metadata": {
        "colab": {
          "base_uri": "https://localhost:8080/"
        },
        "id": "laEtqMUjDKJE",
        "outputId": "9ef2a5ec-f432-45fd-abf7-e6eed9c73711"
      },
      "outputs": [
        {
          "output_type": "stream",
          "name": "stderr",
          "text": [
            "100%|██████████| 407873900/407873900 [00:13<00:00, 29137711.52B/s]\n"
          ]
        }
      ],
      "source": [
        "#\n",
        "# Load BertForSequenceClassification, the pretrained BERT model \n",
        "# with a single linear classification layer on top. \n",
        "#\n",
        "model = BertForSequenceClassification.from_pretrained(\"bert-base-uncased\", num_labels=2)"
      ]
    },
    {
      "cell_type": "markdown",
      "metadata": {
        "id": "N9rDlGNQDKJE"
      },
      "source": [
        "Now that we have our model loaded we need to grab the training hyperparameters from within the stored model.\n",
        "\n",
        "For the purposes of fine-tuning, the authors recommend the following hyperparameter ranges:\n",
        "\n",
        "Batch size: 16, 32\n",
        "Learning rate (Adam): 5e-5, 3e-5, 2e-5\n",
        "Number of epochs: 2, 3, 4"
      ]
    },
    {
      "cell_type": "code",
      "execution_count": 19,
      "metadata": {
        "id": "8PxuriGeDKJE"
      },
      "outputs": [],
      "source": [
        "param_optimizer = list(model.named_parameters())\n",
        "no_decay = ['bias', 'gamma', 'beta']\n",
        "optimizer_grouped_parameters = [{'params': [p for n, p in param_optimizer if not any(nd in n for nd in no_decay)],'weight_decay_rate': 0.01},\n",
        "                                {'params': [p for n, p in param_optimizer if any(nd in n for nd in no_decay)],'weight_decay_rate': 0.0}]"
      ]
    },
    {
      "cell_type": "code",
      "execution_count": 20,
      "metadata": {
        "colab": {
          "base_uri": "https://localhost:8080/"
        },
        "id": "rjGyMe_BDKJE",
        "outputId": "3863155f-f5e8-4f75-9093-20229b601291"
      },
      "outputs": [
        {
          "output_type": "stream",
          "name": "stderr",
          "text": [
            "t_total value of -1 results in schedule not being applied\n"
          ]
        }
      ],
      "source": [
        "# This variable contains all of the hyperparemeter information our training loop needs\n",
        "optimizer = BertAdam(optimizer_grouped_parameters,lr=2e-5,warmup=.1)"
      ]
    },
    {
      "cell_type": "markdown",
      "metadata": {
        "id": "0civL-GbDKJE"
      },
      "source": [
        "For each pass in the training loop we have a training phase and a validation phase. \n",
        "\n",
        "At each pass we need to:\n",
        "\n",
        "**Training loop:**\n",
        "\n",
        "* Tell the model to compute gradients by setting the model in train mode\n",
        "* Unpack our data inputs and labels\n",
        "* Load data onto the GPU for acceleration\n",
        "* Clear out the gradients calculated in the previous pass. In pytorch the gradients accumulate by default (useful for things like RNNs) unless you explicitly clear them out\n",
        "* Forward pass (feed input data through the network)\n",
        "* Backward pass (backpropagation)\n",
        "* Tell the network to update parameters with optimizer.step()\n",
        "* Track variables for monitoring progress\n",
        "\n",
        "**Evalution loop:**\n",
        "\n",
        "* Tell the model not to compute gradients by setting th emodel in evaluation mode\n",
        "* Unpack our data inputs and labels\n",
        "* Load data onto the GPU for acceleration\n",
        "* Forward pass (feed input data through the network)\n",
        "* Compute loss on our validation data and track variables for monitoring progress"
      ]
    },
    {
      "cell_type": "code",
      "execution_count": 21,
      "metadata": {
        "id": "_oiJoY7aDKJE"
      },
      "outputs": [],
      "source": [
        "# Function to calculate the accuracy of our predictions vs labels\n",
        "def flat_accuracy(preds, labels):\n",
        "    pred_flat = np.argmax(preds, axis=1).flatten()\n",
        "    labels_flat = labels.flatten()\n",
        "    return np.sum(pred_flat == labels_flat) / len(labels_flat)"
      ]
    },
    {
      "cell_type": "code",
      "execution_count": 22,
      "metadata": {
        "colab": {
          "base_uri": "https://localhost:8080/"
        },
        "id": "HowZQ5D1DKJE",
        "outputId": "cd1fdc58-5293-4010-f9cb-dbdda87def08"
      },
      "outputs": [
        {
          "metadata": {
            "tags": null
          },
          "name": "stderr",
          "output_type": "stream",
          "text": [
            "\rEpoch:   0%|          | 0/2 [00:00<?, ?it/s]/usr/local/lib/python3.7/dist-packages/pytorch_pretrained_bert/optimization.py:275: UserWarning: This overload of add_ is deprecated:\n",
            "\tadd_(Number alpha, Tensor other)\n",
            "Consider using one of the following signatures instead:\n",
            "\tadd_(Tensor other, *, Number alpha) (Triggered internally at  ../torch/csrc/utils/python_arg_parser.cpp:1174.)\n",
            "  next_m.mul_(beta1).add_(1 - beta1, grad)\n"
          ]
        },
        {
          "output_type": "stream",
          "name": "stdout",
          "text": [
            "Train loss: 0.5060617022865541\n"
          ]
        },
        {
          "output_type": "stream",
          "name": "stderr",
          "text": [
            "\rEpoch:  50%|█████     | 1/2 [58:47<58:47, 3527.88s/it]"
          ]
        },
        {
          "output_type": "stream",
          "name": "stdout",
          "text": [
            "Validation Accuracy: 0.7908950617283951\n",
            "Train loss: 0.25306056121449255\n"
          ]
        },
        {
          "output_type": "stream",
          "name": "stderr",
          "text": [
            "Epoch: 100%|██████████| 2/2 [1:59:22<00:00, 3581.30s/it]"
          ]
        },
        {
          "output_type": "stream",
          "name": "stdout",
          "text": [
            "Validation Accuracy: 0.8236882716049382\n"
          ]
        },
        {
          "output_type": "stream",
          "name": "stderr",
          "text": [
            "\n"
          ]
        }
      ],
      "source": [
        "t = [] \n",
        "\n",
        "# Store our loss and accuracy for plotting\n",
        "train_loss_set = []\n",
        "\n",
        "# Number of training epochs \n",
        "epochs = 2\n",
        "\n",
        "# trange is a tqdm wrapper around the normal python range\n",
        "for _ in trange(epochs, desc=\"Epoch\"):\n",
        "  \n",
        "  \n",
        "  # Training\n",
        "  \n",
        "  # Set our model to training mode (as opposed to evaluation mode)\n",
        "  model.train()\n",
        "  \n",
        "  # Tracking variables\n",
        "  tr_loss = 0\n",
        "  nb_tr_examples, nb_tr_steps = 0, 0\n",
        "  \n",
        "  # Train the data for one epoch\n",
        "  for step, batch in enumerate(train_dataloader):\n",
        "    # Add batch to GPU\n",
        "    # batch = tuple(t.to(device) for t in batch)\n",
        "    # Unpack the inputs from our dataloader\n",
        "    b_input_ids, b_input_mask, b_labels = batch\n",
        "    # Clear out the gradients (by default they accumulate)\n",
        "    optimizer.zero_grad()\n",
        "    # Forward pass\n",
        "    loss = model(b_input_ids, token_type_ids=None, attention_mask=b_input_mask, labels=b_labels)\n",
        "    train_loss_set.append(loss.item())    \n",
        "    # Backward pass\n",
        "    loss.backward()\n",
        "    # Update parameters and take a step using the computed gradient\n",
        "    optimizer.step()\n",
        "    \n",
        "    # Update tracking variables\n",
        "    tr_loss += loss.item()\n",
        "    nb_tr_examples += b_input_ids.size(0)\n",
        "    nb_tr_steps += 1\n",
        "\n",
        "  print(\"Train loss: {}\".format(tr_loss/nb_tr_steps))\n",
        "    \n",
        "  # Validation\n",
        "\n",
        "  # Put model in evaluation mode to evaluate loss on the validation set\n",
        "  model.eval()\n",
        "\n",
        "  # Tracking variables \n",
        "  eval_loss, eval_accuracy = 0, 0\n",
        "  nb_eval_steps, nb_eval_examples = 0, 0\n",
        "\n",
        "  # Evaluate data for one epoch\n",
        "  for batch in validation_dataloader:\n",
        "    # Add batch to GPU\n",
        "    # batch = tuple(t.to(device) for t in batch)\n",
        "    # Unpack the inputs from our dataloader\n",
        "    b_input_ids, b_input_mask, b_labels = batch\n",
        "    # Telling the model not to compute or store gradients, saving memory and speeding up validation\n",
        "    with torch.no_grad():\n",
        "      # Forward pass, calculate logit predictions\n",
        "      logits = model(b_input_ids, token_type_ids=None, attention_mask=b_input_mask)\n",
        "    \n",
        "    # Move logits and labels to CPU\n",
        "    logits = logits.detach().cpu().numpy()\n",
        "    label_ids = b_labels.to('cpu').numpy()\n",
        "\n",
        "    tmp_eval_accuracy = flat_accuracy(logits, label_ids)\n",
        "    \n",
        "    eval_accuracy += tmp_eval_accuracy\n",
        "    nb_eval_steps += 1\n",
        "\n",
        "  print(\"Validation Accuracy: {}\".format(eval_accuracy/nb_eval_steps))"
      ]
    },
    {
      "cell_type": "code",
      "execution_count": 23,
      "metadata": {
        "colab": {
          "base_uri": "https://localhost:8080/",
          "height": 513
        },
        "id": "R6tZslWfhUlx",
        "outputId": "6516672c-814b-43d9-d309-e18160de956b"
      },
      "outputs": [
        {
          "output_type": "display_data",
          "data": {
            "text/plain": [
              "<Figure size 1080x576 with 1 Axes>"
            ],
            "image/png": "[encoded data removed]"
          },
          "metadata": {
            "needs_background": "light"
          }
        }
      ],
      "source": [
        "plt.figure(figsize=(15,8))\n",
        "plt.title(\"Training loss\")\n",
        "plt.xlabel(\"Batch\")\n",
        "plt.ylabel(\"Loss\")\n",
        "plt.plot(train_loss_set)\n",
        "plt.show()"
      ]
    },
    {
      "cell_type": "markdown",
      "metadata": {
        "id": "CvOnxQIDlUPT"
      },
      "source": [
        "####Evaluate Model"
      ]
    },
    {
      "cell_type": "code",
      "execution_count": 24,
      "metadata": {
        "id": "BeB6BO-mlauw"
      },
      "outputs": [],
      "source": [
        "df = pd.read_csv(\"./raw/out_of_domain_dev.tsv\", delimiter='\\t', header=None, names=['sentence_source', 'label', 'label_notes', 'sentence'])"
      ]
    },
    {
      "cell_type": "code",
      "execution_count": 25,
      "metadata": {
        "id": "b1NMmPdvljlB"
      },
      "outputs": [],
      "source": [
        "# Create sentence and label lists\n",
        "sentences = df.sentence.values\n",
        "\n",
        "# We need to add special tokens at the beginning and end of each sentence for BERT to work properly\n",
        "sentences = [\"[CLS] \" + sentence + \" [SEP]\" for sentence in sentences]\n",
        "labels = df.label.values\n",
        "\n",
        "tokenized_texts = [tokenizer.tokenize(sent) for sent in sentences]\n",
        "\n",
        "\n",
        "MAX_LEN = 128\n",
        "\n",
        "# Use the BERT tokenizer to convert the tokens to their index numbers in the BERT vocabulary\n",
        "input_ids = [tokenizer.convert_tokens_to_ids(x) for x in tokenized_texts]\n",
        "\n",
        "# Pad our input tokens\n",
        "input_ids = pad_sequences(input_ids, maxlen=MAX_LEN, dtype=\"long\", truncating=\"post\", padding=\"post\")\n",
        "\n",
        "# Create attention masks\n",
        "attention_masks = []\n",
        "\n",
        "# Create a mask of 1s for each token followed by 0s for padding\n",
        "for seq in input_ids:\n",
        "  seq_mask = [float(i>0) for i in seq]\n",
        "  attention_masks.append(seq_mask) \n",
        "\n",
        "prediction_inputs = torch.tensor(input_ids)\n",
        "prediction_masks = torch.tensor(attention_masks)\n",
        "prediction_labels = torch.tensor(labels)\n",
        "  \n",
        "batch_size = 32  \n",
        "\n",
        "\n",
        "prediction_data = TensorDataset(prediction_inputs, prediction_masks, prediction_labels)\n",
        "prediction_sampler = SequentialSampler(prediction_data)\n",
        "prediction_dataloader = DataLoader(prediction_data, sampler=prediction_sampler, batch_size=batch_size)"
      ]
    },
    {
      "cell_type": "code",
      "execution_count": 26,
      "metadata": {
        "id": "L6Sp5z7ylpMK"
      },
      "outputs": [],
      "source": [
        "# Prediction on test set\n",
        "\n",
        "# Put model in evaluation mode\n",
        "model.eval()\n",
        "\n",
        "# Tracking variables \n",
        "predictions , true_labels = [], []\n",
        "\n",
        "# Predict \n",
        "for batch in prediction_dataloader:\n",
        "  # Add batch to GPU\n",
        " # batch = tuple(t.to(device) for t in batch)\n",
        "  # Unpack the inputs from our dataloader\n",
        "  b_input_ids, b_input_mask, b_labels = batch\n",
        "  # Telling the model not to compute or store gradients, saving memory and speeding up prediction\n",
        "  with torch.no_grad():\n",
        "    # Forward pass, calculate logit predictions\n",
        "    logits = model(b_input_ids, token_type_ids=None, attention_mask=b_input_mask)\n",
        "\n",
        "  # Move logits and labels to CPU\n",
        "  logits = logits.detach().cpu().numpy()\n",
        "  label_ids = b_labels.to('cpu').numpy()\n",
        "  \n",
        "  # Store predictions and true labels\n",
        "  predictions.append(logits)\n",
        "  true_labels.append(label_ids)"
      ]
    },
    {
      "cell_type": "code",
      "execution_count": 27,
      "metadata": {
        "id": "PMdqbRjMlsi9"
      },
      "outputs": [],
      "source": [
        "# Import and evaluate each test batch using Matthew's correlation coefficient\n",
        "from sklearn.metrics import matthews_corrcoef\n",
        "matthews_set = []\n",
        "\n",
        "for i in range(len(true_labels)):\n",
        "  matthews = matthews_corrcoef(true_labels[i],\n",
        "                 np.argmax(predictions[i], axis=1).flatten())\n",
        "  matthews_set.append(matthews)"
      ]
    },
    {
      "cell_type": "code",
      "execution_count": 28,
      "metadata": {
        "colab": {
          "base_uri": "https://localhost:8080/"
        },
        "id": "ukZgNiCRXPCW",
        "outputId": "bd9a5775-d883-45aa-84ce-8f80cac8e182"
      },
      "outputs": [
        {
          "output_type": "stream",
          "name": "stdout",
          "text": [
            "17\n"
          ]
        }
      ],
      "source": [
        "print(len(matthews_set))"
      ]
    },
    {
      "cell_type": "code",
      "execution_count": 29,
      "metadata": {
        "colab": {
          "base_uri": "https://localhost:8080/"
        },
        "id": "n4Urj9eFXbxK",
        "outputId": "cbe07680-c6b3-4a17-bffe-d553465adb63"
      },
      "outputs": [
        {
          "output_type": "stream",
          "name": "stdout",
          "text": [
            "0.049286405809014416\n"
          ]
        }
      ],
      "source": [
        "print(matthews_set[0])"
      ]
    },
    {
      "cell_type": "markdown",
      "metadata": {
        "id": "-WEzFrZE8vHO"
      },
      "source": [
        "## Appendix B: Text Summarization Overview and Techniques"
      ]
    },
    {
      "cell_type": "markdown",
      "metadata": {
        "id": "g-5g3N4oTbJ8"
      },
      "source": [
        "###Sources\n",
        "\n",
        "(Ananthakrishnan 2019) *Data Scientist’s Guide to Summarization* by Abhinaya Ananthakrishnan Mar 2019. Available here: https://medium.com/@abhinaya08/\n",
        "\n",
        "(Dubey 2018) *Understand Text Summarization and create your own summarizer in python* by Praveen Dubey Dec 2018 available here: https://towardsdatascience.com/understand-text-summarization-and-create-your-own-summarizer-in-python-b26a9f09fc70\n",
        "\n",
        "*A-Z Guide to Text Summarization in Python for Beginners* available here: https://www.projectpro.io/article/text-summarization-python-nlp/546\n",
        "\n",
        "(Shrivarsheni 2020) *Text Summarization Approaches for NLP – Practical Guide with Generative Examples* by Shrivarsheni, Oct 2020 available here: https://www.machinelearningplus.com/nlp/text-summarization-approaches-nlp-example/"
      ]
    },
    {
      "cell_type": "markdown",
      "metadata": {
        "id": "Ul69g24eVHbX"
      },
      "source": [
        "###The Problem\n",
        "\n",
        "from https://towardsdatascience.com/understand-text-summarization-and-create-your-own-summarizer-in-python-b26a9f09fc70\n",
        "\n",
        "*How text summarization works*\n",
        "\n",
        "In general there are two types of summarization, abstractive and extractive summarization.\n",
        "\n",
        "I. Abstractive Summarization: Abstractive methods select words based on semantic understanding, even those words did not appear in the source documents. It aims at producing important material in a new way. They interpret and examine the text using advanced natural language techniques in order to generate a new shorter text that conveys the most critical information from the original text.\n",
        "It can be correlated to the way human reads a text article or blog post and then summarizes in their own word.\n",
        "\n",
        "*Input document → understand context → semantics → create own summary.*\n",
        "\n",
        "\n",
        "II. Extractive Summarization: Extractive methods attempt to summarize articles by selecting a subset of words that retain the most important points.\n",
        "\n",
        "This approach weights the important part of sentences and uses the same to form the summary. Different algorithm and techniques are used to define weights for the sentences and further rank them based on importance and similarity among each other.\n",
        "\n",
        "*Input document → sentences similarity → weight sentences → select sentences with higher rank.*\n",
        "\n",
        "Purely extractive summaries often times give better results compared to automatic abstractive summaries. This is because of the fact that abstractive summarization methods cope with problems such as semantic representation,\n",
        "inference and natural language generation which is relatively harder than data-driven approaches such as sentence extraction.\n",
        "\n",
        "\n",
        "*Approach*\n",
        "\n",
        "There are many techniques available to generate extractive summarization. To keep it simple, I will be using an unsupervised learning approach to find the sentences similarity and rank them. One benefit of this will be, you don’t need to train and build a model prior start using it for your project.\n",
        "\n",
        "*NB*\n",
        "\n",
        "NB: It’s good to understand Cosine similarity to make the best use of code you are going to see. Cosine similarity is a measure of similarity between two non-zero vectors of an inner product space that measures the cosine of the angle between them. Since we will be representing our sentences as the bunch of vectors, we can use it to find the similarity among sentences. Its measures cosine of the angle between vectors. Angle will be 0 if sentences are similar."
      ]
    },
    {
      "cell_type": "markdown",
      "metadata": {
        "id": "RuGhcu-cakM3"
      },
      "source": [
        "###Extractive Techniques\n",
        "\n",
        "Extractive summarization techniques select relevant phrases from the input document and concatenate them to form sentences. These are very popular in the industry as they are very easy to implement. They use existing natural language phrases and are reasonably accurate. Additionally, since they are unsupervised techniques, they are ridiculously fast. On the other hand, as these techniques only play around with the order of sentences in the document to summarize they do not do as great a job as humans to provide context."
      ]
    },
    {
      "cell_type": "markdown",
      "metadata": {
        "id": "nwKBJ1GqWAHm"
      },
      "source": [
        "####Example 1 (Dubey 2018)\n",
        "\n",
        "From https://towardsdatascience.com/understand-text-summarization-and-create-your-own-summarizer-in-python-b26a9f09fc70\n",
        "\n",
        "\n",
        "*There are many techniques available to generate extractive summarization. To keep it simple, I will be using an unsupervised learning approach to find the sentences similarity and rank them. One benefit of this will be, you don’t need to train and build a model prior start using it for your project.*\n",
        "\n",
        "*It’s good to understand Cosine similarity to make the best use of code you are going to see. Cosine similarity is a measure of similarity between two non-zero vectors of an inner product space that measures the cosine of the angle between them. Since we will be representing our sentences as the bunch of vectors, we can use it to find the similarity among sentences. Its measures cosine of the angle between vectors. Angle will be 0 if sentences are similar.*"
      ]
    },
    {
      "cell_type": "markdown",
      "metadata": {
        "id": "fQnma7xoWCau"
      },
      "source": [
        "######Imports and Setup"
      ]
    },
    {
      "cell_type": "code",
      "execution_count": 30,
      "metadata": {
        "colab": {
          "base_uri": "https://localhost:8080/"
        },
        "id": "R5oTo9N4xF-x",
        "outputId": "26f8a316-7957-40ef-80ee-27e8b3659961"
      },
      "outputs": [
        {
          "output_type": "stream",
          "name": "stdout",
          "text": [
            "Drive already mounted at /content/drive; to attempt to forcibly remount, call drive.mount(\"/content/drive\", force_remount=True).\n"
          ]
        }
      ],
      "source": [
        "from google.colab import drive\n",
        "\n",
        "drive.mount('/content/drive')"
      ]
    },
    {
      "cell_type": "code",
      "execution_count": 31,
      "metadata": {
        "id": "cJ1m6YIAxR68"
      },
      "outputs": [],
      "source": [
        "import glob\n",
        "import os\n",
        "\n",
        "os.chdir(\"/content/drive/MyDrive/google_colab/deep_learning/Assignment 6 (Wildcards)/\")"
      ]
    },
    {
      "cell_type": "code",
      "execution_count": 32,
      "metadata": {
        "colab": {
          "base_uri": "https://localhost:8080/"
        },
        "id": "J-TnWQfmyfKQ",
        "outputId": "da6e93fc-9795-48a7-8f2c-b43996a18f36"
      },
      "outputs": [
        {
          "output_type": "stream",
          "name": "stderr",
          "text": [
            "[nltk_data] Downloading package stopwords to /root/nltk_data...\n",
            "[nltk_data]   Unzipping corpora/stopwords.zip.\n"
          ]
        },
        {
          "output_type": "execute_result",
          "data": {
            "text/plain": [
              "True"
            ]
          },
          "metadata": {},
          "execution_count": 32
        }
      ],
      "source": [
        "import nltk\n",
        "\n",
        "nltk.download('stopwords')"
      ]
    },
    {
      "cell_type": "code",
      "execution_count": 33,
      "metadata": {
        "id": "vHIUlmB8wg4p"
      },
      "outputs": [],
      "source": [
        "#!/usr/bin/env python\n",
        "# coding: utf-8\n",
        "\n",
        "from nltk.corpus import stopwords\n",
        "from nltk.cluster.util import cosine_distance\n",
        "import numpy as np\n",
        "import networkx as nx"
      ]
    },
    {
      "cell_type": "markdown",
      "metadata": {
        "id": "Lt3bV7qeWa6F"
      },
      "source": [
        "######Utility Functions"
      ]
    },
    {
      "cell_type": "code",
      "execution_count": 34,
      "metadata": {
        "id": "SzmjbyQgyTZA"
      },
      "outputs": [],
      "source": [
        "#\n",
        "# updated to support specific format of chapter/txt\n",
        "#\n",
        "def read_chapter(file_name):\n",
        "\n",
        "    file = open(file_name, \"r\")\n",
        "    filedata = file.readlines()\n",
        "\n",
        "    print (\"# of lines in \", file_name, \":\", len(filedata) )\n",
        "\n",
        "    #article = filedata[0].split(\". \")\n",
        "    #article = filedata[2].split(\". \")\n",
        "    \n",
        "    sentences = []\n",
        "    line_num = 0\n",
        "\n",
        "    #\n",
        "    # for each line parse sentences, add to \n",
        "    # sentence array\n",
        "    #\n",
        "    for line in filedata:\n",
        "      #print(\"line: \", line)                # debug code      \n",
        "      \n",
        "      ln = filedata[line_num].split(\". \")   # split line into sentences\n",
        "          \n",
        "      for sentence in ln:\n",
        "        #print(\"sentence: \", sentence)      # debug code\n",
        "\n",
        "        sentences.append(sentence.replace(\"[^a-zA-Z]\", \" \").split(\" \"))\n",
        "    \n",
        "      sentences.pop() \n",
        "\n",
        "      line_num += 1\n",
        "    \n",
        "    return sentences"
      ]
    },
    {
      "cell_type": "code",
      "execution_count": 35,
      "metadata": {
        "id": "pQcNIN9Cxq5M"
      },
      "outputs": [],
      "source": [
        "def sentence_similarity(sent1, sent2, stopwords=None):\n",
        "    if stopwords is None:\n",
        "        stopwords = []\n",
        " \n",
        "    sent1 = [w.lower() for w in sent1]\n",
        "    sent2 = [w.lower() for w in sent2]\n",
        " \n",
        "    all_words = list(set(sent1 + sent2))\n",
        " \n",
        "    vector1 = [0] * len(all_words)\n",
        "    vector2 = [0] * len(all_words)\n",
        " \n",
        "    # build the vector for the first sentence\n",
        "    for w in sent1:\n",
        "        if w in stopwords:\n",
        "            continue\n",
        "        vector1[all_words.index(w)] += 1\n",
        " \n",
        "    # build the vector for the second sentence\n",
        "    for w in sent2:\n",
        "        if w in stopwords:\n",
        "            continue\n",
        "        vector2[all_words.index(w)] += 1\n",
        " \n",
        "    return 1 - cosine_distance(vector1, vector2)"
      ]
    },
    {
      "cell_type": "code",
      "execution_count": 36,
      "metadata": {
        "id": "vjGqOZTuxurC"
      },
      "outputs": [],
      "source": [
        "def build_similarity_matrix(sentences, stop_words):\n",
        "  \n",
        "    # Create an empty similarity matrix\n",
        "    similarity_matrix = np.zeros((len(sentences), len(sentences)))\n",
        " \n",
        "    for idx1 in range(len(sentences)):\n",
        "        for idx2 in range(len(sentences)):\n",
        "            if idx1 == idx2: #ignore if both are same sentences\n",
        "                continue \n",
        "            similarity_matrix[idx1][idx2] = sentence_similarity(sentences[idx1], sentences[idx2], stop_words)\n",
        "\n",
        "    return similarity_matrix"
      ]
    },
    {
      "cell_type": "code",
      "execution_count": 37,
      "metadata": {
        "id": "Vu754QyexwqI"
      },
      "outputs": [],
      "source": [
        "def generate_summary(file_name, top_n=5):\n",
        "    stop_words = stopwords.words('english')\n",
        "    summarize_text = []\n",
        "\n",
        "    # Step 1 - Read text anc split it\n",
        "    sentences = read_chapter(file_name)\n",
        "\n",
        "    #print(\"sentences[0]: \", sentences[0])                # debug code\n",
        "    print(\"# of sentences: \", len(sentences))            # debug code\n",
        "\n",
        "    # Step 2 - Generate Similary Martix across sentences\n",
        "    sentence_similarity_martix = build_similarity_matrix(sentences, stop_words)\n",
        "\n",
        "    # Step 3 - Rank sentences in similarity martix\n",
        "    sentence_similarity_graph = nx.from_numpy_array(sentence_similarity_martix)\n",
        "    scores = nx.pagerank(sentence_similarity_graph)\n",
        "\n",
        "    # Step 4 - Sort the rank and pick top sentences\n",
        "    ranked_sentence = sorted(((scores[i],s) for i,s in enumerate(sentences)), reverse=True)    \n",
        "    print(\"Indexes of top ranked_sentence order are \", ranked_sentence)    \n",
        "\n",
        "    for i in range(top_n):\n",
        "      summarize_text.append(\" \".join(ranked_sentence[i][1]))\n",
        "\n",
        "    # Step 5 - Offcourse, output the summarize texr\n",
        "    print(\"Summarize Text: \\n\", \". \".join(summarize_text))"
      ]
    },
    {
      "cell_type": "markdown",
      "metadata": {
        "id": "WWRbfdbTWfEf"
      },
      "source": [
        "#####Main: Generate Summary"
      ]
    },
    {
      "cell_type": "code",
      "execution_count": 38,
      "metadata": {
        "colab": {
          "base_uri": "https://localhost:8080/"
        },
        "id": "Nnq8Sd2zxd3B",
        "outputId": "28f04932-151f-421d-a0c3-70dda72ef212"
      },
      "outputs": [
        {
          "output_type": "stream",
          "name": "stdout",
          "text": [
            "# of lines in  ./ontology.txt : 63\n",
            "# of sentences:  154\n",
            "Indexes of top ranked_sentence order are  [(0.01416477477081454, ['', 'Why', 'did', 'the', 'rivers', 'flood', 'some', 'years', 'and', 'not', 'others?', '', 'Why', 'did', 'the', 'sun', 'rise', 'every', 'day?', '', 'Why', 'did', 'the', 'herds', 'that', 'the', 'depended', 'on', 'for', 'food', 'and', 'other', 'utilities', 'of', 'day', 'to', 'day', 'living', 'show', 'up', 'some', 'years', 'and', 'be', 'absent', 'others?', '', 'What', 'happened', 'to', 'the', 'Soul', 'after', 'death?', '', 'Was', 'there', 'a', 'Soul?', '', 'It', 'was', 'these', 'questions', 'that', 'plagued', 'the', 'ancients', 'and', 'that', 'formed', 'their', 'perception', 'of', 'their', 'reality,', 'or', 'their', 'world']), (0.01279913173086477, ['', 'And', 'how', 'could', 'it?', '', 'There', 'was', 'nothing', 'in', 'the', 'world', 'around', 'them', 'that', 'would', 'indicate', 'this', 'separation']), (0.011689309751707979, ['', 'In', 'this', 'sense', 'we', 'can', 'look', 'at', 'these', 'systems', 'of', 'metaphysics', 'as', '(potential)', 'ontological', 'frameworks', 'as', 'well']), (0.011498056135078726, ['', 'And', 'their', 'world', 'depended', 'very', 'much', 'on', 'Nature']), (0.011491938617541705, ['', 'By', 'incorporating', 'the', 'role', 'of', 'mind,', 'i.e']), (0.010780005608878315, ['', 'In', 'addition', 'to', 'Bohmian', 'Mechanics', 'then,', 'what', 'Bohm', 'effectively', 'does', 'by', 'introducing', 'the', 'notion', 'of', 'hierarchical', 'orders', 'of', 'reality', '-', 'declaring', 'the', 'existence', 'of', 'an', 'implicate', 'order', 'which', 'holds', 'ontological', 'significance', 'over', 'the', 'various', 'explicate', 'orders', 'which', 'reflect', '(various', 'aspects', 'of)', 'the', 'physical', 'domain', '-', 'is', 'venture', 'into', 'the', 'domain', 'of', 'ontology', 'quite', 'directly,', 'provide', 'an', 'explicit', '(intellectual)', 'bridge', 'between', 'two', 'seemingly', 'contradictory', 'theoretical', 'models', 'of', 'reality,', 'systems', 'of', 'metaphysics,', 'articulating', 'a', 'reasonable', 'and', 'viable', 'explanation', 'of', 'reality', 'itself,', 'albeit', 'from', 'a', 'mechanical', 'perspective,', 'as', 'to', 'how', 'they', 'both', '(Classical', 'Mechanics', 'and', 'Quantum', 'Mechanics)', 'can', 'be', 'empirically', 'true', 'and', 'valid', 'while', 'at', 'the', 'same', 'time', 'contradicting', 'each', 'other', 'in', 'basic', 'tenets', 'and', 'assumptions', '(like', 'locality', 'for', 'example),', 'and', 'at', 'the', 'same', 'time', 'reflect', 'a', 'higher', 'order', 'notion', 'of', 'reality', 'which', 'is', 'fully', 'coherent', 'and', 'consistent,', 'albeit', 'abiding', 'by', 'a', 'completely', 'different', 'set', 'of', '�laws�', 'so', 'to', 'speak', 'than', 'the', '�lower�', 'order', 'forms']), (0.01030833706798169, ['', 'Empirical', 'Science', 'had', 'not', 'yet', 'been', 'established']), (0.010230840440703251, ['', 'They', 'lived', 'with', 'Nature', 'and', 'relied', 'on', 'it']), (0.010208703812212718, ['', 'While', 'this', 'dismissal', 'is', 'convenient', 'from', 'an', 'intellectual', 'as', 'well', 'as', 'socio-political', 'perspective,', 'granting', 'knowledge', 'of', 'reality', 'to', 'only', 'those', 'that', 'are', 'anointed', 'or', 'properly', 'educated,', 'their', 'respective', 'metaphysical', 'frameworks', 'simply', 'do', 'not', 'account', 'for', 'the', 'full', 'complement', 'of', 'human', 'experience,', 'either', 'as', 'we', 'as', 'individuals', 'have', 'experienced', 'it', '-', 'through', 'the', 'experiences', 'of', 'dream', 'and', 'waking', 'states,', 'as', 'well', 'as', 'higher', 'order', 'states', 'of', 'experience', 'which', 'all', 'of', 'us', 'have', 'had', 'to', 'at', 'least', 'some', 'extent', '(even', 'though', 'we', 'may', 'not', 'have', 'identified', 'them', 'as', 'such)', '�', 'or', 'how', 'sages', 'and', 'mystics', 'throughout', 'the', 'millennia', 'of', 'the', 'history', 'of', 'civilized', 'man,', 'as', 'it', 'has', 'been', 'recorded', 'in', 'the', 'scriptures', 'across', 'the', 'world', 'from', 'virtually', 'all', 'religious', 'doctrines,', 'have', 'described', 'it', 'over', 'and', 'over', 'again']), (0.010166412331512666, ['', 'From', 'this', 'central', 'metaphysical', 'principle', '-', 'one', 'which', 'manifests', 'itself', 'in', 'scientific', 'models', 'as', 'the', '�observer�,', 'in', 'psychological', 'paradigms', 'as', 'the', '�conscious�', 'self,', 'in', 'Eastern', 'philosophical', 'traditions', 'as', 'the', '�Self�,', 'and', 'theological', 'circles', 'as', 'the', 'Soul,', 'or', 'God', '�', 'one', 'at', 'least', 'is', 'in', 'a', 'position', 'to', 'construct', 'an', 'intellectual', 'model', 'that', 'spans', 'the', 'entire', 'spectrum', 'of', 'experience,', 'providing', 'a', 'comprehensive', 'and', 'cohesive', 'description', 'of', 'reality', 'in', 'all', 'its', 'forms', 'and', 'variants']), (0.009889233881576753, ['', 'And', 'with', 'these', 'conceptual', 'frameworks', 'we', 'at', 'least', 'have', 'coherent', 'and', 'intellectual', 'sound', 'metaphysical', 'systems', 'which', 'do', 'not', 'abandon', 'Science', 'necessarily', 'but', 'incorporate', 'and', 'absorb', 'it', 'in', 'a', 'sense,', 'and', 'yet', 'at', 'the', 'same', 'time', 'posit', 'the', 'existence', 'of', 'higher', 'orders,', 'or', 'dimensions,', 'of', 'reality', 'which', 'can', '(and', 'here', 'we', 'rest', 'on', 'Eastern', 'philosophical', 'tenets)', 'be', 'experienced,', 'what', 'we', 'refer', 'to', 'as', 'supraconsciousness,', 'an', 'idea', 'that', 'not', 'only', 'is', 'expressed', 'by', 'Eastern', 'philosophy', 'but', 'also', 'rests', 'at', 'the', 'very', 'heart', 'of', 'what', 'we', 'have', 'called', 'mysticism,', 'or', 'the', 'mystical', 'arts']), (0.00978234076439882, ['', 'Nor,', 'again', 'given', 'that', 'they', 'are', 'systems', 'of', 'metaphysics', 'and', 'are', 'natural', 'extensions', '�mechanical�', 'theories,', 'do', 'they', 'or', 'can', 'they', 'be', 'used', 'to', 'account', 'for,', 'from', 'a', '�spiritual�', 'perspective,', 'the', 'potential', 'reality', 'of', 'what', 'we', 'have', 'come', 'to', 'refer', 'to', 'in', 'the', 'West', 'as', 'pertaining', 'to,', 'or', 'of', 'the,', '�Soul�', '�', 'the', 'Soul', 'as', 'a', 'cognitive', 'and', 'experiential', '�being�', 'through', 'which', 'not', 'only', 'is', 'the', 'physical', 'realm', 'manifest', 'and', 'experienced,', 'but', 'also', 'through', 'which', 'the', 'mystical', 'realm', 'is', 'experienced', 'as', 'well']), (0.009670342555476778, ['', 'By', 'placing', 'greater', 'ontological', 'significance', 'and', 'emphasis', 'on', 'the', 'process', 'of', 'experience,', 'i.e']), (0.009625714662681303, ['', 'There', 'was', 'not', 'a', '�real�', 'world', 'and', 'then', 'a', 'dream/spiritual', 'world']), (0.009474577835996026, ['', 'And', 'from', 'his', 'perspective,', 'reality', 'at', 'all', 'levels', 'of', 'order', 'or', 'manifestation', 'are', 'more', 'accurately', 'described', 'in', 'terms', 'of', 'the', 'constant', 'process', 'of', 'unfolding', 'and', 'enfolding', 'of', 'explicate', 'orders', 'from', 'and', 'back', 'into', 'higher', 'order', 'realities,', 'i.e']), (0.009440358061199543, ['Contrasting', 'Bohm�s', 'metaphysics', 'with', 'Pirsig�s', 'Metaphysics', 'of', 'Quality', 'which', 'divides', 'the', 'intellectual', 'landscape', 'into', 'two', 'main', 'driving', 'forces,', 'each', 'of', 'which', 'is', '(at', 'least', 'tangentially)', 'related', 'to', 'the', 'very', 'basic', 'cornerstone', 'notion', 'of', 'Quality', '-', 'the', 'Dynamic', 'and', 'the', 'Static,', 'the', 'former', 'reflecting', 'the', 'more', '�Eastern�', 'conception', 'of', 'reality,', 'the', 'direct', 'intuitive', 'perception', 'of', '�truth�', 'or', '�knowledge�,', 'whereas', 'the', 'latter', 'form', 'of', 'Quality', 'is,', 'well', 'static,', 'in', 'the', 'sense', 'that', 'it', 'reflects', 'the', 'more', 'foundational', 'intellectual', 'forms', 'of', 'mankind', 'which', 'are', 'more', 'resistant', 'to', 'change', 'and', 'which', 'provide', 'the', 'basis', 'for', 'a', 'well-functioning', '(global)', 'society,', '', 'Neither', 'Bohm�s', 'ontology,', 'nor', 'Pirsig�s', 'metaphysics', '(and', 'the', 'two', 'intellectual', 'models', 'no', 'doubt', 'differ', 'in', 'this', 'very', 'fundamental', 'way', 'in', 'terms', 'of', 'scope', 'and', 'intent,', 'one', 'with', 'a', 'focus', 'more', 'on', 'ontology', '�', 'Bohm', '-', 'and', 'another', 'on', 'metaphysics', '-', 'Pirsig)', 'addresses', 'directly', 'the', 'nature', 'of', 'the', 'very', 'foundation', 'of', 'their', 'respective', 'intellectual', 'models,', 'no', 'doubt', 'preferring', 'to', 'leave', 'that', 'question', 'up', 'to', 'the', 'theologians', 'which', 'is', 'probably', 'the', 'proper', 'domain', 'for', 'such', 'questions']), (0.009426304046975842, ['', 'In', 'this', 'sense', 'supraconsciousness', 'is', 'a', 'state', 'of', 'being,', 'a', 'reflection', 'of', 'a', 'higher', 'order', 'dimension', 'of', 'reality,', 'which', '(intellectually', 'and', 'metaphysically', 'at', 'least)', 'can', 'co-exist', 'somewhat', 'peacefully', 'with', 'the', 'predominant', 'Western', 'worldview', 'which', 'holds', 'physical', 'reality', 'to', 'be', 'the', 'highest', 'order', 'metaphysical', 'principle,', 'i.e']), (0.009393484111700087, ['', 'In', 'this', 'system', 'not', 'only', 'is', 'subjective', 'experience', 'assimilated', 'and', 'integrated', 'into', 'the', 'very', 'foundations', 'of', 'the', 'metaphysical', 'paradigm', '(as', 'opposed', 'to', 'relegated', 'to', 'the', 'periphery', 'as', 'is', 'the', 'case', 'with', 'Classical', 'as', 'well', 'as', 'Quantum', 'Mechanics),', 'but', 'also', 'mystical', 'states', 'are', 'incorporated', 'and', 'allowed', 'for', 'as', 'well', '(even', 'if', 'only', 'alluded', 'to', 'tangentially', 'in', 'Pirsig�s', 'work),', 'being', 'represented', 'as', 'direct', 'communal', 'experiences', 'of', 'Quality', 'itself', 'in', 'its', 'most', 'pure', 'and', 'unadulterated', 'form', '-', 'in', 'his', 'model', 'as', 'reflected', 'in', 'the', 'experience', 'of', 'inspiration', 'from', 'which', 'the', 'very', 'heart', 'of', 'Science,', 'i.e']), (0.00933998270442672, ['', 'Their', 'minds', 'could', 'focus', 'on', 'other', 'things']), (0.009309266885761619, ['', 'But', 'from', 'another', 'perspective,', 'from', 'the', 'perspective', 'of', 'say', 'an', 'ancient', 'philosopher,', 'these', 'systems', '�', 'given', 'the', 'context', 'within', 'which', 'they', 'emerged', '�', 'are', 'quite', 'limited', 'in', 'the', 'domain', 'within', 'which', 'they', 'are', 'applicable']), (0.009138866336521466, ['', 'In', 'turn,', 'this', 'notion', 'of', 'the', 'Soul', 'becomes,', 'from', 'a', 'metaphysical', 'perspective,', 'the', 'specific', 'corollary', 'to', 'very', 'fundamental', 'and', 'primordial', 'ordering', 'principle', 'of', 'the', 'Universe,', 'which', 'we', 'find', 'in', 'every', 'cosmogonic', 'and', 'metaphysical', 'conception', 'of', 'the', 'reality', 'in', 'all', 'of', 'the', 'ancient', 'mythological', 'creation', 'narratives', 'of', 'all', 'Eurasian', 'peoples', 'and', 'civilizations', 'in', 'antiquity', 'that', 'we', 'cover', 'in', 'this', 'work', 'in', 'fact']), (0.009120522335957691, ['', 'This', 'rift', 'in', 'a', 'nutshell', 'stems', 'from', 'the', 'notion', 'that', 'reality', 'itself,', 'as', 'defined', 'by', 'some', 'sort', 'of', 'measurable', 'phenomena,', 'in', 'the', 'quantum', 'realm', 'is', 'determined', 'not', 'only', 'by', 'the', 'act', 'of', 'measurement', 'itself,', 'but', 'that', 'this', 'outcome,', 'again', 'as', 'defined', 'by', 'some', 'sort', 'of', 'value', 'or', 'property', 'related', 'to', 'the', 'phenomena', 'being', 'measured', '(spin', 'for', 'example)', 'is', 'not', 'even', 'deterministic', 'in', 'the', 'classic', '(Newtonian)', 'sense,', 'but', 'follows', 'a', 'probability', 'distribution', 'that', 'is', 'predictable', 'only', 'over', 'the', 'course', 'of', 'many', 'measurements', 'or', 'experiments', '�', 'this', 'is', 'Quantum', 'Theory', 'in', 'a', 'nutshell,', 'which', 'of', 'course', 'flies', 'in', 'the', 'face', 'of', 'Classical', 'Mechanics,', 'i.e']), (0.009025021389792876, ['', 'This', 'idea', 'of', 'the', 'separation', 'of', 'the', '�physical�', 'world,', 'and', 'the', '�spiritual�', 'world', 'had', 'not', 'yet', 'arisen']), (0.009005308503611907, ['', 'They', 'are', 'all', 'products', 'of', 'Enlightenment', 'Era', 'philosophy,', 'and', 'even', 'more', 'so', 'the', 'revolutionary', 'advancements', 'of', 'Science', 'in', 'the', '20th', 'century', 'that', 'have', 'given', 'us', 'Relativity', 'and', 'Quantum', 'Theory']), (0.008906206969883512, ['', 'In', 'these', 'ontological', 'frameworks,', 'frameworks', 'that', 'again', 'do', 'not', 'reject', 'Science', 'but', 'subsume', 'it,', 'the', 'direct', 'experience', 'of', 'the', 'very', 'ground', 'of', 'existence', 'is', 'not', 'only', 'possible', 'but', 'in', 'some', 'sense', 'is', 'an', 'ontological', 'first', 'principle', 'of', 'sorts', 'from', 'which', 'all', 'other,', 'lower', 'order', 'forms', 'of', 'being', 'emanate,', 'or', 'originate,', 'from�', 'both', 'intellectually', 'and', 'experientially,', 'i.e']), (0.008730728709741212, ['', 'Thus', 'far,', 'we', 'have', 'looked', 'at', 'a', 'few', 'attempts', 'to', 'answer', 'such', 'questions', '�', 'e.g']), (0.008710305102955895, ['', 'And', 'yet', 'this', 'is', 'the', 'unintended', 'consequence', 'of', 'our', 'progress', 'in', 'the', 'West', 'with', 'Science,', 'that', 'any', 'notion', 'or', 'idea,', 'any', 'principle,', 'that', 'smacks', 'of', 'theology,', 'anything', 'that', 'cannot', 'be', 'empirically', 'proven', 'to', 'exist', 'in', 'fact,', 'must', 'thereby', 'fall', 'outside', 'of', 'the', 'domain', 'of', 'Science', 'and', 'as', 'such', 'isn�t�', 'included', 'in', 'even', 'the', 'broadening', 'of', 'the', 'intellectual', 'frameworks,', 'the', 'systems', 'of', 'metaphysics,', 'that', 'we', 'have', 'looked', 'upon', 'that', 'have', 'been', 'established', 'in', 'the', 'last', 'few', 'decades', 'to', 'address', 'these', 'basic', 'ontological', 'shortcomings', 'of', 'Science']), (0.00870374376259949, ['', 'Philosophical', 'questions', 'regarding', 'the', 'essential', 'nature', 'of', 'experience', '-', 'or', 'using', 'Plato', 'and', 'Aristotle�s', 'terminology,', 'being', '-', 'itself']), (0.008678959085769645, ['', 'It', 'was', 'that', 'that', 'which', 'gives', 'us', 'life,', 'that', 'which', 'animates', 'us', '(animus,', 'i.e']), (0.008655142332789958, ['', 'For', 'example,', 'the', 'systems', 'we', 'have', 'looked', 'at', 'throughout', 'this', 'work,', 'and', 'specifically', 'in', 'this', 'Chapter,', 'do', 'not', 'explicitly', 'account', 'for', 'the', 'qualities,', 'or', 'nature,', 'of', 'Mind', 'in', 'the', 'true', 'Eastern', 'philosophical', 'sense', 'of', 'the', 'term']), (0.00860986519044327, ['', 'Again,', 'the', 'notion', 'of', 'the', 'observer,', 'the', 'notion', 'of', 'mind', 'in', 'some', 'aspect', 'or', 'another,', 'is', 'directly', 'incorporated', 'into', 'this', 'formulation', 'of', 'Quantum', 'Mechanics,', 'or', 'Interpretation', 'of', 'Quantum', 'Theory', 'as', 'the', 'case', 'may', 'be,', 'thereby', 'circumventing', 'not', 'only', 'the', 'measurement', 'problem,', 'which', 'plaques', 'prevailing', 'orthodox', 'interpretations', 'of', 'Quantum', 'Theory,', 'but', 'also', 'rendering', 'the', 'need', 'for', 'wavefunction', 'collapse', 'obsolete', 'and', 'unnecessary']), (0.008554807024842131, ['', 'To', 'both', 'Plato', 'and', 'Aristotle,', 'despite', 'their', 'differences,', 'the', 'Soul', 'nonetheless', 'provided', 'the', 'very', 'foundation', 'upon', 'which', 'their', 'respective', 'theo-philosophical', 'system', 'was', 'constructed']), (0.008549615693424448, ['', 'The', 'ancients', 'saw', 'themselves', 'as', 'integrated', 'with', 'this', 'primordial', 'substance']), (0.008544343218067083, ['', 'And', 'perhaps', 'rightfully', 'so,', 'as', 'these', 'intellectual', 'systems', 'of', 'the', 'West,', 'even', 'the', 'most', 'abstract', 'and', 'comprehensive', 'of', 'them,', 'are', 'essentially', 'systems', 'of', 'metaphysics', 'more', 'so', 'than', 'ontological', 'frameworks', 'necessarily,', 'and', 'most', 'certainly', 'not', 'theological', 'systems', 'or', '�spiritual', 'frameworks�', 'per', 'se']), (0.008503878820728953, ['', 'They', 'were', 'born', 'from', 'it', 'and', 'they', 'would', 'return', 'to', 'it', 'and', 'it', 'was', 'this', 'eternal', 'truth', 'that', 'governed', 'their', 'relationship', 'to', 'the', 'world', 'at', 'large']), (0.008498311830614471, ['', 'One', 'can', 'think', 'of', 'the', 'mythos', 'of', 'the', 'ancients', 'as', 'a', 'map', 'of,', 'or', 'description,', 'of', 'their', 'ontology', '�', 'in', 'narrative,', 'metaphorical', 'form', 'of', 'course']), (0.00843788076957192, ['', 'In', 'the', 'ancient', 'theo-philosophical', 'traditions,', 'particularly', 'those', 'of', 'Indo-European', 'heritage', '(the', 'ancient', 'Greeks', 'and', 'Indians', 'basically),', 'the', 'Soul', 'was', 'arguably', 'the', 'defining', 'metaphysical', 'entity', 'or', 'principle', 'upon', 'which', 'the', 'theo-philosophical', 'tradition', 'hung', 'together', '�', 'the', 'hub', 'upon', 'which', 'all', 'of', 'the', 'various', 'branches', 'of', 'the', 'respective', 'theo-philosophical', 'system', 'sat', 'upon', 'you', 'could', 'say']), (0.008365751656907252, ['This', 'bridging', 'of', 'the', 'intellectual', 'gap', 'as', 'it', 'were,', 'incorporating', 'subjective', 'experience', 'into', 'the', 'metaphysical', 'paradigm,', 'is', 'an', 'important', 'starting', 'point,', 'and', 'is', 'essentially', 'what', 'Bohm', 'accomplishes', 'in', 'his', 'framework', 'which', 'posits', 'reality', 'as', 'a', 'series', 'of', 'inter-related,', 'and', 'ultimately', 'hierarchical,', 'models', 'of', 'order,', 'with', 'the', 'physical', 'realm', 'being', 'just', 'one', 'of', 'many', 'and', 'which', 'there', 'exist', '(at', 'least)', 'two', 'distinctive', 'models', 'for', '�', 'the', 'Quantum', 'and', 'the', 'Classical', '�', 'which', 'both', 'emanate', 'from,', 'or', 'are', 'precluded', 'by,', 'a', 'higher', 'order', 'model', 'that', 'he', 'refers', 'to', 'as', 'the', 'implicate', 'order', 'which', 'is', 'governed', 'by', 'its', 'own', 'set', 'of', 'rules', 'and', 'principles']), (0.008361217936815601, ['', 'These', 'myths,', 'these', 'tales', 'or', 'narratives', '�', 'what', 'we', 'refer', 'to', 'throughout', 'collectively', 'as', 'a', 'people�s', 'mythos,', 'were', 'the', 'means', 'by', 'which', 'ancient', 'man', 'explained', 'the', 'universe', 'and', 'their', 'place', 'in', 'it']), (0.008328191628440635, ['', 'Metaphysics', 'in', 'turn,', 'is', 'that', 'branch', 'of', 'thought', 'that', 'sits', 'between,', 'or', 'atop,', 'Philosophy', 'and', 'Physics', 'and', 'explores', 'such', 'topics', 'as', 'the', 'nature', 'of', 'existence', 'and', 'reality', 'itself,', 'or', 'ontology,', 'a', 'further', 'abstraction', 'and', 'extension', 'of', 'Philosophy', 'in', 'many', 'respects']), (0.008223509740099414, ['', 'Ultimately,', 'and', 'quite', 'distinctively', 'when', 'compared', 'to', 'more', 'modern', 'understandings', 'of', 'reality,', 'more', 'objective', 'realist', 'and', 'deterministic', 'frameworks,', 'in', 'antiquity', 'the', 'psyche,', 'while', 'looked', 'upon', 'as', 'an', 'independent', 'entity', 'that', 'drove', 'individual', 'behavior', 'and', 'actions,', 'was', 'also', 'fundamentally', 'connected', 'to,', 'a', 'manifestation', 'of,', 'the', 'cosmos', 'and', 'universal', 'order', 'from', 'which', 'their', 'entire', 'worldview', 'was', 'based', 'really']), (0.008214061560490675, ['', 'In', 'this', 'state', 'of', 'being,', 'again', 'our', 'supraconsciousness,', 'the', 'perceiver', 'communes', 'with', '(i.e']), (0.008157496350408406, ['', 'Man', 'made', 'in', 'the', 'image', 'of', 'God,', 'one', 'of', 'the', 'very', 'basic', 'tenets', 'and', 'fundamental', 'assumptions', 'really,', 'of', 'all', 'of', 'the', 'Abrahamic', 'traditions']), (0.008110586539882964, ['Having', 'said', 'that,', 'and', 'not', 'disparaging', 'the', 'importance', 'and', 'significance', 'of', 'these', 'developments', 'in', 'advancing', 'mankind,', 'if', 'you', 'look', 'at', 'some', 'the', 'hunter-gatherer', 'societies', 'that', 'exist', 'today,', 'societies', 'that', 'very', 'much', 'reflect', 'this', 'very', 'ancient', 'form', 'of', 'existence', 'and', 'dependence', 'upon', 'nature', 'for', 'survival,', 'forms', 'of', 'society', 'that', 'pre-date', 'the', 'evolution', 'of', 'Western', 'civilization', 'for', 'several', 'tens', 'if', 'not', 'hundreds', 'of', 'thousands', 'of', 'years', '-', 'in', 'the', 'recesses', 'of', 'Alaska,', 'the', 'Amazon', 'basin,', 'Australian', 'outback', 'or', 'central', 'and', 'eastern', 'Africa', '-', 'you', 'will', 'find', 'the', 'same', 'belief', 'systems', 'of', 'ancient', 'man', 'that', 'reflect', 'a', 'worldview', 'of', 'interconnectedness,', 'a', 'spectrum', 'of', 'reality', 'that', 'includes', 'the', 'earthly', 'material', 'world', 'as', 'well', 'as', 'the', 'spiritual', 'world', '(theology),', 'where', 'there', 'exists', 'a', 'fundamental', 'reliance,', 'and', 'belief,', 'on', 'the', 'unknown', 'and', 'unknowable', 'creative', 'principle', 'from', 'which', 'the', 'universe', 'was', 'created', 'and', 'which', 'in', 'turn', 'preserves', 'it,', 'across', 'which', 'the', 'cycle', 'of', 'time', '�', 'the', 'movement', 'of', 'the', 'stars', 'and', 'sky,', 'the', 'passage', 'of', 'day', 'into', 'night,', 'and', 'the', 'passage', 'of', 'life', 'into', 'death,', 'and', 'the', 'notion', 'of', 'illumination', 'or', 'spiritual', 'rebirth', '�', 'moves', 'into', 'perpetuity']), (0.008066729871023939, ['', 'In', 'Bohm�s', 'view,', 'the', 'state', 'of', 'the', 'system', 'within', 'which', 'an', 'observation', 'is', 'performed', 'is', 'said', 'to', 'be', 'governed', 'by', 'a', '�conditional�', 'wavefunction,', 'a', 'wavefunction', 'that', 'is', 'in', 'some', 'sense', 'a', 'subset', 'of', 'the', 'more', 'holistic', 'wavefunction', 'which', 'includes', 'the', 'behavior', 'not', 'only', 'of', 'the', 'system', 'that', 'is', 'being', 'measured', 'or', 'observed,', 'but', 'also', 'the', 'apparatus', 'and', 'act', 'of', 'measurement', 'itself,', 'i.e']), (0.008041230051484057, ['', 'In', 'other', 'words', 'if', 'we', 'look', 'at', 'the', 'mental', 'side,', 'this', 'too', 'can', 'be', 'divided', 'into', 'a', 'relatively', 'stable', 'and', 'manifest', 'side', 'and', 'a', 'yet', 'more', 'subtle', 'side']), (0.007926321243529441, ['', 'The', 'psyche', 'of', 'ancient', 'man,', 'as', 'philosophy', 'emerged', 'as', 'societies', 'advanced', 'to', 'form', 'civilizations,', 'and', 'an', 'intellectual', 'framework', 'for', 'the', 'cosmos,', 'and', 'man,', 'evolved,', 'their', 'understanding', 'of', 'mind,', 'was', 'as', 'an', 'independent', 'intellectual', 'construct', 'which', 'guided', 'and', 'shaped', 'individual', 'agents', '(the', 'psyche),', 'but', 'also', 'as', 'fundamentally', 'and', 'intrinsically', 'connected', 'to,', 'a', 'manifestation', 'of', 'really,', 'Cosmic', 'Mind']), (0.007837156515751655, ['', 'He', 'accomplishes', 'this', 'by', 'emphasizing', 'the', 'importance', 'of', 'metaphysics', 'in', 'and', 'of', 'itself,', 'in', 'very', 'much', 'the', 'same', 'vein', 'as', 'Aristotle', 'some', '2500', 'years', 'ago', '(i.e']), (0.007836251299121045, ['what', 'we', 'have', 'called', 'objective', 'realism', '', 'and', 'causal', 'determinism', 'herein']), (0.00783389766370654, ['Much', 'changed', 'and', 'evolved', 'as', '(Western)', 'civilization', 'advanced,', 'and', 'philosophia', 'along', 'with', 'it', '-', 'through', 'antiquity', 'and', 'the', 'Hellenic/Greek', 'and', 'Roman/Latin', 'eras,', 'through', 'the', 'Christian', 'and', 'then', 'Islamic', 'times,', 'up', 'through', 'the', 'Dark', 'Ages,', 'and', 'then', 'perhaps', 'most', 'poignantly', 'through', 'the', 'Enlightenment', '', 'and', 'Scientific', 'Revolution', 'from', 'which', 'emerged', 'much', 'of', 'the', 'rational', 'foundations', 'of', 'the', 'modern', 'era,', 'intellectual', 'foundations', 'that', 'were,', 'and', 'still', 'are', 'to', 'a', 'large', 'degree,', 'perplexed', 'by', 'the', 'findings', 'of', 'Quantum', 'Mechanics,', 'bringing', 'about', 'a', 'new', 'intellectual', 'revolution,', 'i.e']), (0.007822472520600794, ['', 'Even', 'dreams', 'had', 'their', 'own', 'reality', 'in', 'this', 'world,', 'and', 'different', 'states', 'of', 'consciousness', 'were', 'different', 'reflections,', 'or', 'different', 'perceptions,', 'of', 'reality', 'to', 'them']), (0.007754608595317931, ['In', 'this', 'way,', 'and', 'in', 'fairly', 'courageous', 'fashion', 'one', 'might', 'add,', 'Bohm', 'refuses', 'to', 'yield', 'to', 'the', 'standard', 'Copenhagen', 'Interpretation', 'of', 'Quantum', 'Theory', 'which', 'simply', 'posits', 'that', 'the', 'math', 'underlying', 'Quantum', 'Mechanics', 'is', 'simply', 'a', 'model', 'for', 'solving', 'equations', 'and', 'nothing', 'more', 'and', 'should', 'not', 'be', 'looked', 'upon', 'as', 'having', 'any', 'sort', 'of', 'ontological', 'relevance', 'at', 'all,', 'while', 'at', 'the', 'same', 'time', 'not', 'necessarily', 'venturing', 'into', 'pure', 'idealistic', 'philosophy', 'necessarily,', 'but', 'first', 'metaphysics', 'and', 'then', 'ontology,', 'all', 'the', 'while', 'staying', 'true', 'to', 'the', 'rational,', 'mechanical', 'and', 'ultimately', 'mathematical', 'models', 'that', 'underpin', 'Classical', 'and', 'Quantum', 'Mechanics,', 'the', 'two', 'grand', 'pillars', 'of', 'modern', 'Physics']), (0.00773686070333963, ['', 'In', 'virtually', 'all', 'of', 'the', 'ancient', 'theo-philosophical', 'systems,', 'the', 'ones', 'in', 'Eurasia', 'that', 'we', 'explore', 'in', 'this', 'work,', 'the', 'Soul', 'plays', 'a', 'fundamental', 'role', 'in', 'the', '�ordering�,', '�comprehending�', 'and', '�realizing�', 'aspect', 'of', 'existence', 'as', 'seen', 'from', 'an', 'individual', 'perspective']), (0.007680658533417411, ['', 'And', 'then', 'we', 'have', 'the', 'problem', 'at', 'the', 'other', 'end', 'of', 'the', 'spectrum,', 'at', 'the', 'cosmic', 'scale,', 'our', 'ideas', 'of', 'space', 'and', 'time', 'as', 'discrete,', 'measurable', 'constructs', 'has', 'to', 'be', 'abandoned,', 'or', 'at', 'best', 'relaxed,', 'in', 'order', 'for', 'the', 'underlying', 'models', 'to', 'be', 'complete', 'and', 'accurate']), (0.007677986776704695, ['', 'The', 'ancients', 'had', 'to', 'plant', 'food,', 'had', 'to', 'procreate,', 'had', 'to', 'hunt', 'for', 'meat']), (0.00765874228978878, ['', 'The', 'answer,', 'or', 'at', 'least', 'the', 'best', 'answer,', 'in', 'the', 'spirit', 'of', 'Descartes,', 'is', 'the', 'Self,', 'or', 'that', 'cognizing', 'principle', 'which', 'sits', 'at', 'the', 'heart', 'of', 'any', 'and', 'all', 'forms', 'of,', 'subjective,', 'experience']), (0.007636277454121166, ['', 'While', 'certainly', 'much', 'was', 'gained', 'as', 'Reason', 'supplanted', 'Religion', 'in', 'the', 'West', 'in', 'the', 'last', 'few', 'centuries,', 'nonetheless', 'something', 'was', 'clearly', 'lost', 'as', 'well']), (0.007616741331163436, ['', 'Metaphysics', 'is', 'distinguished', 'from', 'Physics', 'in', 'the', 'sense', 'that', 'it', 'attempts', 'to', 'explain', 'phenomena', 'that', 'could', 'be', 'considered', 'unreal,', 'or', 'lacking', 'material', 'substance', 'or', 'verifiability', 'by', 'empirical', 'or', 'scientific', 'methods', 'that', 'are', 'associated', 'with', 'Physics', 'proper']), (0.007605590156206069, ['This', 'notion', 'of', 'the', 'Soul', 'in', 'the', 'West', 'equates', 'at', 'a', 'very', 'basic', 'level', 'with', 'the', 'notion', 'of', 'Mind', 'from', 'a', 'Buddhist', 'perspective,', 'the', 'Intellect', 'from', 'a', 'Neo-Platonist', 'perspective', 'and', 'the', '?tman', 'of', 'the', 'Indian', 'theo-philosophical', 'tradition,', 'all', 'of', 'which', 'represent', '�', 'in', 'their', 'own', 'respective', 'theo-philosophical', 'systems', '�', 'the', 'individual', 'reflection', 'of', 'the', 'cosmic']), (0.0075529100761324505, ['', 'This', 'is', 'how', 'Bohmian', 'Mechanics', 'sidesteps', 'the', 'measurement', 'problem,', 'it', 'incorporates', 'the', 'act', 'of', 'measurement', 'into', 'phenomena', 'governed', 'by', 'the', 'same', 'Schr�dinger', 'wave', 'equation,', 'except', 'one', 'that', 'is', 'a', '�superset�', 'in', 'some', 'sense', 'of', 'the', 'conditional', 'wavefunction', 'which', 'only', 'defines', 'the', 'behavior', 'of', 'that', 'which', 'is', 'being', 'observed,', 'independent', 'of', 'the', 'mechanism', 'of', 'observation', 'itself']), (0.0075320552151413684, ['', 'The', 'mystery', 'of', 'the', 'connection', 'of', 'the', 'individual', 'with', 'the', 'cosmos', 'became', 'myth', 'really,', 'or', 'at', 'best', 'perhaps', 'simply', 'the', 'domain', 'of', 'Religion,', 'as', 'unscientific', 'a', 'pursuit', 'as', 'there', 'is']), (0.007489280129354165, ['', 'To', 'Aristotle', 'and', 'Plato', 'no', 'doubt,', 'the', 'Soul', 'was', 'everything', 'really,', 'the', 'vessel', 'within', 'which', 'all', 'life', 'was', 'to', 'be', 'perceived', 'and/or', 'conceived']), (0.007487186838497923, ['', 'And', 'yet', 'ancient', 'man,', 'at', 'least', 'as', 'we', 'have', 'come', 'to', 'understand', 'them', 'as', 'advanced', 'societies', 'emerge', 'and', 'a', 'concerted', 'effort', 'was', 'made', 'to', 'understand', 'the', 'nature', 'of', 'the', 'world', '(philosophia),', 'held', 'beliefs', 'that', 'at', 'their', 'core', 'reflected', 'a', 'deep', 'understanding', 'of', 'the', 'interconnectedness', 'of', 'all', 'things,', 'and', 'that', 'there', 'existed', 'an', 'all-pervading', 'consciousness', 'of', 'sorts', 'from', 'which', 'the', 'universe', 'itself', 'emanated,', 'and', 'that', 'the', 'distinction', 'between', 'inanimate', 'and', 'inanimate', '�things�', 'stemmed', 'from', 'the', 'existence', 'of', 'the', 'Soul']), (0.007481444349216894, ['', 'In', 'General', 'Relativity,', 'these', 'fundamental', 'relative', 'postulates', 'regarding', 'space', 'and', 'time', 'are', 'even', 'further', 'abstracted', 'to', 'incorporate', 'gravity,', 'which', 'according', 'to', 'the', 'theory', 'is', 'not', 'a', 'force', 'necessarily,', 'but', 'instead', 'effectively', 'bends', 'spacetime', 'from', 'which', 'can', 'be', 'derived', 'the', '(relative)', 'position,', 'mass', 'and', 'speed', '�', 'the', 'three', 'measurement', 'pillars', 'at', 'the', 'cosmic', 'scale', '�', 'of', 'an', 'object']), (0.007453532107812914, ['', 'This', 'is', 'Bohm�s', 'undivided', 'universe,', 'which', 'is', 'best', 'described', 'as', 'a', 'process', 'of', 'constant', 'unfolding,', 'what', 'he', 'termed', 'holomovement,', 'which', 'incorporates', 'mind,', 'which', 'is', 'required', 'for', 'any', 'act', 'of', 'perception', 'to', 'take', 'place,', 'directly', '(back)', 'into', 'the', 'model', 'as', 'it', 'were,', 'effectively', 'pointing', 'to', 'an', 'all-pervading', 'consciousness', 'which', 'underlies', 'the', 'universe,', 'within', 'which', 'mind', 'is', 'but', 'one', '(subtler)', 'aspect']), (0.007444040694201623, ['', 'Very', 'strong', 'with', 'respect', 'to', 'explaining', 'physical', 'systems', 'and', 'modern', 'intellectual', 'paradigms', 'that', 'are', 'grounded', 'therein,', 'and', 'quite', 'weak', 'really', 'as', 'we', 'have', 'seen', 'with', 'respect', 'to', 'explaining', 'really', 'anything', 'that', 'does', 'not', 'belong', 'to', 'Science', 'proper']), (0.007343034291656917, ['', 'They', 'did', 'not', 'have', 'to', 'pray', 'to', 'the', 'gods', 'for', 'their', 'food', 'and', 'clothing,', 'their', 'sustenance,', 'these', 'came', 'from', 'the', 'inventions', 'of', 'mankind', 'and', 'society', 'as', 'it', 'developed,', 'using', 'reason', 'and', 'logic', 'as', 'their', 'basis,', 'the', 'first', 'technological', 'advances,', 'by', 'the', 'manipulation', 'of', 'the', 'material', 'and', 'physical', 'world', 'and', 'leveraging', 'the', 'human', 'mind', 'in', 'all', 'its', 'creativity', 'and', 'power,', 'establishing', 'the', 'foundations', 'of', 'modern', 'Science,', 'even', 'though', 'they', 'didn�t', 'call', 'it', 'that', 'back', 'then', '(Aristotle�s', 'practical', 'philosophy)']), (0.007308301771523719, ['', 'Thus', 'there', 'is', 'no', 'real', 'division', 'between', 'what', 'is', 'manifest', 'and', 'what', 'is', 'subtle', 'and', 'in', 'consequence', 'there', 'is', 'no', 'real', 'division', 'between', 'mind', 'and', 'matter']), (0.007220249248531419, ['', 'This', 'is', 'not', 'debatable,', 'and', 'yet', 'the', 'most', 'predominant', 'metaphysical', 'models', 'of', 'today', 'are', 'mechanistic,', 'and', 'in', 'turn', 'deterministic,', 'despite', 'the', 'fact', 'that', 'we', 'know', 'beyond', 'a', 'shadow', 'of', 'a', 'doubt', 'that', 'there', 'are', 'very', 'profound', 'and', 'significant', 'limitations', 'to', 'this', 'worldview']), (0.007146375743122166, ['', 'Lost', 'in', 'all', 'of', 'this', 'of', 'course,', 'as', 'almost', 'an', 'unintended', 'consequence,', 'was', 'the', 'connection', 'between', 'mind,', 'and', 'the', 'Cosmos', '-', 'the', 'death', 'of', 'the', 'Soul', 'as', 'it', 'were,', 'or', 'in', 'stark', 'terms', 'as', 'described', 'by', 'Nietzsche,', 'the', 'death', 'of', 'God', 'himself']), (0.007131477554585573, ['', 'Whether', 'or', 'not', 'the', 'conditional', 'wavefunction', 'as', 'Bohm', '(and', 'Hiley)', 'describe', 'it', 'exists', 'as', 'an', 'actual', 'measurable', 'and', 'definable', 'phenomenon,', 'or', 'whether', 'it', 'simply', 'exists', 'as', 'a', 'theoretical', 'construct', 'that', 'must', 'exist', 'in', 'order', 'for', 'Bohmian', 'Mechanics', 'to', 'be', 'fully', 'coherent', 'and', 'consistent,', 'is', 'almost', 'besides', 'the', 'matter']), (0.007042779717512527, ['From', 'this', 'vantage', 'point,', 'from', 'this', 'extended', 'or', 'expanded', 'metaphysics,', 'the', 'direct', 'experience', 'of', 'supraconsciousness,', 'as', 'it', 'manifests', 'in', 'the', 'penultimate', 'experience', 'of', 'the', 'mystic,', 'the', 'end', 'of', 'the', 'mystical', 'arts', 'as', 'it', 'were,', 'represents', 'a', 'higher', 'order', 'reality,', 'not', 'one', 'that', 'is', 'more', 'true', 'necessarily', 'than', 'the', 'lower', 'forms', 'or', 'paradigms,', 'but', 'one', 'that', 'is', 'nonetheless', 'higher', 'from', 'an', 'intellectual,', 'and', 'really', 'metaphysical', 'perspective', '�', 'in', 'the', 'Platonic', 'idealist', 'sense', 'at', 'least']), (0.007010780330069216, ['', 'But', 'while', 'arguably', 'Everett', 'did', 'not', 'necessarily', 'intend', 'to', 'wade', 'into', 'metaphysical', 'waters', 'necessarily,', 'his', 'interpretation', 'of', 'the', 'underlying', 'mathematics', 'of', 'Quantum', 'Theory', 'does', 'in', 'fact', 'solve', 'some', 'very', 'basic', 'challenges', 'of', 'the', 'theoretical', 'model,', 'while', 'arguably', 'raising', 'some', 'other', 'ones', '(like', 'for', 'example', 'the', 'idea', 'that', 'multiple', 'universes,', 'or', 'realties,', 'may', 'exist', 'at', 'any', 'given', 'time', 'which', 'gave', 'rise,', 'and', 'credence', 'to', 'a', 'large', 'extent,', 'to', 'the', '�multi-verse�', 'idea)']), (0.006992312157598898, ['the', 'observer,', 'as', 'well', 'as', 'the', 'act', 'of', 'perception', 'itself,', 'back', 'into', 'the', 'conversation', 'about', 'what', 'is', 'actually', 'going', 'on', 'when', 'a', 'quantum', 'observation', 'is', 'made,', 'Bohmian', 'Mechanics', 'in', 'fact', '(by', 'design)', 'forces', 'us', 'to', 'consider', 'that', 'the', 'act', 'of', 'perception', 'itself', 'as', 'a', 'first', 'order', 'principle', 'that', 'we', 'should', 'be', 'looking', 'at,', 'from', 'a', 'metaphysical', 'perspective', 'at', 'least,', 'not', 'the', 'specific', 'explicit', 'order', 'which', 'may', 'or', 'may', 'not', 'be', 'applicable', 'to', 'a', 'given', 'domain', 'of', 'experience']), (0.006960832936400262, ['', 'They', 'could', 'spend', 'their', 'time', 'focused', 'on', 'other', 'things,', 'on', 'intellectual', 'matters', 'such', 'as', 'ideal', 'forms', 'of', 'government', 'for', 'example,', 'and', 'on', 'mathematics', 'and', 'astronomy,', 'and', 'other', 'topics', 'which', 'all', 'fell', 'under', 'the', 'broad', 'heading', 'of', 'philosophia']), (0.00694437169599216, ['', 'This', 'framework', 'evolved', 'mostly', 'as', 'philosophy', 'emerged', 'as', 'the', 'dominant', 'intellectual', 'framework', 'for', 'understanding', 'reality,', 'philosophia', 'supplanting', 'mythos', 'in', 'a', 'very', 'real', 'sense,', 'but', 'nonetheless', 'rooted', 'in', 'mythos,', 'narratives', 'that', 'again', 'explained', 'how', 'the', 'universe', 'came', 'to', 'be,', 'how', 'the', 'gods', 'were', 'created,', 'how', 'mankind', 'was', 'created', 'in', 'their', 'image,', 'and', 'how', 'and', 'why', 'mankind', 'was', 'granted', 'authority', 'and', 'dominion', 'over', 'the', 'Earth']), (0.0069239930546433305, ['In', 'Bohm�s', 'ontological', 'framework,', 'it', 'is', 'this', 'concept', 'of', 'active', 'information,', 'his', 'notion', 'of', 'quantum', 'potential,', 'which', 'represents', 'this', 'non-local', 'force', 'in', 'the', 'quantum', 'realm', 'which', 'underpins', 'the', 'reality', 'of', 'the', 'subatomic', 'world,', 'and', 'by', 'extension', 'all', 'of', 'physical', 'reality']), (0.006922792322342562, ['So', 'in', 'this', 'sense,', 'despite', 'the', 'power', 'and', 'specificity', 'of', 'the', 'systems', 'of', 'metaphysics', 'of', 'Bohm,', 'and', 'Everett,', 'and', 'perhaps', 'to', 'a', 'lesser', 'degree', 'Pirsig,', 'they', 'nonetheless', 'lack', 'this', 'cornerstone', 'metaphysical', 'principle', 'upon', 'which', 'any', 'truly', 'comprehensive,', 'complete', 'really,', 'notion', 'of', 'reality', 'must', 'rest']), (0.006886976115893465, ['', 'All', 'peoples', 'and', 'civilizations', 'in', 'antiquity', 'it', 'would', 'appear,', 'presume', 'that', 'the', 'Universe', 'is', 'an', 'ordered', 'place', 'and', 'that', 'the', 'greatest', 'power', 'in', 'the', 'Universe,', 'the', 'greatest', 'and', 'the', 'most', 'prolific,', 'is', 'that', 'which', 'provides', 'order', 'to', 'chaos']), (0.0068154894087659726, ['', 'Society', 'advanced', 'to', 'the', 'point', 'where', 'the', 'individual,', 'or', 'at', 'least', 'the', 'individuals', 'who', 'focused', 'on', 'theological', 'and', 'philosophical', 'matters,', 'did', 'not', 'have', 'their', 'lives', 'and', 'thoughts', 'obsessed', 'and', 'focused', 'on', 'survival']), (0.00678747023927783, ['In', 'searching', 'for', 'an', 'intellectual', 'paradigm', 'that', 'fully', 'explains', 'and', 'incorporates', 'all', 'aspects', 'of', 'reality', 'across', 'the', 'entire', 'spectrum', 'of', 'experience', '(from', 'the', 'pure', 'physical', 'realm', 'as', 'explained', 'by', 'Science,', 'to', 'the', 'psychological', 'or', 'mystical', 'as', 'explained', 'by', 'Psychology,', 'Cognitive', 'Science', 'and', 'Eastern', 'philosophy,', 'incorporating', 'the', 'notion', 'of', 'supraconsciousness)', 'we', 'must', 'first', 'identify', 'the', 'metaphysical', 'and', 'intellectual', 'entity', 'or', 'idea', 'that', 'ties', 'all', 'these', 'realms', 'of', 'experience', 'together']), (0.006776256445632068, ['our', 'supraconsciousness,', 'this', 'higher', 'order', 'of', 'reality', 'that', 'modern', 'Science', 'has', 'such', 'a', 'difficult', 'time', 'explaining', 'in', 'really', 'any', 'capacity', 'at', 'all,', 'can', 'of', 'course', 'be', 'found', 'in', 'virtually', 'all', 'of', 'the', 'Eastern', 'theo-philosophical', 'traditions,', 'most', 'notably', 'in', 'the', 'Indian', 'theo-philosophical', 'tradition', 'of', 'course,', 'but', 'also', 'can', 'be', 'found', 'alluded', 'to', 'even', 'in', 'the', 'Western', 'theo-philosophical', 'traditions', 'as', 'well', '-', 'e.g']), (0.006753168687260603, ['', 'And', 'at', 'the', 'other', 'end', 'of', 'the', 'spectrum', 'in', 'the', 'sub-atomic', 'realm,', 'at', 'the', 'very', 'core', 'of', '�physical', 'reality�', 'you', 'might', 'say,', 'objects', '(corpuscles)', 'appear', 'to', 'be', 'connected,', 'correlated,', 'in', 'a', 'way', 'that', 'is', 'fundamentally', 'non-Classical', '-', 'analogous', 'in', 'many', 'respects,', 'oddly,', 'to', 'Eastern', 'philosophical', 'principles', 'of', 'underlying', 'consciousness']), (0.006713954104536063, ['In', 'an', 'altogether', 'different', 'approach,', 'interpretation', 'as', 'it', 'were', '�', 'of', 'Quantum', 'Mechanics', 'at', 'least', '-', 'is', 'the', 'view', 'posited', 'by', 'Hugh', 'Everett,', 'where', 'an', 'observable', 'quantum', 'state', 'corresponds', 'to', 'what', 'he', 'refers', 'to', 'in', 'typical', 'physicist/mathematical', 'jargon', 'as', 'the', 'relative-state', 'formulation', 'of', 'Quantum', 'Mechanics', 'which', 'posits', 'that', 'a', 'given', 'quantum', 'state', 'exists', 'out', 'of', 'the', 'possibility', 'of', 'all', 'potential', 'observable', 'states', '(or', '�realities�,', 'which', 'is', 'a', 'bit', 'of', 'a', 'misnomer', 'but', 'is', 'how', 'his', 'theory', 'has', 'come', 'to', 'be', 'interpreted),', 'all', 'governed', 'by', 'what', 'he', 'refers', 'to', 'as', 'his', 'Universal', 'Wave', 'Function', 'which', 'describes', 'the', 'current', 'and', 'all', 'future', 'states', 'of', 'the', 'entire', 'universe']), (0.00660614933615308, ['', 'This', 'was', 'a', 'core', 'tenet', 'of', 'their', 'belief', 'system,', 'and', 'a', 'core', 'principle', 'that', 'was', 'embedded', 'in', 'their', 'teachings,', 'scripture', 'included,', 'from', 'the', 'very', 'beginning']), (0.0064999811576538155, ['This', 'fundamentally', 'philosophical', 'problem', 'is', 'the', 'very', 'one', 'that', 'is', 'confronted', 'by', 'anyone', 'who', 'tries', 'to', 'interpret', 'what', 'Quantum', 'Theory', 'really', 'means,', 'map', 'it', 'at', 'some', 'level', 'to', 'physical', 'reality,', 'where', 'the', 'role', 'of', 'the', 'observer,', 'the', 'role', 'of', 'mind,', 'cannot', 'be', 'completely', 'ignored', 'when', 'trying', 'to', 'determine', 'how', 'a', 'final', 'quantum', 'state', 'is', 'perceived', 'which', 'must', 'account', 'for', 'the', 'setup', 'and', 'measurement', 'apparatus', 'itself']), (0.006411593540377983, ['*', 'that', 'even', 'in', 'Classical', 'Mechanics', 'the', 'principle', 'of', 'Relativity', 'is', 'required', 'in', 'order', 'to', 'provide', 'coherence', 'and', 'consistency', 'at', 'the', 'cosmic', 'scale:', 'that', 'at', 'the', 'other', 'end', 'of', 'the', 'spectrum,', 'our', 'classical', 'notions', 'of', 'space', 'and', 'time', 'and', 'three-dimensional', 'space', 'must', 'be', 'abandoned', 'in', 'order', 'for', 'Classical', 'Mechanics', 'to', 'be', 'consistent', 'and', 'accurate', 'when', 'viewing', 'the', 'universe', 'at', 'the', 'grand', 'scale,', 'i.e']), (0.006381551087888638, ['1', 'Such', 'distinctions', 'and', 'varying', 'expertise', 'in', 'these', 'fields', 'of', 'study', 'in', 'fact,', 'all', 'of', 'which', 'are', 'arguably', 'required', 'to', 'be', 'drawn', 'upon', 'to', 'come', 'up', 'with', 'a', 'truly', 'cohesive', 'and', 'comprehensive', 'ontological', 'system,', 'is', 'in', 'fact', 'one', 'of', 'the', 'very', 'reasons', 'why', 'we', 'find', 'most', 'modern', 'conceptions', 'of', 'reality', '�', 'as', 'defined', 'within', 'each', 'one', 'of', 'these', 'domains', '�', 'to', 'be', 'lacking']), (0.0062934030645863245, ['This', 'description', 'of', 'reality,', 'from', 'a', 'Physicist', 'no', 'less,', 'not', 'only', 'represents', 'an', 'interpretation', 'of', 'Quantum', 'Theory', 'as', 'it', 'relates', 'specifically', 'to', 'the', 'concepts', 'of', 'implicate', 'and', 'explicate', 'orders', 'as', 'described', 'by', 'Bohm,', 'but', 'also', 'embeds', 'within', 'it', 'the', 'notion', 'of', 'active', 'information', 'which', 'underpins', 'Bohmian', 'Mechanics', 'and', 'helps', '�explain�', 'how', 'it', 'is', 'that', 'the', 'fundamental', 'constituents', 'of', 'nature,', 'i.e']), (0.006237972305435363, ['This', 'dismissal', 'of', 'the', 'reality', 'of', 'the', 'mystical', 'states,', 'states', 'which,', 'at', 'least', 'from', 'an', 'Eastern', 'theo-philosophical', 'perspective,', 'are', 'effectively', 'the', 'birthright', 'of', 'all', 'mankind', 'and', 'that', 'which', 'ultimately', 'distinguish', 'us', 'as', 'human,', 'is', 'pervasive', 'not', 'only', 'in', 'the', 'Scientific', 'community,', 'but', 'also', 'in', 'the', 'orthodox', 'religious', 'community', 'as', 'well']), (0.006156084280488968, ['', 'They', 'had', 'their', 'religious', 'festivals', 'and', 'rites', 'which', 'essentially', 'were', 'the', 'praying', 'or', 'asking', 'of', 'the', 'divine,', 'the', 'unknown', 'and', 'unseen', 'anthropomorphic', 'hand(s)', 'that', 'guided', 'these', 'mysterious', 'cyclical', 'processes,', 'cyclical', 'processes', 'which', 'ultimately', 'were', 'governed', 'by', 'the', 'process', 'of', 'life', 'and', 'death', 'itself,', 'and', 'so', 'they', 'developed', 'ritualistic', 'practices', 'to', 'pray', 'to', 'these', 'gods', 'upon', 'whom', 'their', 'survival,', 'and', 'the', 'survival', 'of', 'their', 'peoples', 'and', 'societies,', 'depended']), (0.00612621909211729, ['', 'Prior', 'to', 'the', 'advent', 'of', 'Science,', 'as', 'marked', 'by', 'its', 'distinguishing', 'characteristics', 'of', 'empiricism', 'and', 'scientific', 'method', 'as', 'a', 'means', 'for', 'elucidating', 'and', 'discerning', 'truth', 'and', 'reality,', 'Science', 'was', 'referred', 'to', 'as', 'Natural', 'Philosophy,', 'and', 'this', 'in', 'fact', 'was', 'the', 'term', 'that', 'was', 'used', 'by', 'Newton', 'as', 'the', 'title', 'of', 'his', 'great', 'work', 'Philosophi�', 'Naturalis', 'Principia', 'Mathematica']), (0.005970510174477502, ['What', 'Pirsig�s', 'Metaphysics', 'of', 'Quality', 'fails', 'to', 'incorporate', 'however,', 'but', 'what', 'Bohm', 'at', 'least', 'tries', 'to', 'integrate', 'at', 'some', 'level', '(even', 'though', 'he,', 'like', 'any', 'philosopher,', 'is', 'constrained', 'by', 'the', 'tools', 'which', 'he', 'must', 'use', 'to', 'perform', 'his', 'trade),', 'is', 'that', 'the', 'very', 'nature', 'of', 'experience', 'itself,', 'given', 'that', 'it', 'is', 'entirely', 'subjective', 'by', 'definition,', 'must', 'take', 'into', 'account', 'the', 'role', 'of', 'the', 'human', 'mind', 'in', 'defining', 'the', 'boundaries', 'of', 'such', 'experience']), (0.005962566826974909, ['*', 'the', 'underlying', 'substratum', 'of', 'physical', 'reality', 'behaves', 'according', 'to', 'fundamentally', 'non-local', 'principles', 'that', 'are', 'inconsistent', 'with', 'Classical', 'Mechanics:', 'the', 'nature', 'of', 'subatomic', 'reality', 'is', 'non-local', 'in', 'the', 'sense', 'that', 'the', 'location', 'and', 'momentum', 'of', 'subatomic', '�things�,', 'i.e']), (0.005943445784642009, ['Modern', 'Science,', 'as', 'it', 'stands', 'today', 'in', 'fact,', 'has', 'yielded', 'great', 'developments', 'and', 'progress', 'in', 'our', 'understanding', 'of', 'the', 'physical', 'world', 'no', 'doubt,', 'standing', 'at', 'the', 'very', 'foundation', 'of', '�modern', 'progress�,', 'and', 'yet', 'the', 'theoretical', 'constructs', 'on', 'top', 'of', 'which', 'it', 'is', 'constructed', '(Quantum', 'Mechanics', 'and', 'Classical', 'Mechanics)', 'are', 'not', 'only', 'not', 'fully', 'deterministic', 'in', 'the', 'Classical', 'sense,', 'but', 'are', 'also', 'fundamentally', 'incompatible', 'with', 'each', 'other', '�', 'philosophically', 'and', 'mathematically']), (0.005865876593331223, ['', 'Various', 'tales', 'and', 'stories', 'that', 'were', 'handed', 'down', 'from', 'generation', 'to', 'generation,', 'that', 'spoke', 'of', 'topics', 'such', 'as', 'the', 'creation', 'of', 'the', 'world', 'and', 'mankind,', 'stories', 'of', 'great', 'valor', 'and', 'love,', 'and', 'destruction', 'stories', 'too', 'no', 'doubt']), (0.0057465419644323595, ['What', 'we', 'are', 'left', 'with', 'effectively,', 'in', 'the', 'search', 'for', 'an', 'ontological', 'paradigm', 'in', 'the', 'Western', 'intellectual', 'landscape', 'which', 'accounts', 'for', 'the', 'entire', 'spectrum', 'of', 'human', 'experience,', 'across', 'the', 'physical', 'and', 'psychological', 'domains,', 'is', 'a', 'chasm', 'of', 'sorts', 'that', 'relegates', 'questions', 'of', 'the', 'very', 'ground', 'of', 'experience', 'itself,', 'the', 'notion', 'of', 'supraconsciousness', 'which', 'rests', 'at', 'the', 'very', 'heart', 'of', 'Eastern', 'philosophy,', 'to', 'theology,', 'or', 'at', 'best', 'to', 'philosophy']), (0.005693278013098304, ['What', 'we', 'are', 'left', 'with', 'is', 'the', 'fact', 'that', 'Newtonian', 'Mechanics', 'in', 'fact', 'is', 'only', 'an', 'approximation', 'of', 'the', 'behavior', 'of', '�objects�', 'and', '�things�', 'when', 'considered', 'at', 'the', 'human', 'scale,', 'and', 'different', 'models', 'must', 'be', 'used', 'to', 'more', 'accurately', 'predict', 'behavior', 'at', 'not', 'only', 'the', 'cosmic', 'scale,', 'but', 'the', 'subatomic', 'scale', 'as', 'well']), (0.005623072391842585, ['Plato', 'as', 'well', 'as', 'some', 'of', 'the', 'Pre-Socratics,', 'etc.,', 'from', 'which', 'the', 'notion', 'of', 'wisdom,', 'i.e']), (0.0055836322494468215, ['An', 'important', 'point', 'to', 'be', 'made', 'here,', 'at', 'least', 'for', 'logical', 'consistency', 'sake', 'and', 'to', 'counter', 'the', 'arguments', 'of', 'the', 'so-called', '�orthodox�', 'religious', 'views', 'which', 'tout', 'the', 'sole', 'divine', 'authority', 'of', 'their', 'respective', 'Scripture,', 'is', 'that', 'if', 'you', 'believe', 'in', 'the', 'possibility', 'of', 'revelation', 'itself,', 'a', 'notion', 'which', 'at', 'least', 'to', 'some', 'degree', 'orthodox', 'religious', 'belief', 'systems', 'attest', 'to', 'given', 'that', 'there', 'is', 'an', 'implicit', 'revelatory', 'aspect', 'of', 'the', 'Scripture', 'itself', 'from', 'which', 'the', 'authority', 'of', 'said', 'Scripture', 'is', 'derived', 'from,', 'then', 'one', 'must', 'acknowledge', 'the', 'possibility', 'that', 'direct', 'perception', 'of', 'the', 'divine', 'by', 'a', 'human', 'form', 'is', 'possible']), (0.0055783167204591306, ['Quantum', 'Theory', 'as', 'interpreted,', 'or', 'explained,', 'in', 'Bohmian', 'Mechanics', 'is', 'theoretically,', 'and', 'mathematically,', 'sound', 'and', 'there', 'is', 'no', 'need', '(conceptually', 'at', 'least)', 'for', 'any', 'artificially', 'induced', 'wavefunction', 'collapse,', 'thereby', 'providing', 'at', 'least', 'the', 'beginnings', 'of', 'a', 'coherent', 'system', 'of', 'metaphysics,', 'an', 'ontological', 'foundation', 'even,', 'by', 'which', 'Quantum', 'Theory', 'may', 'be', 'understood']), (0.005576945039648859, ['', 'And', 'so', 'was', 'born', 'Reason,', 'which', 'supplanted', 'myth', 'and', 'faith', '(theology)', 'to', 'a', 'large', 'extent,', 'which', 'was', 'the', 'means', 'by', 'which', 'mankind', 'established', 'agriculture', 'and', 'domesticated', 'animals', 'to', 'do', 'their', 'bidding,', 'through', 'which', 'more', 'advanced', 'societies', 'evolved,', 'forms', 'of', 'government', 'were', 'established,', 'and', 'perhaps', 'most', 'significantly,', 'through', 'which', 'language', 'and', 'writing', 'were', 'invented', 'to', 'support', 'all', 'of', 'these', 'efforts', 'via', 'the', 'evolution', 'of', 'human', 'civilizations', 'accelerated', 'dramatically']), (0.005349353636630518, ['But', 'imbedded', 'in', 'ancient', 'mythos,', 'a', 'core', 'tenet', 'as', 'it', 'were,', 'was', 'the', 'principle', 'that', 'the', 'universe', 'and', 'mankind', 'himself,', 'emerged', 'from', 'some', 'primordial', 'source,', 'this', 'cosmic', 'soup', 'from', 'which', 'gods', 'and', 'men', 'and', 'all', 'living', 'creatures', 'came', 'forth,', 'at', 'the', 'hand', 'of', 'God', 'in', 'the', 'Abrahamic', 'religions', 'and', 'at', 'the', 'hand', 'of', 'some', 'non-anthropomorphic', 'principle', 'in', 'the', 'Eastern', 'philosophical', 'systems', 'which', 'have', 'gained', 'some', 'prominence', 'in', 'modern', 'times', 'as', 'Western', 'religious', 'systems', 'in', 'their', 'orthodoxy', 'and', 'irrationality', 'have', 'been', 'for', 'the', 'most', 'part', 'discarded']), (0.005337709758830277, ['The', 'Egyptian,', 'Greek,', 'Babylonian', 'and', 'even', 'Christian', 'creation', 'myths,', 'their', 'cosmogony', 'or', 'creation', 'mythos', 'which', 'provided', 'sometimes', 'fantastic', 'explanations', 'as', 'to', 'how', 'the', 'universe', 'came', 'into', 'existence', 'and', 'in', 'turn', 'how', 'mankind', 'itself', 'was', 'formed,', 'no', 'doubt', 'stemmed', 'from', 'and', 'reflected', 'the', 'socio-political', 'reality', 'of', 'the', 'respective', 'cultures', 'within', 'which', 'these', 'so-called', '�religious�', 'systems', 'emerged', '-', 'societies', 'where', 'individuals', 'struggled', 'for', 'access', 'to', 'food', 'and', 'shelter,', 'where', 'the', 'existence', 'of', 'the', 'society', 'itself', 'depended', 'on', 'the', 'seasons', 'and', 'the', 'weather,', 'their', 'river', 'valleys', 'and', 'their', 'periodic', 'flooding,', 'which', 'in', 'turn', 'were', 'guided', 'by', 'the', 'seasons', 'which', 'the', 'ancients', 'knew', 'were', 'related', 'to', 'the', 'stars', 'and', 'the', 'sky']), (0.005230096001011519, ['From', 'an', 'ontological', 'perspective,', 'a', 'term', 'that', 'was', 'coined', 'only', 'in', 'the', 'last', 'century', 'or', 'two', 'to', 'denote', 'a', 'specific', 'branch', 'of', 'philosophy', 'related', 'to', 'being,', 'or', 'reality', 'itself,', 'in', 'deep', 'antiquity', 'our', 'ancestors', 'simply', 'had', 'myth']), (0.0051753424521203024, ['It', 'is', 'from', 'this', 'vantage', 'point', 'for', 'example', 'that', 'Pirsig', 'arrives', 'at', 'his', 'Metaphysics', 'of', 'Quality,', 'a', 'system', 'of', 'metaphysics', 'that', 'expands', 'the', 'field', 'of', 'knowledge', 'from', 'the', 'confining', 'subject-object', 'metaphysics', 'which', 'underpins', 'the', 'worldview', 'of', 'the', 'West', '(and', 'in', 'some', 'respects', 'defines', 'it)', 'to', 'a', 'more', 'expansive', 'model', 'which', 'is', 'based', 'upon', 'the', 'notion', 'of', 'Quality', 'as', 'a', 'central,', 'pre-cognitive', 'and', 'all-pervading', 'principle']), (0.005109786179889967, ['And', 'their', 'metaphysics,', 'the', 'intellectual', 'framework', 'that', 'underpinned', 'their', 'understanding', 'of', 'reality', 'and', 'the', 'world', 'around', 'them,', 'was', 'entirely', 'integrated', 'and', 'coupled', 'with', 'their', 'understanding', 'of', 'the', 'human�s', 'psyche,', 'mind']), (0.005013425851572001, ['the', 'Quantum', 'Era,', 'which', 'although', 'rested', 'on', 'the', 'same', 'principles', 'of', 'the', 'Enlightenment,', 'i.e']), (0.0049777914941184255, ['Bohm,', 'and', 'his', 'colleague', 'Basil', 'Hiley,', 'definitely', 'make', 'a', 'valiant', 'effort', 'to', 'try', 'and', 'bridge', 'this', 'seemingly', 'impossible', 'chasm,', 'taking', 'metaphysics', 'to', 'revolutionary', 'places', 'with', 'their', 'firm', 'grasp', 'of,', 'and', 'wholesale', 'integration', 'with,', 'both', 'Quantum', 'Mechanics', 'and', 'Classical', 'Mechanics,', 'both', 'the', 'very', 'height', 'of', 'the', 'scientific', 'domain', 'as', 'well', 'as', 'the', 'very', 'source', 'its', 'challenges', 'with', 'respect', 'to', 'ontology']), (0.004960135440090371, ['Furthermore,', 'to', 'make', 'matters', 'worse,', 'we', 'also', 'find', 'that', 'at', 'the', 'cosmic', 'scale,', 'notions', 'such', 'as', 'space', 'and', 'time', 'can', 'only', 'be', 'construed,', 'or', 'properly', 'understood,', 'as', '�relative�', 'values,', 'values', 'which', 'depend', 'upon', 'the', 'position', 'of', 'the', 'observer,', 'and', 'the', 'relative', 'speed', 'of', 'said', 'observer', '�', 'Einstein�s', 'Special', 'Theory', 'of', 'Relativity', 'which', 'predict', 'the', 'equivalence', 'of', 'mass', 'and', 'energy', 'as', 'well', 'as', 'the', 'constant,', 'fixed', 'value', 'of', 'the', 'speed', 'of', 'light']), (0.004918986666773191, ['From', 'this', 'vantage', 'point', 'at', 'least,', 'the', 'systems', 'of', 'metaphysics', 'that', 'we', 'explore', 'in', 'this', 'work,', 'the', 'ones', 'grounded', 'in', '20th', 'century', 'Physics,', 'do', 'not', 'cover', 'or', 'deal', 'with', 'this', 'very', 'fundamental', 'and', 'basic', 'metaphysical', '(and', 'ontological)', 'construct', 'that', 'permeated', 'not', 'just', 'theo-philosophical', 'thought', 'in', 'antiquity,', 'but', 'really', 'all', 'thought', 'in', 'antiquity']), (0.0048773375868666315, ['the', 'Metaphysics', 'of', 'Quality', 'offered', 'by', 'Pirsig', 'or', 'the', 'notion', 'of', 'the', 'implicate', 'order', 'as', 'put', 'forth', 'by', 'Bohm']), (0.004817513592143099, ['Contrast', 'this', 'more', 'purist,', 'mathematical', 'approach', 'in', 'interpreting', 'Quantum', 'Theory,', 'one', 'of', 'if', 'not', 'the', 'greatest', 'breakthrough', 'in', 'the', 'realm', 'of', 'Physics', 'in', 'the', '20th', 'century,', 'with', 'Bohm�s', 'interpretation,', 'what', 'some', 'refer', 'to', 'as', 'Bohmian', 'Mechanics']), (0.004606850208223626, ['But', 'yet', 'even', 'after', 'all', 'this', 'advancement', 'of', 'Science,', 'we', 'are', 'still', 'left', 'with', 'some', 'of', 'the', 'basic', 'and', 'fundamental', 'questions', 'that', 'mankind', 'has', 'been', 'asking', 'ever', 'since', 'they', 'could', 'ask', 'really']), (0.004544480522572205, ['And', 'man', 'being', 'in', 'the', 'image', 'of', 'the', 'divine,', 'the', 'ordering', 'principle', 'of', 'man', '�', 'the', 'Soul', '�', 'is', 'the', 'analog', 'to', 'the', 'divine', 'in', 'our', 'realm,', 'the', 'realm', 'of', 'Earth', 'and', 'Man']), (0.004542118316785596, ['In', 'this', 'case,', 'Everett�s', 'metatheory', 'directly', 'incorporates', 'the', 'role', 'of', 'the', 'observer', 'into', 'his', 'model,', 'at', 'least', 'mathematically', 'speaking,', 'as', 'a', 'state', 'machine', 'which', 'can', 'perform', 'some', 'level', 'of', 'deductive', 'reasoning', 'and', 'which', 'has', 'some', 'level', 'of', 'access', 'to', 'prior', 'states,', 'i.e']), (0.004460286807875818, ['the', 'act', 'of', 'cognition', '(as', 'does', 'Pirsig', 'to', 'some', 'extent', 'with', 'his', 'Metaphysics', 'of', 'Quality,', 'i.e']), (0.004389389822954877, ['But', 'without', 'the', 'notion', 'of', 'the', 'Soul', 'there', 'is', 'only', 'so', 'far', 'these', 'systems', 'can', 'go,', 'like', 'circling', 'around', 'the', 'problem', 'but', 'never', 'really', 'getting', 'to', 'the', 'heart', 'of', 'it']), (0.00438521952086736, ['corpuscles,', 'must', 'take', 'into', 'account,', 'and', 'in', 'fact', 'appears', 'to', 'take', 'into', 'account,', 'it�s', 'entire', 'environment', '�', 'i.e']), (0.004338365880046466, ['To', 'the', 'ancients,', 'the', 'world', 'around', 'them', 'was', 'best', 'described', 'by', 'principles', 'of', 'interdependence', 'and', 'the', 'cyclical', 'nature', 'of', 'the', 'world', 'around', 'them']), (0.004125917070066437, ['These', 'states', 'of', 'consciousness,', 'i.e']), (0.004121465297054996, ['At', 'each', 'level,', 'we', 'can', 'regard', 'one', 'side', 'the', 'manifest', 'or', 'material', 'side,', 'while', 'the', 'other', 'is', 'regarded', 'as', 'subtle', 'or', 'mental', 'side']), (0.004081853524678385, ['The', 'standard', 'position', 'of', 'course', 'is', 'that,', 'at', 'least', 'from', 'a', 'Scientific', 'perspective,', 'is', 'that', 'our', 'current', 'models', 'are', 'better,', 'more', 'advanced,', 'richer,', 'and', 'more', 'verifiable', 'than', 'the', 'philosophical', '(and', 'theological)', 'tenets', 'of', 'antiquity']), (0.003981418017684637, ['2', 'Basil', 'Hiley:', '�Quantum', 'mechanics', 'and', 'the', 'relationship', 'between', 'mind', 'and', 'matter�,', 'in:', 'P']), (0.0039116065691497635, ['But', 'with', 'the', 'advent', 'of', 'civilization', 'itself,', 'as', 'it', 'spread', 'throughout', 'the', 'Western', 'world,', 'came', 'the', 'rise', 'of', 'Reason,', 'and', 'the', 'Mind', 'and', 'Intellect', 'as', 'the', 'supreme', 'tools', 'of', 'man', 'to', 'understand', 'the', 'universe,', 'the', 'invention', 'as', 'it', 'were', 'of', 'the', 'Ancient', 'Greek', 'philosophers']), (0.0038886215561948793, ['This', 'idea', 'of', 'the', 'conditional', 'wavefunction,', 'combined', 'with', 'the', 'hidden', 'variables', 'which', 'are', 'the', 'actual', 'initial', 'positions', 'and', 'momentums', 'of', 'the', 'particles', 'in', 'the', 'initial', 'quantum', 'state', 'which', 'in', 'turn', 'determine', 'the', 'final', 'form', 'of', 'the', 'wavefunction', 'after', 'the', 'experiment', 'is', 'performed,', 'is', 'conceptually', 'how', 'wavefunction', 'collapse', 'is', 'accounted', 'for', 'in', 'Bohmian', 'Mechanics']), (0.003846895968128419, ['[�]', 'what', 'is', 'subtle', 'at', 'one', 'level', 'can', 'become', 'what', 'is', 'manifest', 'at', 'the', 'next', 'level', 'and', 'so', 'on']), (0.003755876357830275, ['So', 'with', 'all', 'this', 'advancement', 'in', 'Science', 'in', 'the', 'last', 'few', 'centuries,', 'and', 'all', 'the', 'technological', 'advancements', 'that', 'it', 'has', 'supported,', 'where', 'we', 'essentially', 'find', 'ourselves', 'is', 'with', 'two', 'extraordinary', 'powerful,', 'and', 'yet', 'fundamentally', 'incompatible,', 'mathematical', 'and', 'theoretical', 'models', 'of', 'how', 'the', '�physical', 'world�', 'behaves']), (0.0037260873952318094, ['implicate', 'order(s),', 'an', 'unending', 'process', 'which', 'is', 'perceived', 'by', 'us', 'as', 'various', 'manifest', 'physical', 'realities', 'in', 'some', 'way']), (0.003692106008442287, ['yoga', 'in', 'the', 'most', 'literal', 'sense', 'meaning', '�union�)', 'the', 'source', 'of', 'all', 'things', '-', 'all', 'subjects,', 'all', 'objects', 'and', 'even', 'the', 'experience', 'of', 'perceiving', 'itself']), (0.003616451907713151, ['The', 'Eastern', 'philosophical', 'tradition,', 'Ved?nta', 'and', 'Buddhism', 'in', 'particular,', 'in', 'antiquity', 'as', 'well', 'as', 'in', 'their', 'modern', 'interpretation,', 'rest', 'less', 'on', 'the', 'supremacy', 'and', 'eternal', 'truths', 'as', 'laid', 'out', 'in', 'their', 'respective', 'scriptures,', 'but', 'more', 'so', 'on', 'the', 'communication,', 'reception,', 'understanding,', 'and', 'ultimate', 'realization', 'of', 'the', 'essence', 'of', 'the', 'teachings', 'as', 'handed', 'down', 'from', 'teacher', 'to', 'student', 'through', 'time', 'immemorial']), (0.003567728031554905, ['*', 'that', 'matter', 'and', 'energy', 'are', 'fundamentally', 'equivalent', 'and', 'can', 'be', 'converted', 'into', 'each', 'other:', 'at', 'the', 'subatomic', 'level', 'and', 'even', 'macroscopic', 'level,', 'matter', 'and', 'energy', 'exhibited', 'the', 'same', 'properties,', 'and', 'you', 'could', 'formulate', 'theories', 'upon', 'this', 'behavior,', 'which', 'could', 'be', '�verified�', 'via', 'experiment']), (0.00338855889310646, ['All', 'of', 'these', 'environmental', 'factors', 'defied', 'rational', 'explanation', 'to', 'these', 'peoples,', 'and', 'so', 'these', 'ancient', 'peoples', 'created', 'tales,', 'i.e']), (0.003337849253439216, ['To', 'a', 'certain', 'extent,', 'this', 'gives', 'these', 'systems', 'strength', 'as', 'they', 'are', 'built', 'on', 'these', 'modern', 'Scientific', 'developments']), (0.0033264063405246363, ['Philosophy', 'today', 'has', 'evolved', 'to', 'denote', 'that', 'branch', 'of', 'knowledge', 'that', 'studies', 'such', 'abstract', 'concepts', 'as', 'existence,', 'knowledge,', 'values,', 'and', 'mind', 'using', 'reason', 'and', 'logic', 'at', 'its', 'basis,', 'and', 'in', 'some', 'cases', 'even', 'mathematics,', 'as', 'the', 'source', 'of', 'truth']), (0.0033153068045396676, ['psychologically', 'in', 'a', 'sense,', 'as', 'well']), (0.003235520704461834, ['mythos,', 'that', 'explained', 'these', 'natural', 'and', 'cosmic', 'mysteries,', 'touching', 'on', 'natural', 'phenomena', 'as', 'well', 'as', '(what', 'we', 'today', 'would', 'call)', '�spiritual�', 'or', '�religious�', 'phenomena']), (0.0030268946414718175, ['To', 'the', 'ancient', 'philosopher', 'then,', 'this', 'conception', 'of', 'a', 'person,', 'or', 'individual,', 'in', 'any', 'grand', 'philosophical', 'system,', 'being', 'represented', 'by', 'simply', 'some', 'entity', 'or', 'thing', 'that', 'is', 'simply', '�observing�', 'and', 'taking', 'measurements,', 'would', 'no', 'doubt', 'seem', 'ridiculous']), (0.003000649195582754, ['Our', 'proposal', 'is', 'that', 'in', 'the', 'brain', 'there', 'is', 'a', 'manifest', '(or', 'physical)', 'side', 'and', 'a', 'subtle', '(or', 'mental)', 'side', 'acting', 'at', 'various', 'levels']), (0.002873403056404785, ['Reason,', 'nonetheless', 'called', 'into', 'question', 'some', 'of', 'the', 'cornerstone', 'principles', 'upon', 'which', 'objective', 'realism', 'and', 'determinism,', 'the', 'byproducts', 'of', 'this', 'Age', 'of', 'Reason,', 'rested']), (0.0028188525080656167, ['subatomic', 'corpuscles,', 'can', 'be', 'seen', 'both', 'as', 'waves', 'and', 'as', 'particles', 'depending', 'upon', 'the', 'perspective', 'of', 'the', 'experiment,', 'and', 'in', 'turn', 'the', 'perspective', 'of', 'the', 'experimenter']), (0.0025674873588024108, ['sophia,', 'is', 'associated', 'with', 'to', 'at', 'least', 'some', 'degree']), (0.0022294263028045506, ['These', 'sides', '[�]', 'are', 'two', 'aspects', 'of', 'the', 'same', 'process']), (0.0021660512775461835, ['The', 'material', 'side', 'involves', 'electrochemical', 'processes', 'of', 'various', 'kinds,', 'it', 'involves', 'neuron', 'activity', 'and', 'so', 'on']), (0.001969934182673018, ['This', 'advancement', 'of', 'thought,', 'which', 'paralleled', 'the', 'advancement', 'of', 'civilization,', 'was', 'only', 'possible', 'because', 'the', 'basics', 'of', 'life', 'were', 'now', 'present', 'without', 'much', 'effort']), (0.001871233191871146, ['Pylkko', 'und', 'Antti', 'Hautamaki', '(eds.):', 'Brain,', 'Mind', 'and', 'Physics', '(Frontiers', 'in', 'Artificial', 'Intelligence', 'and', 'Applications),', 'IOS', 'Press,', '1995,�ISBN', '978-90-5199-254-0,', 'pp']), (0.001594116848192338, ['the', 'cosmos']), (0.00137721099342613, ['Pylkkanen,', 'P']), (0.0013039397107830791, ['the', 'observer', '(be', 'they', 'mechanical', 'or', 'mental/personal)']), (0.0011887441263747328, ['the', 'so-called', '�system�']), (0.0011537513855538186, ['Newtonian', 'Mechanics.']), (0.0009904258831297465, ['memory']), (0.0009904258831297465, ['51,52']), (0.0009904258831297465, ['37�54,', 'see�pp'])]\n",
            "Summarize Text: \n",
            "  Why did the rivers flood some years and not others?  Why did the sun rise every day?  Why did the herds that the depended on for food and other utilities of day to day living show up some years and be absent others?  What happened to the Soul after death?  Was there a Soul?  It was these questions that plagued the ancients and that formed their perception of their reality, or their world.  And how could it?  There was nothing in the world around them that would indicate this separation\n"
          ]
        }
      ],
      "source": [
        "# let's begin\n",
        "#generate_summary( \"msft.txt\", 2)\n",
        "generate_summary( \"./ontology.txt\", 2)"
      ]
    },
    {
      "cell_type": "markdown",
      "metadata": {
        "id": "T7w_3MItXMrW"
      },
      "source": [
        "####Example 2: Using gensim (Ananthakrishnan 2019)\n",
        "\n",
        "See https://medium.com/@abhinaya08/data-scientists-guide-to-summarization-dde46b30b4c3"
      ]
    },
    {
      "cell_type": "markdown",
      "metadata": {
        "id": "tL6ml6tDZmlR"
      },
      "source": [
        "#####Gensim Algorithm Overview\n",
        "\n",
        "The Gensim summarization module implements TextRank, an unsupervised algorithm based on weighted-graphs from a paper by Mihalcea et al. It is built on top of the popular PageRank algorithm that Google used for ranking.\n",
        "\n",
        "After pre-processing text this algorithm builds graph with sentences as nodes and chooses the sentences with highest page rank to summarize the document\n",
        "\n",
        "What is TextRank?\n",
        "\n",
        "TextRank is based on PageRank algorithm that is used on Google Search Engine. In simple words, it prefers pages which has higher number of pages hitting it. Traditionally, the links between pages are expressed by matrix as shown in the image below. This matrix is then converted to a transition probability matrix by dividing the sum of links in each page which influences the path of the surfer.\n",
        "\n",
        "\n",
        "TextRank Overview\n",
        "In the original “TextRank” algorithm the weights of an edge between two sentences is the percentage of words appearing in both of them.\n",
        "\n",
        "\n",
        "Similarity calculation between sentences\n",
        "However, the updated algorithm uses Okapi BM25 function to see how similar the sentences are. BM25 / Okapi-BM25 is a ranking function widely used as the state of the art for Information Retrieval tasks. BM25 is a variation of the TF-IDF model using a probabilistic model.\n",
        "\n",
        "\n",
        "Improved similarity with BM25\n",
        "In a nutshell, this function penalizes words that appears in more than half the documents of the collection by giving them a negative value.\n",
        "\n",
        "The gensim algorithm does a good job at creating both long and short summaries. Another cool feature of gensim is that we can get a list of top keywords chosen by the algorithm. This feature can come in handy for other NLP tasks, where we want to use “TextRank” to select words from a document instead of “Bag of Words” or “TF-IDF”. Gensim also has a well-maintained repository and has an active community which is an added asset to using this algorithm."
      ]
    },
    {
      "cell_type": "markdown",
      "metadata": {
        "id": "Ep3dabM5Z7Kk"
      },
      "source": [
        "#####Sample Code"
      ]
    },
    {
      "cell_type": "code",
      "execution_count": 39,
      "metadata": {
        "colab": {
          "base_uri": "https://localhost:8080/"
        },
        "id": "kow_q1kFXPFh",
        "outputId": "2bf493a3-2cd8-45ee-8942-fb24e48b9925"
      },
      "outputs": [
        {
          "output_type": "stream",
          "name": "stdout",
          "text": [
            "==================================SUMMARY===================================\n",
            "Having said that, and not disparaging the importance and significance of these developments in advancing mankind, if you look at some the hunter-gatherer societies that exist today, societies that very much reflect this very ancient form of existence and dependence upon nature for survival, forms of society that pre-date the evolution of Western civilization for several tens if not hundreds of thousands of years - in the recesses of Alaska, the Amazon basin, Australian outback or central and eastern Africa - you will find the same belief systems of ancient man that reflect a worldview of interconnectedness, a spectrum of reality that includes the earthly material world as well as the spiritual world (theology), where there exists a fundamental reliance, and belief, on the unknown and unknowable creative principle from which the universe was created and which in turn preserves it, across which the cycle of time � the movement of the stars and sky, the passage of day into night, and the passage of life into death, and the notion of illumination or spiritual rebirth � moves into perpetuity.\n",
            "==================================KEYWORDS===================================\n",
            "intellectual\n",
            "intellectually\n",
            "metaphysics\n",
            "metaphysical\n",
            "metaphysically\n",
            "order\n",
            "orders\n",
            "ordering\n",
            "ordered\n",
            "ontology\n",
            "ontological\n",
            "ontologically\n",
            "philosophical\n",
            "philosophers\n",
            "philosophically\n",
            "philosopher\n",
            "philosophy\n",
            "philosophi\n",
            "states\n",
            "state\n"
          ]
        }
      ],
      "source": [
        "import re\n",
        "import nltk\n",
        "\n",
        "from gensim.summarization import summarize\n",
        "from gensim.summarization import keywords\n",
        "\n",
        "file = open('./ontology.txt', \"r\")\n",
        "filedata = file.readlines()\n",
        "\n",
        "article_text = \"\"\n",
        "\n",
        "for line in filedata:  \n",
        "  article_text += line\n",
        "\n",
        "print(\"==================================SUMMARY===================================\")\n",
        "print (summarize(article_text,ratio=0.01))\n",
        "\n",
        "print(\"==================================KEYWORDS===================================\")\n",
        "print (keywords(article_text,ratio=0.01))"
      ]
    },
    {
      "cell_type": "markdown",
      "metadata": {
        "id": "YoezEJt7Y7Ih"
      },
      "source": [
        "####Example 3: Using Summa (Ananthakrishnan 2019)\n",
        "\n",
        "See https://medium.com/@abhinaya08/data-scientists-guide-to-summarization-dde46b30b4c3\n",
        "\n",
        "\n",
        "The summa summarizer is another algorithm which is an improvisation of the gensim algorithm. It also uses TextRank but with optimizations on similarity functions. Like gensim, summa also generates keywords."
      ]
    },
    {
      "cell_type": "markdown",
      "metadata": {
        "id": "FvZ6v--aZ-Oi"
      },
      "source": [
        "#####Sample Code"
      ]
    },
    {
      "cell_type": "code",
      "execution_count": 40,
      "metadata": {
        "colab": {
          "base_uri": "https://localhost:8080/"
        },
        "id": "PHsr285MZUuT",
        "outputId": "f0a56762-8432-4279-dce8-ad513f8ad923"
      },
      "outputs": [
        {
          "output_type": "stream",
          "name": "stdout",
          "text": [
            "Looking in indexes: https://pypi.org/simple, https://us-python.pkg.dev/colab-wheels/public/simple/\n",
            "Collecting summa\n",
            "  Downloading summa-1.2.0.tar.gz (54 kB)\n",
            "\u001b[K     |████████████████████████████████| 54 kB 3.4 MB/s \n",
            "\u001b[?25hRequirement already satisfied: scipy>=0.19 in /usr/local/lib/python3.7/dist-packages (from summa) (1.7.3)\n",
            "Requirement already satisfied: numpy<1.23.0,>=1.16.5 in /usr/local/lib/python3.7/dist-packages (from scipy>=0.19->summa) (1.21.6)\n",
            "Building wheels for collected packages: summa\n",
            "  Building wheel for summa (setup.py) ... \u001b[?25l\u001b[?25hdone\n",
            "  Created wheel for summa: filename=summa-1.2.0-py3-none-any.whl size=54412 sha256=81bbb27c6e84955859ae2a0e7b2b1e63cc5f9f2b3fde35139cc11f575189baa8\n",
            "  Stored in directory: /root/.cache/pip/wheels/29/64/ac/7b443477588d365ef37ada30d456bdf5f07dc5be9f6324cb6e\n",
            "Successfully built summa\n",
            "Installing collected packages: summa\n",
            "Successfully installed summa-1.2.0\n"
          ]
        }
      ],
      "source": [
        "!pip install summa"
      ]
    },
    {
      "cell_type": "code",
      "execution_count": 41,
      "metadata": {
        "colab": {
          "base_uri": "https://localhost:8080/"
        },
        "id": "Rp06sEkvY9BD",
        "outputId": "b9e6975d-5210-4c00-8a53-25803bae19d0"
      },
      "outputs": [
        {
          "output_type": "stream",
          "name": "stdout",
          "text": [
            "==================================SUMMARY===================================\n",
            "Having said that, and not disparaging the importance and significance of these developments in advancing mankind, if you look at some the hunter-gatherer societies that exist today, societies that very much reflect this very ancient form of existence and dependence upon nature for survival, forms of society that pre-date the evolution of Western civilization for several tens if not hundreds of thousands of years - in the recesses of Alaska, the Amazon basin, Australian outback or central and eastern Africa - you will find the same belief systems of ancient man that reflect a worldview of interconnectedness, a spectrum of reality that includes the earthly material world as well as the spiritual world (theology), where there exists a fundamental reliance, and belief, on the unknown and unknowable creative principle from which the universe was created and which in turn preserves it, across which the cycle of time � the movement of the stars and sky, the passage of day into night, and the passage of life into death, and the notion of illumination or spiritual rebirth � moves into perpetuity.\n",
            "Modern Science, as it stands today in fact, has yielded great developments and progress in our understanding of the physical world no doubt, standing at the very foundation of �modern progress�, and yet the theoretical constructs on top of which it is constructed (Quantum Mechanics and Classical Mechanics) are not only not fully deterministic in the Classical sense, but are also fundamentally incompatible with each other � philosophically and mathematically.\n",
            "And with these conceptual frameworks we at least have coherent and intellectual sound metaphysical systems which do not abandon Science necessarily but incorporate and absorb it in a sense, and yet at the same time posit the existence of higher orders, or dimensions, of reality which can (and here we rest on Eastern philosophical tenets) be experienced, what we refer to as supraconsciousness, an idea that not only is expressed by Eastern philosophy but also rests at the very heart of what we have called mysticism, or the mystical arts.\n",
            "From this vantage point, from this extended or expanded metaphysics, the direct experience of supraconsciousness, as it manifests in the penultimate experience of the mystic, the end of the mystical arts as it were, represents a higher order reality, not one that is more true necessarily than the lower forms or paradigms, but one that is nonetheless higher from an intellectual, and really metaphysical perspective � in the Platonic idealist sense at least.\n",
            "While this dismissal is convenient from an intellectual as well as socio-political perspective, granting knowledge of reality to only those that are anointed or properly educated, their respective metaphysical frameworks simply do not account for the full complement of human experience, either as we as individuals have experienced it - through the experiences of dream and waking states, as well as higher order states of experience which all of us have had to at least some extent (even though we may not have identified them as such) � or how sages and mystics throughout the millennia of the history of civilized man, as it has been recorded in the scriptures across the world from virtually all religious doctrines, have described it over and over again.\n",
            "While of course the existence or prevalence of these alternative intellectual and metaphysical paradigms do not by any stretch of the imagination make them true, and in fact the pure Scientist would argue that modern conceptions of reality are more true because they are in fact more �Scientific� (circular reasoning but still) and because they are more modern, nonetheless the prevalence of these alternative worldviews, along with the state of Science in regards to its seemingly inherent limitations with respect to being able to describe reality in a single, holistic model, not to mention its inability to explain or model the notion of consciousness itself, would certainly if nothing else leave open the possibility that some of these alternative worldviews should be (re) considered and that perhaps they may shed light, illuminate as it were, the nature of reality in a way that Science fundamentally cannot.\n",
            "From this central metaphysical principle - one which manifests itself in scientific models as the �observer�, in psychological paradigms as the �conscious� self, in Eastern philosophical traditions as the �Self�, and theological circles as the Soul, or God � one at least is in a position to construct an intellectual model that spans the entire spectrum of experience, providing a comprehensive and cohesive description of reality in all its forms and variants.\n",
            "In this system not only is subjective experience assimilated and integrated into the very foundations of the metaphysical paradigm (as opposed to relegated to the periphery as is the case with Classical as well as Quantum Mechanics), but also mystical states are incorporated and allowed for as well (even if only alluded to tangentially in Pirsig�s work), being represented as direct communal experiences of Quality itself in its most pure and unadulterated form - in his model as reflected in the experience of inspiration from which the very heart of Science, i.e. scientific hypothesis themselves, originate from for example.\n",
            "This bridging of the intellectual gap as it were, incorporating subjective experience into the metaphysical paradigm, is an important starting point, and is essentially what Bohm accomplishes in his framework which posits reality as a series of inter-related, and ultimately hierarchical, models of order, with the physical realm being just one of many and which there exist (at least) two distinctive models for � the Quantum and the Classical � which both emanate from, or are precluded by, a higher order model that he refers to as the implicate order which is governed by its own set of rules and principles.\n",
            "This role of mind, or the psychological notion of self or �I�, is effectively where the intellectual lines are drawn between the fields of Physics, Psychology and Philosophy � Physics being primarily focused on measurement and �observables�, Psychology being focused on health and well-being of the self rather than on ontological questions per se, and Philosophy, or metaphysics really in this context (at least in its most pure and unadulterated form) having the intellectual latitude to be able to focus purely on the abstract, operating in the realm of ideas directly in a very real sense (no pun intended).1 \n",
            "Hiley, in describing the import and significance of Bohm�s metaphysics, argues that if reality is viewed in terms of process rather than a fixed, discrete �thing� or �object� (or set of �things� or �objects�), as it is so described with the notion of holomovement which underpins Bohm�s metaphysics, subsuming space and time as mental constructs that facilitate the (mathematical) description of physical reality and nothing more, than the two seemingly disparate intellectual domains of Physics and Psychology - the res extensa and res cogitans of Descartes respectively - can in fact be integrated into one holistic intellectual system which integrates both mind and matter:\n",
            "This description of reality, from a Physicist no less, not only represents an interpretation of Quantum Theory as it relates specifically to the concepts of implicate and explicate orders as described by Bohm, but also embeds within it the notion of active information which underpins Bohmian Mechanics and helps �explain� how it is that the fundamental constituents of nature, i.e. subatomic corpuscles, can be seen both as waves and as particles depending upon the perspective of the experiment, and in turn the perspective of the experimenter.\n",
            "In addition to Bohmian Mechanics then, what Bohm effectively does by introducing the notion of hierarchical orders of reality - declaring the existence of an implicate order which holds ontological significance over the various explicate orders which reflect (various aspects of) the physical domain - is venture into the domain of ontology quite directly, provide an explicit (intellectual) bridge between two seemingly contradictory theoretical models of reality, systems of metaphysics, articulating a reasonable and viable explanation of reality itself, albeit from a mechanical perspective, as to how they both (Classical Mechanics and Quantum Mechanics) can be empirically true and valid while at the same time contradicting each other in basic tenets and assumptions (like locality for example), and at the same time reflect a higher order notion of reality which is fully coherent and consistent, albeit abiding by a completely different set of �laws� so to speak than the �lower� order forms.\n",
            "He accomplishes this by emphasizing the importance of metaphysics in and of itself, in very much the same vein as Aristotle some 2500 years ago (i.e. first philosophy), emphasizing not the physical realms themselves which are described by, modelled by Classical and Quantum Mechanics, but � from a higher order perspective - the grounding of existence being a continuous process of unfoldment of higher order realities into lower, physically manifest, forms of reality governed by distinct and (potentially) separate laws or order, thereby establishing a coherent and logically consistent ontological system which incorporates the prevailing mechanistic models of 20th century Physics.\n",
            "Contrasting Bohm�s metaphysics with Pirsig�s Metaphysics of Quality which divides the intellectual landscape into two main driving forces, each of which is (at least tangentially) related to the very basic cornerstone notion of Quality - the Dynamic and the Static, the former reflecting the more �Eastern� conception of reality, the direct intuitive perception of �truth� or �knowledge�, whereas the latter form of Quality is, well static, in the sense that it reflects the more foundational intellectual forms of mankind which are more resistant to change and which provide the basis for a well-functioning (global) society,  Neither Bohm�s ontology, nor Pirsig�s metaphysics (and the two intellectual models no doubt differ in this very fundamental way in terms of scope and intent, one with a focus more on ontology � Bohm - and another on metaphysics - Pirsig) addresses directly the nature of the very foundation of their respective intellectual models, no doubt preferring to leave that question up to the theologians which is probably the proper domain for such questions.\n",
            "Pirsig claims (rightfully so) that Quality itself in its most pure, unadulterated form (Dynamic Quality) rests beyond any intellectual grasp, betrays any form of definition (much like the Dao or Brahman in the Eastern philosophical traditions), and Bohm�s work focuses more on the underlying descriptive order, or workings, of reality as a continual process of change, unfolding and enfolding between different dimensions so to speak (which also betrays characteristically �Eastern� attributes with respect to the notion of change and process being the most ontologically significant aspect of reality), rather than attempting to describe the nature of that which sits behind the process itself, the man behind the machine so to speak.\n",
            "In turn, this notion of the Soul becomes, from a metaphysical perspective, the specific corollary to very fundamental and primordial ordering principle of the Universe, which we find in every cosmogonic and metaphysical conception of the reality in all of the ancient mythological creation narratives of all Eurasian peoples and civilizations in antiquity that we cover in this work in fact.\n",
            "==================================KEYWORDS===================================\n",
            "intellectually\n",
            "metaphysics\n",
            "metaphysical\n",
            "metaphysically\n",
            "orders\n",
            "ordering\n",
            "ordered\n",
            "intellectual framework\n",
            "ontology\n",
            "ontological\n",
            "ontologically\n",
            "philosophers\n",
            "philosophically\n",
            "philosopher\n",
            "relativity\n",
            "relative\n",
            "relatively\n",
            "relates\n",
            "philosophy related\n",
            "state\n",
            "philosophi\n",
            "universal order\n",
            "quantum\n",
            "reality\n",
            "realities\n",
            "fundamentally\n",
            "fundamental\n",
            "physical\n",
            "physics\n",
            "physically\n",
            "models\n",
            "model\n",
            "modelled\n",
            "different states\n",
            "mathematics\n",
            "mathematically\n",
            "mathematical\n",
            "perspective\n",
            "form\n",
            "formed\n",
            "forms\n",
            "eastern philosophical\n",
            "directly\n",
            "direct\n",
            "modern\n",
            "ancient\n",
            "ancients\n",
            "mechanics\n",
            "mechanical\n",
            "mechanism\n",
            "sense\n",
            "bohm\n",
            "religious systems\n",
            "differ\n",
            "differences\n",
            "world\n",
            "measurement\n",
            "measurable\n",
            "measured\n",
            "measurements\n",
            "respective\n",
            "respects\n",
            "respect\n",
            "respectively\n",
            "principles\n",
            "principle\n",
            "experiments\n",
            "experiment\n",
            "experience\n",
            "experiences\n",
            "scientific\n",
            "times\n",
            "time\n",
            "universe\n",
            "universes\n",
            "nonetheless\n",
            "advanced\n",
            "advances\n",
            "advancement\n",
            "advancing\n",
            "advancements\n",
            "science\n",
            "power\n",
            "powerful\n",
            "underlying\n",
            "underlies\n",
            "entirely\n",
            "entire\n",
            "frameworks\n",
            "individuals\n",
            "individual\n",
            "objective\n",
            "objects\n",
            "object\n",
            "necessarily\n",
            "societies\n",
            "society\n",
            "classical\n",
            "classic\n",
            "classically\n",
            "quality\n",
            "qualities\n",
            "position\n",
            "posit\n",
            "posits\n",
            "posited\n",
            "positions\n",
            "wavefunction\n",
            "basics\n",
            "basic\n",
            "basically\n",
            "cosmic\n",
            "observer\n",
            "observables\n",
            "observed\n",
            "observable\n",
            "observation\n",
            "observing\n",
            "point\n",
            "pointing\n",
            "great\n",
            "processes\n",
            "process\n",
            "interpretation\n",
            "interpretations\n",
            "interpret\n",
            "interpreted\n",
            "interpreting\n",
            "reason\n",
            "reasoning\n",
            "reasonable\n",
            "reasons\n",
            "pirsig\n",
            "effectively\n",
            "pre\n",
            "tradition\n",
            "traditions\n",
            "everett\n",
            "arguably\n",
            "empirical\n",
            "empirically\n",
            "western\n",
            "mysticism\n",
            "mystical\n",
            "mystic\n",
            "mystics\n",
            "aspect\n",
            "aspects\n",
            "degree\n",
            "greek\n",
            "greeks\n",
            "proper\n",
            "properly\n",
            "era\n",
            "eras\n",
            "force\n",
            "forces\n",
            "existence\n",
            "exist\n",
            "exists\n",
            "existed\n"
          ]
        }
      ],
      "source": [
        "import bs4 as bs  \n",
        "import re\n",
        "import nltk\n",
        "\n",
        "from summa import summarizer\n",
        "from summa import keywords\n",
        "\n",
        "file = open('./ontology.txt', \"r\")\n",
        "filedata = file.readlines()\n",
        "\n",
        "article_text = \"\"\n",
        "\n",
        "for line in filedata:  \n",
        "  article_text += line\n",
        "\n",
        "print(\"==================================SUMMARY===================================\")\n",
        "print (summarizer.summarize(article_text,ratio=0.1))\n",
        "\n",
        "print(\"==================================KEYWORDS===================================\")\n",
        "print (keywords.keywords(article_text,ratio=0.1))"
      ]
    },
    {
      "cell_type": "markdown",
      "metadata": {
        "id": "bwLZd2Gxn_LI"
      },
      "source": [
        "####Example 4: NLTK Example\n",
        "\n",
        "From https://www.mygreatlearning.com/blog/text-summarization-in-python/#Complete%20Code"
      ]
    },
    {
      "cell_type": "markdown",
      "metadata": {
        "id": "WsTSVCKkoUrW"
      },
      "source": [
        "#####Sample Code"
      ]
    },
    {
      "cell_type": "code",
      "execution_count": 42,
      "metadata": {
        "id": "DegKtd8aoF3m"
      },
      "outputs": [],
      "source": [
        "import nltk\n",
        "from nltk.corpus import stopwords\n",
        "from nltk.tokenize import word_tokenize, sent_tokenize"
      ]
    },
    {
      "cell_type": "code",
      "execution_count": 43,
      "metadata": {
        "colab": {
          "base_uri": "https://localhost:8080/"
        },
        "id": "uAoy3IR_o8rb",
        "outputId": "ab8eaffa-f242-4453-ecee-6ab72b1c1576"
      },
      "outputs": [
        {
          "output_type": "stream",
          "name": "stderr",
          "text": [
            "[nltk_data] Downloading package punkt to /root/nltk_data...\n",
            "[nltk_data]   Unzipping tokenizers/punkt.zip.\n"
          ]
        },
        {
          "output_type": "execute_result",
          "data": {
            "text/plain": [
              "True"
            ]
          },
          "metadata": {},
          "execution_count": 43
        }
      ],
      "source": [
        "nltk.download('punkt')"
      ]
    },
    {
      "cell_type": "code",
      "execution_count": 44,
      "metadata": {
        "id": "Q7MnPaNlonFf"
      },
      "outputs": [],
      "source": [
        "file = open('./ontology.txt', \"r\")\n",
        "filedata = file.readlines()\n",
        "\n",
        "text = \"\"\n",
        "\n",
        "for line in filedata:  \n",
        "  text += line"
      ]
    },
    {
      "cell_type": "code",
      "execution_count": 45,
      "metadata": {
        "id": "r9p1JfQCory9"
      },
      "outputs": [],
      "source": [
        "# tokenize the text\n",
        "stopWords = set(stopwords.words(\"english\"))\n",
        "words = word_tokenize(article_text)"
      ]
    },
    {
      "cell_type": "code",
      "execution_count": 46,
      "metadata": {
        "id": "n5AIcp3PpEVa"
      },
      "outputs": [],
      "source": [
        "# create freq table to score each word\n",
        "freqTable = dict()\n",
        "\n",
        "for word in words:\n",
        "  word = word.lower()\n",
        "  if word in stopWords:\n",
        "    continue\n",
        "  if word in freqTable:\n",
        "    freqTable[word] += 1\n",
        "  else:\n",
        "    freqTable[word] = 1"
      ]
    },
    {
      "cell_type": "code",
      "execution_count": 47,
      "metadata": {
        "id": "9HOo7drXpbdu"
      },
      "outputs": [],
      "source": [
        "# create dictionary to keep score\n",
        "sentences = sent_tokenize(article_text)\n",
        "sentenceValue = dict()"
      ]
    },
    {
      "cell_type": "code",
      "execution_count": 48,
      "metadata": {
        "id": "XEiMo3Pupr7a"
      },
      "outputs": [],
      "source": [
        "for sentence in sentences:\n",
        "  for word, freq in freqTable.items():\n",
        "    if word in sentence.lower():\n",
        "      if sentence in sentenceValue:\n",
        "        sentenceValue[sentence] += freq\n",
        "      else:\n",
        "        sentenceValue[sentence] = freq\n",
        "\n",
        "sumValues = 0\n",
        "for sentence in sentenceValue:\n",
        "  sumValues += sentenceValue[sentence]\n",
        "\n",
        "# avg value of a sentence from orig txt\n",
        "average = int(sumValues / len(sentenceValue))\n",
        "\n",
        "# storing sentences into our summary\n",
        "summary = ' '\n",
        "for sentence in sentences:\n",
        "  if (sentence in sentenceValue) and (sentenceValue[sentence] > (1.2 * average)):\n",
        "    summary += \" \" + sentence"
      ]
    },
    {
      "cell_type": "code",
      "execution_count": 49,
      "metadata": {
        "colab": {
          "base_uri": "https://localhost:8080/"
        },
        "id": "nj6X8heRqpHR",
        "outputId": "b0a88e02-d8ad-474b-8068-7e0fa3ae6ac5"
      },
      "outputs": [
        {
          "output_type": "stream",
          "name": "stdout",
          "text": [
            "  The Egyptian, Greek, Babylonian and even Christian creation myths, their cosmogony or creation mythos which provided sometimes fantastic explanations as to how the universe came into existence and in turn how mankind itself was formed, no doubt stemmed from and reflected the socio-political reality of the respective cultures within which these so-called �religious� systems emerged - societies where individuals struggled for access to food and shelter, where the existence of the society itself depended on the seasons and the weather, their river valleys and their periodic flooding, which in turn were guided by the seasons which the ancients knew were related to the stars and the sky. The psyche of ancient man, as philosophy emerged as societies advanced to form civilizations, and an intellectual framework for the cosmos, and man, evolved, their understanding of mind, was as an independent intellectual construct which guided and shaped individual agents (the psyche), but also as fundamentally and intrinsically connected to, a manifestation of really, Cosmic Mind. Ultimately, and quite distinctively when compared to more modern understandings of reality, more objective realist and deterministic frameworks, in antiquity the psyche, while looked upon as an independent entity that drove individual behavior and actions, was also fundamentally connected to, a manifestation of, the cosmos and universal order from which their entire worldview was based really. Much changed and evolved as (Western) civilization advanced, and philosophia along with it - through antiquity and the Hellenic/Greek and Roman/Latin eras, through the Christian and then Islamic times, up through the Dark Ages, and then perhaps most poignantly through the Enlightenment  and Scientific Revolution from which emerged much of the rational foundations of the modern era, intellectual foundations that were, and still are to a large degree, perplexed by the findings of Quantum Mechanics, bringing about a new intellectual revolution, i.e. But imbedded in ancient mythos, a core tenet as it were, was the principle that the universe and mankind himself, emerged from some primordial source, this cosmic soup from which gods and men and all living creatures came forth, at the hand of God in the Abrahamic religions and at the hand of some non-anthropomorphic principle in the Eastern philosophical systems which have gained some prominence in modern times as Western religious systems in their orthodoxy and irrationality have been for the most part discarded. They did not have to pray to the gods for their food and clothing, their sustenance, these came from the inventions of mankind and society as it developed, using reason and logic as their basis, the first technological advances, by the manipulation of the material and physical world and leveraging the human mind in all its creativity and power, establishing the foundations of modern Science, even though they didn�t call it that back then (Aristotle�s practical philosophy). Having said that, and not disparaging the importance and significance of these developments in advancing mankind, if you look at some the hunter-gatherer societies that exist today, societies that very much reflect this very ancient form of existence and dependence upon nature for survival, forms of society that pre-date the evolution of Western civilization for several tens if not hundreds of thousands of years - in the recesses of Alaska, the Amazon basin, Australian outback or central and eastern Africa - you will find the same belief systems of ancient man that reflect a worldview of interconnectedness, a spectrum of reality that includes the earthly material world as well as the spiritual world (theology), where there exists a fundamental reliance, and belief, on the unknown and unknowable creative principle from which the universe was created and which in turn preserves it, across which the cycle of time � the movement of the stars and sky, the passage of day into night, and the passage of life into death, and the notion of illumination or spiritual rebirth � moves into perpetuity. After all of the research and progress, with all the fancy instruments, with sending people to space and the study of the heavens with super powerful telescopes, with even the calculation of the origin of the (known) Universe itself as reflected in Big Bang Theory � after all this, at the very boundaries of Science, we still in some sense struggle today with notions of space and time, and reality itself in a sense, begging the question as to whether or not Science itself, on its own, can explain everything there is to know, everything that we as a thinking species truly want, or even need, to know, or perhaps more fundamentally everything that there is. Even after thousands of years of scientific development and advancement, where we can effectively communicate with each other beyond the boundaries of time and space across the Earth in a way we never would have thought would have been imaginable, where we have an understanding of how the Universe came into being at a level that the ancients at least perhaps would have never dreamed possible, what we can definitively say at this point - based upon empirical evidence and data, that has been proven over and over again through verifiable and repeatable experiments and is supported by extraordinarily advanced mathematics - is that: \n",
            "* the underlying substratum of physical reality behaves according to fundamentally non-local principles that are inconsistent with Classical Mechanics: the nature of subatomic reality is non-local in the sense that the location and momentum of subatomic �things�, i.e. * that even in Classical Mechanics the principle of Relativity is required in order to provide coherence and consistency at the cosmic scale: that at the other end of the spectrum, our classical notions of space and time and three-dimensional space must be abandoned in order for Classical Mechanics to be consistent and accurate when viewing the universe at the grand scale, i.e. This rift in a nutshell stems from the notion that reality itself, as defined by some sort of measurable phenomena, in the quantum realm is determined not only by the act of measurement itself, but that this outcome, again as defined by some sort of value or property related to the phenomena being measured (spin for example) is not even deterministic in the classic (Newtonian) sense, but follows a probability distribution that is predictable only over the course of many measurements or experiments � this is Quantum Theory in a nutshell, which of course flies in the face of Classical Mechanics, i.e. In General Relativity, these fundamental relative postulates regarding space and time are even further abstracted to incorporate gravity, which according to the theory is not a force necessarily, but instead effectively bends spacetime from which can be derived the (relative) position, mass and speed � the three measurement pillars at the cosmic scale � of an object. Modern Science, as it stands today in fact, has yielded great developments and progress in our understanding of the physical world no doubt, standing at the very foundation of �modern progress�, and yet the theoretical constructs on top of which it is constructed (Quantum Mechanics and Classical Mechanics) are not only not fully deterministic in the Classical sense, but are also fundamentally incompatible with each other � philosophically and mathematically. And at the other end of the spectrum in the sub-atomic realm, at the very core of �physical reality� you might say, objects (corpuscles) appear to be connected, correlated, in a way that is fundamentally non-Classical - analogous in many respects, oddly, to Eastern philosophical principles of underlying consciousness. And yet ancient man, at least as we have come to understand them as advanced societies emerge and a concerted effort was made to understand the nature of the world (philosophia), held beliefs that at their core reflected a deep understanding of the interconnectedness of all things, and that there existed an all-pervading consciousness of sorts from which the universe itself emanated, and that the distinction between inanimate and inanimate �things� stemmed from the existence of the Soul. And with these conceptual frameworks we at least have coherent and intellectual sound metaphysical systems which do not abandon Science necessarily but incorporate and absorb it in a sense, and yet at the same time posit the existence of higher orders, or dimensions, of reality which can (and here we rest on Eastern philosophical tenets) be experienced, what we refer to as supraconsciousness, an idea that not only is expressed by Eastern philosophy but also rests at the very heart of what we have called mysticism, or the mystical arts. In this sense supraconsciousness is a state of being, a reflection of a higher order dimension of reality, which (intellectually and metaphysically at least) can co-exist somewhat peacefully with the predominant Western worldview which holds physical reality to be the highest order metaphysical principle, i.e. From this vantage point, from this extended or expanded metaphysics, the direct experience of supraconsciousness, as it manifests in the penultimate experience of the mystic, the end of the mystical arts as it were, represents a higher order reality, not one that is more true necessarily than the lower forms or paradigms, but one that is nonetheless higher from an intellectual, and really metaphysical perspective � in the Platonic idealist sense at least. In these ontological frameworks, frameworks that again do not reject Science but subsume it, the direct experience of the very ground of existence is not only possible but in some sense is an ontological first principle of sorts from which all other, lower order forms of being emanate, or originate, from� both intellectually and experientially, i.e. This reality sits beyond the distinctions of subject and object, beyond the notion of perception as a separate and discrete act in the time and space continuum, and as such must be ontologically more significant than, a higher order intellectual framework than, subject-object metaphysics which sits at the very heart of Science and which requires division and separation as presumptive necessities. An important point to be made here, at least for logical consistency sake and to counter the arguments of the so-called �orthodox� religious views which tout the sole divine authority of their respective Scripture, is that if you believe in the possibility of revelation itself, a notion which at least to some degree orthodox religious belief systems attest to given that there is an implicit revelatory aspect of the Scripture itself from which the authority of said Scripture is derived from, then one must acknowledge the possibility that direct perception of the divine by a human form is possible. In other words, there is an implicit mystical aspect to orthodox religions, in particular the Abrahamic religions, which all espouse the notion of divinely inspired Scripture, a feature that is most pronounced in Islam actually, somewhat ironic given the rigidity that Islam is known for, in particular in its fundamentalist interpretations  \n",
            "This dismissal of the reality of the mystical states, states which, at least from an Eastern theo-philosophical perspective, are effectively the birthright of all mankind and that which ultimately distinguish us as human, is pervasive not only in the Scientific community, but also in the orthodox religious community as well. While this dismissal is convenient from an intellectual as well as socio-political perspective, granting knowledge of reality to only those that are anointed or properly educated, their respective metaphysical frameworks simply do not account for the full complement of human experience, either as we as individuals have experienced it - through the experiences of dream and waking states, as well as higher order states of experience which all of us have had to at least some extent (even though we may not have identified them as such) � or how sages and mystics throughout the millennia of the history of civilized man, as it has been recorded in the scriptures across the world from virtually all religious doctrines, have described it over and over again. our supraconsciousness, this higher order of reality that modern Science has such a difficult time explaining in really any capacity at all, can of course be found in virtually all of the Eastern theo-philosophical traditions, most notably in the Indian theo-philosophical tradition of course, but also can be found alluded to even in the Western theo-philosophical traditions as well - e.g. While of course the existence or prevalence of these alternative intellectual and metaphysical paradigms do not by any stretch of the imagination make them true, and in fact the pure Scientist would argue that modern conceptions of reality are more true because they are in fact more �Scientific� (circular reasoning but still) and because they are more modern, nonetheless the prevalence of these alternative worldviews, along with the state of Science in regards to its seemingly inherent limitations with respect to being able to describe reality in a single, holistic model, not to mention its inability to explain or model the notion of consciousness itself, would certainly if nothing else leave open the possibility that some of these alternative worldviews should be (re) considered and that perhaps they may shed light, illuminate as it were, the nature of reality in a way that Science fundamentally cannot. In searching for an intellectual paradigm that fully explains and incorporates all aspects of reality across the entire spectrum of experience (from the pure physical realm as explained by Science, to the psychological or mystical as explained by Psychology, Cognitive Science and Eastern philosophy, incorporating the notion of supraconsciousness) we must first identify the metaphysical and intellectual entity or idea that ties all these realms of experience together. From this central metaphysical principle - one which manifests itself in scientific models as the �observer�, in psychological paradigms as the �conscious� self, in Eastern philosophical traditions as the �Self�, and theological circles as the Soul, or God � one at least is in a position to construct an intellectual model that spans the entire spectrum of experience, providing a comprehensive and cohesive description of reality in all its forms and variants. It is from this vantage point for example that Pirsig arrives at his Metaphysics of Quality, a system of metaphysics that expands the field of knowledge from the confining subject-object metaphysics which underpins the worldview of the West (and in some respects defines it) to a more expansive model which is based upon the notion of Quality as a central, pre-cognitive and all-pervading principle. In this system not only is subjective experience assimilated and integrated into the very foundations of the metaphysical paradigm (as opposed to relegated to the periphery as is the case with Classical as well as Quantum Mechanics), but also mystical states are incorporated and allowed for as well (even if only alluded to tangentially in Pirsig�s work), being represented as direct communal experiences of Quality itself in its most pure and unadulterated form - in his model as reflected in the experience of inspiration from which the very heart of Science, i.e. This bridging of the intellectual gap as it were, incorporating subjective experience into the metaphysical paradigm, is an important starting point, and is essentially what Bohm accomplishes in his framework which posits reality as a series of inter-related, and ultimately hierarchical, models of order, with the physical realm being just one of many and which there exist (at least) two distinctive models for � the Quantum and the Classical � which both emanate from, or are precluded by, a higher order model that he refers to as the implicate order which is governed by its own set of rules and principles. What Pirsig�s Metaphysics of Quality fails to incorporate however, but what Bohm at least tries to integrate at some level (even though he, like any philosopher, is constrained by the tools which he must use to perform his trade), is that the very nature of experience itself, given that it is entirely subjective by definition, must take into account the role of the human mind in defining the boundaries of such experience. This role of mind, or the psychological notion of self or �I�, is effectively where the intellectual lines are drawn between the fields of Physics, Psychology and Philosophy � Physics being primarily focused on measurement and �observables�, Psychology being focused on health and well-being of the self rather than on ontological questions per se, and Philosophy, or metaphysics really in this context (at least in its most pure and unadulterated form) having the intellectual latitude to be able to focus purely on the abstract, operating in the realm of ideas directly in a very real sense (no pun intended).1 \n",
            "Bohm, and his colleague Basil Hiley, definitely make a valiant effort to try and bridge this seemingly impossible chasm, taking metaphysics to revolutionary places with their firm grasp of, and wholesale integration with, both Quantum Mechanics and Classical Mechanics, both the very height of the scientific domain as well as the very source its challenges with respect to ontology. Hiley, in describing the import and significance of Bohm�s metaphysics, argues that if reality is viewed in terms of process rather than a fixed, discrete �thing� or �object� (or set of �things� or �objects�), as it is so described with the notion of holomovement which underpins Bohm�s metaphysics, subsuming space and time as mental constructs that facilitate the (mathematical) description of physical reality and nothing more, than the two seemingly disparate intellectual domains of Physics and Psychology - the res extensa and res cogitans of Descartes respectively - can in fact be integrated into one holistic intellectual system which integrates both mind and matter:\n",
            "\n",
            "Our proposal is that in the brain there is a manifest (or physical) side and a subtle (or mental) side acting at various levels. 2\n",
            "\n",
            "This description of reality, from a Physicist no less, not only represents an interpretation of Quantum Theory as it relates specifically to the concepts of implicate and explicate orders as described by Bohm, but also embeds within it the notion of active information which underpins Bohmian Mechanics and helps �explain� how it is that the fundamental constituents of nature, i.e. This fundamentally philosophical problem is the very one that is confronted by anyone who tries to interpret what Quantum Theory really means, map it at some level to physical reality, where the role of the observer, the role of mind, cannot be completely ignored when trying to determine how a final quantum state is perceived which must account for the setup and measurement apparatus itself. It�s this element of mind, the question of correlation between the relationship of the two individuals who set up the two sides of the EPR Paradox measurement apparatus, that in fact lays at the heart of the final loophole that cannot be theoretically discounted with Bell�s Theorem, namely in illustrating that the final state of correlation that is observed between two once integrated and seeming classically separated quantum systems cannot be explained by some predefined, predetermined and fundamentally pre-correlated mental state of each of the individuals who (presumably independently but that�s the relevant problem at hand) setup and perform the two different but related experiments which reveal the entangled state of the quantum systems, calling into question some of the basic underlying assumptions of Classical Mechanics. In an altogether different approach, interpretation as it were � of Quantum Mechanics at least - is the view posited by Hugh Everett, where an observable quantum state corresponds to what he refers to in typical physicist/mathematical jargon as the relative-state formulation of Quantum Mechanics which posits that a given quantum state exists out of the possibility of all potential observable states (or �realities�, which is a bit of a misnomer but is how his theory has come to be interpreted), all governed by what he refers to as his Universal Wave Function which describes the current and all future states of the entire universe. But while arguably Everett did not necessarily intend to wade into metaphysical waters necessarily, his interpretation of the underlying mathematics of Quantum Theory does in fact solve some very basic challenges of the theoretical model, while arguably raising some other ones (like for example the idea that multiple universes, or realties, may exist at any given time which gave rise, and credence to a large extent, to the �multi-verse� idea). Whether or not the conditional wavefunction as Bohm (and Hiley) describe it exists as an actual measurable and definable phenomenon, or whether it simply exists as a theoretical construct that must exist in order for Bohmian Mechanics to be fully coherent and consistent, is almost besides the matter. the observer, as well as the act of perception itself, back into the conversation about what is actually going on when a quantum observation is made, Bohmian Mechanics in fact (by design) forces us to consider that the act of perception itself as a first order principle that we should be looking at, from a metaphysical perspective at least, not the specific explicit order which may or may not be applicable to a given domain of experience. Quantum Theory as interpreted, or explained, in Bohmian Mechanics is theoretically, and mathematically, sound and there is no need (conceptually at least) for any artificially induced wavefunction collapse, thereby providing at least the beginnings of a coherent system of metaphysics, an ontological foundation even, by which Quantum Theory may be understood. In addition to Bohmian Mechanics then, what Bohm effectively does by introducing the notion of hierarchical orders of reality - declaring the existence of an implicate order which holds ontological significance over the various explicate orders which reflect (various aspects of) the physical domain - is venture into the domain of ontology quite directly, provide an explicit (intellectual) bridge between two seemingly contradictory theoretical models of reality, systems of metaphysics, articulating a reasonable and viable explanation of reality itself, albeit from a mechanical perspective, as to how they both (Classical Mechanics and Quantum Mechanics) can be empirically true and valid while at the same time contradicting each other in basic tenets and assumptions (like locality for example), and at the same time reflect a higher order notion of reality which is fully coherent and consistent, albeit abiding by a completely different set of �laws� so to speak than the �lower� order forms. In this way, and in fairly courageous fashion one might add, Bohm refuses to yield to the standard Copenhagen Interpretation of Quantum Theory which simply posits that the math underlying Quantum Mechanics is simply a model for solving equations and nothing more and should not be looked upon as having any sort of ontological relevance at all, while at the same time not necessarily venturing into pure idealistic philosophy necessarily, but first metaphysics and then ontology, all the while staying true to the rational, mechanical and ultimately mathematical models that underpin Classical and Quantum Mechanics, the two grand pillars of modern Physics. first philosophy), emphasizing not the physical realms themselves which are described by, modelled by Classical and Quantum Mechanics, but � from a higher order perspective - the grounding of existence being a continuous process of unfoldment of higher order realities into lower, physically manifest, forms of reality governed by distinct and (potentially) separate laws or order, thereby establishing a coherent and logically consistent ontological system which incorporates the prevailing mechanistic models of 20th century Physics. In Bohm�s ontological framework, it is this concept of active information, his notion of quantum potential, which represents this non-local force in the quantum realm which underpins the reality of the subatomic world, and by extension all of physical reality. This is Bohm�s undivided universe, which is best described as a process of constant unfolding, what he termed holomovement, which incorporates mind, which is required for any act of perception to take place, directly (back) into the model as it were, effectively pointing to an all-pervading consciousness which underlies the universe, within which mind is but one (subtler) aspect. Contrasting Bohm�s metaphysics with Pirsig�s Metaphysics of Quality which divides the intellectual landscape into two main driving forces, each of which is (at least tangentially) related to the very basic cornerstone notion of Quality - the Dynamic and the Static, the former reflecting the more �Eastern� conception of reality, the direct intuitive perception of �truth� or �knowledge�, whereas the latter form of Quality is, well static, in the sense that it reflects the more foundational intellectual forms of mankind which are more resistant to change and which provide the basis for a well-functioning (global) society,  Neither Bohm�s ontology, nor Pirsig�s metaphysics (and the two intellectual models no doubt differ in this very fundamental way in terms of scope and intent, one with a focus more on ontology � Bohm - and another on metaphysics - Pirsig) addresses directly the nature of the very foundation of their respective intellectual models, no doubt preferring to leave that question up to the theologians which is probably the proper domain for such questions. Pirsig claims (rightfully so) that Quality itself in its most pure, unadulterated form (Dynamic Quality) rests beyond any intellectual grasp, betrays any form of definition (much like the Dao or Brahman in the Eastern philosophical traditions), and Bohm�s work focuses more on the underlying descriptive order, or workings, of reality as a continual process of change, unfolding and enfolding between different dimensions so to speak (which also betrays characteristically �Eastern� attributes with respect to the notion of change and process being the most ontologically significant aspect of reality), rather than attempting to describe the nature of that which sits behind the process itself, the man behind the machine so to speak. What we are left with effectively, in the search for an ontological paradigm in the Western intellectual landscape which accounts for the entire spectrum of human experience, across the physical and psychological domains, is a chasm of sorts that relegates questions of the very ground of experience itself, the notion of supraconsciousness which rests at the very heart of Eastern philosophy, to theology, or at best to philosophy. Nor, again given that they are systems of metaphysics and are natural extensions �mechanical� theories, do they or can they be used to account for, from a �spiritual� perspective, the potential reality of what we have come to refer to in the West as pertaining to, or of the, �Soul� � the Soul as a cognitive and experiential �being� through which not only is the physical realm manifest and experienced, but also through which the mystical realm is experienced as well. This notion of the Soul in the West equates at a very basic level with the notion of Mind from a Buddhist perspective, the Intellect from a Neo-Platonist perspective and the ?tman of the Indian theo-philosophical tradition, all of which represent � in their own respective theo-philosophical systems � the individual reflection of the cosmic. In turn, this notion of the Soul becomes, from a metaphysical perspective, the specific corollary to very fundamental and primordial ordering principle of the Universe, which we find in every cosmogonic and metaphysical conception of the reality in all of the ancient mythological creation narratives of all Eurasian peoples and civilizations in antiquity that we cover in this work in fact. In virtually all of the ancient theo-philosophical systems, the ones in Eurasia that we explore in this work, the Soul plays a fundamental role in the �ordering�, �comprehending� and �realizing� aspect of existence as seen from an individual perspective. From this vantage point at least, the systems of metaphysics that we explore in this work, the ones grounded in 20th century Physics, do not cover or deal with this very fundamental and basic metaphysical (and ontological) construct that permeated not just theo-philosophical thought in antiquity, but really all thought in antiquity. In the ancient theo-philosophical traditions, particularly those of Indo-European heritage (the ancient Greeks and Indians basically), the Soul was arguably the defining metaphysical entity or principle upon which the theo-philosophical tradition hung together � the hub upon which all of the various branches of the respective theo-philosophical system sat upon you could say. So in this sense, despite the power and specificity of the systems of metaphysics of Bohm, and Everett, and perhaps to a lesser degree Pirsig, they nonetheless lack this cornerstone metaphysical principle upon which any truly comprehensive, complete really, notion of reality must rest. And yet this is the unintended consequence of our progress in the West with Science, that any notion or idea, any principle, that smacks of theology, anything that cannot be empirically proven to exist in fact, must thereby fall outside of the domain of Science and as such isn�t� included in even the broadening of the intellectual frameworks, the systems of metaphysics, that we have looked upon that have been established in the last few decades to address these basic ontological shortcomings of Science. Because there is no defining principle, no metaphysical or ontological entity or construct, upon which to rest the very pinnacle of experiential reality (what we call supraconsciousness) from and out of which � at least according to the Eastern philosophical traditions � all forms of reality and existence emanate and originate from.\n"
          ]
        }
      ],
      "source": [
        "print(summary)"
      ]
    },
    {
      "cell_type": "markdown",
      "metadata": {
        "id": "WNDhQKclnrno"
      },
      "source": [
        "###Abstractive Technique Example\n",
        "\n",
        "From *Abstractive Summarization Using Pytorch: Summarize any text using Transformers in a few simple steps!* by Raymond Cheng 2021 available here: https://towardsdatascience.com/abstractive-summarization-using-pytorch-f5063e67510\n",
        "\n",
        "Intro\n",
        "\n",
        "*Abstractive Summarization is a task in Natural Language Processing (NLP) that aims to generate a concise summary of a source text. Unlike extractive summarization, abstractive summarization does not simply copy important phrases from the source text but also potentially come up with new phrases that are relevant, which can be seen as paraphrasing. Abstractive summarization yields a number of applications in different domains, from books and literature, to science and R&D, to financial research and legal documents analysis.*\n",
        "\n",
        "*To date, the most recent and effective approach toward abstractive summarization is using transformer models fine-tuned specifically on a summarization dataset. In this article, we demonstrate how you can easily summarize a text using a powerful model within a few simple steps. The model that we are going to be using is already pretrained, so no additional training is required :)*\n"
      ]
    },
    {
      "cell_type": "markdown",
      "metadata": {
        "id": "IhNttj7z-Zcr"
      },
      "source": [
        "####Sample Code"
      ]
    },
    {
      "cell_type": "code",
      "execution_count": 50,
      "metadata": {
        "id": "6iEkGDVO-cZi"
      },
      "outputs": [],
      "source": [
        "file = open('./ontology.txt', \"r\")\n",
        "filedata = file.readlines()\n",
        "\n",
        "ch_text = \"\"\n",
        "\n",
        "for line in filedata:  \n",
        "  ch_text += line"
      ]
    },
    {
      "cell_type": "code",
      "execution_count": 51,
      "metadata": {
        "colab": {
          "base_uri": "https://localhost:8080/"
        },
        "id": "bOtdTM7i-kB9",
        "outputId": "f25f3ff2-38eb-426a-f4f4-8f3e059892f5"
      },
      "outputs": [
        {
          "output_type": "stream",
          "name": "stdout",
          "text": [
            "Looking in indexes: https://pypi.org/simple, https://us-python.pkg.dev/colab-wheels/public/simple/\n",
            "Requirement already satisfied: transformers in /usr/local/lib/python3.7/dist-packages (3.0.2)\n",
            "Requirement already satisfied: packaging in /usr/local/lib/python3.7/dist-packages (from transformers) (21.3)\n",
            "Requirement already satisfied: sentencepiece!=0.1.92 in /usr/local/lib/python3.7/dist-packages (from transformers) (0.1.96)\n",
            "Requirement already satisfied: regex!=2019.12.17 in /usr/local/lib/python3.7/dist-packages (from transformers) (2022.6.2)\n",
            "Requirement already satisfied: tqdm>=4.27 in /usr/local/lib/python3.7/dist-packages (from transformers) (4.64.0)\n",
            "Requirement already satisfied: requests in /usr/local/lib/python3.7/dist-packages (from transformers) (2.23.0)\n",
            "Requirement already satisfied: sacremoses in /usr/local/lib/python3.7/dist-packages (from transformers) (0.0.53)\n",
            "Requirement already satisfied: tokenizers==0.8.1.rc1 in /usr/local/lib/python3.7/dist-packages (from transformers) (0.8.1rc1)\n",
            "Requirement already satisfied: filelock in /usr/local/lib/python3.7/dist-packages (from transformers) (3.7.1)\n",
            "Requirement already satisfied: numpy in /usr/local/lib/python3.7/dist-packages (from transformers) (1.21.6)\n",
            "Requirement already satisfied: pyparsing!=3.0.5,>=2.0.2 in /usr/local/lib/python3.7/dist-packages (from packaging->transformers) (3.0.9)\n",
            "Requirement already satisfied: idna<3,>=2.5 in /usr/local/lib/python3.7/dist-packages (from requests->transformers) (2.10)\n",
            "Requirement already satisfied: chardet<4,>=3.0.2 in /usr/local/lib/python3.7/dist-packages (from requests->transformers) (3.0.4)\n",
            "Requirement already satisfied: urllib3!=1.25.0,!=1.25.1,<1.26,>=1.21.1 in /usr/local/lib/python3.7/dist-packages (from requests->transformers) (1.25.11)\n",
            "Requirement already satisfied: certifi>=2017.4.17 in /usr/local/lib/python3.7/dist-packages (from requests->transformers) (2022.6.15)\n",
            "Requirement already satisfied: six in /usr/local/lib/python3.7/dist-packages (from sacremoses->transformers) (1.15.0)\n",
            "Requirement already satisfied: click in /usr/local/lib/python3.7/dist-packages (from sacremoses->transformers) (7.1.2)\n",
            "Requirement already satisfied: joblib in /usr/local/lib/python3.7/dist-packages (from sacremoses->transformers) (1.1.0)\n"
          ]
        }
      ],
      "source": [
        "pip install transformers"
      ]
    },
    {
      "cell_type": "code",
      "execution_count": 52,
      "metadata": {
        "id": "jtQFMJoR_1E2"
      },
      "outputs": [],
      "source": [
        "from transformers import pipeline\n",
        "import os"
      ]
    },
    {
      "cell_type": "code",
      "execution_count": 53,
      "metadata": {
        "colab": {
          "base_uri": "https://localhost:8080/",
          "height": 214,
          "referenced_widgets": [
            "02866671e89545c380d16f5d7fb7ec1c",
            "c195081dc3cc49d3ae6216aa9f77e1e0",
            "cf222de0b74c4a33b111c4cfbd519c09",
            "0a7a27f3215b49edbb47aa7198740d44",
            "b6027024bcd2411f9845c4549b051107",
            "5c238097b32c4f42a433d2315f2ccf14",
            "e613ab93a4b34c80b46ef1a6669337ad",
            "be5bd0111ce4434dba5692221f9cc93c",
            "dd76ad1e9165440397440384037de964",
            "701da893006643e2bd03078ce331157e",
            "96d98cedd593484a8b08a2e1679c313d",
            "0b5e49931e794b5bb33577cf0370897b",
            "6e494aba1ddb440daf5918fee5f80a91",
            "db1d9411188a455388373ca006f13b33",
            "74c9177c13c94dfc8c5966954060efe0",
            "acfc89da806f4760ae02bf30775d7803",
            "fc6793f9240b458f9fef6e7a83df8b14",
            "25c88f99f1ec48e3998770d9ca87db50",
            "4af5e467d73e4f519f7f23164f1fdca9",
            "f18d31ba29e4462781235fc94e12b022",
            "7dde536a5f99484f8697b2a6fe6afdb1",
            "31d9140e2f304124ac1a1992072947f3",
            "dee4c1f5417047df85b80e280353183a",
            "e11e6dfbe380463b905c978594f0931e",
            "307d092f84b2472aabb2796a24bf0836",
            "8f0eecf269434fc49725eb78d630bf73",
            "a1ef9e45d50e4af7a4ea0651c393bd9e",
            "03ec6d93d9374d7f9ab7a24a7c9cc228",
            "8ac1d69b7fc34280b512f0f5f5f3d3ce",
            "47f9d7c616e54ef2939464fd29e08f71",
            "7d1775433d364138a78e29875e41466c",
            "bf1474ad7fc943858ed51ea573359941",
            "a1438586c1604fb5b5a874c7bc8cb041",
            "6613cca8769b416ab6733a2eb8bc27ef",
            "96bdf5e8d2fe4ebaa6af501b243cbd31",
            "7634e7317e5d4878bb41e74595a08ff2",
            "2ee3a96a9bf243908e2d3831c12fe0b8",
            "d3c59922048a4401863e6aae30a490bd",
            "fbdc3d6a7d5a419cbf6e3009bd56d139",
            "83443220ed49417e886903a6cc0423cc",
            "80f31ee4fb8045898112f94be56193fe",
            "ec4637646323445a8a9d25e9014fe57e",
            "16091e60f1894a8ba316b2e2b57478d6",
            "e5cf48056d8643699a26fec4dbb4a257"
          ]
        },
        "id": "KHpB_CrQ_5kV",
        "outputId": "0d8596a1-6537-44e2-f7f2-dd651ab72482"
      },
      "outputs": [
        {
          "output_type": "display_data",
          "data": {
            "text/plain": [
              "Downloading:   0%|          | 0.00/1.20k [00:00<?, ?B/s]"
            ],
            "application/vnd.jupyter.widget-view+json": {
              "version_major": 2,
              "version_minor": 0,
              "model_id": "02866671e89545c380d16f5d7fb7ec1c"
            }
          },
          "metadata": {}
        },
        {
          "output_type": "display_data",
          "data": {
            "text/plain": [
              "Downloading:   0%|          | 0.00/792k [00:00<?, ?B/s]"
            ],
            "application/vnd.jupyter.widget-view+json": {
              "version_major": 2,
              "version_minor": 0,
              "model_id": "0b5e49931e794b5bb33577cf0370897b"
            }
          },
          "metadata": {}
        },
        {
          "output_type": "display_data",
          "data": {
            "text/plain": [
              "Downloading:   0%|          | 0.00/230 [00:00<?, ?B/s]"
            ],
            "application/vnd.jupyter.widget-view+json": {
              "version_major": 2,
              "version_minor": 0,
              "model_id": "dee4c1f5417047df85b80e280353183a"
            }
          },
          "metadata": {}
        },
        {
          "output_type": "display_data",
          "data": {
            "text/plain": [
              "Downloading:   0%|          | 0.00/892M [00:00<?, ?B/s]"
            ],
            "application/vnd.jupyter.widget-view+json": {
              "version_major": 2,
              "version_minor": 0,
              "model_id": "6613cca8769b416ab6733a2eb8bc27ef"
            }
          },
          "metadata": {}
        },
        {
          "output_type": "stream",
          "name": "stderr",
          "text": [
            "All model checkpoint weights were used when initializing TFT5ForConditionalGeneration.\n",
            "\n",
            "All the weights of TFT5ForConditionalGeneration were initialized from the model checkpoint at t5-base.\n",
            "If your task is similar to the task the model of the ckeckpoint was trained on, you can already use TFT5ForConditionalGeneration for predictions without further training.\n"
          ]
        }
      ],
      "source": [
        "## Setting to use the 0th GPU\n",
        "os.environ[\"CUDA_VISIBLE_DEVICES\"] = \"0\"\n",
        "\n",
        "## Setting to use the bart-large-cnn model for summarization\n",
        "#summarizer = pipeline(\"summarization\")\n",
        "\n",
        "## To use the t5-base model for summarization:\n",
        "summarizer = pipeline(\"summarization\", model=\"t5-base\", tokenizer=\"t5-base\", framework=\"tf\")"
      ]
    },
    {
      "cell_type": "code",
      "execution_count": 54,
      "metadata": {
        "id": "oa18rRE4Al-1"
      },
      "outputs": [],
      "source": [
        "text = \"\"\"One month after the United States began what has become a troubled rollout of a national COVID vaccination campaign, the effort is finally gathering real steam.\n",
        "Close to a million doses -- over 951,000, to be more exact -- made their way into the arms of Americans in the past 24 hours, the U.S. Centers for Disease Control and Prevention reported Wednesday. That's the largest number of shots given in one day since the rollout began and a big jump from the previous day, when just under 340,000 doses were given, CBS News reported.\n",
        "That number is likely to jump quickly after the federal government on Tuesday gave states the OK to vaccinate anyone over 65 and said it would release all the doses of vaccine it has available for distribution. Meanwhile, a number of states have now opened mass vaccination sites in an effort to get larger numbers of people inoculated, CBS News reported.\"\"\""
      ]
    },
    {
      "cell_type": "code",
      "execution_count": 55,
      "metadata": {
        "colab": {
          "base_uri": "https://localhost:8080/"
        },
        "id": "seL1ZLgFAKmd",
        "outputId": "9dd4226a-1fe9-494b-8f9b-50eb19764228"
      },
      "outputs": [
        {
          "output_type": "stream",
          "name": "stdout",
          "text": [
            "close to a million doses -- over 951,000 -- made their way into the arms of Americans in the past 24 hours . that's the largest number of shots given in one day since the rollout began . a number of states have now opened mass vaccination sites in an effort to get larger numbers inoculated .\n"
          ]
        }
      ],
      "source": [
        "summary_text = summarizer(text, max_length=100, min_length=5, do_sample=False)[0]['summary_text']\n",
        "\n",
        "print(summary_text)"
      ]
    },
    {
      "cell_type": "code",
      "execution_count": 56,
      "metadata": {
        "colab": {
          "base_uri": "https://localhost:8080/"
        },
        "id": "81NyKnUVBCZb",
        "outputId": "ace5934d-3d26-4aa3-921d-ad187968a242"
      },
      "outputs": [
        {
          "output_type": "stream",
          "name": "stderr",
          "text": [
            "Token indices sequence length is longer than the specified maximum sequence length for this model (11285 > 512). Running this sequence through the model will result in indexing errors\n"
          ]
        },
        {
          "output_type": "stream",
          "name": "stdout",
          "text": [
            "[{'summary_text': 'aristotle referred to the soul as a \"soul\" in his work on quantum mechanics . he argues that the soul is a corollary of a higher-order reality . this is what he calls the \"spirit of the soul\" - the soul of man . the soul was a \\'soul\\' of man, a soul whose existence was governed by the cosmos '}]\n"
          ]
        }
      ],
      "source": [
        "#\n",
        "# token limit is 512 looks like, would have to integrate with \n",
        "# another library to handle larger text docs like the sample we \n",
        "# pull in\n",
        "ch_summary = summarizer(ch_text, max_length=100, min_length=5, do_sample=False)\n",
        "\n",
        "print(ch_summary)"
      ]
    },
    {
      "cell_type": "markdown",
      "metadata": {
        "id": "FsPk1WFP7l2o"
      },
      "source": [
        "## Conclusions\n",
        "\n",
        "With respect to Time Series techniques its clear that there is a lot of prep work to be done with the data to make sure that what you are predicting, and how the underlyibg data is set up to facilitate uch predictions is vitally important. The LSTM model perfomed only just as good as baseline (which was s simple prediction based upon previous days temp), with only slight improvement when we move to a double GRU model with a dropout layer. \n",
        "\n",
        "More tuning and hyperparams could be leveraged to improve the results but for the sake of time we closed the analysis after just those three models for comparison, with a fourth time series example for comparison but without an apples to apples result for our study.\n",
        "\n",
        "With respect to the IMDB sentimental analysis (binary classification) problem we can see the baseline solutions (using LSTM models) are around 85% whereas the Transfer Learning techniques, using GloVe embedding and BERT encoding, both improve on these models just slightly - up to 87% more or less. Training times increase along with model complexity as expected so one has to ask the question how important those 2 or 3 points are.\n",
        "\n",
        "With respect to the Text Summarization problem (Appendix B), the extractive techniques are much more straightforward NLP problems, effectively ranking sentences and then pulling together the most impoortant ones in the summary. The abstractive techniques, where the models have to deal with concepts more or less (not formally concepts but ideas in a sense) one must use more complex models to extra this information from the text, rank and sort the words, bigrams and ngrams of the text, in order to construct a summary that is not just a restated set of sentences from the original text.\n",
        "\n",
        "What you also find with the text summarization problemis that for smaller text (as measured by token counts), solutions and libraries tend to be freely available but when you look to solve problems across larger documents, or across document families or groups, you end up having to work with commercial NLP AI tools to handle the load - as we see with Open AI for example (https://openai.com/api/)."
      ]
    }
  ],
  "metadata": {
    "accelerator": "GPU",
    "colab": {
      "collapsed_sections": [
        "fQnma7xoWCau",
        "Lt3bV7qeWa6F",
        "WWRbfdbTWfEf",
        "T7w_3MItXMrW",
        "tL6ml6tDZmlR",
        "Ep3dabM5Z7Kk",
        "YoezEJt7Y7Ih",
        "FvZ6v--aZ-Oi",
        "bwLZd2Gxn_LI",
        "WsTSVCKkoUrW"
      ],
      "machine_shape": "hm",
      "name": "CAP6619 P5 PJW.ipynb",
      "provenance": [],
      "toc_visible": true
    },
    "gpuClass": "standard",
    "kernelspec": {
      "display_name": "Python 3",
      "name": "python3"
    },
    "widgets": {
      "application/vnd.jupyter.widget-state+json": {
        "35a52afc5d5643a58608875cde21b7d7": {
          "model_module": "@jupyter-widgets/controls",
          "model_name": "HBoxModel",
          "model_module_version": "1.5.0",
          "state": {
            "_dom_classes": [],
            "_model_module": "@jupyter-widgets/controls",
            "_model_module_version": "1.5.0",
            "_model_name": "HBoxModel",
            "_view_count": null,
            "_view_module": "@jupyter-widgets/controls",
            "_view_module_version": "1.5.0",
            "_view_name": "HBoxView",
            "box_style": "",
            "children": [
              "IPY_MODEL_1ece099d55414f0a8d93fc3e18fc27d1",
              "IPY_MODEL_9d556badd14e4d3e8e5f0b9f1a5ae14d",
              "IPY_MODEL_1773e59501254cfa947039088116aec8"
            ],
            "layout": "IPY_MODEL_66fd6a985159453991b2d8c42cca1d7e"
          }
        },
        "1ece099d55414f0a8d93fc3e18fc27d1": {
          "model_module": "@jupyter-widgets/controls",
          "model_name": "HTMLModel",
          "model_module_version": "1.5.0",
          "state": {
            "_dom_classes": [],
            "_model_module": "@jupyter-widgets/controls",
            "_model_module_version": "1.5.0",
            "_model_name": "HTMLModel",
            "_view_count": null,
            "_view_module": "@jupyter-widgets/controls",
            "_view_module_version": "1.5.0",
            "_view_name": "HTMLView",
            "description": "",
            "description_tooltip": null,
            "layout": "IPY_MODEL_73bff429899a4b6aa7d7c3021430953d",
            "placeholder": "​",
            "style": "IPY_MODEL_33f1ba4f80de4708b664258420dae712",
            "value": "Downloading: 100%"
          }
        },
        "9d556badd14e4d3e8e5f0b9f1a5ae14d": {
          "model_module": "@jupyter-widgets/controls",
          "model_name": "FloatProgressModel",
          "model_module_version": "1.5.0",
          "state": {
            "_dom_classes": [],
            "_model_module": "@jupyter-widgets/controls",
            "_model_module_version": "1.5.0",
            "_model_name": "FloatProgressModel",
            "_view_count": null,
            "_view_module": "@jupyter-widgets/controls",
            "_view_module_version": "1.5.0",
            "_view_name": "ProgressView",
            "bar_style": "success",
            "description": "",
            "description_tooltip": null,
            "layout": "IPY_MODEL_23055958373645fea0d219d41c8f3e1c",
            "max": 213450,
            "min": 0,
            "orientation": "horizontal",
            "style": "IPY_MODEL_dd169f8e68ef4826b973871725d849cf",
            "value": 213450
          }
        },
        "1773e59501254cfa947039088116aec8": {
          "model_module": "@jupyter-widgets/controls",
          "model_name": "HTMLModel",
          "model_module_version": "1.5.0",
          "state": {
            "_dom_classes": [],
            "_model_module": "@jupyter-widgets/controls",
            "_model_module_version": "1.5.0",
            "_model_name": "HTMLModel",
            "_view_count": null,
            "_view_module": "@jupyter-widgets/controls",
            "_view_module_version": "1.5.0",
            "_view_name": "HTMLView",
            "description": "",
            "description_tooltip": null,
            "layout": "IPY_MODEL_385db6c7014343dba70ae54dd570192e",
            "placeholder": "​",
            "style": "IPY_MODEL_7d4da9e612b642c3bb473ec003a15d1f",
            "value": " 213k/213k [00:00&lt;00:00, 308kB/s]"
          }
        },
        "66fd6a985159453991b2d8c42cca1d7e": {
          "model_module": "@jupyter-widgets/base",
          "model_name": "LayoutModel",
          "model_module_version": "1.2.0",
          "state": {
            "_model_module": "@jupyter-widgets/base",
            "_model_module_version": "1.2.0",
            "_model_name": "LayoutModel",
            "_view_count": null,
            "_view_module": "@jupyter-widgets/base",
            "_view_module_version": "1.2.0",
            "_view_name": "LayoutView",
            "align_content": null,
            "align_items": null,
            "align_self": null,
            "border": null,
            "bottom": null,
            "display": null,
            "flex": null,
            "flex_flow": null,
            "grid_area": null,
            "grid_auto_columns": null,
            "grid_auto_flow": null,
            "grid_auto_rows": null,
            "grid_column": null,
            "grid_gap": null,
            "grid_row": null,
            "grid_template_areas": null,
            "grid_template_columns": null,
            "grid_template_rows": null,
            "height": null,
            "justify_content": null,
            "justify_items": null,
            "left": null,
            "margin": null,
            "max_height": null,
            "max_width": null,
            "min_height": null,
            "min_width": null,
            "object_fit": null,
            "object_position": null,
            "order": null,
            "overflow": null,
            "overflow_x": null,
            "overflow_y": null,
            "padding": null,
            "right": null,
            "top": null,
            "visibility": null,
            "width": null
          }
        },
        "73bff429899a4b6aa7d7c3021430953d": {
          "model_module": "@jupyter-widgets/base",
          "model_name": "LayoutModel",
          "model_module_version": "1.2.0",
          "state": {
            "_model_module": "@jupyter-widgets/base",
            "_model_module_version": "1.2.0",
            "_model_name": "LayoutModel",
            "_view_count": null,
            "_view_module": "@jupyter-widgets/base",
            "_view_module_version": "1.2.0",
            "_view_name": "LayoutView",
            "align_content": null,
            "align_items": null,
            "align_self": null,
            "border": null,
            "bottom": null,
            "display": null,
            "flex": null,
            "flex_flow": null,
            "grid_area": null,
            "grid_auto_columns": null,
            "grid_auto_flow": null,
            "grid_auto_rows": null,
            "grid_column": null,
            "grid_gap": null,
            "grid_row": null,
            "grid_template_areas": null,
            "grid_template_columns": null,
            "grid_template_rows": null,
            "height": null,
            "justify_content": null,
            "justify_items": null,
            "left": null,
            "margin": null,
            "max_height": null,
            "max_width": null,
            "min_height": null,
            "min_width": null,
            "object_fit": null,
            "object_position": null,
            "order": null,
            "overflow": null,
            "overflow_x": null,
            "overflow_y": null,
            "padding": null,
            "right": null,
            "top": null,
            "visibility": null,
            "width": null
          }
        },
        "33f1ba4f80de4708b664258420dae712": {
          "model_module": "@jupyter-widgets/controls",
          "model_name": "DescriptionStyleModel",
          "model_module_version": "1.5.0",
          "state": {
            "_model_module": "@jupyter-widgets/controls",
            "_model_module_version": "1.5.0",
            "_model_name": "DescriptionStyleModel",
            "_view_count": null,
            "_view_module": "@jupyter-widgets/base",
            "_view_module_version": "1.2.0",
            "_view_name": "StyleView",
            "description_width": ""
          }
        },
        "23055958373645fea0d219d41c8f3e1c": {
          "model_module": "@jupyter-widgets/base",
          "model_name": "LayoutModel",
          "model_module_version": "1.2.0",
          "state": {
            "_model_module": "@jupyter-widgets/base",
            "_model_module_version": "1.2.0",
            "_model_name": "LayoutModel",
            "_view_count": null,
            "_view_module": "@jupyter-widgets/base",
            "_view_module_version": "1.2.0",
            "_view_name": "LayoutView",
            "align_content": null,
            "align_items": null,
            "align_self": null,
            "border": null,
            "bottom": null,
            "display": null,
            "flex": null,
            "flex_flow": null,
            "grid_area": null,
            "grid_auto_columns": null,
            "grid_auto_flow": null,
            "grid_auto_rows": null,
            "grid_column": null,
            "grid_gap": null,
            "grid_row": null,
            "grid_template_areas": null,
            "grid_template_columns": null,
            "grid_template_rows": null,
            "height": null,
            "justify_content": null,
            "justify_items": null,
            "left": null,
            "margin": null,
            "max_height": null,
            "max_width": null,
            "min_height": null,
            "min_width": null,
            "object_fit": null,
            "object_position": null,
            "order": null,
            "overflow": null,
            "overflow_x": null,
            "overflow_y": null,
            "padding": null,
            "right": null,
            "top": null,
            "visibility": null,
            "width": null
          }
        },
        "dd169f8e68ef4826b973871725d849cf": {
          "model_module": "@jupyter-widgets/controls",
          "model_name": "ProgressStyleModel",
          "model_module_version": "1.5.0",
          "state": {
            "_model_module": "@jupyter-widgets/controls",
            "_model_module_version": "1.5.0",
            "_model_name": "ProgressStyleModel",
            "_view_count": null,
            "_view_module": "@jupyter-widgets/base",
            "_view_module_version": "1.2.0",
            "_view_name": "StyleView",
            "bar_color": null,
            "description_width": ""
          }
        },
        "385db6c7014343dba70ae54dd570192e": {
          "model_module": "@jupyter-widgets/base",
          "model_name": "LayoutModel",
          "model_module_version": "1.2.0",
          "state": {
            "_model_module": "@jupyter-widgets/base",
            "_model_module_version": "1.2.0",
            "_model_name": "LayoutModel",
            "_view_count": null,
            "_view_module": "@jupyter-widgets/base",
            "_view_module_version": "1.2.0",
            "_view_name": "LayoutView",
            "align_content": null,
            "align_items": null,
            "align_self": null,
            "border": null,
            "bottom": null,
            "display": null,
            "flex": null,
            "flex_flow": null,
            "grid_area": null,
            "grid_auto_columns": null,
            "grid_auto_flow": null,
            "grid_auto_rows": null,
            "grid_column": null,
            "grid_gap": null,
            "grid_row": null,
            "grid_template_areas": null,
            "grid_template_columns": null,
            "grid_template_rows": null,
            "height": null,
            "justify_content": null,
            "justify_items": null,
            "left": null,
            "margin": null,
            "max_height": null,
            "max_width": null,
            "min_height": null,
            "min_width": null,
            "object_fit": null,
            "object_position": null,
            "order": null,
            "overflow": null,
            "overflow_x": null,
            "overflow_y": null,
            "padding": null,
            "right": null,
            "top": null,
            "visibility": null,
            "width": null
          }
        },
        "7d4da9e612b642c3bb473ec003a15d1f": {
          "model_module": "@jupyter-widgets/controls",
          "model_name": "DescriptionStyleModel",
          "model_module_version": "1.5.0",
          "state": {
            "_model_module": "@jupyter-widgets/controls",
            "_model_module_version": "1.5.0",
            "_model_name": "DescriptionStyleModel",
            "_view_count": null,
            "_view_module": "@jupyter-widgets/base",
            "_view_module_version": "1.2.0",
            "_view_name": "StyleView",
            "description_width": ""
          }
        },
        "02866671e89545c380d16f5d7fb7ec1c": {
          "model_module": "@jupyter-widgets/controls",
          "model_name": "HBoxModel",
          "model_module_version": "1.5.0",
          "state": {
            "_dom_classes": [],
            "_model_module": "@jupyter-widgets/controls",
            "_model_module_version": "1.5.0",
            "_model_name": "HBoxModel",
            "_view_count": null,
            "_view_module": "@jupyter-widgets/controls",
            "_view_module_version": "1.5.0",
            "_view_name": "HBoxView",
            "box_style": "",
            "children": [
              "IPY_MODEL_c195081dc3cc49d3ae6216aa9f77e1e0",
              "IPY_MODEL_cf222de0b74c4a33b111c4cfbd519c09",
              "IPY_MODEL_0a7a27f3215b49edbb47aa7198740d44"
            ],
            "layout": "IPY_MODEL_b6027024bcd2411f9845c4549b051107"
          }
        },
        "c195081dc3cc49d3ae6216aa9f77e1e0": {
          "model_module": "@jupyter-widgets/controls",
          "model_name": "HTMLModel",
          "model_module_version": "1.5.0",
          "state": {
            "_dom_classes": [],
            "_model_module": "@jupyter-widgets/controls",
            "_model_module_version": "1.5.0",
            "_model_name": "HTMLModel",
            "_view_count": null,
            "_view_module": "@jupyter-widgets/controls",
            "_view_module_version": "1.5.0",
            "_view_name": "HTMLView",
            "description": "",
            "description_tooltip": null,
            "layout": "IPY_MODEL_5c238097b32c4f42a433d2315f2ccf14",
            "placeholder": "​",
            "style": "IPY_MODEL_e613ab93a4b34c80b46ef1a6669337ad",
            "value": "Downloading: 100%"
          }
        },
        "cf222de0b74c4a33b111c4cfbd519c09": {
          "model_module": "@jupyter-widgets/controls",
          "model_name": "FloatProgressModel",
          "model_module_version": "1.5.0",
          "state": {
            "_dom_classes": [],
            "_model_module": "@jupyter-widgets/controls",
            "_model_module_version": "1.5.0",
            "_model_name": "FloatProgressModel",
            "_view_count": null,
            "_view_module": "@jupyter-widgets/controls",
            "_view_module_version": "1.5.0",
            "_view_name": "ProgressView",
            "bar_style": "success",
            "description": "",
            "description_tooltip": null,
            "layout": "IPY_MODEL_be5bd0111ce4434dba5692221f9cc93c",
            "max": 1199,
            "min": 0,
            "orientation": "horizontal",
            "style": "IPY_MODEL_dd76ad1e9165440397440384037de964",
            "value": 1199
          }
        },
        "0a7a27f3215b49edbb47aa7198740d44": {
          "model_module": "@jupyter-widgets/controls",
          "model_name": "HTMLModel",
          "model_module_version": "1.5.0",
          "state": {
            "_dom_classes": [],
            "_model_module": "@jupyter-widgets/controls",
            "_model_module_version": "1.5.0",
            "_model_name": "HTMLModel",
            "_view_count": null,
            "_view_module": "@jupyter-widgets/controls",
            "_view_module_version": "1.5.0",
            "_view_name": "HTMLView",
            "description": "",
            "description_tooltip": null,
            "layout": "IPY_MODEL_701da893006643e2bd03078ce331157e",
            "placeholder": "​",
            "style": "IPY_MODEL_96d98cedd593484a8b08a2e1679c313d",
            "value": " 1.20k/1.20k [00:00&lt;00:00, 44.2kB/s]"
          }
        },
        "b6027024bcd2411f9845c4549b051107": {
          "model_module": "@jupyter-widgets/base",
          "model_name": "LayoutModel",
          "model_module_version": "1.2.0",
          "state": {
            "_model_module": "@jupyter-widgets/base",
            "_model_module_version": "1.2.0",
            "_model_name": "LayoutModel",
            "_view_count": null,
            "_view_module": "@jupyter-widgets/base",
            "_view_module_version": "1.2.0",
            "_view_name": "LayoutView",
            "align_content": null,
            "align_items": null,
            "align_self": null,
            "border": null,
            "bottom": null,
            "display": null,
            "flex": null,
            "flex_flow": null,
            "grid_area": null,
            "grid_auto_columns": null,
            "grid_auto_flow": null,
            "grid_auto_rows": null,
            "grid_column": null,
            "grid_gap": null,
            "grid_row": null,
            "grid_template_areas": null,
            "grid_template_columns": null,
            "grid_template_rows": null,
            "height": null,
            "justify_content": null,
            "justify_items": null,
            "left": null,
            "margin": null,
            "max_height": null,
            "max_width": null,
            "min_height": null,
            "min_width": null,
            "object_fit": null,
            "object_position": null,
            "order": null,
            "overflow": null,
            "overflow_x": null,
            "overflow_y": null,
            "padding": null,
            "right": null,
            "top": null,
            "visibility": null,
            "width": null
          }
        },
        "5c238097b32c4f42a433d2315f2ccf14": {
          "model_module": "@jupyter-widgets/base",
          "model_name": "LayoutModel",
          "model_module_version": "1.2.0",
          "state": {
            "_model_module": "@jupyter-widgets/base",
            "_model_module_version": "1.2.0",
            "_model_name": "LayoutModel",
            "_view_count": null,
            "_view_module": "@jupyter-widgets/base",
            "_view_module_version": "1.2.0",
            "_view_name": "LayoutView",
            "align_content": null,
            "align_items": null,
            "align_self": null,
            "border": null,
            "bottom": null,
            "display": null,
            "flex": null,
            "flex_flow": null,
            "grid_area": null,
            "grid_auto_columns": null,
            "grid_auto_flow": null,
            "grid_auto_rows": null,
            "grid_column": null,
            "grid_gap": null,
            "grid_row": null,
            "grid_template_areas": null,
            "grid_template_columns": null,
            "grid_template_rows": null,
            "height": null,
            "justify_content": null,
            "justify_items": null,
            "left": null,
            "margin": null,
            "max_height": null,
            "max_width": null,
            "min_height": null,
            "min_width": null,
            "object_fit": null,
            "object_position": null,
            "order": null,
            "overflow": null,
            "overflow_x": null,
            "overflow_y": null,
            "padding": null,
            "right": null,
            "top": null,
            "visibility": null,
            "width": null
          }
        },
        "e613ab93a4b34c80b46ef1a6669337ad": {
          "model_module": "@jupyter-widgets/controls",
          "model_name": "DescriptionStyleModel",
          "model_module_version": "1.5.0",
          "state": {
            "_model_module": "@jupyter-widgets/controls",
            "_model_module_version": "1.5.0",
            "_model_name": "DescriptionStyleModel",
            "_view_count": null,
            "_view_module": "@jupyter-widgets/base",
            "_view_module_version": "1.2.0",
            "_view_name": "StyleView",
            "description_width": ""
          }
        },
        "be5bd0111ce4434dba5692221f9cc93c": {
          "model_module": "@jupyter-widgets/base",
          "model_name": "LayoutModel",
          "model_module_version": "1.2.0",
          "state": {
            "_model_module": "@jupyter-widgets/base",
            "_model_module_version": "1.2.0",
            "_model_name": "LayoutModel",
            "_view_count": null,
            "_view_module": "@jupyter-widgets/base",
            "_view_module_version": "1.2.0",
            "_view_name": "LayoutView",
            "align_content": null,
            "align_items": null,
            "align_self": null,
            "border": null,
            "bottom": null,
            "display": null,
            "flex": null,
            "flex_flow": null,
            "grid_area": null,
            "grid_auto_columns": null,
            "grid_auto_flow": null,
            "grid_auto_rows": null,
            "grid_column": null,
            "grid_gap": null,
            "grid_row": null,
            "grid_template_areas": null,
            "grid_template_columns": null,
            "grid_template_rows": null,
            "height": null,
            "justify_content": null,
            "justify_items": null,
            "left": null,
            "margin": null,
            "max_height": null,
            "max_width": null,
            "min_height": null,
            "min_width": null,
            "object_fit": null,
            "object_position": null,
            "order": null,
            "overflow": null,
            "overflow_x": null,
            "overflow_y": null,
            "padding": null,
            "right": null,
            "top": null,
            "visibility": null,
            "width": null
          }
        },
        "dd76ad1e9165440397440384037de964": {
          "model_module": "@jupyter-widgets/controls",
          "model_name": "ProgressStyleModel",
          "model_module_version": "1.5.0",
          "state": {
            "_model_module": "@jupyter-widgets/controls",
            "_model_module_version": "1.5.0",
            "_model_name": "ProgressStyleModel",
            "_view_count": null,
            "_view_module": "@jupyter-widgets/base",
            "_view_module_version": "1.2.0",
            "_view_name": "StyleView",
            "bar_color": null,
            "description_width": ""
          }
        },
        "701da893006643e2bd03078ce331157e": {
          "model_module": "@jupyter-widgets/base",
          "model_name": "LayoutModel",
          "model_module_version": "1.2.0",
          "state": {
            "_model_module": "@jupyter-widgets/base",
            "_model_module_version": "1.2.0",
            "_model_name": "LayoutModel",
            "_view_count": null,
            "_view_module": "@jupyter-widgets/base",
            "_view_module_version": "1.2.0",
            "_view_name": "LayoutView",
            "align_content": null,
            "align_items": null,
            "align_self": null,
            "border": null,
            "bottom": null,
            "display": null,
            "flex": null,
            "flex_flow": null,
            "grid_area": null,
            "grid_auto_columns": null,
            "grid_auto_flow": null,
            "grid_auto_rows": null,
            "grid_column": null,
            "grid_gap": null,
            "grid_row": null,
            "grid_template_areas": null,
            "grid_template_columns": null,
            "grid_template_rows": null,
            "height": null,
            "justify_content": null,
            "justify_items": null,
            "left": null,
            "margin": null,
            "max_height": null,
            "max_width": null,
            "min_height": null,
            "min_width": null,
            "object_fit": null,
            "object_position": null,
            "order": null,
            "overflow": null,
            "overflow_x": null,
            "overflow_y": null,
            "padding": null,
            "right": null,
            "top": null,
            "visibility": null,
            "width": null
          }
        },
        "96d98cedd593484a8b08a2e1679c313d": {
          "model_module": "@jupyter-widgets/controls",
          "model_name": "DescriptionStyleModel",
          "model_module_version": "1.5.0",
          "state": {
            "_model_module": "@jupyter-widgets/controls",
            "_model_module_version": "1.5.0",
            "_model_name": "DescriptionStyleModel",
            "_view_count": null,
            "_view_module": "@jupyter-widgets/base",
            "_view_module_version": "1.2.0",
            "_view_name": "StyleView",
            "description_width": ""
          }
        },
        "0b5e49931e794b5bb33577cf0370897b": {
          "model_module": "@jupyter-widgets/controls",
          "model_name": "HBoxModel",
          "model_module_version": "1.5.0",
          "state": {
            "_dom_classes": [],
            "_model_module": "@jupyter-widgets/controls",
            "_model_module_version": "1.5.0",
            "_model_name": "HBoxModel",
            "_view_count": null,
            "_view_module": "@jupyter-widgets/controls",
            "_view_module_version": "1.5.0",
            "_view_name": "HBoxView",
            "box_style": "",
            "children": [
              "IPY_MODEL_6e494aba1ddb440daf5918fee5f80a91",
              "IPY_MODEL_db1d9411188a455388373ca006f13b33",
              "IPY_MODEL_74c9177c13c94dfc8c5966954060efe0"
            ],
            "layout": "IPY_MODEL_acfc89da806f4760ae02bf30775d7803"
          }
        },
        "6e494aba1ddb440daf5918fee5f80a91": {
          "model_module": "@jupyter-widgets/controls",
          "model_name": "HTMLModel",
          "model_module_version": "1.5.0",
          "state": {
            "_dom_classes": [],
            "_model_module": "@jupyter-widgets/controls",
            "_model_module_version": "1.5.0",
            "_model_name": "HTMLModel",
            "_view_count": null,
            "_view_module": "@jupyter-widgets/controls",
            "_view_module_version": "1.5.0",
            "_view_name": "HTMLView",
            "description": "",
            "description_tooltip": null,
            "layout": "IPY_MODEL_fc6793f9240b458f9fef6e7a83df8b14",
            "placeholder": "​",
            "style": "IPY_MODEL_25c88f99f1ec48e3998770d9ca87db50",
            "value": "Downloading: 100%"
          }
        },
        "db1d9411188a455388373ca006f13b33": {
          "model_module": "@jupyter-widgets/controls",
          "model_name": "FloatProgressModel",
          "model_module_version": "1.5.0",
          "state": {
            "_dom_classes": [],
            "_model_module": "@jupyter-widgets/controls",
            "_model_module_version": "1.5.0",
            "_model_name": "FloatProgressModel",
            "_view_count": null,
            "_view_module": "@jupyter-widgets/controls",
            "_view_module_version": "1.5.0",
            "_view_name": "ProgressView",
            "bar_style": "success",
            "description": "",
            "description_tooltip": null,
            "layout": "IPY_MODEL_4af5e467d73e4f519f7f23164f1fdca9",
            "max": 791656,
            "min": 0,
            "orientation": "horizontal",
            "style": "IPY_MODEL_f18d31ba29e4462781235fc94e12b022",
            "value": 791656
          }
        },
        "74c9177c13c94dfc8c5966954060efe0": {
          "model_module": "@jupyter-widgets/controls",
          "model_name": "HTMLModel",
          "model_module_version": "1.5.0",
          "state": {
            "_dom_classes": [],
            "_model_module": "@jupyter-widgets/controls",
            "_model_module_version": "1.5.0",
            "_model_name": "HTMLModel",
            "_view_count": null,
            "_view_module": "@jupyter-widgets/controls",
            "_view_module_version": "1.5.0",
            "_view_name": "HTMLView",
            "description": "",
            "description_tooltip": null,
            "layout": "IPY_MODEL_7dde536a5f99484f8697b2a6fe6afdb1",
            "placeholder": "​",
            "style": "IPY_MODEL_31d9140e2f304124ac1a1992072947f3",
            "value": " 792k/792k [00:00&lt;00:00, 844kB/s]"
          }
        },
        "acfc89da806f4760ae02bf30775d7803": {
          "model_module": "@jupyter-widgets/base",
          "model_name": "LayoutModel",
          "model_module_version": "1.2.0",
          "state": {
            "_model_module": "@jupyter-widgets/base",
            "_model_module_version": "1.2.0",
            "_model_name": "LayoutModel",
            "_view_count": null,
            "_view_module": "@jupyter-widgets/base",
            "_view_module_version": "1.2.0",
            "_view_name": "LayoutView",
            "align_content": null,
            "align_items": null,
            "align_self": null,
            "border": null,
            "bottom": null,
            "display": null,
            "flex": null,
            "flex_flow": null,
            "grid_area": null,
            "grid_auto_columns": null,
            "grid_auto_flow": null,
            "grid_auto_rows": null,
            "grid_column": null,
            "grid_gap": null,
            "grid_row": null,
            "grid_template_areas": null,
            "grid_template_columns": null,
            "grid_template_rows": null,
            "height": null,
            "justify_content": null,
            "justify_items": null,
            "left": null,
            "margin": null,
            "max_height": null,
            "max_width": null,
            "min_height": null,
            "min_width": null,
            "object_fit": null,
            "object_position": null,
            "order": null,
            "overflow": null,
            "overflow_x": null,
            "overflow_y": null,
            "padding": null,
            "right": null,
            "top": null,
            "visibility": null,
            "width": null
          }
        },
        "fc6793f9240b458f9fef6e7a83df8b14": {
          "model_module": "@jupyter-widgets/base",
          "model_name": "LayoutModel",
          "model_module_version": "1.2.0",
          "state": {
            "_model_module": "@jupyter-widgets/base",
            "_model_module_version": "1.2.0",
            "_model_name": "LayoutModel",
            "_view_count": null,
            "_view_module": "@jupyter-widgets/base",
            "_view_module_version": "1.2.0",
            "_view_name": "LayoutView",
            "align_content": null,
            "align_items": null,
            "align_self": null,
            "border": null,
            "bottom": null,
            "display": null,
            "flex": null,
            "flex_flow": null,
            "grid_area": null,
            "grid_auto_columns": null,
            "grid_auto_flow": null,
            "grid_auto_rows": null,
            "grid_column": null,
            "grid_gap": null,
            "grid_row": null,
            "grid_template_areas": null,
            "grid_template_columns": null,
            "grid_template_rows": null,
            "height": null,
            "justify_content": null,
            "justify_items": null,
            "left": null,
            "margin": null,
            "max_height": null,
            "max_width": null,
            "min_height": null,
            "min_width": null,
            "object_fit": null,
            "object_position": null,
            "order": null,
            "overflow": null,
            "overflow_x": null,
            "overflow_y": null,
            "padding": null,
            "right": null,
            "top": null,
            "visibility": null,
            "width": null
          }
        },
        "25c88f99f1ec48e3998770d9ca87db50": {
          "model_module": "@jupyter-widgets/controls",
          "model_name": "DescriptionStyleModel",
          "model_module_version": "1.5.0",
          "state": {
            "_model_module": "@jupyter-widgets/controls",
            "_model_module_version": "1.5.0",
            "_model_name": "DescriptionStyleModel",
            "_view_count": null,
            "_view_module": "@jupyter-widgets/base",
            "_view_module_version": "1.2.0",
            "_view_name": "StyleView",
            "description_width": ""
          }
        },
        "4af5e467d73e4f519f7f23164f1fdca9": {
          "model_module": "@jupyter-widgets/base",
          "model_name": "LayoutModel",
          "model_module_version": "1.2.0",
          "state": {
            "_model_module": "@jupyter-widgets/base",
            "_model_module_version": "1.2.0",
            "_model_name": "LayoutModel",
            "_view_count": null,
            "_view_module": "@jupyter-widgets/base",
            "_view_module_version": "1.2.0",
            "_view_name": "LayoutView",
            "align_content": null,
            "align_items": null,
            "align_self": null,
            "border": null,
            "bottom": null,
            "display": null,
            "flex": null,
            "flex_flow": null,
            "grid_area": null,
            "grid_auto_columns": null,
            "grid_auto_flow": null,
            "grid_auto_rows": null,
            "grid_column": null,
            "grid_gap": null,
            "grid_row": null,
            "grid_template_areas": null,
            "grid_template_columns": null,
            "grid_template_rows": null,
            "height": null,
            "justify_content": null,
            "justify_items": null,
            "left": null,
            "margin": null,
            "max_height": null,
            "max_width": null,
            "min_height": null,
            "min_width": null,
            "object_fit": null,
            "object_position": null,
            "order": null,
            "overflow": null,
            "overflow_x": null,
            "overflow_y": null,
            "padding": null,
            "right": null,
            "top": null,
            "visibility": null,
            "width": null
          }
        },
        "f18d31ba29e4462781235fc94e12b022": {
          "model_module": "@jupyter-widgets/controls",
          "model_name": "ProgressStyleModel",
          "model_module_version": "1.5.0",
          "state": {
            "_model_module": "@jupyter-widgets/controls",
            "_model_module_version": "1.5.0",
            "_model_name": "ProgressStyleModel",
            "_view_count": null,
            "_view_module": "@jupyter-widgets/base",
            "_view_module_version": "1.2.0",
            "_view_name": "StyleView",
            "bar_color": null,
            "description_width": ""
          }
        },
        "7dde536a5f99484f8697b2a6fe6afdb1": {
          "model_module": "@jupyter-widgets/base",
          "model_name": "LayoutModel",
          "model_module_version": "1.2.0",
          "state": {
            "_model_module": "@jupyter-widgets/base",
            "_model_module_version": "1.2.0",
            "_model_name": "LayoutModel",
            "_view_count": null,
            "_view_module": "@jupyter-widgets/base",
            "_view_module_version": "1.2.0",
            "_view_name": "LayoutView",
            "align_content": null,
            "align_items": null,
            "align_self": null,
            "border": null,
            "bottom": null,
            "display": null,
            "flex": null,
            "flex_flow": null,
            "grid_area": null,
            "grid_auto_columns": null,
            "grid_auto_flow": null,
            "grid_auto_rows": null,
            "grid_column": null,
            "grid_gap": null,
            "grid_row": null,
            "grid_template_areas": null,
            "grid_template_columns": null,
            "grid_template_rows": null,
            "height": null,
            "justify_content": null,
            "justify_items": null,
            "left": null,
            "margin": null,
            "max_height": null,
            "max_width": null,
            "min_height": null,
            "min_width": null,
            "object_fit": null,
            "object_position": null,
            "order": null,
            "overflow": null,
            "overflow_x": null,
            "overflow_y": null,
            "padding": null,
            "right": null,
            "top": null,
            "visibility": null,
            "width": null
          }
        },
        "31d9140e2f304124ac1a1992072947f3": {
          "model_module": "@jupyter-widgets/controls",
          "model_name": "DescriptionStyleModel",
          "model_module_version": "1.5.0",
          "state": {
            "_model_module": "@jupyter-widgets/controls",
            "_model_module_version": "1.5.0",
            "_model_name": "DescriptionStyleModel",
            "_view_count": null,
            "_view_module": "@jupyter-widgets/base",
            "_view_module_version": "1.2.0",
            "_view_name": "StyleView",
            "description_width": ""
          }
        },
        "dee4c1f5417047df85b80e280353183a": {
          "model_module": "@jupyter-widgets/controls",
          "model_name": "HBoxModel",
          "model_module_version": "1.5.0",
          "state": {
            "_dom_classes": [],
            "_model_module": "@jupyter-widgets/controls",
            "_model_module_version": "1.5.0",
            "_model_name": "HBoxModel",
            "_view_count": null,
            "_view_module": "@jupyter-widgets/controls",
            "_view_module_version": "1.5.0",
            "_view_name": "HBoxView",
            "box_style": "",
            "children": [
              "IPY_MODEL_e11e6dfbe380463b905c978594f0931e",
              "IPY_MODEL_307d092f84b2472aabb2796a24bf0836",
              "IPY_MODEL_8f0eecf269434fc49725eb78d630bf73"
            ],
            "layout": "IPY_MODEL_a1ef9e45d50e4af7a4ea0651c393bd9e"
          }
        },
        "e11e6dfbe380463b905c978594f0931e": {
          "model_module": "@jupyter-widgets/controls",
          "model_name": "HTMLModel",
          "model_module_version": "1.5.0",
          "state": {
            "_dom_classes": [],
            "_model_module": "@jupyter-widgets/controls",
            "_model_module_version": "1.5.0",
            "_model_name": "HTMLModel",
            "_view_count": null,
            "_view_module": "@jupyter-widgets/controls",
            "_view_module_version": "1.5.0",
            "_view_name": "HTMLView",
            "description": "",
            "description_tooltip": null,
            "layout": "IPY_MODEL_03ec6d93d9374d7f9ab7a24a7c9cc228",
            "placeholder": "​",
            "style": "IPY_MODEL_8ac1d69b7fc34280b512f0f5f5f3d3ce",
            "value": "Downloading: 100%"
          }
        },
        "307d092f84b2472aabb2796a24bf0836": {
          "model_module": "@jupyter-widgets/controls",
          "model_name": "FloatProgressModel",
          "model_module_version": "1.5.0",
          "state": {
            "_dom_classes": [],
            "_model_module": "@jupyter-widgets/controls",
            "_model_module_version": "1.5.0",
            "_model_name": "FloatProgressModel",
            "_view_count": null,
            "_view_module": "@jupyter-widgets/controls",
            "_view_module_version": "1.5.0",
            "_view_name": "ProgressView",
            "bar_style": "success",
            "description": "",
            "description_tooltip": null,
            "layout": "IPY_MODEL_47f9d7c616e54ef2939464fd29e08f71",
            "max": 230,
            "min": 0,
            "orientation": "horizontal",
            "style": "IPY_MODEL_7d1775433d364138a78e29875e41466c",
            "value": 230
          }
        },
        "8f0eecf269434fc49725eb78d630bf73": {
          "model_module": "@jupyter-widgets/controls",
          "model_name": "HTMLModel",
          "model_module_version": "1.5.0",
          "state": {
            "_dom_classes": [],
            "_model_module": "@jupyter-widgets/controls",
            "_model_module_version": "1.5.0",
            "_model_name": "HTMLModel",
            "_view_count": null,
            "_view_module": "@jupyter-widgets/controls",
            "_view_module_version": "1.5.0",
            "_view_name": "HTMLView",
            "description": "",
            "description_tooltip": null,
            "layout": "IPY_MODEL_bf1474ad7fc943858ed51ea573359941",
            "placeholder": "​",
            "style": "IPY_MODEL_a1438586c1604fb5b5a874c7bc8cb041",
            "value": " 230/230 [00:00&lt;00:00, 7.56kB/s]"
          }
        },
        "a1ef9e45d50e4af7a4ea0651c393bd9e": {
          "model_module": "@jupyter-widgets/base",
          "model_name": "LayoutModel",
          "model_module_version": "1.2.0",
          "state": {
            "_model_module": "@jupyter-widgets/base",
            "_model_module_version": "1.2.0",
            "_model_name": "LayoutModel",
            "_view_count": null,
            "_view_module": "@jupyter-widgets/base",
            "_view_module_version": "1.2.0",
            "_view_name": "LayoutView",
            "align_content": null,
            "align_items": null,
            "align_self": null,
            "border": null,
            "bottom": null,
            "display": null,
            "flex": null,
            "flex_flow": null,
            "grid_area": null,
            "grid_auto_columns": null,
            "grid_auto_flow": null,
            "grid_auto_rows": null,
            "grid_column": null,
            "grid_gap": null,
            "grid_row": null,
            "grid_template_areas": null,
            "grid_template_columns": null,
            "grid_template_rows": null,
            "height": null,
            "justify_content": null,
            "justify_items": null,
            "left": null,
            "margin": null,
            "max_height": null,
            "max_width": null,
            "min_height": null,
            "min_width": null,
            "object_fit": null,
            "object_position": null,
            "order": null,
            "overflow": null,
            "overflow_x": null,
            "overflow_y": null,
            "padding": null,
            "right": null,
            "top": null,
            "visibility": null,
            "width": null
          }
        },
        "03ec6d93d9374d7f9ab7a24a7c9cc228": {
          "model_module": "@jupyter-widgets/base",
          "model_name": "LayoutModel",
          "model_module_version": "1.2.0",
          "state": {
            "_model_module": "@jupyter-widgets/base",
            "_model_module_version": "1.2.0",
            "_model_name": "LayoutModel",
            "_view_count": null,
            "_view_module": "@jupyter-widgets/base",
            "_view_module_version": "1.2.0",
            "_view_name": "LayoutView",
            "align_content": null,
            "align_items": null,
            "align_self": null,
            "border": null,
            "bottom": null,
            "display": null,
            "flex": null,
            "flex_flow": null,
            "grid_area": null,
            "grid_auto_columns": null,
            "grid_auto_flow": null,
            "grid_auto_rows": null,
            "grid_column": null,
            "grid_gap": null,
            "grid_row": null,
            "grid_template_areas": null,
            "grid_template_columns": null,
            "grid_template_rows": null,
            "height": null,
            "justify_content": null,
            "justify_items": null,
            "left": null,
            "margin": null,
            "max_height": null,
            "max_width": null,
            "min_height": null,
            "min_width": null,
            "object_fit": null,
            "object_position": null,
            "order": null,
            "overflow": null,
            "overflow_x": null,
            "overflow_y": null,
            "padding": null,
            "right": null,
            "top": null,
            "visibility": null,
            "width": null
          }
        },
        "8ac1d69b7fc34280b512f0f5f5f3d3ce": {
          "model_module": "@jupyter-widgets/controls",
          "model_name": "DescriptionStyleModel",
          "model_module_version": "1.5.0",
          "state": {
            "_model_module": "@jupyter-widgets/controls",
            "_model_module_version": "1.5.0",
            "_model_name": "DescriptionStyleModel",
            "_view_count": null,
            "_view_module": "@jupyter-widgets/base",
            "_view_module_version": "1.2.0",
            "_view_name": "StyleView",
            "description_width": ""
          }
        },
        "47f9d7c616e54ef2939464fd29e08f71": {
          "model_module": "@jupyter-widgets/base",
          "model_name": "LayoutModel",
          "model_module_version": "1.2.0",
          "state": {
            "_model_module": "@jupyter-widgets/base",
            "_model_module_version": "1.2.0",
            "_model_name": "LayoutModel",
            "_view_count": null,
            "_view_module": "@jupyter-widgets/base",
            "_view_module_version": "1.2.0",
            "_view_name": "LayoutView",
            "align_content": null,
            "align_items": null,
            "align_self": null,
            "border": null,
            "bottom": null,
            "display": null,
            "flex": null,
            "flex_flow": null,
            "grid_area": null,
            "grid_auto_columns": null,
            "grid_auto_flow": null,
            "grid_auto_rows": null,
            "grid_column": null,
            "grid_gap": null,
            "grid_row": null,
            "grid_template_areas": null,
            "grid_template_columns": null,
            "grid_template_rows": null,
            "height": null,
            "justify_content": null,
            "justify_items": null,
            "left": null,
            "margin": null,
            "max_height": null,
            "max_width": null,
            "min_height": null,
            "min_width": null,
            "object_fit": null,
            "object_position": null,
            "order": null,
            "overflow": null,
            "overflow_x": null,
            "overflow_y": null,
            "padding": null,
            "right": null,
            "top": null,
            "visibility": null,
            "width": null
          }
        },
        "7d1775433d364138a78e29875e41466c": {
          "model_module": "@jupyter-widgets/controls",
          "model_name": "ProgressStyleModel",
          "model_module_version": "1.5.0",
          "state": {
            "_model_module": "@jupyter-widgets/controls",
            "_model_module_version": "1.5.0",
            "_model_name": "ProgressStyleModel",
            "_view_count": null,
            "_view_module": "@jupyter-widgets/base",
            "_view_module_version": "1.2.0",
            "_view_name": "StyleView",
            "bar_color": null,
            "description_width": ""
          }
        },
        "bf1474ad7fc943858ed51ea573359941": {
          "model_module": "@jupyter-widgets/base",
          "model_name": "LayoutModel",
          "model_module_version": "1.2.0",
          "state": {
            "_model_module": "@jupyter-widgets/base",
            "_model_module_version": "1.2.0",
            "_model_name": "LayoutModel",
            "_view_count": null,
            "_view_module": "@jupyter-widgets/base",
            "_view_module_version": "1.2.0",
            "_view_name": "LayoutView",
            "align_content": null,
            "align_items": null,
            "align_self": null,
            "border": null,
            "bottom": null,
            "display": null,
            "flex": null,
            "flex_flow": null,
            "grid_area": null,
            "grid_auto_columns": null,
            "grid_auto_flow": null,
            "grid_auto_rows": null,
            "grid_column": null,
            "grid_gap": null,
            "grid_row": null,
            "grid_template_areas": null,
            "grid_template_columns": null,
            "grid_template_rows": null,
            "height": null,
            "justify_content": null,
            "justify_items": null,
            "left": null,
            "margin": null,
            "max_height": null,
            "max_width": null,
            "min_height": null,
            "min_width": null,
            "object_fit": null,
            "object_position": null,
            "order": null,
            "overflow": null,
            "overflow_x": null,
            "overflow_y": null,
            "padding": null,
            "right": null,
            "top": null,
            "visibility": null,
            "width": null
          }
        },
        "a1438586c1604fb5b5a874c7bc8cb041": {
          "model_module": "@jupyter-widgets/controls",
          "model_name": "DescriptionStyleModel",
          "model_module_version": "1.5.0",
          "state": {
            "_model_module": "@jupyter-widgets/controls",
            "_model_module_version": "1.5.0",
            "_model_name": "DescriptionStyleModel",
            "_view_count": null,
            "_view_module": "@jupyter-widgets/base",
            "_view_module_version": "1.2.0",
            "_view_name": "StyleView",
            "description_width": ""
          }
        },
        "6613cca8769b416ab6733a2eb8bc27ef": {
          "model_module": "@jupyter-widgets/controls",
          "model_name": "HBoxModel",
          "model_module_version": "1.5.0",
          "state": {
            "_dom_classes": [],
            "_model_module": "@jupyter-widgets/controls",
            "_model_module_version": "1.5.0",
            "_model_name": "HBoxModel",
            "_view_count": null,
            "_view_module": "@jupyter-widgets/controls",
            "_view_module_version": "1.5.0",
            "_view_name": "HBoxView",
            "box_style": "",
            "children": [
              "IPY_MODEL_96bdf5e8d2fe4ebaa6af501b243cbd31",
              "IPY_MODEL_7634e7317e5d4878bb41e74595a08ff2",
              "IPY_MODEL_2ee3a96a9bf243908e2d3831c12fe0b8"
            ],
            "layout": "IPY_MODEL_d3c59922048a4401863e6aae30a490bd"
          }
        },
        "96bdf5e8d2fe4ebaa6af501b243cbd31": {
          "model_module": "@jupyter-widgets/controls",
          "model_name": "HTMLModel",
          "model_module_version": "1.5.0",
          "state": {
            "_dom_classes": [],
            "_model_module": "@jupyter-widgets/controls",
            "_model_module_version": "1.5.0",
            "_model_name": "HTMLModel",
            "_view_count": null,
            "_view_module": "@jupyter-widgets/controls",
            "_view_module_version": "1.5.0",
            "_view_name": "HTMLView",
            "description": "",
            "description_tooltip": null,
            "layout": "IPY_MODEL_fbdc3d6a7d5a419cbf6e3009bd56d139",
            "placeholder": "​",
            "style": "IPY_MODEL_83443220ed49417e886903a6cc0423cc",
            "value": "Downloading: 100%"
          }
        },
        "7634e7317e5d4878bb41e74595a08ff2": {
          "model_module": "@jupyter-widgets/controls",
          "model_name": "FloatProgressModel",
          "model_module_version": "1.5.0",
          "state": {
            "_dom_classes": [],
            "_model_module": "@jupyter-widgets/controls",
            "_model_module_version": "1.5.0",
            "_model_name": "FloatProgressModel",
            "_view_count": null,
            "_view_module": "@jupyter-widgets/controls",
            "_view_module_version": "1.5.0",
            "_view_name": "ProgressView",
            "bar_style": "success",
            "description": "",
            "description_tooltip": null,
            "layout": "IPY_MODEL_80f31ee4fb8045898112f94be56193fe",
            "max": 892146080,
            "min": 0,
            "orientation": "horizontal",
            "style": "IPY_MODEL_ec4637646323445a8a9d25e9014fe57e",
            "value": 892146080
          }
        },
        "2ee3a96a9bf243908e2d3831c12fe0b8": {
          "model_module": "@jupyter-widgets/controls",
          "model_name": "HTMLModel",
          "model_module_version": "1.5.0",
          "state": {
            "_dom_classes": [],
            "_model_module": "@jupyter-widgets/controls",
            "_model_module_version": "1.5.0",
            "_model_name": "HTMLModel",
            "_view_count": null,
            "_view_module": "@jupyter-widgets/controls",
            "_view_module_version": "1.5.0",
            "_view_name": "HTMLView",
            "description": "",
            "description_tooltip": null,
            "layout": "IPY_MODEL_16091e60f1894a8ba316b2e2b57478d6",
            "placeholder": "​",
            "style": "IPY_MODEL_e5cf48056d8643699a26fec4dbb4a257",
            "value": " 892M/892M [00:21&lt;00:00, 43.7MB/s]"
          }
        },
        "d3c59922048a4401863e6aae30a490bd": {
          "model_module": "@jupyter-widgets/base",
          "model_name": "LayoutModel",
          "model_module_version": "1.2.0",
          "state": {
            "_model_module": "@jupyter-widgets/base",
            "_model_module_version": "1.2.0",
            "_model_name": "LayoutModel",
            "_view_count": null,
            "_view_module": "@jupyter-widgets/base",
            "_view_module_version": "1.2.0",
            "_view_name": "LayoutView",
            "align_content": null,
            "align_items": null,
            "align_self": null,
            "border": null,
            "bottom": null,
            "display": null,
            "flex": null,
            "flex_flow": null,
            "grid_area": null,
            "grid_auto_columns": null,
            "grid_auto_flow": null,
            "grid_auto_rows": null,
            "grid_column": null,
            "grid_gap": null,
            "grid_row": null,
            "grid_template_areas": null,
            "grid_template_columns": null,
            "grid_template_rows": null,
            "height": null,
            "justify_content": null,
            "justify_items": null,
            "left": null,
            "margin": null,
            "max_height": null,
            "max_width": null,
            "min_height": null,
            "min_width": null,
            "object_fit": null,
            "object_position": null,
            "order": null,
            "overflow": null,
            "overflow_x": null,
            "overflow_y": null,
            "padding": null,
            "right": null,
            "top": null,
            "visibility": null,
            "width": null
          }
        },
        "fbdc3d6a7d5a419cbf6e3009bd56d139": {
          "model_module": "@jupyter-widgets/base",
          "model_name": "LayoutModel",
          "model_module_version": "1.2.0",
          "state": {
            "_model_module": "@jupyter-widgets/base",
            "_model_module_version": "1.2.0",
            "_model_name": "LayoutModel",
            "_view_count": null,
            "_view_module": "@jupyter-widgets/base",
            "_view_module_version": "1.2.0",
            "_view_name": "LayoutView",
            "align_content": null,
            "align_items": null,
            "align_self": null,
            "border": null,
            "bottom": null,
            "display": null,
            "flex": null,
            "flex_flow": null,
            "grid_area": null,
            "grid_auto_columns": null,
            "grid_auto_flow": null,
            "grid_auto_rows": null,
            "grid_column": null,
            "grid_gap": null,
            "grid_row": null,
            "grid_template_areas": null,
            "grid_template_columns": null,
            "grid_template_rows": null,
            "height": null,
            "justify_content": null,
            "justify_items": null,
            "left": null,
            "margin": null,
            "max_height": null,
            "max_width": null,
            "min_height": null,
            "min_width": null,
            "object_fit": null,
            "object_position": null,
            "order": null,
            "overflow": null,
            "overflow_x": null,
            "overflow_y": null,
            "padding": null,
            "right": null,
            "top": null,
            "visibility": null,
            "width": null
          }
        },
        "83443220ed49417e886903a6cc0423cc": {
          "model_module": "@jupyter-widgets/controls",
          "model_name": "DescriptionStyleModel",
          "model_module_version": "1.5.0",
          "state": {
            "_model_module": "@jupyter-widgets/controls",
            "_model_module_version": "1.5.0",
            "_model_name": "DescriptionStyleModel",
            "_view_count": null,
            "_view_module": "@jupyter-widgets/base",
            "_view_module_version": "1.2.0",
            "_view_name": "StyleView",
            "description_width": ""
          }
        },
        "80f31ee4fb8045898112f94be56193fe": {
          "model_module": "@jupyter-widgets/base",
          "model_name": "LayoutModel",
          "model_module_version": "1.2.0",
          "state": {
            "_model_module": "@jupyter-widgets/base",
            "_model_module_version": "1.2.0",
            "_model_name": "LayoutModel",
            "_view_count": null,
            "_view_module": "@jupyter-widgets/base",
            "_view_module_version": "1.2.0",
            "_view_name": "LayoutView",
            "align_content": null,
            "align_items": null,
            "align_self": null,
            "border": null,
            "bottom": null,
            "display": null,
            "flex": null,
            "flex_flow": null,
            "grid_area": null,
            "grid_auto_columns": null,
            "grid_auto_flow": null,
            "grid_auto_rows": null,
            "grid_column": null,
            "grid_gap": null,
            "grid_row": null,
            "grid_template_areas": null,
            "grid_template_columns": null,
            "grid_template_rows": null,
            "height": null,
            "justify_content": null,
            "justify_items": null,
            "left": null,
            "margin": null,
            "max_height": null,
            "max_width": null,
            "min_height": null,
            "min_width": null,
            "object_fit": null,
            "object_position": null,
            "order": null,
            "overflow": null,
            "overflow_x": null,
            "overflow_y": null,
            "padding": null,
            "right": null,
            "top": null,
            "visibility": null,
            "width": null
          }
        },
        "ec4637646323445a8a9d25e9014fe57e": {
          "model_module": "@jupyter-widgets/controls",
          "model_name": "ProgressStyleModel",
          "model_module_version": "1.5.0",
          "state": {
            "_model_module": "@jupyter-widgets/controls",
            "_model_module_version": "1.5.0",
            "_model_name": "ProgressStyleModel",
            "_view_count": null,
            "_view_module": "@jupyter-widgets/base",
            "_view_module_version": "1.2.0",
            "_view_name": "StyleView",
            "bar_color": null,
            "description_width": ""
          }
        },
        "16091e60f1894a8ba316b2e2b57478d6": {
          "model_module": "@jupyter-widgets/base",
          "model_name": "LayoutModel",
          "model_module_version": "1.2.0",
          "state": {
            "_model_module": "@jupyter-widgets/base",
            "_model_module_version": "1.2.0",
            "_model_name": "LayoutModel",
            "_view_count": null,
            "_view_module": "@jupyter-widgets/base",
            "_view_module_version": "1.2.0",
            "_view_name": "LayoutView",
            "align_content": null,
            "align_items": null,
            "align_self": null,
            "border": null,
            "bottom": null,
            "display": null,
            "flex": null,
            "flex_flow": null,
            "grid_area": null,
            "grid_auto_columns": null,
            "grid_auto_flow": null,
            "grid_auto_rows": null,
            "grid_column": null,
            "grid_gap": null,
            "grid_row": null,
            "grid_template_areas": null,
            "grid_template_columns": null,
            "grid_template_rows": null,
            "height": null,
            "justify_content": null,
            "justify_items": null,
            "left": null,
            "margin": null,
            "max_height": null,
            "max_width": null,
            "min_height": null,
            "min_width": null,
            "object_fit": null,
            "object_position": null,
            "order": null,
            "overflow": null,
            "overflow_x": null,
            "overflow_y": null,
            "padding": null,
            "right": null,
            "top": null,
            "visibility": null,
            "width": null
          }
        },
        "e5cf48056d8643699a26fec4dbb4a257": {
          "model_module": "@jupyter-widgets/controls",
          "model_name": "DescriptionStyleModel",
          "model_module_version": "1.5.0",
          "state": {
            "_model_module": "@jupyter-widgets/controls",
            "_model_module_version": "1.5.0",
            "_model_name": "DescriptionStyleModel",
            "_view_count": null,
            "_view_module": "@jupyter-widgets/base",
            "_view_module_version": "1.2.0",
            "_view_name": "StyleView",
            "description_width": ""
          }
        }
      }
    }
  },
  "nbformat": 4,
  "nbformat_minor": 0
}