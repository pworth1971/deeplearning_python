{
  "nbformat": 4,
  "nbformat_minor": 0,
  "metadata": {
    "kernelspec": {
      "display_name": "Python 3",
      "language": "python",
      "name": "python3"
    },
    "language_info": {
      "codemirror_mode": {
        "name": "ipython",
        "version": 3
      },
      "file_extension": ".py",
      "mimetype": "text/x-python",
      "name": "python",
      "nbconvert_exporter": "python",
      "pygments_lexer": "ipython3",
      "version": "3.6.5"
    },
    "colab": {
      "name": "PJW CAP6619_A2_FULL_06132022.ipynb",
      "provenance": [],
      "collapsed_sections": [
        "64vzjBATxh6n",
        "DowlbY9Sxh6n"
      ],
      "toc_visible": true
    }
  },
  "cells": [
    {
      "cell_type": "markdown",
      "metadata": {
        "id": "Whf_8TEO-6qX"
      },
      "source": [
        "# CAP 6619 - Deep Learning\n",
        "## Summer 2022 - Dr Marques\n",
        "## Project 2\n",
        "\n",
        "Deep learning solutions for: \n",
        "- Binary classification of movie reviews using the IMDB dataset\n",
        "- Multiclass classification of newswires using the Reuters dataset\n",
        "- Regression for house price estimation using the Boston Housing Price dataset"
      ]
    },
    {
      "cell_type": "markdown",
      "metadata": {
        "id": "32AXUOrLxvoD"
      },
      "source": [
        "Useful references and sources:\n",
        "\n",
        "- https://keras.io/api/datasets/imdb/\n",
        "- https://www.tensorflow.org/datasets/catalog/imdb_reviews\n",
        "- https://www.tensorflow.org/tutorials/keras/text_classification_with_hub\n",
        "- https://colab.research.google.com/github/fchollet/deep-learning-with-python-notebooks/blob/master/chapter04_getting-started-with-neural-networks.ipynb \n",
        "- https://developers.google.com/machine-learning/guides/text-classification/\n",
        "- https://machinelearningmastery.com/sequence-classification-lstm-recurrent-neural-networks-python-keras/"
      ]
    },
    {
      "cell_type": "markdown",
      "metadata": {
        "id": "o_i0NIxeykr0"
      },
      "source": [
        "#### (OPTIONAL) TODO 1\n",
        "\n",
        "Add your own sources and references here.\n",
        "\n",
        "- https://ml-cheatsheet.readthedocs.io/en/latest/index.html\n"
      ]
    },
    {
      "cell_type": "markdown",
      "metadata": {
        "id": "2u-hfaHC-6qb"
      },
      "source": [
        "## Setup"
      ]
    },
    {
      "cell_type": "code",
      "metadata": {
        "id": "1H7CSr4a-6qb"
      },
      "source": [
        "from tensorflow import keras\n",
        "from keras.datasets import mnist\n",
        "from keras.models import Sequential\n",
        "from keras.layers import Dense\n",
        "from tensorflow.keras.optimizers import SGD\n",
        "from tensorflow.keras import layers\n",
        "from matplotlib import pyplot as plt\n",
        "import numpy as np"
      ],
      "execution_count": 1,
      "outputs": []
    },
    {
      "cell_type": "markdown",
      "metadata": {
        "id": "BEn1cfWJ-6rH"
      },
      "source": [
        "## PART 1 - Binary classification of movie reviews using the IMDB dataset\n",
        "\n",
        "We will start with a simple solution using a fully-connected neural network architecture. "
      ]
    },
    {
      "cell_type": "markdown",
      "metadata": {
        "id": "dxNd2jV5-6qg"
      },
      "source": [
        "### Load and prepare the data"
      ]
    },
    {
      "cell_type": "code",
      "metadata": {
        "id": "EgbHPf85SWy8",
        "colab": {
          "base_uri": "https://localhost:8080/"
        },
        "outputId": "14c87ccb-e9fb-4219-fe05-5d9b9afe0084"
      },
      "source": [
        "from tensorflow.keras.datasets import imdb\n",
        "(train_data, train_labels), (test_data, test_labels) = imdb.load_data(\n",
        "    num_words=10000)"
      ],
      "execution_count": 2,
      "outputs": [
        {
          "output_type": "stream",
          "name": "stdout",
          "text": [
            "Downloading data from https://storage.googleapis.com/tensorflow/tf-keras-datasets/imdb.npz\n",
            "17465344/17464789 [==============================] - 0s 0us/step\n",
            "17473536/17464789 [==============================] - 0s 0us/step\n"
          ]
        }
      ]
    },
    {
      "cell_type": "code",
      "metadata": {
        "id": "Gm-ng4uVSWy9",
        "colab": {
          "base_uri": "https://localhost:8080/"
        },
        "outputId": "70ec822d-9784-4f80-f68e-83eec14690fa"
      },
      "source": [
        "train_data[0]"
      ],
      "execution_count": 3,
      "outputs": [
        {
          "output_type": "execute_result",
          "data": {
            "text/plain": [
              "[1,\n",
              " 14,\n",
              " 22,\n",
              " 16,\n",
              " 43,\n",
              " 530,\n",
              " 973,\n",
              " 1622,\n",
              " 1385,\n",
              " 65,\n",
              " 458,\n",
              " 4468,\n",
              " 66,\n",
              " 3941,\n",
              " 4,\n",
              " 173,\n",
              " 36,\n",
              " 256,\n",
              " 5,\n",
              " 25,\n",
              " 100,\n",
              " 43,\n",
              " 838,\n",
              " 112,\n",
              " 50,\n",
              " 670,\n",
              " 2,\n",
              " 9,\n",
              " 35,\n",
              " 480,\n",
              " 284,\n",
              " 5,\n",
              " 150,\n",
              " 4,\n",
              " 172,\n",
              " 112,\n",
              " 167,\n",
              " 2,\n",
              " 336,\n",
              " 385,\n",
              " 39,\n",
              " 4,\n",
              " 172,\n",
              " 4536,\n",
              " 1111,\n",
              " 17,\n",
              " 546,\n",
              " 38,\n",
              " 13,\n",
              " 447,\n",
              " 4,\n",
              " 192,\n",
              " 50,\n",
              " 16,\n",
              " 6,\n",
              " 147,\n",
              " 2025,\n",
              " 19,\n",
              " 14,\n",
              " 22,\n",
              " 4,\n",
              " 1920,\n",
              " 4613,\n",
              " 469,\n",
              " 4,\n",
              " 22,\n",
              " 71,\n",
              " 87,\n",
              " 12,\n",
              " 16,\n",
              " 43,\n",
              " 530,\n",
              " 38,\n",
              " 76,\n",
              " 15,\n",
              " 13,\n",
              " 1247,\n",
              " 4,\n",
              " 22,\n",
              " 17,\n",
              " 515,\n",
              " 17,\n",
              " 12,\n",
              " 16,\n",
              " 626,\n",
              " 18,\n",
              " 2,\n",
              " 5,\n",
              " 62,\n",
              " 386,\n",
              " 12,\n",
              " 8,\n",
              " 316,\n",
              " 8,\n",
              " 106,\n",
              " 5,\n",
              " 4,\n",
              " 2223,\n",
              " 5244,\n",
              " 16,\n",
              " 480,\n",
              " 66,\n",
              " 3785,\n",
              " 33,\n",
              " 4,\n",
              " 130,\n",
              " 12,\n",
              " 16,\n",
              " 38,\n",
              " 619,\n",
              " 5,\n",
              " 25,\n",
              " 124,\n",
              " 51,\n",
              " 36,\n",
              " 135,\n",
              " 48,\n",
              " 25,\n",
              " 1415,\n",
              " 33,\n",
              " 6,\n",
              " 22,\n",
              " 12,\n",
              " 215,\n",
              " 28,\n",
              " 77,\n",
              " 52,\n",
              " 5,\n",
              " 14,\n",
              " 407,\n",
              " 16,\n",
              " 82,\n",
              " 2,\n",
              " 8,\n",
              " 4,\n",
              " 107,\n",
              " 117,\n",
              " 5952,\n",
              " 15,\n",
              " 256,\n",
              " 4,\n",
              " 2,\n",
              " 7,\n",
              " 3766,\n",
              " 5,\n",
              " 723,\n",
              " 36,\n",
              " 71,\n",
              " 43,\n",
              " 530,\n",
              " 476,\n",
              " 26,\n",
              " 400,\n",
              " 317,\n",
              " 46,\n",
              " 7,\n",
              " 4,\n",
              " 2,\n",
              " 1029,\n",
              " 13,\n",
              " 104,\n",
              " 88,\n",
              " 4,\n",
              " 381,\n",
              " 15,\n",
              " 297,\n",
              " 98,\n",
              " 32,\n",
              " 2071,\n",
              " 56,\n",
              " 26,\n",
              " 141,\n",
              " 6,\n",
              " 194,\n",
              " 7486,\n",
              " 18,\n",
              " 4,\n",
              " 226,\n",
              " 22,\n",
              " 21,\n",
              " 134,\n",
              " 476,\n",
              " 26,\n",
              " 480,\n",
              " 5,\n",
              " 144,\n",
              " 30,\n",
              " 5535,\n",
              " 18,\n",
              " 51,\n",
              " 36,\n",
              " 28,\n",
              " 224,\n",
              " 92,\n",
              " 25,\n",
              " 104,\n",
              " 4,\n",
              " 226,\n",
              " 65,\n",
              " 16,\n",
              " 38,\n",
              " 1334,\n",
              " 88,\n",
              " 12,\n",
              " 16,\n",
              " 283,\n",
              " 5,\n",
              " 16,\n",
              " 4472,\n",
              " 113,\n",
              " 103,\n",
              " 32,\n",
              " 15,\n",
              " 16,\n",
              " 5345,\n",
              " 19,\n",
              " 178,\n",
              " 32]"
            ]
          },
          "metadata": {},
          "execution_count": 3
        }
      ]
    },
    {
      "cell_type": "code",
      "metadata": {
        "id": "T_UQLHcbSWy9",
        "colab": {
          "base_uri": "https://localhost:8080/"
        },
        "outputId": "76a4011e-c983-47ae-eec9-77bf210e00a6"
      },
      "source": [
        "train_labels[0]"
      ],
      "execution_count": 4,
      "outputs": [
        {
          "output_type": "execute_result",
          "data": {
            "text/plain": [
              "1"
            ]
          },
          "metadata": {},
          "execution_count": 4
        }
      ]
    },
    {
      "cell_type": "code",
      "metadata": {
        "id": "OkzPHbDISWy-",
        "colab": {
          "base_uri": "https://localhost:8080/"
        },
        "outputId": "23c558f0-5008-475d-d126-2367a94c9118"
      },
      "source": [
        "max([max(sequence) for sequence in train_data])"
      ],
      "execution_count": 5,
      "outputs": [
        {
          "output_type": "execute_result",
          "data": {
            "text/plain": [
              "9999"
            ]
          },
          "metadata": {},
          "execution_count": 5
        }
      ]
    },
    {
      "cell_type": "markdown",
      "metadata": {
        "id": "a14ENstYSWy-"
      },
      "source": [
        "### Decoding reviews back to text"
      ]
    },
    {
      "cell_type": "code",
      "metadata": {
        "id": "a1t1h2AgSWy-",
        "colab": {
          "base_uri": "https://localhost:8080/"
        },
        "outputId": "91910792-8b01-4fbc-d2fc-810135dc55e8"
      },
      "source": [
        "word_index = imdb.get_word_index()\n",
        "reverse_word_index = dict(\n",
        "    [(value, key) for (key, value) in word_index.items()])\n",
        "decoded_review = \" \".join(\n",
        "    [reverse_word_index.get(i - 3, \"?\") for i in train_data[0]])"
      ],
      "execution_count": 6,
      "outputs": [
        {
          "output_type": "stream",
          "name": "stdout",
          "text": [
            "Downloading data from https://storage.googleapis.com/tensorflow/tf-keras-datasets/imdb_word_index.json\n",
            "1646592/1641221 [==============================] - 0s 0us/step\n",
            "1654784/1641221 [==============================] - 0s 0us/step\n"
          ]
        }
      ]
    },
    {
      "cell_type": "markdown",
      "metadata": {
        "id": "w9hkDy4ESWy_"
      },
      "source": [
        "### Preparing the data"
      ]
    },
    {
      "cell_type": "markdown",
      "metadata": {
        "id": "Qjq7wFSISWy_"
      },
      "source": [
        "#### Encoding the integer sequences via multi-hot encoding"
      ]
    },
    {
      "cell_type": "code",
      "metadata": {
        "id": "nZD-izxWSWy_"
      },
      "source": [
        "#\n",
        "# Because neural networks cannot deal with integers natively (they are of different sizes), \n",
        "# we must convert the train_data list of integers (each of which map to actual words) instead to \n",
        "# to a list of Vectors, where each Vector is 10,000 elements, one element for each possible word\n",
        "# [note that there are a maximum of 10,000 words available that we are parsing here].  \n",
        "# So instead of having a Vector of say 100 integers, each represnting one word, we have a \n",
        "# Vector of 100 Vectors where each Vector is 10,000 elements, with a 1 for an element of the \n",
        "# given word, and a 0 for all other word entries. This is called 'multi-hot encoding' and \n",
        "# is the result of the vectorize_sequences function above and again is necessary because\n",
        "# neural networks need to deal with underlying data that is the same 'size'\n",
        "#\n",
        "import numpy as np\n",
        "\n",
        "def vectorize_sequences(sequences, dimension=10000):\n",
        "    results = np.zeros((len(sequences), dimension))\n",
        "\n",
        "    for i, sequence in enumerate(sequences):\n",
        "\n",
        "        for j in sequence:\n",
        "            results[i, j] = 1.\n",
        "\n",
        "    return results\n",
        "\n",
        "x_train = vectorize_sequences(train_data)\n",
        "x_test = vectorize_sequences(test_data)"
      ],
      "execution_count": 7,
      "outputs": []
    },
    {
      "cell_type": "code",
      "source": [
        "x_train[0]"
      ],
      "metadata": {
        "colab": {
          "base_uri": "https://localhost:8080/"
        },
        "id": "hOgyn-3vByAN",
        "outputId": "dc87e340-e59a-4381-d621-2576ec7a7869"
      },
      "execution_count": 8,
      "outputs": [
        {
          "output_type": "execute_result",
          "data": {
            "text/plain": [
              "array([0., 1., 1., ..., 0., 0., 0.])"
            ]
          },
          "metadata": {},
          "execution_count": 8
        }
      ]
    },
    {
      "cell_type": "code",
      "metadata": {
        "id": "RBzY7qPASWy_",
        "colab": {
          "base_uri": "https://localhost:8080/"
        },
        "outputId": "8ff51f96-e1b4-4b6a-bb03-5eb5e147676f"
      },
      "source": [
        "y_train = np.asarray(train_labels).astype(\"float32\")\n",
        "y_test = np.asarray(test_labels).astype(\"float32\")\n",
        "\n",
        "print(\"first 10 elements of y_train data:\")\n",
        "for k in range(0, 10):\n",
        "  print(y_train[k])\n",
        "\n",
        "print()\n",
        "\n",
        "print(\"first 10 elements of y_test data:\")\n",
        "for l in range(0, 10):\n",
        "  print(y_test[l])\n",
        "\n",
        "print()"
      ],
      "execution_count": 9,
      "outputs": [
        {
          "output_type": "stream",
          "name": "stdout",
          "text": [
            "first 10 elements of y_train data:\n",
            "1.0\n",
            "0.0\n",
            "0.0\n",
            "1.0\n",
            "0.0\n",
            "0.0\n",
            "1.0\n",
            "0.0\n",
            "1.0\n",
            "0.0\n",
            "\n",
            "first 10 elements of y_test data:\n",
            "0.0\n",
            "1.0\n",
            "1.0\n",
            "0.0\n",
            "1.0\n",
            "1.0\n",
            "1.0\n",
            "0.0\n",
            "0.0\n",
            "1.0\n",
            "\n"
          ]
        }
      ]
    },
    {
      "cell_type": "markdown",
      "metadata": {
        "id": "96PvZIXicgJu"
      },
      "source": [
        "### (OPTIONAL) TODO 2\n",
        "\n",
        "Write code to show two examples of reviews (in plain text), one labeled as _positive_, another labeled as _negative_."
      ]
    },
    {
      "cell_type": "code",
      "source": [
        "##############################################################################\n",
        "# print_review()\n",
        "# \n",
        "# we define a function here to decide the text and print it\n",
        "# code modified from Deep Learning with Python text (page 98 Listing 4.2)\n",
        "# text formatting code from  http://pymotw.com/2/textwrap/\n",
        "# \n",
        "##############################################################################\n",
        "def print_review(data, index):\n",
        "\n",
        "  word_index = imdb.get_word_index()      # word index is a dictionary mapping words to integer index.\n",
        "                                  \n",
        "  reverse_word_index = dict(              # reverses it, mapping integer indices to words\n",
        "      [(value, key) for (key, value) in word_index.items()])            \n",
        "\n",
        "  # decodes the review in data[index] \n",
        "  # Note that the indices are offset by 3 because 0, 1, and 2 are \n",
        "  # reserved indices for \"padding\", \"start of sequence\", and \"unknown\"\n",
        "  decoded_review = \" \".join(        \n",
        "    [reverse_word_index.get(i - 3, \"?\") for i in data[index]])          \n",
        "\n",
        "  # let's format the review text so it is readable so we\n",
        "  # double check that the label is correct (1 for positive and 0 for negative)\n",
        "  import textwrap \n",
        "\n",
        "  print(\"review at data index[\", index, \"]\")  \n",
        "  print(textwrap.fill(decoded_review))\n",
        "  print()"
      ],
      "metadata": {
        "id": "EEnV06D_yV6u"
      },
      "execution_count": 10,
      "outputs": []
    },
    {
      "cell_type": "code",
      "source": [
        "#############################################################################\n",
        "#\n",
        "# We define a DYNAMIC ARRAY CLASS \n",
        "# [Similar to Python List except can be indexed]\n",
        "# so that we can manage the reviews.\n",
        "#\n",
        "# Code sourced from:\n",
        "# https://www.geeksforgeeks.org/implementation-of-dynamic-array-in-python/\n",
        "#   \n",
        "#############################################################################    \n",
        "\n",
        "import ctypes\n",
        "  \n",
        "class DynamicArray(object):\n",
        "\n",
        "  #\n",
        "  # initialize array\n",
        "  #\n",
        "  def __init__(self):\n",
        "    self.n = 0 # Count actual elements (Default is 0)\n",
        "    self.capacity = 1 # Default Capacity\n",
        "    self.A = self.make_array(self.capacity)\n",
        "\n",
        "  #\n",
        "  # Return number of elements sorted in array\n",
        "  #\n",
        "  def __len__(self):\n",
        "    return self.n\n",
        "\n",
        "  #\n",
        "  # Return element at index k    \n",
        "  #\n",
        "  def __getitem__(self, k):\n",
        "    if not 0 <= k <self.n:                      # Check it k index is in bounds of array\n",
        "      return IndexError('K is out of bounds !')      \n",
        "\n",
        "    return self.A[k] # Retrieve from the array at index k\n",
        "          \n",
        "  #\n",
        "  # Add element to end of the array\n",
        "  #\n",
        "  def append(self, ele):\n",
        "    if self.n == self.capacity:\n",
        "      self._resize(2 * self.capacity)     # Double capacity if not enough room\n",
        "\n",
        "    self.A[self.n] = ele # Set self.n index to element\n",
        "    self.n += 1\n",
        "  \n",
        "  #\n",
        "  # This function inserts the item at any specified index.\n",
        "  #\n",
        "  def insertAt(self,item,index):\n",
        "    if index<0 or index>self.n:\n",
        "      print(\"please enter appropriate index..\")\n",
        "      return\n",
        "          \n",
        "    if self.n==self.capacity:\n",
        "      self._resize(2*self.capacity)\n",
        "      \n",
        "    for i in range(self.n-1,index-1,-1):\n",
        "      self.A[i+1]=self.A[i]\n",
        "              \n",
        "    self.A[index]=item\n",
        "    self.n+=1\n",
        "  \n",
        "  #\n",
        "  # This function deletes item from the end of array\n",
        "  #\n",
        "  def delete(self):\n",
        "    if self.n==0:\n",
        "      print(\"Array is empty deletion not Possible\")\n",
        "      return\n",
        "          \n",
        "    self.A[self.n-1]=0\n",
        "    self.n-=1\n",
        "                \n",
        "  #    \n",
        "  # This function deletes item from a specified index\n",
        "  # \n",
        "  def removeAt(self,index):\n",
        "    if self.n==0:\n",
        "      print(\"Array is empty deletion not Possible\")\n",
        "      return\n",
        "                  \n",
        "    if index<0 or index>=self.n:\n",
        "      return IndexError(\"Index out of bound....deletion not possible\")        \n",
        "    \n",
        "    if index==self.n-1:\n",
        "      self.A[index]=0\n",
        "      self.n-=1\n",
        "      return        \n",
        "    \n",
        "    for i in range(index,self.n-1):\n",
        "      self.A[i]=self.A[i+1]            \n",
        "    \n",
        "    self.A[self.n-1]=0\n",
        "    self.n-=1\n",
        "  \n",
        "  #\n",
        "  # Resize internal array to capacity new_cap\n",
        "  #           \n",
        "  def _resize(self, new_cap):\n",
        "    B = self.make_array(new_cap) # New bigger array\n",
        "    \n",
        "    for k in range(self.n): # Reference all existing values\n",
        "      B[k] = self.A[k]\n",
        "    \n",
        "    self.A = B # Call A the new bigger array\n",
        "    self.capacity = new_cap # Reset the capacity\n",
        "          \n",
        "  #\n",
        "  # Returns a new array with new_cap capacity\n",
        "  # \n",
        "  def make_array(self, new_cap):\n",
        "    return (new_cap * ctypes.py_object)()"
      ],
      "metadata": {
        "id": "27Yf6-Hik06a"
      },
      "execution_count": 11,
      "outputs": []
    },
    {
      "cell_type": "code",
      "source": [
        "######################################################################\n",
        "#\n",
        "# here we define a function that takes a data set, splits into\n",
        "# positive and negative reviews, and then prints out the top\n",
        "# 'count' reviews for each data set\n",
        "#\n",
        "# input: \n",
        "# text is the actual array of words/text\n",
        "# values is the arracy of predicted values (1 or 0 in this case)\n",
        "# count is the number to print\n",
        "# \n",
        "######################################################################\n",
        "\n",
        "def top_reviews(text, values, count):\n",
        "\n",
        "  positive_indeces = DynamicArray()\n",
        "  negative_indeces = DynamicArray()\n",
        "\n",
        "  # build positive index list  \n",
        "  for i in range(0, values.size):\n",
        "      if values[i] == 1:\n",
        "        positive_indeces.append(i)\n",
        "\n",
        "  # build negative index list\n",
        "  for j in range(0, values.size):\n",
        "      if values[j] == 0:\n",
        "        negative_indeces.append(j)\n",
        "\n",
        "  #\n",
        "  # print the positive reviews\n",
        "  # note this calls print_review which prints\n",
        "  # the text from the relevant index\n",
        "  #\n",
        "  print()\n",
        "  print(\"***********POSITIVE REVIEWS***********\")\n",
        "  print()\n",
        "\n",
        "  for p in range(0, count):\n",
        "    print_review(text, positive_indeces[p])\n",
        "\n",
        "  #\n",
        "  # print the negative reviews\n",
        "  # note this calls print_review which prints\n",
        "  # the text from the relevant index\n",
        "  print() \n",
        "  print(\"***********NEGATIVE REVIEWS***********\")\n",
        "  print()\n",
        "\n",
        "  for q in range (0, count):\n",
        "    print_review(text, negative_indeces[q])"
      ],
      "metadata": {
        "id": "RclId4Wb-t_S"
      },
      "execution_count": 12,
      "outputs": []
    },
    {
      "cell_type": "code",
      "source": [
        "###############################################################################\n",
        "#\n",
        "# now we will loop through training labels and find all \n",
        "# positive reviews and put them in a positive review list, and\n",
        "# then do the same for negative review list\n",
        "# \n",
        "# so we can look at the data and eyeball for correctness as needed \n",
        "# \n",
        "# sample array (sorry list) code from \n",
        "# https://www.tutorialspoint.com/implementation-of-dynamic-array-in-python\n",
        "# looks like this creates a dynamic list object in line\n",
        "# \n",
        "###############################################################################\n",
        "\n",
        "#positive_index_list = []\n",
        "#type (positive_index_list)\n",
        "\n",
        "positive_index_list = DynamicArray()\n",
        "\n",
        "top_reviews(train_data, train_labels, 3)"
      ],
      "metadata": {
        "colab": {
          "base_uri": "https://localhost:8080/"
        },
        "id": "VZOzd6frlT__",
        "outputId": "9e9ead4d-7354-400e-bea9-3950d172c341"
      },
      "execution_count": 13,
      "outputs": [
        {
          "output_type": "stream",
          "name": "stdout",
          "text": [
            "\n",
            "***********POSITIVE REVIEWS***********\n",
            "\n",
            "review at data index[ 0 ]\n",
            "? this film was just brilliant casting location scenery story\n",
            "direction everyone's really suited the part they played and you could\n",
            "just imagine being there robert ? is an amazing actor and now the same\n",
            "being director ? father came from the same scottish island as myself\n",
            "so i loved the fact there was a real connection with this film the\n",
            "witty remarks throughout the film were great it was just brilliant so\n",
            "much that i bought the film as soon as it was released for ? and would\n",
            "recommend it to everyone to watch and the fly fishing was amazing\n",
            "really cried at the end it was so sad and you know what they say if\n",
            "you cry at a film it must have been good and this definitely was also\n",
            "? to the two little boy's that played the ? of norman and paul they\n",
            "were just brilliant children are often left out of the ? list i think\n",
            "because the stars that play them all grown up are such a big profile\n",
            "for the whole film but these children are amazing and should be\n",
            "praised for what they have done don't you think the whole story was so\n",
            "lovely because it was true and was someone's life after all that was\n",
            "shared with us all\n",
            "\n",
            "review at data index[ 3 ]\n",
            "? the ? ? at storytelling the traditional sort many years after the\n",
            "event i can still see in my ? eye an elderly lady my friend's mother\n",
            "retelling the battle of ? she makes the characters come alive her\n",
            "passion is that of an eye witness one to the events on the ? heath a\n",
            "mile or so from where she lives br br of course it happened many years\n",
            "before she was born but you wouldn't guess from the way she tells it\n",
            "the same story is told in bars the length and ? of scotland as i\n",
            "discussed it with a friend one night in ? a local cut in to give his\n",
            "version the discussion continued to closing time br br stories passed\n",
            "down like this become part of our being who doesn't remember the\n",
            "stories our parents told us when we were children they become our\n",
            "invisible world and as we grow older they maybe still serve as\n",
            "inspiration or as an emotional ? fact and fiction blend with ? role\n",
            "models warning stories ? magic and mystery br br my name is ? like my\n",
            "grandfather and his grandfather before him our protagonist introduces\n",
            "himself to us and also introduces the story that stretches back\n",
            "through generations it produces stories within stories stories that\n",
            "evoke the ? wonder of scotland its rugged mountains ? in ? the stuff\n",
            "of legend yet ? is ? in reality this is what gives it its special\n",
            "charm it has a rough beauty and authenticity ? with some of the finest\n",
            "? singing you will ever hear br br ? ? visits his grandfather in\n",
            "hospital shortly before his death he burns with frustration part of\n",
            "him ? to be in the twenty first century to hang out in ? but he is\n",
            "raised on the western ? among a ? speaking community br br yet there\n",
            "is a deeper conflict within him he ? to know the truth the truth\n",
            "behind his ? ancient stories where does fiction end and he wants to\n",
            "know the truth behind the death of his parents br br he is pulled to\n",
            "make a last ? journey to the ? of one of ? most ? mountains can the\n",
            "truth be told or is it all in stories br br in this story about\n",
            "stories we ? bloody battles ? lovers the ? of old and the sometimes\n",
            "more ? ? of accepted truth in doing so we each connect with ? as he\n",
            "lives the story of his own life br br ? the ? ? is probably the most\n",
            "honest ? and genuinely beautiful film of scotland ever made like ? i\n",
            "got slightly annoyed with the ? of hanging stories on more stories but\n",
            "also like ? i ? this once i saw the ? picture ' forget the box office\n",
            "? of braveheart and its like you might even ? the ? famous ? of the\n",
            "wicker man to see a film that is true to scotland this one is probably\n",
            "unique if you maybe ? on it deeply enough you might even re ? the\n",
            "power of storytelling and the age old question of whether there are\n",
            "some truths that cannot be told but only experienced\n",
            "\n",
            "review at data index[ 6 ]\n",
            "? lavish production values and solid performances in this\n",
            "straightforward adaption of jane ? satirical classic about the\n",
            "marriage game within and between the classes in ? 18th century england\n",
            "northam and paltrow are a ? mixture as friends who must pass through ?\n",
            "and lies to discover that they love each other good humor is a ?\n",
            "virtue which goes a long way towards explaining the ? of the aged\n",
            "source material which has been toned down a bit in its harsh ? i liked\n",
            "the look of the film and how shots were set up and i thought it didn't\n",
            "rely too much on ? of head shots like most other films of the 80s and\n",
            "90s do very good results\n",
            "\n",
            "\n",
            "***********NEGATIVE REVIEWS***********\n",
            "\n",
            "review at data index[ 1 ]\n",
            "? big hair big boobs bad music and a giant safety pin these are the\n",
            "words to best describe this terrible movie i love cheesy horror movies\n",
            "and i've seen hundreds but this had got to be on of the worst ever\n",
            "made the plot is paper thin and ridiculous the acting is an\n",
            "abomination the script is completely laughable the best is the end\n",
            "showdown with the cop and how he worked out who the killer is it's\n",
            "just so damn terribly written the clothes are sickening and funny in\n",
            "equal ? the hair is big lots of boobs ? men wear those cut ? shirts\n",
            "that show off their ? sickening that men actually wore them and the\n",
            "music is just ? trash that plays over and over again in almost every\n",
            "scene there is trashy music boobs and ? taking away bodies and the gym\n",
            "still doesn't close for ? all joking aside this is a truly bad film\n",
            "whose only charm is to look back on the disaster that was the 80's and\n",
            "have a good old laugh at how bad everything was back then\n",
            "\n",
            "review at data index[ 2 ]\n",
            "? this has to be one of the worst films of the 1990s when my friends i\n",
            "were watching this film being the target audience it was aimed at we\n",
            "just sat watched the first half an hour with our jaws touching the\n",
            "floor at how bad it really was the rest of the time everyone else in\n",
            "the theatre just started talking to each other leaving or generally\n",
            "crying into their popcorn that they actually paid money they had ?\n",
            "working to watch this feeble excuse for a film it must have looked\n",
            "like a great idea on paper but on film it looks like no one in the\n",
            "film has a clue what is going on crap acting crap costumes i can't get\n",
            "across how ? this is to watch save yourself an hour a bit of your life\n",
            "\n",
            "review at data index[ 4 ]\n",
            "? worst mistake of my life br br i picked this movie up at target for\n",
            "5 because i figured hey it's sandler i can get some cheap laughs i was\n",
            "wrong completely wrong mid way through the film all three of my\n",
            "friends were asleep and i was still suffering worst plot worst script\n",
            "worst movie i have ever seen i wanted to hit my head up against a wall\n",
            "for an hour then i'd stop and you know why because it felt damn good\n",
            "upon bashing my head in i stuck that damn movie in the ? and watched\n",
            "it burn and that felt better than anything else i've ever done it took\n",
            "american psycho army of darkness and kill bill just to get over that\n",
            "crap i hate you sandler for actually going through with this and\n",
            "ruining a whole day of my life\n",
            "\n"
          ]
        }
      ]
    },
    {
      "cell_type": "markdown",
      "metadata": {
        "id": "GxHU8-BiSWy_"
      },
      "source": [
        "### Building your model"
      ]
    },
    {
      "cell_type": "markdown",
      "metadata": {
        "id": "jv_k78mmSWy_"
      },
      "source": [
        "#### Model definition"
      ]
    },
    {
      "cell_type": "code",
      "metadata": {
        "id": "IQzf7F7USWzA"
      },
      "source": [
        "from tensorflow import keras\n",
        "from tensorflow.keras import layers\n",
        "\n",
        "model = keras.Sequential([\n",
        "    layers.Dense(16, activation=\"relu\"),\n",
        "    layers.Dense(16, activation=\"relu\"),\n",
        "    layers.Dense(1, activation=\"sigmoid\")\n",
        "])"
      ],
      "execution_count": 14,
      "outputs": []
    },
    {
      "cell_type": "markdown",
      "metadata": {
        "id": "DasM7UfASWzA"
      },
      "source": [
        "#### Compiling the model"
      ]
    },
    {
      "cell_type": "code",
      "metadata": {
        "id": "BWSLlZC4SWzA"
      },
      "source": [
        "model.compile(optimizer=\"rmsprop\",\n",
        "              loss=\"binary_crossentropy\",\n",
        "              metrics=[\"accuracy\"])"
      ],
      "execution_count": 15,
      "outputs": []
    },
    {
      "cell_type": "markdown",
      "metadata": {
        "id": "oUth-9BtSWzA"
      },
      "source": [
        "### Validating your approach"
      ]
    },
    {
      "cell_type": "markdown",
      "metadata": {
        "id": "XsEbLv3eSWzA"
      },
      "source": [
        "#### Setting aside a validation set"
      ]
    },
    {
      "cell_type": "code",
      "metadata": {
        "id": "CNxpNUwPSWzA",
        "colab": {
          "base_uri": "https://localhost:8080/"
        },
        "outputId": "d935479e-f279-406e-ee29-84cea4ddc63e"
      },
      "source": [
        "#\n",
        "# x_val is a copy of elements 0-9,999 of x_train\n",
        "#\n",
        "x_val = x_train[:10000]        \n",
        "x_val_train_data = train_data[:10000]           \n",
        "\n",
        "print(\"x_train shape: \", x_train.shape)\n",
        "print(\"x_val shape: \", x_val.shape)\n",
        "\n",
        "#\n",
        "# partial_x_train is a copy of x_train from element 10,000 to 24,999\n",
        "#\n",
        "partial_x_train = x_train[10000:]     \n",
        "partial_x_train_data = train_data[10000:]\n",
        "\n",
        "print(\"partial_x_train shape: \", partial_x_train.shape)\n",
        "\n",
        "#\n",
        "# y_val is a copy of elements 0-9,999 of y_train\n",
        "#\n",
        "y_val = y_train[:10000]               \n",
        "\n",
        "print(\"y_train shape: \", y_train.shape)\n",
        "print(\"y_val shape: \", y_val.shape)\n",
        "\n",
        "#\n",
        "# partial_y_train is a copy of y_train from element 10,000 to 24,999\n",
        "#\n",
        "partial_y_train = y_train[10000:]     \n",
        "\n",
        "print(\"partial_y_train shape: \", partial_y_train.shape)\n"
      ],
      "execution_count": 16,
      "outputs": [
        {
          "output_type": "stream",
          "name": "stdout",
          "text": [
            "x_train shape:  (25000, 10000)\n",
            "x_val shape:  (10000, 10000)\n",
            "partial_x_train shape:  (15000, 10000)\n",
            "y_train shape:  (25000,)\n",
            "y_val shape:  (10000,)\n",
            "partial_y_train shape:  (15000,)\n"
          ]
        }
      ]
    },
    {
      "cell_type": "markdown",
      "metadata": {
        "id": "A3ye0OxsSWzA"
      },
      "source": [
        "#### Training your model"
      ]
    },
    {
      "cell_type": "code",
      "metadata": {
        "id": "o3rFuAH8SWzA",
        "colab": {
          "base_uri": "https://localhost:8080/"
        },
        "outputId": "3f0bd5ad-1abc-4289-85bf-0408b0dffc40"
      },
      "source": [
        "#\n",
        "# here we 'fit' the model\n",
        "# note that we 'train' the model on partial_x_train and partial_y_train data, \n",
        "# the last 15,000 elements of the x_train and y_train data set (25,000 elements) \n",
        "# \n",
        "# and the validation data we use is the first 10,000 elements of \n",
        "# the training data set, parsed above: ie x_val and y_val\n",
        "#\n",
        "history = model.fit(partial_x_train,\n",
        "                    partial_y_train,\n",
        "                    epochs=20,\n",
        "                    batch_size=512,\n",
        "                    validation_data=(x_val, y_val))"
      ],
      "execution_count": 17,
      "outputs": [
        {
          "output_type": "stream",
          "name": "stdout",
          "text": [
            "Epoch 1/20\n",
            "30/30 [==============================] - 2s 52ms/step - loss: 0.5674 - accuracy: 0.7466 - val_loss: 0.4368 - val_accuracy: 0.8682\n",
            "Epoch 2/20\n",
            "30/30 [==============================] - 1s 30ms/step - loss: 0.3476 - accuracy: 0.8949 - val_loss: 0.3236 - val_accuracy: 0.8882\n",
            "Epoch 3/20\n",
            "30/30 [==============================] - 1s 35ms/step - loss: 0.2418 - accuracy: 0.9264 - val_loss: 0.2984 - val_accuracy: 0.8839\n",
            "Epoch 4/20\n",
            "30/30 [==============================] - 1s 32ms/step - loss: 0.1881 - accuracy: 0.9390 - val_loss: 0.2772 - val_accuracy: 0.8899\n",
            "Epoch 5/20\n",
            "30/30 [==============================] - 1s 31ms/step - loss: 0.1505 - accuracy: 0.9537 - val_loss: 0.3578 - val_accuracy: 0.8558\n",
            "Epoch 6/20\n",
            "30/30 [==============================] - 1s 32ms/step - loss: 0.1260 - accuracy: 0.9605 - val_loss: 0.2914 - val_accuracy: 0.8845\n",
            "Epoch 7/20\n",
            "30/30 [==============================] - 1s 34ms/step - loss: 0.1026 - accuracy: 0.9697 - val_loss: 0.3051 - val_accuracy: 0.8821\n",
            "Epoch 8/20\n",
            "30/30 [==============================] - 1s 49ms/step - loss: 0.0851 - accuracy: 0.9758 - val_loss: 0.3251 - val_accuracy: 0.8802\n",
            "Epoch 9/20\n",
            "30/30 [==============================] - 1s 39ms/step - loss: 0.0722 - accuracy: 0.9801 - val_loss: 0.3471 - val_accuracy: 0.8800\n",
            "Epoch 10/20\n",
            "30/30 [==============================] - 1s 31ms/step - loss: 0.0561 - accuracy: 0.9869 - val_loss: 0.3785 - val_accuracy: 0.8798\n",
            "Epoch 11/20\n",
            "30/30 [==============================] - 1s 31ms/step - loss: 0.0471 - accuracy: 0.9894 - val_loss: 0.4059 - val_accuracy: 0.8792\n",
            "Epoch 12/20\n",
            "30/30 [==============================] - 1s 31ms/step - loss: 0.0362 - accuracy: 0.9921 - val_loss: 0.4870 - val_accuracy: 0.8694\n",
            "Epoch 13/20\n",
            "30/30 [==============================] - 1s 31ms/step - loss: 0.0307 - accuracy: 0.9944 - val_loss: 0.4603 - val_accuracy: 0.8735\n",
            "Epoch 14/20\n",
            "30/30 [==============================] - 1s 31ms/step - loss: 0.0236 - accuracy: 0.9962 - val_loss: 0.4930 - val_accuracy: 0.8722\n",
            "Epoch 15/20\n",
            "30/30 [==============================] - 1s 31ms/step - loss: 0.0167 - accuracy: 0.9975 - val_loss: 0.5458 - val_accuracy: 0.8632\n",
            "Epoch 16/20\n",
            "30/30 [==============================] - 1s 31ms/step - loss: 0.0154 - accuracy: 0.9974 - val_loss: 0.5714 - val_accuracy: 0.8717\n",
            "Epoch 17/20\n",
            "30/30 [==============================] - 1s 31ms/step - loss: 0.0087 - accuracy: 0.9993 - val_loss: 0.6326 - val_accuracy: 0.8591\n",
            "Epoch 18/20\n",
            "30/30 [==============================] - 1s 32ms/step - loss: 0.0115 - accuracy: 0.9977 - val_loss: 0.6500 - val_accuracy: 0.8690\n",
            "Epoch 19/20\n",
            "30/30 [==============================] - 1s 32ms/step - loss: 0.0045 - accuracy: 0.9997 - val_loss: 0.6798 - val_accuracy: 0.8683\n",
            "Epoch 20/20\n",
            "30/30 [==============================] - 1s 31ms/step - loss: 0.0074 - accuracy: 0.9981 - val_loss: 0.7131 - val_accuracy: 0.8670\n"
          ]
        }
      ]
    },
    {
      "cell_type": "code",
      "metadata": {
        "id": "Z3PLDcnqSWzA",
        "colab": {
          "base_uri": "https://localhost:8080/"
        },
        "outputId": "b8c3a29a-9f39-45ed-ec91-f8eedcd442aa"
      },
      "source": [
        "history_dict = history.history\n",
        "history_dict.keys()"
      ],
      "execution_count": 18,
      "outputs": [
        {
          "output_type": "execute_result",
          "data": {
            "text/plain": [
              "dict_keys(['loss', 'accuracy', 'val_loss', 'val_accuracy'])"
            ]
          },
          "metadata": {},
          "execution_count": 18
        }
      ]
    },
    {
      "cell_type": "markdown",
      "metadata": {
        "id": "mOAiUESnSWzA"
      },
      "source": [
        "#### Plotting the training and validation loss"
      ]
    },
    {
      "cell_type": "code",
      "metadata": {
        "id": "v8FYYH2ASWzA",
        "colab": {
          "base_uri": "https://localhost:8080/",
          "height": 295
        },
        "outputId": "5660e391-2258-47ed-ad97-5be23f2262d0"
      },
      "source": [
        "import matplotlib.pyplot as plt\n",
        "\n",
        "history_dict = history.history\n",
        "loss_values = history_dict[\"loss\"]\n",
        "val_loss_values = history_dict[\"val_loss\"]\n",
        "epochs = range(1, len(loss_values) + 1)\n",
        "plt.plot(epochs, loss_values, \"bo\", label=\"Training loss\")\n",
        "plt.plot(epochs, val_loss_values, \"b\", label=\"Validation loss\")\n",
        "plt.title(\"Training and validation loss\")\n",
        "plt.xlabel(\"Epochs\")\n",
        "plt.ylabel(\"Loss\")\n",
        "plt.legend()\n",
        "plt.show()"
      ],
      "execution_count": 19,
      "outputs": [
        {
          "output_type": "display_data",
          "data": {
            "text/plain": [
              "<Figure size 432x288 with 1 Axes>"
            ],
            "image/png": "[encoded data removed]"
          },
          "metadata": {
            "needs_background": "light"
          }
        }
      ]
    },
    {
      "cell_type": "markdown",
      "metadata": {
        "id": "Y5dKUKfOSWzA"
      },
      "source": [
        "#### Plotting the training and validation accuracy"
      ]
    },
    {
      "cell_type": "code",
      "metadata": {
        "id": "MyWdgytcSWzA",
        "colab": {
          "base_uri": "https://localhost:8080/",
          "height": 295
        },
        "outputId": "3a2673da-bc0f-4ddd-d89e-afc3c8be33e9"
      },
      "source": [
        "plt.clf()\n",
        "acc = history_dict[\"accuracy\"]\n",
        "val_acc = history_dict[\"val_accuracy\"]\n",
        "plt.plot(epochs, acc, \"bo\", label=\"Training acc\")\n",
        "plt.plot(epochs, val_acc, \"b\", label=\"Validation acc\")\n",
        "plt.title(\"Training and validation accuracy\")\n",
        "plt.xlabel(\"Epochs\")\n",
        "plt.ylabel(\"Accuracy\")\n",
        "plt.legend()\n",
        "plt.show()"
      ],
      "execution_count": 20,
      "outputs": [
        {
          "output_type": "display_data",
          "data": {
            "text/plain": [
              "<Figure size 432x288 with 1 Axes>"
            ],
            "image/png": "[encoded data removed]"
          },
          "metadata": {
            "needs_background": "light"
          }
        }
      ]
    },
    {
      "cell_type": "markdown",
      "metadata": {
        "id": "lJetC7rA36VT"
      },
      "source": [
        "### (OPTIONAL) TODO 3\n",
        "\n",
        "Write code to display 2 cases (one false positive, one false negative) where the classifier makes mistakes. Make sure to display both the true value as well as the predicted value.\n",
        "\n",
        "Comment on the mistakes and what you believe might have caused each of them. "
      ]
    },
    {
      "cell_type": "code",
      "source": [
        "# evaluate the model\n",
        "model.evaluate(partial_x_train, partial_y_train)     # training data metrics\n",
        "\n",
        "model.evaluate(x_val, y_val)                         # validation data metrics"
      ],
      "metadata": {
        "colab": {
          "base_uri": "https://localhost:8080/"
        },
        "id": "2v97xVVAXHms",
        "outputId": "633b0f53-7c66-4e9d-f940-9461e17197f6"
      },
      "execution_count": 21,
      "outputs": [
        {
          "output_type": "stream",
          "name": "stdout",
          "text": [
            "469/469 [==============================] - 1s 2ms/step - loss: 0.0023 - accuracy: 1.0000\n",
            "313/313 [==============================] - 1s 2ms/step - loss: 0.7131 - accuracy: 0.8670\n"
          ]
        },
        {
          "output_type": "execute_result",
          "data": {
            "text/plain": [
              "[0.7131481170654297, 0.8669999837875366]"
            ]
          },
          "metadata": {},
          "execution_count": 21
        }
      ]
    },
    {
      "cell_type": "code",
      "source": [
        "# get predicted values\n",
        "yhat = model.predict(x_val)   # predicted values on validation data\n",
        "\n",
        "# inspect the data set\n",
        "print(yhat.shape)\n",
        "\n",
        "#\n",
        "# print first 20 predicted and actual (true) values\n",
        "#\n",
        "for j in range (0,100):\n",
        "  num = yhat[j][0]\n",
        "  predicted_two_dec = \"{:.2f}\".format(num)\n",
        "  rounded = round(num)\n",
        "  \n",
        "  if (rounded == round(y_val[j])):\n",
        "    mismatch = False\n",
        "  else:\n",
        "    mismatch = True\n",
        "\n",
        "  print(\"predicted: \", predicted_two_dec, \"; Rounded Predicted: \", rounded, \"; Actual (True): \", round(y_val[j]), mismatch)"
      ],
      "metadata": {
        "colab": {
          "base_uri": "https://localhost:8080/"
        },
        "id": "vGkzxe32m73E",
        "outputId": "b44e6fde-e8b9-438a-8b9a-cc5b9acc0bdf"
      },
      "execution_count": 22,
      "outputs": [
        {
          "output_type": "stream",
          "name": "stdout",
          "text": [
            "(10000, 1)\n",
            "predicted:  1.00 ; Rounded Predicted:  1 ; Actual (True):  1 False\n",
            "predicted:  0.00 ; Rounded Predicted:  0 ; Actual (True):  0 False\n",
            "predicted:  0.00 ; Rounded Predicted:  0 ; Actual (True):  0 False\n",
            "predicted:  1.00 ; Rounded Predicted:  1 ; Actual (True):  1 False\n",
            "predicted:  0.00 ; Rounded Predicted:  0 ; Actual (True):  0 False\n",
            "predicted:  0.02 ; Rounded Predicted:  0 ; Actual (True):  0 False\n",
            "predicted:  1.00 ; Rounded Predicted:  1 ; Actual (True):  1 False\n",
            "predicted:  0.00 ; Rounded Predicted:  0 ; Actual (True):  0 False\n",
            "predicted:  1.00 ; Rounded Predicted:  1 ; Actual (True):  1 False\n",
            "predicted:  0.02 ; Rounded Predicted:  0 ; Actual (True):  0 False\n",
            "predicted:  1.00 ; Rounded Predicted:  1 ; Actual (True):  1 False\n",
            "predicted:  0.00 ; Rounded Predicted:  0 ; Actual (True):  0 False\n",
            "predicted:  0.01 ; Rounded Predicted:  0 ; Actual (True):  0 False\n",
            "predicted:  0.00 ; Rounded Predicted:  0 ; Actual (True):  0 False\n",
            "predicted:  0.01 ; Rounded Predicted:  0 ; Actual (True):  0 False\n",
            "predicted:  0.01 ; Rounded Predicted:  0 ; Actual (True):  0 False\n",
            "predicted:  1.00 ; Rounded Predicted:  1 ; Actual (True):  1 False\n",
            "predicted:  1.00 ; Rounded Predicted:  1 ; Actual (True):  1 False\n",
            "predicted:  0.00 ; Rounded Predicted:  0 ; Actual (True):  0 False\n",
            "predicted:  1.00 ; Rounded Predicted:  1 ; Actual (True):  1 False\n",
            "predicted:  0.00 ; Rounded Predicted:  0 ; Actual (True):  0 False\n",
            "predicted:  0.00 ; Rounded Predicted:  0 ; Actual (True):  0 False\n",
            "predicted:  0.01 ; Rounded Predicted:  0 ; Actual (True):  1 True\n",
            "predicted:  0.00 ; Rounded Predicted:  0 ; Actual (True):  0 False\n",
            "predicted:  1.00 ; Rounded Predicted:  1 ; Actual (True):  1 False\n",
            "predicted:  0.99 ; Rounded Predicted:  1 ; Actual (True):  1 False\n",
            "predicted:  1.00 ; Rounded Predicted:  1 ; Actual (True):  0 True\n",
            "predicted:  0.00 ; Rounded Predicted:  0 ; Actual (True):  0 False\n",
            "predicted:  0.49 ; Rounded Predicted:  0 ; Actual (True):  1 True\n",
            "predicted:  0.01 ; Rounded Predicted:  0 ; Actual (True):  0 False\n",
            "predicted:  0.01 ; Rounded Predicted:  0 ; Actual (True):  0 False\n",
            "predicted:  1.00 ; Rounded Predicted:  1 ; Actual (True):  1 False\n",
            "predicted:  0.53 ; Rounded Predicted:  1 ; Actual (True):  1 False\n",
            "predicted:  1.00 ; Rounded Predicted:  1 ; Actual (True):  1 False\n",
            "predicted:  0.00 ; Rounded Predicted:  0 ; Actual (True):  0 False\n",
            "predicted:  0.00 ; Rounded Predicted:  0 ; Actual (True):  0 False\n",
            "predicted:  0.04 ; Rounded Predicted:  0 ; Actual (True):  0 False\n",
            "predicted:  1.00 ; Rounded Predicted:  1 ; Actual (True):  1 False\n",
            "predicted:  0.00 ; Rounded Predicted:  0 ; Actual (True):  0 False\n",
            "predicted:  0.00 ; Rounded Predicted:  0 ; Actual (True):  0 False\n",
            "predicted:  1.00 ; Rounded Predicted:  1 ; Actual (True):  1 False\n",
            "predicted:  0.00 ; Rounded Predicted:  0 ; Actual (True):  0 False\n",
            "predicted:  0.00 ; Rounded Predicted:  0 ; Actual (True):  0 False\n",
            "predicted:  0.00 ; Rounded Predicted:  0 ; Actual (True):  0 False\n",
            "predicted:  1.00 ; Rounded Predicted:  1 ; Actual (True):  1 False\n",
            "predicted:  1.00 ; Rounded Predicted:  1 ; Actual (True):  1 False\n",
            "predicted:  0.96 ; Rounded Predicted:  1 ; Actual (True):  1 False\n",
            "predicted:  0.98 ; Rounded Predicted:  1 ; Actual (True):  0 True\n",
            "predicted:  1.00 ; Rounded Predicted:  1 ; Actual (True):  1 False\n",
            "predicted:  0.00 ; Rounded Predicted:  0 ; Actual (True):  0 False\n",
            "predicted:  0.00 ; Rounded Predicted:  0 ; Actual (True):  0 False\n",
            "predicted:  0.00 ; Rounded Predicted:  0 ; Actual (True):  0 False\n",
            "predicted:  0.00 ; Rounded Predicted:  0 ; Actual (True):  0 False\n",
            "predicted:  0.06 ; Rounded Predicted:  0 ; Actual (True):  0 False\n",
            "predicted:  0.00 ; Rounded Predicted:  0 ; Actual (True):  0 False\n",
            "predicted:  0.00 ; Rounded Predicted:  0 ; Actual (True):  0 False\n",
            "predicted:  1.00 ; Rounded Predicted:  1 ; Actual (True):  1 False\n",
            "predicted:  0.01 ; Rounded Predicted:  0 ; Actual (True):  0 False\n",
            "predicted:  1.00 ; Rounded Predicted:  1 ; Actual (True):  1 False\n",
            "predicted:  1.00 ; Rounded Predicted:  1 ; Actual (True):  1 False\n",
            "predicted:  0.00 ; Rounded Predicted:  0 ; Actual (True):  0 False\n",
            "predicted:  0.02 ; Rounded Predicted:  0 ; Actual (True):  0 False\n",
            "predicted:  0.90 ; Rounded Predicted:  1 ; Actual (True):  0 True\n",
            "predicted:  0.05 ; Rounded Predicted:  0 ; Actual (True):  1 True\n",
            "predicted:  1.00 ; Rounded Predicted:  1 ; Actual (True):  1 False\n",
            "predicted:  1.00 ; Rounded Predicted:  1 ; Actual (True):  1 False\n",
            "predicted:  0.00 ; Rounded Predicted:  0 ; Actual (True):  1 True\n",
            "predicted:  1.00 ; Rounded Predicted:  1 ; Actual (True):  1 False\n",
            "predicted:  0.33 ; Rounded Predicted:  0 ; Actual (True):  1 True\n",
            "predicted:  1.00 ; Rounded Predicted:  1 ; Actual (True):  1 False\n",
            "predicted:  1.00 ; Rounded Predicted:  1 ; Actual (True):  1 False\n",
            "predicted:  0.00 ; Rounded Predicted:  0 ; Actual (True):  0 False\n",
            "predicted:  0.00 ; Rounded Predicted:  0 ; Actual (True):  0 False\n",
            "predicted:  1.00 ; Rounded Predicted:  1 ; Actual (True):  1 False\n",
            "predicted:  1.00 ; Rounded Predicted:  1 ; Actual (True):  1 False\n",
            "predicted:  1.00 ; Rounded Predicted:  1 ; Actual (True):  0 True\n",
            "predicted:  1.00 ; Rounded Predicted:  1 ; Actual (True):  1 False\n",
            "predicted:  0.43 ; Rounded Predicted:  0 ; Actual (True):  0 False\n",
            "predicted:  0.00 ; Rounded Predicted:  0 ; Actual (True):  0 False\n",
            "predicted:  0.04 ; Rounded Predicted:  0 ; Actual (True):  1 True\n",
            "predicted:  1.00 ; Rounded Predicted:  1 ; Actual (True):  1 False\n",
            "predicted:  0.00 ; Rounded Predicted:  0 ; Actual (True):  0 False\n",
            "predicted:  0.00 ; Rounded Predicted:  0 ; Actual (True):  0 False\n",
            "predicted:  0.15 ; Rounded Predicted:  0 ; Actual (True):  1 True\n",
            "predicted:  1.00 ; Rounded Predicted:  1 ; Actual (True):  1 False\n",
            "predicted:  0.00 ; Rounded Predicted:  0 ; Actual (True):  0 False\n",
            "predicted:  0.00 ; Rounded Predicted:  0 ; Actual (True):  0 False\n",
            "predicted:  0.00 ; Rounded Predicted:  0 ; Actual (True):  0 False\n",
            "predicted:  0.99 ; Rounded Predicted:  1 ; Actual (True):  1 False\n",
            "predicted:  0.00 ; Rounded Predicted:  0 ; Actual (True):  0 False\n",
            "predicted:  0.82 ; Rounded Predicted:  1 ; Actual (True):  0 True\n",
            "predicted:  0.00 ; Rounded Predicted:  0 ; Actual (True):  0 False\n",
            "predicted:  0.01 ; Rounded Predicted:  0 ; Actual (True):  0 False\n",
            "predicted:  0.00 ; Rounded Predicted:  0 ; Actual (True):  0 False\n",
            "predicted:  0.00 ; Rounded Predicted:  0 ; Actual (True):  0 False\n",
            "predicted:  0.00 ; Rounded Predicted:  0 ; Actual (True):  0 False\n",
            "predicted:  0.16 ; Rounded Predicted:  0 ; Actual (True):  0 False\n",
            "predicted:  1.00 ; Rounded Predicted:  1 ; Actual (True):  1 False\n",
            "predicted:  1.00 ; Rounded Predicted:  1 ; Actual (True):  1 False\n",
            "predicted:  0.00 ; Rounded Predicted:  0 ; Actual (True):  0 False\n"
          ]
        }
      ]
    },
    {
      "cell_type": "code",
      "source": [
        "################################################################################\n",
        "#\n",
        "# we build a list of mismatched values now\n",
        "# where the predicted value =! actual ('true') value\n",
        "# \n",
        "# NB that since we are using sugmoid activation function, the \n",
        "# predicted values are returned between 0 and 1, if they are closer \n",
        "# to 0 (rounded) then the predicted value is 0, or negative and if \n",
        "# they are close to 1 (rounded) then the predicted value is 1, or positive\n",
        "#\n",
        "################################################################################\n",
        "\n",
        "mismatches_indeces = DynamicArray()\n",
        "\n",
        "false_positives = DynamicArray()\n",
        "false_negatives = DynamicArray()\n",
        "\n",
        "for k in range (0, yhat.size):\n",
        "\n",
        "  pred_value = round(yhat[k][0])\n",
        "  true_value = round(y_val[k])\n",
        "  \n",
        "  if (pred_value != true_value):\n",
        "    mismatches_indeces.append(k)\n",
        "    \n",
        "    if (pred_value == 1 and true_value == 0):\n",
        "#      print(\"False Positive found at index: \", k, \"; Predicted: \", pred_value, \"; Actual (True): \", true_value)\n",
        "      false_positives.append(k)\n",
        "    else:\n",
        "#      print(\"False Negative found at index: \", k, \"Predicted: \", pred_value, \"; Actual (True): \", true_value)\n",
        "      false_negatives.append(k)\n",
        "\n",
        "#      \n",
        "# let's double check the model metrics now, since we have the data\n",
        "#\n",
        "numReviews = yhat.size\n",
        "\n",
        "numMismatches = mismatches_indeces.n\n",
        "numFalsePositives = false_positives.n\n",
        "numFalseNegatives = false_negatives.n\n",
        "\n",
        "numCorrect = numReviews - numMismatches\n",
        "accuracy = numCorrect/numReviews\n",
        "\n",
        "print(\"######  Validation Data Set Summary Metrics  ######\")\n",
        "print(\"#Reviews: \", numReviews, \"; #MisMatches: \", numMismatches, \"; #FalsePositives: \", numFalsePositives, \n",
        "      \"; #FalseNegatives: \", numFalseNegatives, \"; #Correct: \", numCorrect, \"; Accuracy Rate: \", accuracy)"
      ],
      "metadata": {
        "colab": {
          "base_uri": "https://localhost:8080/"
        },
        "id": "qz_l_4PIOovF",
        "outputId": "0c8c2ffc-7263-4204-b46b-4c8121a1a98b"
      },
      "execution_count": 23,
      "outputs": [
        {
          "output_type": "stream",
          "name": "stdout",
          "text": [
            "######  Validation Data Set Summary Metrics  ######\n",
            "#Reviews:  10000 ; #MisMatches:  1330 ; #FalsePositives:  689 ; #FalseNegatives:  641 ; #Correct:  8670 ; Accuracy Rate:  0.867\n"
          ]
        }
      ]
    },
    {
      "cell_type": "markdown",
      "metadata": {
        "id": "dmlYOsbMxY-d"
      },
      "source": [
        "### (OPTIONAL) TODO 4\n",
        "\n",
        "Write code to try different combinations of:\n",
        "- numbers of hidden layers and units per layer \n",
        "- loss functions\n",
        "- activation functions\n",
        "\n",
        "Please refrain from using better architectures (RNN, LSTM, etc.) and \"advanced\" techniques to curb overfitting (e.g., dropout, batch normalization, weight regularization, etc.)\n",
        "\n",
        "****\n",
        "\n",
        "**SEE BELOW**"
      ]
    },
    {
      "cell_type": "markdown",
      "metadata": {
        "id": "_zDpLV1-irQS"
      },
      "source": [
        "### Retraining a model from scratch"
      ]
    },
    {
      "cell_type": "code",
      "source": [
        "#################################################################\n",
        "#\n",
        "# here we create a second model (model2) to compare to first\n",
        "# we increase the number of units (dimensions), \n",
        "# add another layer, change the activation function and \n",
        "# see generally what the effect is on the model\n",
        "#\n",
        "#################################################################\n",
        "\n",
        "model2 = keras.Sequential([\n",
        "    layers.Dense(64, activation=\"tanh\"),\n",
        "    layers.Dense(64, activation=\"tanh\"),\n",
        "    layers.Dense(64, activation=\"tanh\"),\n",
        "    layers.Dense(1, activation=\"sigmoid\")\n",
        "])\n",
        "\n",
        "#\n",
        "# experiement with different loss function\n",
        "#\n",
        "model2.compile(optimizer=\"rmsprop\",\n",
        "              #loss=\"binary_crossentropy\",\n",
        "              loss=\"mse\",\n",
        "              metrics=[\"accuracy\"])\n",
        "\n",
        "#\n",
        "# here we 'fit' the model again, except this time we \n",
        "# use the full training data set\n",
        "#\n",
        "# 10 epochs is a good number, minimizing overfitting\n",
        "#\n",
        "history2 = model2.fit(x_train,\n",
        "                    y_train,\n",
        "                    epochs=10,\n",
        "                    batch_size=512,\n",
        "                    validation_data=(x_val, y_val))\n",
        "\n",
        "history_dict2 = history2.history\n",
        "history_dict2.keys()"
      ],
      "metadata": {
        "colab": {
          "base_uri": "https://localhost:8080/"
        },
        "id": "Muz9aveWeLLd",
        "outputId": "12cb46d7-18a2-4b8c-849e-9ee9d29a194c"
      },
      "execution_count": 24,
      "outputs": [
        {
          "output_type": "stream",
          "name": "stdout",
          "text": [
            "Epoch 1/10\n",
            "49/49 [==============================] - 3s 51ms/step - loss: 0.1293 - accuracy: 0.8175 - val_loss: 0.0609 - val_accuracy: 0.9221\n",
            "Epoch 2/10\n",
            "49/49 [==============================] - 2s 46ms/step - loss: 0.0668 - accuracy: 0.9118 - val_loss: 0.0387 - val_accuracy: 0.9537\n",
            "Epoch 3/10\n",
            "49/49 [==============================] - 2s 46ms/step - loss: 0.0544 - accuracy: 0.9295 - val_loss: 0.0379 - val_accuracy: 0.9539\n",
            "Epoch 4/10\n",
            "49/49 [==============================] - 2s 46ms/step - loss: 0.0452 - accuracy: 0.9416 - val_loss: 0.0317 - val_accuracy: 0.9623\n",
            "Epoch 5/10\n",
            "49/49 [==============================] - 2s 46ms/step - loss: 0.0396 - accuracy: 0.9511 - val_loss: 0.0288 - val_accuracy: 0.9663\n",
            "Epoch 6/10\n",
            "49/49 [==============================] - 2s 46ms/step - loss: 0.0349 - accuracy: 0.9581 - val_loss: 0.0212 - val_accuracy: 0.9774\n",
            "Epoch 7/10\n",
            "49/49 [==============================] - 2s 46ms/step - loss: 0.0320 - accuracy: 0.9614 - val_loss: 0.0223 - val_accuracy: 0.9746\n",
            "Epoch 8/10\n",
            "49/49 [==============================] - 2s 46ms/step - loss: 0.0280 - accuracy: 0.9675 - val_loss: 0.0213 - val_accuracy: 0.9763\n",
            "Epoch 9/10\n",
            "49/49 [==============================] - 2s 46ms/step - loss: 0.0262 - accuracy: 0.9689 - val_loss: 0.0225 - val_accuracy: 0.9733\n",
            "Epoch 10/10\n",
            "49/49 [==============================] - 2s 47ms/step - loss: 0.0254 - accuracy: 0.9697 - val_loss: 0.0315 - val_accuracy: 0.9611\n"
          ]
        },
        {
          "output_type": "execute_result",
          "data": {
            "text/plain": [
              "dict_keys(['loss', 'accuracy', 'val_loss', 'val_accuracy'])"
            ]
          },
          "metadata": {},
          "execution_count": 24
        }
      ]
    },
    {
      "cell_type": "code",
      "source": [
        "#\n",
        "# print out the loss and accuracy graphs to see how well we did\n",
        "#\n",
        "history_dict = history.history\n",
        "loss_values = history_dict[\"loss\"]\n",
        "val_loss_values = history_dict[\"val_loss\"]\n",
        "epochs = range(1, len(loss_values) + 1)\n",
        "plt.plot(epochs, loss_values, \"bo\", label=\"Training loss\")\n",
        "plt.plot(epochs, val_loss_values, \"b\", label=\"Validation loss\")\n",
        "plt.title(\"Training and validation loss\")\n",
        "plt.xlabel(\"Epochs\")\n",
        "plt.ylabel(\"Loss\")\n",
        "plt.legend()\n",
        "plt.show()\n",
        "\n",
        "\n",
        "plt.clf()\n",
        "acc = history_dict[\"accuracy\"]\n",
        "val_acc = history_dict[\"val_accuracy\"]\n",
        "plt.plot(epochs, acc, \"bo\", label=\"Training acc\")\n",
        "plt.plot(epochs, val_acc, \"b\", label=\"Validation acc\")\n",
        "plt.title(\"Training and validation accuracy\")\n",
        "plt.xlabel(\"Epochs\")\n",
        "plt.ylabel(\"Accuracy\")\n",
        "plt.legend()\n",
        "plt.show()"
      ],
      "metadata": {
        "colab": {
          "base_uri": "https://localhost:8080/",
          "height": 573
        },
        "id": "GBDhnHmbfdsb",
        "outputId": "0d906dfe-293e-4534-b6ca-4820daf91c7b"
      },
      "execution_count": 25,
      "outputs": [
        {
          "output_type": "display_data",
          "data": {
            "text/plain": [
              "<Figure size 432x288 with 1 Axes>"
            ],
            "image/png": "[encoded data removed]"
          },
          "metadata": {
            "needs_background": "light"
          }
        },
        {
          "output_type": "display_data",
          "data": {
            "text/plain": [
              "<Figure size 432x288 with 1 Axes>"
            ],
            "image/png": "[encoded data removed]"
          },
          "metadata": {
            "needs_background": "light"
          }
        }
      ]
    },
    {
      "cell_type": "code",
      "source": [
        "print(\"**Original Model Metrics**\")\n",
        "model.evaluate(partial_x_train, partial_y_train)      # training data metrics\n",
        "model.evaluate(x_val, y_val)                          # validation data\n",
        "\n",
        "print()\n",
        "print(\"**New Model Metrics**\")\n",
        "model2.evaluate(partial_x_train, partial_y_train)     # evaluate on the training data set\n",
        "model2.evaluate(x_val, y_val)                         # validation data here\n"
      ],
      "metadata": {
        "colab": {
          "base_uri": "https://localhost:8080/"
        },
        "id": "xZWSbnVPgmHy",
        "outputId": "75db6511-53f7-45d0-c267-614b86a0769e"
      },
      "execution_count": 26,
      "outputs": [
        {
          "output_type": "stream",
          "name": "stdout",
          "text": [
            "**Original Model Metrics**\n",
            "469/469 [==============================] - 1s 2ms/step - loss: 0.0023 - accuracy: 1.0000\n",
            "313/313 [==============================] - 1s 2ms/step - loss: 0.7131 - accuracy: 0.8670\n",
            "\n",
            "**New Model Metrics**\n",
            "469/469 [==============================] - 1s 2ms/step - loss: 0.0302 - accuracy: 0.9629\n",
            "313/313 [==============================] - 1s 2ms/step - loss: 0.0315 - accuracy: 0.9611\n"
          ]
        },
        {
          "output_type": "execute_result",
          "data": {
            "text/plain": [
              "[0.03146354481577873, 0.9610999822616577]"
            ]
          },
          "metadata": {},
          "execution_count": 26
        }
      ]
    },
    {
      "cell_type": "markdown",
      "source": [
        "### Using a trained model to generate predictions on new data"
      ],
      "metadata": {
        "id": "42iM8wGkPyJb"
      }
    },
    {
      "cell_type": "code",
      "source": [
        "# get predictions on new data from both models\n",
        "yhat2 = model.predict(x_test)\n",
        "yhat3 = model2.predict(x_test)\n",
        "\n",
        "# evaluate both models on new data\n",
        "model.evaluate(x_test, y_test)      \n",
        "model2.evaluate(x_test, y_test)     "
      ],
      "metadata": {
        "colab": {
          "base_uri": "https://localhost:8080/"
        },
        "id": "OtrJ05CnPzLr",
        "outputId": "26384489-8bee-4041-dc0b-6cfe1ec8f952"
      },
      "execution_count": 27,
      "outputs": [
        {
          "output_type": "stream",
          "name": "stdout",
          "text": [
            "782/782 [==============================] - 1s 2ms/step - loss: 0.7718 - accuracy: 0.8525\n",
            "782/782 [==============================] - 2s 3ms/step - loss: 0.1316 - accuracy: 0.8456\n"
          ]
        },
        {
          "output_type": "execute_result",
          "data": {
            "text/plain": [
              "[0.13161082565784454, 0.8456000089645386]"
            ]
          },
          "metadata": {},
          "execution_count": 27
        }
      ]
    },
    {
      "cell_type": "markdown",
      "metadata": {
        "id": "8SoeBbpo3brk"
      },
      "source": [
        "### CONCLUSIONS\n",
        "***Questions: PART 1:***\n",
        "\n",
        "**(1) What type of preprocessing was applied to the raw input data? Why was\n",
        "it necessary to do so?**\n",
        "\n",
        "*You have to get the data into Vectors, normalized Vectors so that the models can work with them (ie perform Vector and Matrix multiplication on them presumably). Given the data set, we are first converting from actual words in the dictionary (max 10,000 word set) first to integers, and then into Vectors of 10,000 entries with just one entry for the given word set to 1 and the rest set to 0 - this is called a one hot encoding.* \n",
        "\n",
        "*You can find a good overview of what one hot encoding is, and how to get it to work, can be found at https://medium.com/analytics-vidhya/one-hot-encoding-of-text-data-in-natural-language-processing-2242fefb2148.*\n",
        "\n",
        "**(2) Does your model suffer from overfitting? If so, what would you suggest\n",
        "doing about it?**\n",
        "\n",
        "*Yes, it clearly overfits the training data after around 5 epochs or so. Unadvisable to train the model beyond that it looks like (based on testing). Adding additional layers, increasing the number of units per layer, none of those settings appear to change the final accuracy numbers which hover around 87%*\n",
        "\n",
        "**(3) Is accuracy a good metric of success in this case? Why (not)?**\n",
        "\n",
        "*Yes. Although it would be interesting to see how you could have both a predicted value, and an estimate as to the accuracy of said predicted value for each element in the data set(s). Not sure how to do this.*\n",
        "\n",
        "\n",
        "**(4) What can you say about the performance of the different models that you used?**\n",
        "\n",
        "*Adding layers (+ some changes in activation and loss function) did not have much impact ob the validation data but it did perform better (the new model) on the test data.*"
      ]
    },
    {
      "cell_type": "markdown",
      "metadata": {
        "id": "C15mmBXeW3ZG"
      },
      "source": [
        "## PART 2 - Multiclass classification of newswires using the Reuters dataset\n",
        "\n",
        "Once again, we will start with a simple solution using a fully-connected neural network architecture. "
      ]
    },
    {
      "cell_type": "markdown",
      "metadata": {
        "id": "mlFE0npdxh6j"
      },
      "source": [
        "### The Reuters dataset"
      ]
    },
    {
      "cell_type": "markdown",
      "metadata": {
        "id": "2rlaaGT5xh6j"
      },
      "source": [
        "#### Loading the Reuters dataset"
      ]
    },
    {
      "cell_type": "code",
      "metadata": {
        "id": "mF_v9mnCxh6k",
        "colab": {
          "base_uri": "https://localhost:8080/"
        },
        "outputId": "8aab24ed-9440-40d9-d9e3-b8f0a4d8d474"
      },
      "source": [
        "from tensorflow.keras.datasets import reuters\n",
        "(train_data, train_labels), (test_data, test_labels) = reuters.load_data(\n",
        "    num_words=10000)"
      ],
      "execution_count": 29,
      "outputs": [
        {
          "output_type": "stream",
          "name": "stdout",
          "text": [
            "Downloading data from https://storage.googleapis.com/tensorflow/tf-keras-datasets/reuters.npz\n",
            "2113536/2110848 [==============================] - 0s 0us/step\n",
            "2121728/2110848 [==============================] - 0s 0us/step\n"
          ]
        }
      ]
    },
    {
      "cell_type": "code",
      "metadata": {
        "id": "a9HDPrTzxh6k",
        "colab": {
          "base_uri": "https://localhost:8080/"
        },
        "outputId": "7f0c0f08-1a4b-4a0d-d5b5-2159db73f15c"
      },
      "source": [
        "len(train_data)"
      ],
      "execution_count": 30,
      "outputs": [
        {
          "output_type": "execute_result",
          "data": {
            "text/plain": [
              "8982"
            ]
          },
          "metadata": {},
          "execution_count": 30
        }
      ]
    },
    {
      "cell_type": "code",
      "metadata": {
        "id": "chhwyrjsxh6k",
        "colab": {
          "base_uri": "https://localhost:8080/"
        },
        "outputId": "da963650-8cab-4d65-b94d-8e28eb036baa"
      },
      "source": [
        "len(test_data)"
      ],
      "execution_count": 31,
      "outputs": [
        {
          "output_type": "execute_result",
          "data": {
            "text/plain": [
              "2246"
            ]
          },
          "metadata": {},
          "execution_count": 31
        }
      ]
    },
    {
      "cell_type": "code",
      "metadata": {
        "id": "6MLEiOe6xh6k",
        "colab": {
          "base_uri": "https://localhost:8080/"
        },
        "outputId": "45d5a917-c667-490a-ed7f-46c3da4bd48b"
      },
      "source": [
        "train_data[10]"
      ],
      "execution_count": 32,
      "outputs": [
        {
          "output_type": "execute_result",
          "data": {
            "text/plain": [
              "[1,\n",
              " 245,\n",
              " 273,\n",
              " 207,\n",
              " 156,\n",
              " 53,\n",
              " 74,\n",
              " 160,\n",
              " 26,\n",
              " 14,\n",
              " 46,\n",
              " 296,\n",
              " 26,\n",
              " 39,\n",
              " 74,\n",
              " 2979,\n",
              " 3554,\n",
              " 14,\n",
              " 46,\n",
              " 4689,\n",
              " 4329,\n",
              " 86,\n",
              " 61,\n",
              " 3499,\n",
              " 4795,\n",
              " 14,\n",
              " 61,\n",
              " 451,\n",
              " 4329,\n",
              " 17,\n",
              " 12]"
            ]
          },
          "metadata": {},
          "execution_count": 32
        }
      ]
    },
    {
      "cell_type": "markdown",
      "metadata": {
        "id": "ndgmqtEpxh6k"
      },
      "source": [
        "#### Decoding newswires back to text"
      ]
    },
    {
      "cell_type": "code",
      "metadata": {
        "id": "ldaiUmBGxh6k",
        "colab": {
          "base_uri": "https://localhost:8080/"
        },
        "outputId": "a0546986-ff6a-483d-b0ec-7d4953ad95d4"
      },
      "source": [
        "word_index = reuters.get_word_index()\n",
        "reverse_word_index = dict([(value, key) for (key, value) in word_index.items()])\n",
        "decoded_newswire = \" \".join([reverse_word_index.get(i - 3, \"?\") for i in\n",
        "    train_data[0]])"
      ],
      "execution_count": 33,
      "outputs": [
        {
          "output_type": "stream",
          "name": "stdout",
          "text": [
            "Downloading data from https://storage.googleapis.com/tensorflow/tf-keras-datasets/reuters_word_index.json\n",
            "557056/550378 [==============================] - 0s 0us/step\n",
            "565248/550378 [==============================] - 0s 0us/step\n"
          ]
        }
      ]
    },
    {
      "cell_type": "code",
      "metadata": {
        "id": "2-khNfkkxh6k",
        "colab": {
          "base_uri": "https://localhost:8080/"
        },
        "outputId": "657435d8-652e-4e56-f130-b963d6c5648a"
      },
      "source": [
        "train_labels[10]"
      ],
      "execution_count": 34,
      "outputs": [
        {
          "output_type": "execute_result",
          "data": {
            "text/plain": [
              "3"
            ]
          },
          "metadata": {},
          "execution_count": 34
        }
      ]
    },
    {
      "cell_type": "markdown",
      "metadata": {
        "id": "4WwJMB6Gxh6k"
      },
      "source": [
        "### Preparing the data"
      ]
    },
    {
      "cell_type": "markdown",
      "metadata": {
        "id": "yMs-iTejxh6k"
      },
      "source": [
        "#### Encoding the input data"
      ]
    },
    {
      "cell_type": "code",
      "metadata": {
        "id": "zds63peXxh6k"
      },
      "source": [
        "#\n",
        "# Because neural networks cannot deal with integers natively (they are of different sizes), \n",
        "# we must convert the train_data list of integers (each of which map to actual words) instead to \n",
        "# to a list of Vectors, where each Vector is 10,000 elements, one element for each possible word\n",
        "# [note that there are a maximum of 10,000 words available that we are parsing here].  \n",
        "# So instead of having a Vector of say 100 integers, each represnting one word, we have a \n",
        "# Vector of 100 Vectors where each Vector is 10,000 elements, with a 1 for an element of the \n",
        "# given word, and a 0 for all other word entries. This is called 'multi-hot encoding' and \n",
        "# is the result of the vectorize_sequences function above and again is necessary because\n",
        "# neural networks need to deal with underlying data that is the same 'size'\n",
        "#\n",
        "import numpy as np\n",
        "def vectorize_sequences(sequences, dimension=10000):\n",
        "    results = np.zeros((len(sequences), dimension))\n",
        "    for i, sequence in enumerate(sequences):\n",
        "        for j in sequence:\n",
        "            results[i, j] = 1.\n",
        "    return results\n",
        "\n",
        "x_train = vectorize_sequences(train_data)\n",
        "x_test = vectorize_sequences(test_data)"
      ],
      "execution_count": 35,
      "outputs": []
    },
    {
      "cell_type": "markdown",
      "metadata": {
        "id": "6bncEBgYxh6k"
      },
      "source": [
        "#### Encoding the labels"
      ]
    },
    {
      "cell_type": "code",
      "metadata": {
        "id": "srqpJ7ggxh6k"
      },
      "source": [
        "def to_one_hot(labels, dimension=46):\n",
        "    results = np.zeros((len(labels), dimension))\n",
        "    for i, label in enumerate(labels):\n",
        "        results[i, label] = 1.\n",
        "    return results\n",
        "    \n",
        "y_train = to_one_hot(train_labels)\n",
        "y_test = to_one_hot(test_labels)"
      ],
      "execution_count": 36,
      "outputs": []
    },
    {
      "cell_type": "code",
      "metadata": {
        "id": "oXv_Du2vxh6k"
      },
      "source": [
        "from tensorflow.keras.utils import to_categorical\n",
        "\n",
        "y_train = to_categorical(train_labels)\n",
        "y_test = to_categorical(test_labels)"
      ],
      "execution_count": 37,
      "outputs": []
    },
    {
      "cell_type": "markdown",
      "metadata": {
        "id": "5R4pX8KLxh6k"
      },
      "source": [
        "### Building (initial) model"
      ]
    },
    {
      "cell_type": "markdown",
      "metadata": {
        "id": "uGU5Ex_gxh6k"
      },
      "source": [
        "#### Model definition"
      ]
    },
    {
      "cell_type": "code",
      "metadata": {
        "id": "lSeVv-voxh6k"
      },
      "source": [
        "model = keras.Sequential([\n",
        "    layers.Dense(64, activation=\"relu\"),\n",
        "    layers.Dense(64, activation=\"relu\"),\n",
        "    layers.Dense(46, activation=\"softmax\")\n",
        "])"
      ],
      "execution_count": 38,
      "outputs": []
    },
    {
      "cell_type": "markdown",
      "metadata": {
        "id": "Hg1Y1SpMxh6k"
      },
      "source": [
        "#### Compiling the model"
      ]
    },
    {
      "cell_type": "code",
      "metadata": {
        "id": "EInD8W2axh6k"
      },
      "source": [
        "model.compile(optimizer=\"rmsprop\",\n",
        "              loss=\"categorical_crossentropy\",\n",
        "              metrics=[\"accuracy\"])"
      ],
      "execution_count": 39,
      "outputs": []
    },
    {
      "cell_type": "markdown",
      "metadata": {
        "id": "NaBg251Axh6k"
      },
      "source": [
        "### Validating your approach"
      ]
    },
    {
      "cell_type": "markdown",
      "metadata": {
        "id": "s74Gi5vvxh6k"
      },
      "source": [
        "#### Setting aside a validation set"
      ]
    },
    {
      "cell_type": "code",
      "metadata": {
        "id": "OjMkDhn-xh6k"
      },
      "source": [
        "x_val = x_train[:1000]\n",
        "partial_x_train = x_train[1000:]\n",
        "y_val = y_train[:1000]\n",
        "partial_y_train = y_train[1000:]"
      ],
      "execution_count": 40,
      "outputs": []
    },
    {
      "cell_type": "markdown",
      "metadata": {
        "id": "0eOTJNH_xh6k"
      },
      "source": [
        "#### Training the model"
      ]
    },
    {
      "cell_type": "code",
      "metadata": {
        "id": "-B2WgrGZxh6l",
        "colab": {
          "base_uri": "https://localhost:8080/"
        },
        "outputId": "aecc6672-85ce-4631-cb90-098f29bf40e9"
      },
      "source": [
        "history = model.fit(partial_x_train,\n",
        "                    partial_y_train,\n",
        "                    epochs=20,\n",
        "                    batch_size=512,\n",
        "                    validation_data=(x_val, y_val))"
      ],
      "execution_count": 41,
      "outputs": [
        {
          "output_type": "stream",
          "name": "stdout",
          "text": [
            "Epoch 1/20\n",
            "16/16 [==============================] - 1s 54ms/step - loss: 2.7414 - accuracy: 0.5089 - val_loss: 1.7841 - val_accuracy: 0.6340\n",
            "Epoch 2/20\n",
            "16/16 [==============================] - 1s 45ms/step - loss: 1.4268 - accuracy: 0.7106 - val_loss: 1.2964 - val_accuracy: 0.7180\n",
            "Epoch 3/20\n",
            "16/16 [==============================] - 1s 47ms/step - loss: 1.0369 - accuracy: 0.7791 - val_loss: 1.1072 - val_accuracy: 0.7650\n",
            "Epoch 4/20\n",
            "16/16 [==============================] - 1s 44ms/step - loss: 0.8094 - accuracy: 0.8252 - val_loss: 1.0121 - val_accuracy: 0.7850\n",
            "Epoch 5/20\n",
            "16/16 [==============================] - 1s 43ms/step - loss: 0.6478 - accuracy: 0.8609 - val_loss: 0.9724 - val_accuracy: 0.8020\n",
            "Epoch 6/20\n",
            "16/16 [==============================] - 1s 44ms/step - loss: 0.5188 - accuracy: 0.8915 - val_loss: 0.9133 - val_accuracy: 0.8110\n",
            "Epoch 7/20\n",
            "16/16 [==============================] - 1s 44ms/step - loss: 0.4163 - accuracy: 0.9132 - val_loss: 0.8924 - val_accuracy: 0.8130\n",
            "Epoch 8/20\n",
            "16/16 [==============================] - 1s 43ms/step - loss: 0.3405 - accuracy: 0.9282 - val_loss: 0.8770 - val_accuracy: 0.8220\n",
            "Epoch 9/20\n",
            "16/16 [==============================] - 1s 44ms/step - loss: 0.2787 - accuracy: 0.9386 - val_loss: 0.8950 - val_accuracy: 0.8140\n",
            "Epoch 10/20\n",
            "16/16 [==============================] - 1s 44ms/step - loss: 0.2381 - accuracy: 0.9458 - val_loss: 0.9054 - val_accuracy: 0.8130\n",
            "Epoch 11/20\n",
            "16/16 [==============================] - 1s 43ms/step - loss: 0.2071 - accuracy: 0.9485 - val_loss: 0.9802 - val_accuracy: 0.8010\n",
            "Epoch 12/20\n",
            "16/16 [==============================] - 1s 44ms/step - loss: 0.1825 - accuracy: 0.9518 - val_loss: 0.9340 - val_accuracy: 0.8200\n",
            "Epoch 13/20\n",
            "16/16 [==============================] - 1s 43ms/step - loss: 0.1649 - accuracy: 0.9528 - val_loss: 0.9289 - val_accuracy: 0.8200\n",
            "Epoch 14/20\n",
            "16/16 [==============================] - 1s 43ms/step - loss: 0.1490 - accuracy: 0.9553 - val_loss: 0.9888 - val_accuracy: 0.8140\n",
            "Epoch 15/20\n",
            "16/16 [==============================] - 1s 45ms/step - loss: 0.1350 - accuracy: 0.9577 - val_loss: 0.9919 - val_accuracy: 0.8060\n",
            "Epoch 16/20\n",
            "16/16 [==============================] - 1s 44ms/step - loss: 0.1287 - accuracy: 0.9585 - val_loss: 1.0931 - val_accuracy: 0.7870\n",
            "Epoch 17/20\n",
            "16/16 [==============================] - 1s 43ms/step - loss: 0.1287 - accuracy: 0.9553 - val_loss: 1.0332 - val_accuracy: 0.8100\n",
            "Epoch 18/20\n",
            "16/16 [==============================] - 1s 45ms/step - loss: 0.1199 - accuracy: 0.9577 - val_loss: 1.0225 - val_accuracy: 0.8140\n",
            "Epoch 19/20\n",
            "16/16 [==============================] - 1s 44ms/step - loss: 0.1137 - accuracy: 0.9572 - val_loss: 1.0447 - val_accuracy: 0.8090\n",
            "Epoch 20/20\n",
            "16/16 [==============================] - 1s 42ms/step - loss: 0.1126 - accuracy: 0.9580 - val_loss: 1.0802 - val_accuracy: 0.8050\n"
          ]
        }
      ]
    },
    {
      "cell_type": "code",
      "source": [
        "#####################################################################\n",
        "# evaluate the model  \n",
        "#####################################################################\n",
        "results = model.evaluate(partial_x_train, partial_y_train)\n",
        "results = model.evaluate(x_val, y_val)\n",
        "results = model.evaluate(x_test, y_test)"
      ],
      "metadata": {
        "colab": {
          "base_uri": "https://localhost:8080/"
        },
        "id": "aqK84I8e4UV1",
        "outputId": "21c32456-2fed-436b-9f0f-179d16e29690"
      },
      "execution_count": 42,
      "outputs": [
        {
          "output_type": "stream",
          "name": "stdout",
          "text": [
            "250/250 [==============================] - 1s 3ms/step - loss: 0.0818 - accuracy: 0.9683\n",
            "32/32 [==============================] - 0s 3ms/step - loss: 1.0802 - accuracy: 0.8050\n",
            "71/71 [==============================] - 0s 2ms/step - loss: 1.2023 - accuracy: 0.7907\n"
          ]
        }
      ]
    },
    {
      "cell_type": "markdown",
      "metadata": {
        "id": "Pic3C9saxh6l"
      },
      "source": [
        "#### Plotting the training and validation loss"
      ]
    },
    {
      "cell_type": "code",
      "metadata": {
        "id": "6YiutR18xh6l",
        "colab": {
          "base_uri": "https://localhost:8080/",
          "height": 295
        },
        "outputId": "9089f0f1-577b-4499-a536-b95a167e2666"
      },
      "source": [
        "loss = history.history[\"loss\"]\n",
        "val_loss = history.history[\"val_loss\"]\n",
        "epochs = range(1, len(loss) + 1)\n",
        "\n",
        "plt.plot(epochs, loss, \"bo\", label=\"Training loss\")\n",
        "plt.plot(epochs, val_loss, \"b\", label=\"Validation loss\")\n",
        "plt.title(\"Training and validation loss\")\n",
        "plt.xlabel(\"Epochs\")\n",
        "plt.ylabel(\"Loss\")\n",
        "plt.legend()\n",
        "plt.show()"
      ],
      "execution_count": 43,
      "outputs": [
        {
          "output_type": "display_data",
          "data": {
            "text/plain": [
              "<Figure size 432x288 with 1 Axes>"
            ],
            "image/png": "[encoded data removed]"
          },
          "metadata": {
            "needs_background": "light"
          }
        }
      ]
    },
    {
      "cell_type": "markdown",
      "metadata": {
        "id": "9JmGj8BQxh6l"
      },
      "source": [
        "#### Plotting the training and validation accuracy"
      ]
    },
    {
      "cell_type": "code",
      "metadata": {
        "id": "qRJH4bWjxh6l",
        "colab": {
          "base_uri": "https://localhost:8080/",
          "height": 295
        },
        "outputId": "4524004d-3ef5-4780-8930-b420b59a6cba"
      },
      "source": [
        "plt.clf()\n",
        "\n",
        "acc = history.history[\"accuracy\"]\n",
        "val_acc = history.history[\"val_accuracy\"]\n",
        "\n",
        "plt.plot(epochs, acc, \"bo\", label=\"Training accuracy\")\n",
        "plt.plot(epochs, val_acc, \"b\", label=\"Validation accuracy\")\n",
        "plt.title(\"Training and validation accuracy\")\n",
        "plt.xlabel(\"Epochs\")\n",
        "plt.ylabel(\"Accuracy\")\n",
        "plt.legend()\n",
        "plt.show()"
      ],
      "execution_count": 44,
      "outputs": [
        {
          "output_type": "display_data",
          "data": {
            "text/plain": [
              "<Figure size 432x288 with 1 Axes>"
            ],
            "image/png": "[encoded data removed]"
          },
          "metadata": {
            "needs_background": "light"
          }
        }
      ]
    },
    {
      "cell_type": "code",
      "source": [
        "# \n",
        "# let's try and display the Confusion Matrix if we can\n",
        "# we try and leverage the same code from IMDB data set\n",
        "#\n",
        "from sklearn import metrics\n",
        "from sklearn.metrics import ConfusionMatrixDisplay\n",
        "from sklearn.metrics import ConfusionMatrixDisplay\n",
        "from sklearn.metrics import confusion_matrix\n",
        "\n",
        "import numpy as np\n",
        "import matplotlib.pyplot as plt\n",
        "\n",
        "import seaborn as sns\n",
        "\n",
        "\n",
        "#\n",
        "# get predicted value from validation data set\n",
        "#\n",
        "y_pred = model.predict(x_val)\n",
        "Y_pred = np.argmax(y_pred, 1)\n",
        "\n",
        "Y_test = np.argmax(y_val, 1)    # get actual value from validation data set\n",
        "\n",
        "cm = confusion_matrix(Y_test,Y_pred)\n",
        "\n",
        "#\n",
        "# note that the labels are NOT 0-45 as some classifications \n",
        "# do not exist in the (validation) data set\n",
        "#\n",
        "#cmp = ConfusionMatrixDisplay(cm, display_labels=np.arange(46))\n",
        "\n",
        "#disp = metrics.ConfusionMatrixDisplay.from_predictions(Y_test, Y_pred)\n",
        "\n",
        "#print (disp.display_labels)   \n",
        "\n",
        "cmp = ConfusionMatrixDisplay(\n",
        "    cm, \n",
        "    display_labels=metrics.ConfusionMatrixDisplay.from_predictions(Y_test, Y_pred).display_labels\n",
        "    )\n",
        "\n",
        "#\n",
        "# print confusion matrix, expanded to support greater size\n",
        "#\n",
        "fig, ax = plt.subplots(figsize=(15,15))\n",
        "cmp.plot(ax=ax)\n",
        "\n",
        "#plt.show()"
      ],
      "metadata": {
        "colab": {
          "base_uri": "https://localhost:8080/",
          "height": 1000
        },
        "id": "PIXkVYKsFSP6",
        "outputId": "c762d715-d786-40ac-fbdb-298494e46248"
      },
      "execution_count": 45,
      "outputs": [
        {
          "output_type": "execute_result",
          "data": {
            "text/plain": [
              "<sklearn.metrics._plot.confusion_matrix.ConfusionMatrixDisplay at 0x7f91451167d0>"
            ]
          },
          "metadata": {},
          "execution_count": 45
        },
        {
          "output_type": "display_data",
          "data": {
            "text/plain": [
              "<Figure size 432x288 with 2 Axes>"
            ],
            "image/png": "[encoded data removed]"
          },
          "metadata": {
            "needs_background": "light"
          }
        },
        {
          "output_type": "display_data",
          "data": {
            "text/plain": [
              "<Figure size 1080x1080 with 2 Axes>"
            ],
            "image/png": "[encoded data removed]"
          },
          "metadata": {
            "needs_background": "light"
          }
        }
      ]
    },
    {
      "cell_type": "markdown",
      "metadata": {
        "id": "84mqw1BAy2wa"
      },
      "source": [
        "### (OPTIONAL) TODO 5\n",
        "\n",
        "Write code to try different combinations of:\n",
        "- numbers of hidden layers and units per layer \n",
        "\n",
        "Please refrain from using better architectures and \"advanced\" techniques to curb overfitting (e.g., dropout, batch normalization, weight regularization, etc.)\n",
        "\n",
        "****\n",
        "\n",
        "**SEE BELOW**"
      ]
    },
    {
      "cell_type": "markdown",
      "metadata": {
        "id": "UYlIZAhOxh6l"
      },
      "source": [
        "### Building / Retraining model from scratch"
      ]
    },
    {
      "cell_type": "code",
      "metadata": {
        "id": "Ijowt_xKxh6l",
        "colab": {
          "base_uri": "https://localhost:8080/"
        },
        "outputId": "f5457d0b-4f5a-4f60-fd24-9ae9c28f1594"
      },
      "source": [
        "############################################################################ \n",
        "# Build a new model and retrain, trying a few different parameters to see \n",
        "# what the results look like the first being the number of epochs and then \n",
        "# units per Dense network layer and then we add an additional layer. \n",
        "############################################################################\n",
        "\n",
        "model2 = keras.Sequential([\n",
        "  layers.Dense(128, activation=\"relu\"),\n",
        "  layers.Dense(128, activation=\"relu\"),\n",
        "  layers.Dense(128, activation=\"relu\"),\n",
        "  layers.Dense(46, activation=\"softmax\")\n",
        "])\n",
        "\n",
        "model2.compile(optimizer=\"rmsprop\",\n",
        "              loss=\"categorical_crossentropy\",\n",
        "              metrics=[\"accuracy\"])\n",
        "\n",
        "history2 = model2.fit(x_train,\n",
        "                    y_train,\n",
        "                    epochs=8,\n",
        "                    batch_size=512,\n",
        "                    validation_data=(x_test, y_test))"
      ],
      "execution_count": 46,
      "outputs": [
        {
          "output_type": "stream",
          "name": "stdout",
          "text": [
            "Epoch 1/8\n",
            "18/18 [==============================] - 2s 93ms/step - loss: 2.1005 - accuracy: 0.5662 - val_loss: 1.3827 - val_accuracy: 0.6941\n",
            "Epoch 2/8\n",
            "18/18 [==============================] - 1s 72ms/step - loss: 1.0859 - accuracy: 0.7587 - val_loss: 1.1751 - val_accuracy: 0.7315\n",
            "Epoch 3/8\n",
            "18/18 [==============================] - 1s 71ms/step - loss: 0.7997 - accuracy: 0.8199 - val_loss: 1.0290 - val_accuracy: 0.7747\n",
            "Epoch 4/8\n",
            "18/18 [==============================] - 1s 72ms/step - loss: 0.5646 - accuracy: 0.8762 - val_loss: 1.1381 - val_accuracy: 0.7413\n",
            "Epoch 5/8\n",
            "18/18 [==============================] - 2s 97ms/step - loss: 0.4133 - accuracy: 0.9051 - val_loss: 1.2588 - val_accuracy: 0.7244\n",
            "Epoch 6/8\n",
            "18/18 [==============================] - 1s 72ms/step - loss: 0.3296 - accuracy: 0.9271 - val_loss: 0.9736 - val_accuracy: 0.8001\n",
            "Epoch 7/8\n",
            "18/18 [==============================] - 1s 73ms/step - loss: 0.2559 - accuracy: 0.9410 - val_loss: 1.0957 - val_accuracy: 0.7805\n",
            "Epoch 8/8\n",
            "18/18 [==============================] - 1s 72ms/step - loss: 0.2372 - accuracy: 0.9391 - val_loss: 0.9854 - val_accuracy: 0.8063\n"
          ]
        }
      ]
    },
    {
      "cell_type": "code",
      "source": [
        "#####################################################################\n",
        "# evaluate the new model  \n",
        "#####################################################################\n",
        "results = model2.evaluate(partial_x_train, partial_y_train)\n",
        "results = model2.evaluate(x_val, y_val)\n",
        "results = model2.evaluate(x_test, y_test)"
      ],
      "metadata": {
        "colab": {
          "base_uri": "https://localhost:8080/"
        },
        "outputId": "e935111c-1bad-42c6-8a68-fafdfdaad075",
        "id": "QkNaYLfw5Qv6"
      },
      "execution_count": 47,
      "outputs": [
        {
          "output_type": "stream",
          "name": "stdout",
          "text": [
            "250/250 [==============================] - 1s 3ms/step - loss: 0.1572 - accuracy: 0.9604\n",
            "32/32 [==============================] - 0s 3ms/step - loss: 0.1499 - accuracy: 0.9710\n",
            "71/71 [==============================] - 0s 3ms/step - loss: 0.9854 - accuracy: 0.8063\n"
          ]
        }
      ]
    },
    {
      "cell_type": "code",
      "source": [
        "loss = history2.history[\"loss\"]\n",
        "val_loss = history2.history[\"val_loss\"]\n",
        "epochs = range(1, len(loss) + 1)\n",
        "\n",
        "plt.plot(epochs, loss, \"bo\", label=\"Training loss\")\n",
        "plt.plot(epochs, val_loss, \"b\", label=\"Validation loss\")\n",
        "plt.title(\"Training and validation loss\")\n",
        "plt.xlabel(\"Epochs\")\n",
        "plt.ylabel(\"Loss\")\n",
        "plt.legend()\n",
        "plt.show()"
      ],
      "metadata": {
        "colab": {
          "base_uri": "https://localhost:8080/",
          "height": 295
        },
        "id": "sBo-wsaE5od7",
        "outputId": "a2bca1d2-8a66-4916-fbac-5bae7d2cd827"
      },
      "execution_count": 48,
      "outputs": [
        {
          "output_type": "display_data",
          "data": {
            "text/plain": [
              "<Figure size 432x288 with 1 Axes>"
            ],
            "image/png": "[encoded data removed]"
          },
          "metadata": {
            "needs_background": "light"
          }
        }
      ]
    },
    {
      "cell_type": "code",
      "source": [
        "plt.clf()\n",
        "\n",
        "acc = history2.history[\"accuracy\"]\n",
        "val_acc = history2.history[\"val_accuracy\"]\n",
        "\n",
        "plt.plot(epochs, acc, \"bo\", label=\"Training accuracy\")\n",
        "plt.plot(epochs, val_acc, \"b\", label=\"Validation accuracy\")\n",
        "plt.title(\"Training and validation accuracy\")\n",
        "plt.xlabel(\"Epochs\")\n",
        "plt.ylabel(\"Accuracy\")\n",
        "plt.legend()\n",
        "plt.show()"
      ],
      "metadata": {
        "colab": {
          "base_uri": "https://localhost:8080/",
          "height": 295
        },
        "id": "_aG9wGbH6TQ3",
        "outputId": "67bc2017-dc88-4bad-d850-529548b6dfb6"
      },
      "execution_count": 49,
      "outputs": [
        {
          "output_type": "display_data",
          "data": {
            "text/plain": [
              "<Figure size 432x288 with 1 Axes>"
            ],
            "image/png": "[encoded data removed]"
          },
          "metadata": {
            "needs_background": "light"
          }
        }
      ]
    },
    {
      "cell_type": "code",
      "metadata": {
        "id": "HX4pyH29xh6l",
        "colab": {
          "base_uri": "https://localhost:8080/"
        },
        "outputId": "31589a18-2fa0-4b6d-f663-685f536e5b88"
      },
      "source": [
        "# here, following the text, we calcualte what the accuracy \n",
        "# rate would be for a random classifier\n",
        "#\n",
        "import copy\n",
        "\n",
        "test_labels_copy = copy.copy(test_labels)\n",
        "np.random.shuffle(test_labels_copy)\n",
        "hits_array = np.array(test_labels) == np.array(test_labels_copy)\n",
        "hits_array.mean()"
      ],
      "execution_count": 50,
      "outputs": [
        {
          "output_type": "execute_result",
          "data": {
            "text/plain": [
              "0.19590382902938558"
            ]
          },
          "metadata": {},
          "execution_count": 50
        }
      ]
    },
    {
      "cell_type": "markdown",
      "metadata": {
        "id": "l3dqoSqLxh6l"
      },
      "source": [
        "### Generating predictions on new data"
      ]
    },
    {
      "cell_type": "code",
      "metadata": {
        "id": "uYgeNbuqtyXm"
      },
      "source": [
        "predictions = model2.predict(x_test)"
      ],
      "execution_count": 51,
      "outputs": []
    },
    {
      "cell_type": "code",
      "metadata": {
        "colab": {
          "base_uri": "https://localhost:8080/"
        },
        "id": "wmT-HLN-tyXn",
        "outputId": "0613da6f-79dc-4d54-fd70-f2562052b052"
      },
      "source": [
        "predictions[0].shape"
      ],
      "execution_count": 52,
      "outputs": [
        {
          "output_type": "execute_result",
          "data": {
            "text/plain": [
              "(46,)"
            ]
          },
          "metadata": {},
          "execution_count": 52
        }
      ]
    },
    {
      "cell_type": "code",
      "metadata": {
        "colab": {
          "base_uri": "https://localhost:8080/"
        },
        "id": "HRZlehzityXp",
        "outputId": "a4c5a0b9-3880-44f4-f2d3-45b1db273e2e"
      },
      "source": [
        "np.sum(predictions[0])"
      ],
      "execution_count": 53,
      "outputs": [
        {
          "output_type": "execute_result",
          "data": {
            "text/plain": [
              "1.0000002"
            ]
          },
          "metadata": {},
          "execution_count": 53
        }
      ]
    },
    {
      "cell_type": "code",
      "metadata": {
        "colab": {
          "base_uri": "https://localhost:8080/"
        },
        "id": "YpKyKUaAtyXp",
        "outputId": "1d87d729-ce66-4588-fb1a-799d46909940"
      },
      "source": [
        "np.argmax(predictions[0])"
      ],
      "execution_count": 54,
      "outputs": [
        {
          "output_type": "execute_result",
          "data": {
            "text/plain": [
              "3"
            ]
          },
          "metadata": {},
          "execution_count": 54
        }
      ]
    },
    {
      "cell_type": "markdown",
      "metadata": {
        "id": "FayQJz8e4QK-"
      },
      "source": [
        "### CONCLUSIONS\n",
        "\n",
        "\n",
        "***Questions: PART 2:***\n",
        "\n",
        "**(1) What type of preprocessing was applied to the raw input data? Why was\n",
        "it necessary to do so?**\n",
        "\n",
        "*Same type of preprocessing was done here in this example as was done in the IMDB data set example - converting text to integers, maxing out the number of words that we want to manage (10,000) and then 'vectorizing' the integers (word representations) using one hot encoding. All of this is necessary so that the network can work with the data - ie perform the necessary matrix multiplication and other functions necessary to move between layers and process the data (integers are not all the same size).*\n",
        "\n",
        "**(2) How many categories are there in this case?**\n",
        "\n",
        "*In this case we are dealing with 46 categorizes of data, versus the 2 in the IMDB (binary classification) case. This case is called 'multiclass classification'.* The resulting predictions are an array of 46 values with a probability for each of the categories in the classification set, with the total of 46 entries adding up to one (argmax beung the most probable outcome, or prediction).\n",
        "\n",
        "**(3) Does your model suffer from overfitting? If so, what would you suggest\n",
        "doing about it?**\n",
        "\n",
        "*Yes, just as the IMDB data set did. The recommended approach in these cases, at least the most simple and straightforward, is to stop training the data set as it starts to over fit, so - review how it does with your baseline set of trauning cycles (epochs) and then see where it starts to overfit and then stop training. Looks like that value is around 7 or 9 epochs, regardless of the size, # of units, of the neural network or the number of layers we use.*\n",
        "\n",
        "**(4) Is accuracy a good metric of success in this case? Why (not)?**\n",
        "\n",
        "*Good enough, gives us a good indication as to the probability of a given classification for a given input data set. This is all we can ask for I would think.*\n",
        "\n",
        "\n",
        "**(5) What can you say about the different model variations?**\n",
        "\n",
        "*The second model, which had fewer epochs (to avoid overfitting), added one extra layer and doubled the size of the units (dimensions) per layer, performed much better on the full validation set but the same on test_data. Predictions (accuracy) are clearly very data specific.*"
      ]
    },
    {
      "cell_type": "markdown",
      "metadata": {
        "id": "fl1SvjrIxh6m"
      },
      "source": [
        "## PART 3 - Regression for house price estimation using the Boston Housing Price dataset"
      ]
    },
    {
      "cell_type": "markdown",
      "metadata": {
        "id": "xH8hygQBxh6m"
      },
      "source": [
        "#### Loading the Boston housing dataset"
      ]
    },
    {
      "cell_type": "code",
      "metadata": {
        "id": "Bw_cuN9_xh6m",
        "colab": {
          "base_uri": "https://localhost:8080/"
        },
        "outputId": "cf8d596e-92b1-4647-ba65-944cb559f6af"
      },
      "source": [
        "from tensorflow.keras.datasets import boston_housing\n",
        "(train_data, train_targets), (test_data, test_targets) = boston_housing.load_data()"
      ],
      "execution_count": 55,
      "outputs": [
        {
          "output_type": "stream",
          "name": "stdout",
          "text": [
            "Downloading data from https://storage.googleapis.com/tensorflow/tf-keras-datasets/boston_housing.npz\n",
            "57344/57026 [==============================] - 0s 0us/step\n",
            "65536/57026 [==================================] - 0s 0us/step\n"
          ]
        }
      ]
    },
    {
      "cell_type": "code",
      "metadata": {
        "id": "qcQzcVTTxh6m",
        "colab": {
          "base_uri": "https://localhost:8080/"
        },
        "outputId": "5a63a29f-61d8-40b9-c5dd-d9d790c43581"
      },
      "source": [
        "train_data.shape"
      ],
      "execution_count": 56,
      "outputs": [
        {
          "output_type": "execute_result",
          "data": {
            "text/plain": [
              "(404, 13)"
            ]
          },
          "metadata": {},
          "execution_count": 56
        }
      ]
    },
    {
      "cell_type": "code",
      "metadata": {
        "id": "mqRzjeWdxh6m",
        "colab": {
          "base_uri": "https://localhost:8080/"
        },
        "outputId": "b6ccdd76-107c-486e-cec4-627aeaf6b43e"
      },
      "source": [
        "test_data.shape"
      ],
      "execution_count": 57,
      "outputs": [
        {
          "output_type": "execute_result",
          "data": {
            "text/plain": [
              "(102, 13)"
            ]
          },
          "metadata": {},
          "execution_count": 57
        }
      ]
    },
    {
      "cell_type": "code",
      "metadata": {
        "id": "2DKZJfIFxh6m",
        "colab": {
          "base_uri": "https://localhost:8080/"
        },
        "outputId": "71d7e323-3cb3-41b5-a51b-4e7ac02b94d8"
      },
      "source": [
        "train_targets"
      ],
      "execution_count": 58,
      "outputs": [
        {
          "output_type": "execute_result",
          "data": {
            "text/plain": [
              "array([15.2, 42.3, 50. , 21.1, 17.7, 18.5, 11.3, 15.6, 15.6, 14.4, 12.1,\n",
              "       17.9, 23.1, 19.9, 15.7,  8.8, 50. , 22.5, 24.1, 27.5, 10.9, 30.8,\n",
              "       32.9, 24. , 18.5, 13.3, 22.9, 34.7, 16.6, 17.5, 22.3, 16.1, 14.9,\n",
              "       23.1, 34.9, 25. , 13.9, 13.1, 20.4, 20. , 15.2, 24.7, 22.2, 16.7,\n",
              "       12.7, 15.6, 18.4, 21. , 30.1, 15.1, 18.7,  9.6, 31.5, 24.8, 19.1,\n",
              "       22. , 14.5, 11. , 32. , 29.4, 20.3, 24.4, 14.6, 19.5, 14.1, 14.3,\n",
              "       15.6, 10.5,  6.3, 19.3, 19.3, 13.4, 36.4, 17.8, 13.5, 16.5,  8.3,\n",
              "       14.3, 16. , 13.4, 28.6, 43.5, 20.2, 22. , 23. , 20.7, 12.5, 48.5,\n",
              "       14.6, 13.4, 23.7, 50. , 21.7, 39.8, 38.7, 22.2, 34.9, 22.5, 31.1,\n",
              "       28.7, 46. , 41.7, 21. , 26.6, 15. , 24.4, 13.3, 21.2, 11.7, 21.7,\n",
              "       19.4, 50. , 22.8, 19.7, 24.7, 36.2, 14.2, 18.9, 18.3, 20.6, 24.6,\n",
              "       18.2,  8.7, 44. , 10.4, 13.2, 21.2, 37. , 30.7, 22.9, 20. , 19.3,\n",
              "       31.7, 32. , 23.1, 18.8, 10.9, 50. , 19.6,  5. , 14.4, 19.8, 13.8,\n",
              "       19.6, 23.9, 24.5, 25. , 19.9, 17.2, 24.6, 13.5, 26.6, 21.4, 11.9,\n",
              "       22.6, 19.6,  8.5, 23.7, 23.1, 22.4, 20.5, 23.6, 18.4, 35.2, 23.1,\n",
              "       27.9, 20.6, 23.7, 28. , 13.6, 27.1, 23.6, 20.6, 18.2, 21.7, 17.1,\n",
              "        8.4, 25.3, 13.8, 22.2, 18.4, 20.7, 31.6, 30.5, 20.3,  8.8, 19.2,\n",
              "       19.4, 23.1, 23. , 14.8, 48.8, 22.6, 33.4, 21.1, 13.6, 32.2, 13.1,\n",
              "       23.4, 18.9, 23.9, 11.8, 23.3, 22.8, 19.6, 16.7, 13.4, 22.2, 20.4,\n",
              "       21.8, 26.4, 14.9, 24.1, 23.8, 12.3, 29.1, 21. , 19.5, 23.3, 23.8,\n",
              "       17.8, 11.5, 21.7, 19.9, 25. , 33.4, 28.5, 21.4, 24.3, 27.5, 33.1,\n",
              "       16.2, 23.3, 48.3, 22.9, 22.8, 13.1, 12.7, 22.6, 15. , 15.3, 10.5,\n",
              "       24. , 18.5, 21.7, 19.5, 33.2, 23.2,  5. , 19.1, 12.7, 22.3, 10.2,\n",
              "       13.9, 16.3, 17. , 20.1, 29.9, 17.2, 37.3, 45.4, 17.8, 23.2, 29. ,\n",
              "       22. , 18. , 17.4, 34.6, 20.1, 25. , 15.6, 24.8, 28.2, 21.2, 21.4,\n",
              "       23.8, 31. , 26.2, 17.4, 37.9, 17.5, 20. ,  8.3, 23.9,  8.4, 13.8,\n",
              "        7.2, 11.7, 17.1, 21.6, 50. , 16.1, 20.4, 20.6, 21.4, 20.6, 36.5,\n",
              "        8.5, 24.8, 10.8, 21.9, 17.3, 18.9, 36.2, 14.9, 18.2, 33.3, 21.8,\n",
              "       19.7, 31.6, 24.8, 19.4, 22.8,  7.5, 44.8, 16.8, 18.7, 50. , 50. ,\n",
              "       19.5, 20.1, 50. , 17.2, 20.8, 19.3, 41.3, 20.4, 20.5, 13.8, 16.5,\n",
              "       23.9, 20.6, 31.5, 23.3, 16.8, 14. , 33.8, 36.1, 12.8, 18.3, 18.7,\n",
              "       19.1, 29. , 30.1, 50. , 50. , 22. , 11.9, 37.6, 50. , 22.7, 20.8,\n",
              "       23.5, 27.9, 50. , 19.3, 23.9, 22.6, 15.2, 21.7, 19.2, 43.8, 20.3,\n",
              "       33.2, 19.9, 22.5, 32.7, 22. , 17.1, 19. , 15. , 16.1, 25.1, 23.7,\n",
              "       28.7, 37.2, 22.6, 16.4, 25. , 29.8, 22.1, 17.4, 18.1, 30.3, 17.5,\n",
              "       24.7, 12.6, 26.5, 28.7, 13.3, 10.4, 24.4, 23. , 20. , 17.8,  7. ,\n",
              "       11.8, 24.4, 13.8, 19.4, 25.2, 19.4, 19.4, 29.1])"
            ]
          },
          "metadata": {},
          "execution_count": 58
        }
      ]
    },
    {
      "cell_type": "markdown",
      "metadata": {
        "id": "mRV06OTNxh6m"
      },
      "source": [
        "### Preparing the data"
      ]
    },
    {
      "cell_type": "markdown",
      "metadata": {
        "id": "NUDEXKrnxh6m"
      },
      "source": [
        "#### Normalizing the data"
      ]
    },
    {
      "cell_type": "code",
      "metadata": {
        "id": "xTNRwpHZxh6m"
      },
      "source": [
        "mean = train_data.mean(axis=0)\n",
        "train_data -= mean\n",
        "std = train_data.std(axis=0)\n",
        "train_data /= std\n",
        "test_data -= mean\n",
        "test_data /= std"
      ],
      "execution_count": 59,
      "outputs": []
    },
    {
      "cell_type": "markdown",
      "metadata": {
        "id": "Ak5QuOrRxh6m"
      },
      "source": [
        "### Building your model"
      ]
    },
    {
      "cell_type": "markdown",
      "metadata": {
        "id": "5_LQDquRxh6m"
      },
      "source": [
        "#### Model definition"
      ]
    },
    {
      "cell_type": "code",
      "metadata": {
        "id": "EH4VsMNyxh6m"
      },
      "source": [
        "def build_model():\n",
        "    model = keras.Sequential([\n",
        "        layers.Dense(64, activation=\"relu\"),\n",
        "        layers.Dense(64, activation=\"relu\"),\n",
        "        layers.Dense(1)\n",
        "    ])\n",
        "    model.compile(optimizer=\"rmsprop\", loss=\"mse\", metrics=[\"mae\"])\n",
        "    return model"
      ],
      "execution_count": 60,
      "outputs": []
    },
    {
      "cell_type": "markdown",
      "metadata": {
        "id": "8_Y_2x1bxh6m"
      },
      "source": [
        "### Validating your approach using K-fold validation"
      ]
    },
    {
      "cell_type": "code",
      "metadata": {
        "id": "lP3j1z76xh6m",
        "colab": {
          "base_uri": "https://localhost:8080/"
        },
        "outputId": "083e3570-da00-49f7-81b7-6eae6952250d"
      },
      "source": [
        "k = 4\n",
        "num_val_samples = len(train_data) // k\n",
        "num_epochs = 100\n",
        "all_scores = []\n",
        "\n",
        "for i in range(k):\n",
        "\n",
        "#    print(f\"Processing fold #{i}\")\n",
        "    \n",
        "    firstindex = i*num_val_samples\n",
        "    secondindex = (i+1)*num_val_samples\n",
        "\n",
        "    print(f\"FOLD #{i} Validation Data: train_data[{firstindex}:{secondindex}]\")\n",
        "    \n",
        "    val_data = train_data[i * num_val_samples: (i + 1) * num_val_samples]\n",
        "    val_targets = train_targets[i * num_val_samples: (i + 1) * num_val_samples]\n",
        "\n",
        "    print(f\"val_data shape: {val_data.shape}\")\n",
        "\n",
        "    print(f\"FOLD #{i} (Partial) Train Data: train_data[:{firstindex}] + train_data[{secondindex}:]\")\n",
        "\n",
        "    #\n",
        "    # note that the partial_train_data\n",
        "    # is all of the validation data that is NOT\n",
        "    # included in teh array above, ie val_data\n",
        "    #\n",
        "    partial_train_data = np.concatenate(\n",
        "        [train_data[:i * num_val_samples],\n",
        "         train_data[(i + 1) * num_val_samples:]],\n",
        "        axis=0)\n",
        "    partial_train_targets = np.concatenate(\n",
        "        [train_targets[:i * num_val_samples],\n",
        "         train_targets[(i + 1) * num_val_samples:]],\n",
        "        axis=0)\n",
        "\n",
        "    print(f\"partial_train_data shape: {partial_train_data.shape}\")\n",
        "\n",
        "    print(\"building, fitting and evaluating model...\")\n",
        "\n",
        "    model = build_model()\n",
        "\n",
        "    #\n",
        "    # fit the model against the partial_train_data set\n",
        "    #\n",
        "    model.fit(partial_train_data, partial_train_targets,\n",
        "              epochs=num_epochs, batch_size=16, verbose=0)\n",
        "    \n",
        "    #\n",
        "    # evaluate the model against the validation data set\n",
        "    # then add the mae (mean absolute error) metric to the\n",
        "    # all scores array\n",
        "    #\n",
        "    val_mse, val_mae = model.evaluate(val_data, val_targets, verbose=0)\n",
        "    \n",
        "    print()\n",
        "    \n",
        "    all_scores.append(val_mae)       "
      ],
      "execution_count": 61,
      "outputs": [
        {
          "output_type": "stream",
          "name": "stdout",
          "text": [
            "FOLD #0 Validation Data: train_data[0:101]\n",
            "val_data shape: (101, 13)\n",
            "FOLD #0 (Partial) Train Data: train_data[:0] + train_data[101:]\n",
            "partial_train_data shape: (303, 13)\n",
            "building, fitting and evaluating model...\n",
            "\n",
            "FOLD #1 Validation Data: train_data[101:202]\n",
            "val_data shape: (101, 13)\n",
            "FOLD #1 (Partial) Train Data: train_data[:101] + train_data[202:]\n",
            "partial_train_data shape: (303, 13)\n",
            "building, fitting and evaluating model...\n",
            "\n",
            "FOLD #2 Validation Data: train_data[202:303]\n",
            "val_data shape: (101, 13)\n",
            "FOLD #2 (Partial) Train Data: train_data[:202] + train_data[303:]\n",
            "partial_train_data shape: (303, 13)\n",
            "building, fitting and evaluating model...\n",
            "\n",
            "FOLD #3 Validation Data: train_data[303:404]\n",
            "val_data shape: (101, 13)\n",
            "FOLD #3 (Partial) Train Data: train_data[:303] + train_data[404:]\n",
            "partial_train_data shape: (303, 13)\n",
            "building, fitting and evaluating model...\n",
            "\n"
          ]
        }
      ]
    },
    {
      "cell_type": "code",
      "metadata": {
        "id": "nj-3RiYaxh6m",
        "colab": {
          "base_uri": "https://localhost:8080/"
        },
        "outputId": "9a17119d-a3dc-4653-f799-3cdf60d79ab4"
      },
      "source": [
        "all_scores"
      ],
      "execution_count": 62,
      "outputs": [
        {
          "output_type": "execute_result",
          "data": {
            "text/plain": [
              "[1.8646963834762573, 2.594259738922119, 2.401808977127075, 2.5840258598327637]"
            ]
          },
          "metadata": {},
          "execution_count": 62
        }
      ]
    },
    {
      "cell_type": "code",
      "metadata": {
        "id": "TbaipzZZxh6m",
        "colab": {
          "base_uri": "https://localhost:8080/"
        },
        "outputId": "467a9cdb-afdf-407a-ad4d-01206bf0d889"
      },
      "source": [
        "np.mean(all_scores)"
      ],
      "execution_count": 63,
      "outputs": [
        {
          "output_type": "execute_result",
          "data": {
            "text/plain": [
              "2.361197739839554"
            ]
          },
          "metadata": {},
          "execution_count": 63
        }
      ]
    },
    {
      "cell_type": "markdown",
      "metadata": {
        "id": "AvBk8lMRxh6m"
      },
      "source": [
        "#### Saving the validation logs at each fold"
      ]
    },
    {
      "cell_type": "code",
      "metadata": {
        "id": "-VaF--Ztxh6m",
        "colab": {
          "base_uri": "https://localhost:8080/"
        },
        "outputId": "15a94abe-b639-41b4-be27-4ae36a51af14"
      },
      "source": [
        "num_epochs = 500\n",
        "all_mae_histories = []\n",
        "for i in range(k):\n",
        "    print(f\"Processing fold #{i}\")\n",
        "    val_data = train_data[i * num_val_samples: (i + 1) * num_val_samples]\n",
        "    val_targets = train_targets[i * num_val_samples: (i + 1) * num_val_samples]\n",
        "    partial_train_data = np.concatenate(\n",
        "        [train_data[:i * num_val_samples],\n",
        "         train_data[(i + 1) * num_val_samples:]],\n",
        "        axis=0)\n",
        "    partial_train_targets = np.concatenate(\n",
        "        [train_targets[:i * num_val_samples],\n",
        "         train_targets[(i + 1) * num_val_samples:]],\n",
        "        axis=0)\n",
        "    model = build_model()\n",
        "    history = model.fit(partial_train_data, partial_train_targets,\n",
        "                        validation_data=(val_data, val_targets),\n",
        "                        epochs=num_epochs, batch_size=16, verbose=0)\n",
        "    mae_history = history.history[\"val_mae\"]\n",
        "    all_mae_histories.append(mae_history)"
      ],
      "execution_count": 64,
      "outputs": [
        {
          "output_type": "stream",
          "name": "stdout",
          "text": [
            "Processing fold #0\n",
            "Processing fold #1\n",
            "Processing fold #2\n",
            "Processing fold #3\n"
          ]
        }
      ]
    },
    {
      "cell_type": "markdown",
      "metadata": {
        "id": "qxhUlr1bxh6m"
      },
      "source": [
        "#### Building the history of successive mean K-fold validation scores"
      ]
    },
    {
      "cell_type": "code",
      "metadata": {
        "id": "scyLRwsnxh6m"
      },
      "source": [
        "average_mae_history = [\n",
        "    np.mean([x[i] for x in all_mae_histories]) for i in range(num_epochs)]"
      ],
      "execution_count": 65,
      "outputs": []
    },
    {
      "cell_type": "markdown",
      "metadata": {
        "id": "tL1rhvLNxh6m"
      },
      "source": [
        "#### Plotting validation scores"
      ]
    },
    {
      "cell_type": "code",
      "metadata": {
        "id": "_AtGOs8kxh6n",
        "colab": {
          "base_uri": "https://localhost:8080/",
          "height": 281
        },
        "outputId": "b6524319-5922-4c9d-c469-08d4439ccbcf"
      },
      "source": [
        "plt.plot(range(1, len(average_mae_history) + 1), average_mae_history)\n",
        "plt.xlabel(\"Epochs\")\n",
        "plt.ylabel(\"Validation MAE\")\n",
        "plt.show()"
      ],
      "execution_count": 66,
      "outputs": [
        {
          "output_type": "display_data",
          "data": {
            "text/plain": [
              "<Figure size 432x288 with 1 Axes>"
            ],
            "image/png": "[encoded data removed]"
          },
          "metadata": {
            "needs_background": "light"
          }
        }
      ]
    },
    {
      "cell_type": "markdown",
      "metadata": {
        "id": "88VzqTeDxh6n"
      },
      "source": [
        "#### Plotting validation scores, excluding the first 10 data points"
      ]
    },
    {
      "cell_type": "code",
      "metadata": {
        "id": "nJcHbmEjxh6n",
        "colab": {
          "base_uri": "https://localhost:8080/",
          "height": 281
        },
        "outputId": "9ae6f482-dd6f-4cf3-a752-835fd63ceda9"
      },
      "source": [
        "truncated_mae_history = average_mae_history[10:]\n",
        "plt.plot(range(1, len(truncated_mae_history) + 1), truncated_mae_history)\n",
        "plt.xlabel(\"Epochs\")\n",
        "plt.ylabel(\"Validation MAE\")\n",
        "plt.show()"
      ],
      "execution_count": 67,
      "outputs": [
        {
          "output_type": "display_data",
          "data": {
            "text/plain": [
              "<Figure size 432x288 with 1 Axes>"
            ],
            "image/png": "[encoded data removed]"
          },
          "metadata": {
            "needs_background": "light"
          }
        }
      ]
    },
    {
      "cell_type": "markdown",
      "metadata": {
        "id": "64vzjBATxh6n"
      },
      "source": [
        "### Training the final model"
      ]
    },
    {
      "cell_type": "code",
      "metadata": {
        "id": "0VDrjPVZxh6n",
        "colab": {
          "base_uri": "https://localhost:8080/"
        },
        "outputId": "6dc39b00-1d90-4dc1-ec6c-9881ae0e8ff0"
      },
      "source": [
        "model = build_model()\n",
        "model.fit(train_data, train_targets,\n",
        "          epochs=130, batch_size=16, verbose=0)\n",
        "test_mse_score, test_mae_score = model.evaluate(test_data, test_targets)"
      ],
      "execution_count": 68,
      "outputs": [
        {
          "output_type": "stream",
          "name": "stdout",
          "text": [
            "4/4 [==============================] - 0s 3ms/step - loss: 16.3156 - mae: 2.7541\n"
          ]
        }
      ]
    },
    {
      "cell_type": "code",
      "metadata": {
        "id": "3hZCLbhbxh6n",
        "colab": {
          "base_uri": "https://localhost:8080/"
        },
        "outputId": "b068ea43-d2de-4d76-c6a0-843f103798bd"
      },
      "source": [
        "test_mae_score"
      ],
      "execution_count": 69,
      "outputs": [
        {
          "output_type": "execute_result",
          "data": {
            "text/plain": [
              "2.754063367843628"
            ]
          },
          "metadata": {},
          "execution_count": 69
        }
      ]
    },
    {
      "cell_type": "markdown",
      "metadata": {
        "id": "DowlbY9Sxh6n"
      },
      "source": [
        "### Generating predictions on new data"
      ]
    },
    {
      "cell_type": "code",
      "metadata": {
        "id": "qSVLepPHxh6n",
        "colab": {
          "base_uri": "https://localhost:8080/"
        },
        "outputId": "125e31af-3136-41ce-d61c-63969a943f96"
      },
      "source": [
        "predictions = model.predict(test_data)\n",
        "\n",
        "for i in range(0,10):\n",
        "  print(\"prediction: \", predictions[i])\n",
        "  print(\"test_target: \", test_targets[i])\n",
        "  print(\"test_data:\", test_data[i])"
      ],
      "execution_count": 70,
      "outputs": [
        {
          "output_type": "stream",
          "name": "stdout",
          "text": [
            "prediction:  [9.251123]\n",
            "test_target:  7.2\n",
            "test_data: [ 1.55369355 -0.48361547  1.0283258  -0.25683275  1.03838067  0.23545815\n",
            "  1.11048828 -0.93976936  1.67588577  1.5652875   0.78447637 -3.48459553\n",
            "  2.25092074]\n",
            "prediction:  [19.93405]\n",
            "test_target:  18.8\n",
            "test_data: [-0.39242675 -0.48361547 -0.16087773 -0.25683275 -0.08840061 -0.49947436\n",
            "  0.85606329 -0.68396235 -0.39603557  0.15707841 -0.30759583  0.42733126\n",
            "  0.47880119]\n",
            "prediction:  [22.328657]\n",
            "test_target:  19.0\n",
            "test_data: [-0.39982927 -0.48361547 -0.86940196 -0.25683275 -0.3615597  -0.39790979\n",
            " -0.84607575  0.52864277 -0.51114231 -1.094663    0.78447637  0.44807713\n",
            " -0.41415936]\n",
            "prediction:  [33.20094]\n",
            "test_target:  27.0\n",
            "test_data: [-0.26780504 -0.48361547  1.24588095  3.89358447  0.40670026 -0.02409575\n",
            "  0.84531294 -0.95767141 -0.51114231 -0.01744323 -1.71818909 -0.1687668\n",
            " -0.99934525]\n",
            "prediction:  [24.408495]\n",
            "test_target:  22.2\n",
            "test_data: [-0.39803715 -0.48361547 -0.97229967 -0.25683275 -0.92495034 -0.2060656\n",
            " -0.43756238  0.00361454 -0.74135579 -0.95624928  0.01092523  0.42945904\n",
            " -0.59357956]\n",
            "prediction:  [22.943277]\n",
            "test_target:  24.5\n",
            "test_data: [-0.3754937  -0.48361547 -0.20791668 -0.25683275  0.23597582 -0.48113631\n",
            " -0.94641237 -0.67000565 -0.39603557 -0.08965908  0.32944629  0.44807713\n",
            "  0.11720047]\n",
            "prediction:  [28.554682]\n",
            "test_target:  31.2\n",
            "test_data: [-0.40248169  1.83331764 -1.07666734 -0.25683275 -0.62618258  0.85613053\n",
            " -1.46601271  1.34395055 -0.51114231 -0.21603682 -0.39860185  0.35307168\n",
            " -1.12217908]\n",
            "prediction:  [21.681423]\n",
            "test_target:  22.9\n",
            "test_data: [-0.40193777  0.56953594 -0.91791088 -0.25683275 -1.12128344 -0.14117713\n",
            " -0.79949089  0.81887301 -0.62624905 -0.75163771  0.23844027  0.38147756\n",
            " -0.72193401]\n",
            "prediction:  [20.893253]\n",
            "test_target:  20.5\n",
            "test_data: [-0.39570978 -0.48361547  2.13815109 -0.25683275  0.20183093 -0.43176465\n",
            "  0.85606329 -0.81539201 -0.85646254 -1.31131055  0.28394328  0.24795926\n",
            "  0.71618792]\n",
            "prediction:  [24.139858]\n",
            "test_target:  23.2\n",
            "test_data: [-0.01911637 -0.48361547  1.0283258  -0.25683275  0.19329471  0.23969001\n",
            "  0.21462563 -0.416122    1.67588577  1.5652875   0.78447637  0.41052179\n",
            "  0.22347244]\n"
          ]
        }
      ]
    },
    {
      "cell_type": "markdown",
      "metadata": {
        "id": "cNxMzaMt2kp7"
      },
      "source": [
        "### (OPTIONAL) TODO 6: [MODEL 2]\n",
        "\n",
        "Write code to try different combinations of:\n",
        "- K for K-fold validation\n",
        "- number of epochs\n",
        "- number of units per hidden layer\n",
        "- number of hidden layers \n",
        "\n",
        "Please refrain from using better architectures and \"advanced\" techniques to curb overfitting (e.g., dropout, batch normalization, weight regularization, etc.)\n",
        "\n",
        "****\n",
        "\n",
        "**SEE BELOW**"
      ]
    },
    {
      "cell_type": "code",
      "source": [
        "# \n",
        "# we define a new build_model function with a new underlying model structure\n",
        "# three layers and more units per layer\n",
        "# \n",
        "# note scope of model variable is local here, it is returned however\n",
        "#\n",
        "def build_model2():\n",
        "\n",
        "    model = keras.Sequential([\n",
        "        layers.Dense(128, activation=\"relu\"),\n",
        "        layers.Dense(128, activation=\"relu\"),\n",
        "        layers.Dense(32, activation=\"relu\"),\n",
        "        layers.Dense(1)\n",
        "    ])\n",
        "  \n",
        "    model.compile(optimizer=\"rmsprop\", loss=\"mse\", metrics=[\"mae\"])\n",
        "  \n",
        "    return model"
      ],
      "metadata": {
        "id": "zwwr1gpe8DqG"
      },
      "execution_count": 71,
      "outputs": []
    },
    {
      "cell_type": "code",
      "source": [
        "k = 7                                         # retrain with kfold = 7\n",
        "\n",
        "num_val_samples = len(train_data) // k\n",
        "num_epochs = 100\n",
        "all_scores = []\n",
        "\n",
        "for i in range(k):\n",
        "\n",
        "    #print(f\"Processing fold #{i}\")\n",
        "    firstindex = i*num_val_samples\n",
        "    secondindex = (i+1)*num_val_samples\n",
        "    \n",
        "    print(f\"FOLD #{i} Validation Data: train_data[{firstindex}:{secondindex}]\")\n",
        "\n",
        "    val_data = train_data[i * num_val_samples: (i + 1) * num_val_samples]\n",
        "    val_targets = train_targets[i * num_val_samples: (i + 1) * num_val_samples]\n",
        "\n",
        "    print(f\"val_data shape: {val_data.shape}\")\n",
        "\n",
        "    print(f\"FOLD #{i} (Partial) Train Data: train_data[:{firstindex}] + train_data[{secondindex}:]\")\n",
        "\n",
        "    partial_train_data = np.concatenate(\n",
        "        [train_data[:i * num_val_samples],\n",
        "         train_data[(i + 1) * num_val_samples:]],\n",
        "        axis=0)\n",
        "    partial_train_targets = np.concatenate(\n",
        "        [train_targets[:i * num_val_samples],\n",
        "         train_targets[(i + 1) * num_val_samples:]],\n",
        "        axis=0)\n",
        "\n",
        "    print(f\"partial_train_data shape: {partial_train_data.shape}\")\n",
        "\n",
        "    print(\"building, fitting and evaluating model...\")\n",
        "\n",
        "    model_new = build_model2()          # we use the new model here\n",
        "\n",
        "    model_new.fit(partial_train_data, partial_train_targets,\n",
        "              epochs=num_epochs, batch_size=16, verbose=0)\n",
        "\n",
        "    val_new_mse, val_new_mae = model_new.evaluate(val_data, val_targets, verbose=0)\n",
        "\n",
        "    print()\n",
        "    \n",
        "    all_scores.append(val_new_mae)"
      ],
      "metadata": {
        "colab": {
          "base_uri": "https://localhost:8080/"
        },
        "id": "BAOv9QXkx0kE",
        "outputId": "8db9b281-6b4a-47f9-dd02-203dda425aa1"
      },
      "execution_count": 72,
      "outputs": [
        {
          "output_type": "stream",
          "name": "stdout",
          "text": [
            "FOLD #0 Validation Data: train_data[0:57]\n",
            "val_data shape: (57, 13)\n",
            "FOLD #0 (Partial) Train Data: train_data[:0] + train_data[57:]\n",
            "partial_train_data shape: (347, 13)\n",
            "building, fitting and evaluating model...\n",
            "\n",
            "FOLD #1 Validation Data: train_data[57:114]\n",
            "val_data shape: (57, 13)\n",
            "FOLD #1 (Partial) Train Data: train_data[:57] + train_data[114:]\n",
            "partial_train_data shape: (347, 13)\n",
            "building, fitting and evaluating model...\n",
            "\n",
            "FOLD #2 Validation Data: train_data[114:171]\n",
            "val_data shape: (57, 13)\n",
            "FOLD #2 (Partial) Train Data: train_data[:114] + train_data[171:]\n",
            "partial_train_data shape: (347, 13)\n",
            "building, fitting and evaluating model...\n",
            "WARNING:tensorflow:5 out of the last 3509 calls to <function Model.make_test_function.<locals>.test_function at 0x7f9143d677a0> triggered tf.function retracing. Tracing is expensive and the excessive number of tracings could be due to (1) creating @tf.function repeatedly in a loop, (2) passing tensors with different shapes, (3) passing Python objects instead of tensors. For (1), please define your @tf.function outside of the loop. For (2), @tf.function has experimental_relax_shapes=True option that relaxes argument shapes that can avoid unnecessary retracing. For (3), please refer to https://www.tensorflow.org/guide/function#controlling_retracing and https://www.tensorflow.org/api_docs/python/tf/function for  more details.\n",
            "\n",
            "FOLD #3 Validation Data: train_data[171:228]\n",
            "val_data shape: (57, 13)\n",
            "FOLD #3 (Partial) Train Data: train_data[:171] + train_data[228:]\n",
            "partial_train_data shape: (347, 13)\n",
            "building, fitting and evaluating model...\n",
            "WARNING:tensorflow:5 out of the last 11 calls to <function Model.make_test_function.<locals>.test_function at 0x7f91482a1290> triggered tf.function retracing. Tracing is expensive and the excessive number of tracings could be due to (1) creating @tf.function repeatedly in a loop, (2) passing tensors with different shapes, (3) passing Python objects instead of tensors. For (1), please define your @tf.function outside of the loop. For (2), @tf.function has experimental_relax_shapes=True option that relaxes argument shapes that can avoid unnecessary retracing. For (3), please refer to https://www.tensorflow.org/guide/function#controlling_retracing and https://www.tensorflow.org/api_docs/python/tf/function for  more details.\n",
            "\n",
            "FOLD #4 Validation Data: train_data[228:285]\n",
            "val_data shape: (57, 13)\n",
            "FOLD #4 (Partial) Train Data: train_data[:228] + train_data[285:]\n",
            "partial_train_data shape: (347, 13)\n",
            "building, fitting and evaluating model...\n",
            "\n",
            "FOLD #5 Validation Data: train_data[285:342]\n",
            "val_data shape: (57, 13)\n",
            "FOLD #5 (Partial) Train Data: train_data[:285] + train_data[342:]\n",
            "partial_train_data shape: (347, 13)\n",
            "building, fitting and evaluating model...\n",
            "\n",
            "FOLD #6 Validation Data: train_data[342:399]\n",
            "val_data shape: (57, 13)\n",
            "FOLD #6 (Partial) Train Data: train_data[:342] + train_data[399:]\n",
            "partial_train_data shape: (347, 13)\n",
            "building, fitting and evaluating model...\n",
            "\n"
          ]
        }
      ]
    },
    {
      "cell_type": "code",
      "source": [
        "all_scores"
      ],
      "metadata": {
        "colab": {
          "base_uri": "https://localhost:8080/"
        },
        "id": "lWDUvf7myPBs",
        "outputId": "d28f7f52-5fff-486c-84f2-5c87f7c6660e"
      },
      "execution_count": 73,
      "outputs": [
        {
          "output_type": "execute_result",
          "data": {
            "text/plain": [
              "[1.7352747917175293,\n",
              " 2.311404228210449,\n",
              " 2.2827706336975098,\n",
              " 2.044377326965332,\n",
              " 2.5915048122406006,\n",
              " 2.735421657562256,\n",
              " 1.9750452041625977]"
            ]
          },
          "metadata": {},
          "execution_count": 73
        }
      ]
    },
    {
      "cell_type": "code",
      "source": [
        "np.mean(all_scores)"
      ],
      "metadata": {
        "colab": {
          "base_uri": "https://localhost:8080/"
        },
        "id": "PxJ2uD5pyXFE",
        "outputId": "f6b39c9f-8cd4-4ea5-98fb-030d645f48f7"
      },
      "execution_count": 74,
      "outputs": [
        {
          "output_type": "execute_result",
          "data": {
            "text/plain": [
              "2.2393998077937534"
            ]
          },
          "metadata": {},
          "execution_count": 74
        }
      ]
    },
    {
      "cell_type": "code",
      "source": [
        "# we use same epochs as initial model above so we can compare apples to apples\n",
        "num_epochs = 500             \n",
        "\n",
        "rm_all_mae_histories = []    #revised_model histories (ie rm)\n",
        "\n",
        "#\n",
        "# build the new model, histories...\n",
        "#\n",
        "for i in range(k):\n",
        "\n",
        "    print(f\"Processing fold #{i}\")\n",
        "\n",
        "    #\n",
        "    # we grab the validation data/targets for the kfold slice\n",
        "    # we are working with, note that \n",
        "    # num_val_samples = len(train_data) // k, as set above\n",
        "    #\n",
        "    val_data = train_data[i * num_val_samples: (i + 1) * num_val_samples]\n",
        "    val_targets = train_targets[i * num_val_samples: (i + 1) * num_val_samples]\n",
        "\n",
        "    partial_train_data = np.concatenate(\n",
        "        [train_data[:i * num_val_samples],\n",
        "         train_data[(i + 1) * num_val_samples:]],\n",
        "        axis=0)\n",
        "    partial_train_targets = np.concatenate(\n",
        "        [train_targets[:i * num_val_samples],\n",
        "         train_targets[(i + 1) * num_val_samples:]],\n",
        "        axis=0)\n",
        "\n",
        "    rm_model = build_model2()     # we use the second model specs here, ie model2\n",
        "\n",
        "    #\n",
        "    # we grab the history of the individual k fold,\n",
        "    # ie fit it to the partial train and test data\n",
        "    #\n",
        "    rm_history = rm_model.fit(partial_train_data, partial_train_targets,\n",
        "                        validation_data=(val_data, val_targets),\n",
        "                        epochs=num_epochs, batch_size=16, verbose=0)\n",
        "    \n",
        "    #\n",
        "    # we grab the mae (mean absolute error) value \n",
        "    # from the history data, from the specific kfold run\n",
        "    #\n",
        "    rm_mae_history = rm_history.history[\"val_mae\"]\n",
        "    \n",
        "    #\n",
        "    # we append the revised model mae data to the all histories\n",
        "    # data which we print out, plot and compare below\n",
        "    #\n",
        "    rm_all_mae_histories.append(rm_mae_history)"
      ],
      "metadata": {
        "colab": {
          "base_uri": "https://localhost:8080/"
        },
        "id": "_x6iG7kW0i--",
        "outputId": "0d0d7b21-b436-46ff-af19-8c4bb3b49a52"
      },
      "execution_count": null,
      "outputs": [
        {
          "output_type": "stream",
          "name": "stdout",
          "text": [
            "Processing fold #0\n"
          ]
        }
      ]
    },
    {
      "cell_type": "code",
      "source": [
        "average_mae_history = [\n",
        "    np.mean([x[i] for x in all_mae_histories]) for i in range(num_epochs)]"
      ],
      "metadata": {
        "id": "M-Uv7vjf1lXE"
      },
      "execution_count": null,
      "outputs": []
    },
    {
      "cell_type": "code",
      "source": [
        "truncated_mae_history = average_mae_history[10:]\n",
        "plt.plot(range(1, len(truncated_mae_history) + 1), truncated_mae_history)\n",
        "plt.xlabel(\"Epochs\")\n",
        "plt.ylabel(\"Validation MAE\")\n",
        "plt.show()"
      ],
      "metadata": {
        "id": "cN4vb2NLys_p"
      },
      "execution_count": null,
      "outputs": []
    },
    {
      "cell_type": "code",
      "source": [
        "new_model = build_model2()\n",
        "\n",
        "new_model.fit(train_data, train_targets,\n",
        "          epochs=130, batch_size=16, verbose=0)\n",
        "\n",
        "test_mse_score, test_mae_score = new_model.evaluate(test_data, test_targets)"
      ],
      "metadata": {
        "id": "tBd6mi8p1xM2"
      },
      "execution_count": null,
      "outputs": []
    },
    {
      "cell_type": "code",
      "source": [
        "new_predictions = new_model.predict(test_data)\n",
        "\n",
        "for i in range(0,10):\n",
        "  print(\"prediction: \", new_predictions[i])\n",
        "  print(\"test_target: \", test_targets[i])\n",
        "  print(\"test_data:\", test_data[i])"
      ],
      "metadata": {
        "id": "tJ1iztEJ0E3Q"
      },
      "execution_count": null,
      "outputs": []
    },
    {
      "cell_type": "markdown",
      "metadata": {
        "id": "OiH4P_KM4lfW"
      },
      "source": [
        "### CONCLUSIONS\n",
        "\n",
        "\n",
        "***Questions: PART 3:***\n",
        "\n",
        "**(1) What type of preprocessing was applied to the raw input data? Why was\n",
        "it necessary to do so?**\n",
        "\n",
        "*The feature data is 'normalized' to facilitate the processing of the data from heteregenous data from each of the different fdeatires, or attributes, of the data set, each of which that has a different range and unit really (for example # of bedrooms versus amount of land). This feature wise normalization is done by for each feauture in the input data (or column in the input data matrix), subtract the mean of the feature and divide by the standard deviation, so that the fature is centered around 0 and has a unit standard deviation, where the mean and standard deviation are calculated against the training data set (versus the test data set)*\n",
        "\n",
        "Or:\n",
        "\n",
        "mean = train_data.mean(axis=0); \n",
        "train_data -= mean;\n",
        "std = train_data.std(axis=0);\n",
        "train_data /= std;\n",
        "test_data -= mean;\n",
        "test_data /= std;\n",
        "\n",
        "\n",
        "**(2) Why is this problem a case of regression (rather than classification)?**\n",
        "\n",
        "*Because we are predicting the value, a single value (in this case home price), against a set of features of attributes (or given a set of attributes or features), rather than predicting the classification of the input data against a set of possible classifications as we did in the MINST or the Reuters data sets for example, each of which predicted (as a probability) the classification of a given input data (image in the case of MINST and text in the case of Reuters) - numbers 0-9 in the MINST image data set and 1 of 46 categories in the Reuters data set.*\n",
        "\n",
        "*\"In statistical modeling, regression analysis is a set of statistical processes for estimating the relationships between a dependent variable (often called the 'outcome' or 'response' variable, or a 'label' in machine learning parlance) and one or more independent variables (often called 'predictors', 'covariates', 'explanatory variables' or 'features'). The most common form of regression analysis is linear regression, in which one finds the line (or a more complex linear combination) that most closely fits the data according to a specific mathematical criterion.\"*\n",
        "\n",
        "- wikipedia, https://en.wikipedia.org/wiki/Regression_analysis\n",
        "\n",
        "\n",
        "**(3) Does your model suffer from overfitting? If so, what would you suggest\n",
        "doing about it?**\n",
        "\n",
        "*Yes, at about 120-160 epochs, depending upon the kfold value we are using. The recommendation would be to stop training at this number of epochs to avoid, or at least minimize, overfitting. We do this in the second pass against the data with k = 7 + additional neural network layers with a smaller # of epochs*\n",
        "\n",
        "(4) Is mean absolute error (MAE) a good metric of success in this case? Why\n",
        "(not)?\n",
        "\n",
        "*Yes it is, its measuring how far off we are, on average, for each of the data points based upon the actual values vs the predicted values.*"
      ]
    }
  ]
}